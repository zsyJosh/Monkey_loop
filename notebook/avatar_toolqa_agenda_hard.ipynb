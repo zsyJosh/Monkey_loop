{
 "cells": [
  {
   "cell_type": "code",
   "execution_count": 2,
   "metadata": {},
   "outputs": [],
   "source": [
    "HF_USR_NAME = 'shirwu'\n",
    "TOOL_QA_ROOT = '/dfs/project/kgrlm/shirwu/msr_intern/home/t-yingxinwu/msr_intern/ToolQA-rebuttal'"
   ]
  },
  {
   "cell_type": "markdown",
   "metadata": {},
   "source": [
    "### Upload to Huggingface"
   ]
  },
  {
   "cell_type": "code",
   "execution_count": 2,
   "metadata": {},
   "outputs": [],
   "source": [
    "import pandas as pd\n",
    "from datasets import Dataset\n",
    "from datasets import DatasetDict\n",
    "\n",
    "level = 'hard'\n",
    "dataset = 'agenda'\n",
    "\n",
    "dataset_dir = f'{dataset}-{level}.jsonl'\n",
    "hf_dataset_name = f'toolqa_{dataset}_{level}'\n",
    "\n",
    "df = pd.read_json(dataset_dir, lines=True)\n",
    "df.head()\n",
    "\n",
    "df['answer'] = df['answer'].apply(lambda x: str(x))\n",
    "dataset = Dataset.from_pandas(df)"
   ]
  },
  {
   "cell_type": "code",
   "execution_count": 3,
   "metadata": {},
   "outputs": [
    {
     "data": {
      "application/vnd.jupyter.widget-view+json": {
       "model_id": "79385f0796e84844b1457ec17729a69a",
       "version_major": 2,
       "version_minor": 0
      },
      "text/plain": [
       "Uploading the dataset shards:   0%|          | 0/1 [00:00<?, ?it/s]"
      ]
     },
     "metadata": {},
     "output_type": "display_data"
    },
    {
     "data": {
      "application/vnd.jupyter.widget-view+json": {
       "model_id": "15adec3f5b18499e8c4647b1ea475d46",
       "version_major": 2,
       "version_minor": 0
      },
      "text/plain": [
       "Creating parquet from Arrow format:   0%|          | 0/1 [00:00<?, ?ba/s]"
      ]
     },
     "metadata": {},
     "output_type": "display_data"
    },
    {
     "data": {
      "text/plain": [
       "CommitInfo(commit_url='https://huggingface.co/datasets/shirwu/toolqa_agenda_hard/commit/7fda19a60f9bb7375bd2d417cdb1742d2af28869', commit_message='Upload dataset', commit_description='', oid='7fda19a60f9bb7375bd2d417cdb1742d2af28869', pr_url=None, pr_revision=None, pr_num=None)"
      ]
     },
     "execution_count": 3,
     "metadata": {},
     "output_type": "execute_result"
    }
   ],
   "source": [
    "dataset_dict = DatasetDict({'train': dataset})\n",
    "# push to hf for the ease for using dspy\n",
    "dataset_dict.push_to_hub(repo_id=hf_dataset_name, private=True)"
   ]
  },
  {
   "cell_type": "markdown",
   "metadata": {},
   "source": [
    "## Setting Up\n",
    "\n",
    "* ToolQA\n",
    "\n",
    "Before loading our datasets and going to the execution part, we'll need to configure the `lm` in `dspy.settings`. For the purpose of this notebook we'll be using `gpt-4o`."
   ]
  },
  {
   "cell_type": "code",
   "execution_count": 4,
   "metadata": {},
   "outputs": [],
   "source": [
    "import os\n",
    "import dspy\n",
    "import warnings\n",
    "warnings.simplefilter(\"ignore\", UserWarning)\n",
    "warnings.simplefilter(\"ignore\", FutureWarning)\n",
    "\n",
    "\n",
    "dspy.settings.configure(\n",
    "    lm=dspy.OpenAI(\n",
    "        model=\"gpt-4o\",\n",
    "        api_key=os.getenv(\"OPENAI_API_KEY\"),\n",
    "        max_tokens=4000,\n",
    "        temperature=0\n",
    "    )\n",
    ")"
   ]
  },
  {
   "cell_type": "markdown",
   "metadata": {},
   "source": [
    "## Defining Signature"
   ]
  },
  {
   "cell_type": "code",
   "execution_count": 5,
   "metadata": {},
   "outputs": [],
   "source": [
    "class ToolQASignature(dspy.Signature):\n",
    "    \"\"\"You will be given a question. Your task is to answer the question with a short response. For example, (1) Question: \\'How many dates in the agenda table have Alexander scheduled?\\' => Answer: \\'73\\' (2) Question: \\'What events does Jade have on 2022/01/25 in the agenda table?\\' => Answer: \\'Kids concert\\'\n",
    "    \"\"\"\n",
    "    \n",
    "    question: str = dspy.InputField(\n",
    "        prefix=\"Question:\",\n",
    "        desc=\"question to ask\",\n",
    "        format=lambda x: x.strip(),\n",
    "    )\n",
    "    answer: str = dspy.OutputField(\n",
    "        prefix=\"Answer:\",\n",
    "        desc=\"answer to the question\",\n",
    "    )\n"
   ]
  },
  {
   "cell_type": "markdown",
   "metadata": {},
   "source": [
    "## Loading Datasets"
   ]
  },
  {
   "cell_type": "code",
   "execution_count": 6,
   "metadata": {},
   "outputs": [],
   "source": [
    "from random import sample\n",
    "from dspy.datasets import DataLoader\n",
    "\n",
    "dl = DataLoader()"
   ]
  },
  {
   "cell_type": "code",
   "execution_count": 7,
   "metadata": {},
   "outputs": [
    {
     "data": {
      "application/vnd.jupyter.widget-view+json": {
       "model_id": "cd8d43adf480494bbe2be362e0df6c43",
       "version_major": 2,
       "version_minor": 0
      },
      "text/plain": [
       "Downloading readme:   0%|          | 0.00/337 [00:00<?, ?B/s]"
      ]
     },
     "metadata": {},
     "output_type": "display_data"
    },
    {
     "data": {
      "application/vnd.jupyter.widget-view+json": {
       "model_id": "42d4b34be8b54580bd1bb06254ff1729",
       "version_major": 2,
       "version_minor": 0
      },
      "text/plain": [
       "Downloading data:   0%|          | 0.00/5.25k [00:00<?, ?B/s]"
      ]
     },
     "metadata": {},
     "output_type": "display_data"
    },
    {
     "data": {
      "application/vnd.jupyter.widget-view+json": {
       "model_id": "42a506bc903a4655a10ca5d15aeddb17",
       "version_major": 2,
       "version_minor": 0
      },
      "text/plain": [
       "Generating train split:   0%|          | 0/100 [00:00<?, ? examples/s]"
      ]
     },
     "metadata": {},
     "output_type": "display_data"
    }
   ],
   "source": [
    "tool_qa = dl.from_huggingface(\n",
    "    f'{HF_USR_NAME}/' + hf_dataset_name,\n",
    "    split=\"train\",\n",
    "    input_keys=(\"question\", \"answer\"),\n",
    ")"
   ]
  },
  {
   "cell_type": "code",
   "execution_count": 8,
   "metadata": {},
   "outputs": [
    {
     "data": {
      "text/plain": [
       "100"
      ]
     },
     "execution_count": 8,
     "metadata": {},
     "output_type": "execute_result"
    }
   ],
   "source": [
    "len(tool_qa)"
   ]
  },
  {
   "cell_type": "code",
   "execution_count": 9,
   "metadata": {},
   "outputs": [],
   "source": [
    "import random\n",
    "# set seed\n",
    "random.seed(42)\n",
    "\n",
    "train_idx = random.sample(range(len(tool_qa)), 40)\n",
    "remaining_idx = list(set(range(len(tool_qa))) - set(train_idx))\n",
    "test_idx = random.sample(remaining_idx, 60)\n",
    "\n",
    "toolqa_train = [\n",
    "    dspy.Example(question=example.question, answer=example.answer).with_inputs(\"question\", \"paper_id\")\n",
    "    for example in [tool_qa[i] for i in train_idx]\n",
    "]\n",
    "toolqa_test = [\n",
    "    dspy.Example(question=example.question, answer=example.answer).with_inputs(\"question\", \"paper_id\")\n",
    "    for example in [tool_qa[i] for i in test_idx]\n",
    "]"
   ]
  },
  {
   "cell_type": "markdown",
   "metadata": {},
   "source": [
    "## Setting Up Tools\n",
    "\n",
    "We'll setup `Avatar` modules for both signatures and all the `tools` can be used by each of the dataset. `Tool` is a pydantic model that Avatar expects the `tools` to be composed as more specifically it have 4 fields:\n",
    "\n",
    "* `name` : Name of the tool\n",
    "* `input_type` : Type of input the tool accepts\n",
    "* `output_type` : Type of output the tool returns\n",
    "* `tool` : The actual tool object"
   ]
  },
  {
   "cell_type": "code",
   "execution_count": 10,
   "metadata": {},
   "outputs": [
    {
     "name": "stdout",
     "output_type": "stream",
     "text": [
      "[query_llm] What is the Jessica's genda on March 7th, 2023?\n",
      "Jessica has a job interview scheduled for July 26th, 2022 at 1 PM. The interview will take place at the Corporate Office Building, and is scheduled to end at 2 PM.\n",
      "\n",
      "Jessica has a business meeting on January 22nd, 2022 at The Pacific Design Center. The meeting is scheduled to start at 3:00 PM and end at 4:00 PM.\n",
      "\n",
      "Jessica will be attending a Late Night Movie on January 13, 2022, at a movie theater. The movie will start at 11:00 PM and end at 1:00 AM. She is looking forward to enjoying some popcorn and her favorite movie as she winds down her day.\n",
      "\n",
      "Jessica is participating in a charity walk happening on April 22nd, 2022. The event is scheduled to start at 9:00 AM and will end at 11:00 AM. The walk will take place in Lincoln Park, and it's an opportunity for participants to raise money for a charitable organization while enjoying a morning walk. Jessica is sure to have a great time giving back to her community and supporting a good cause.\n",
      "\n",
      "Jessica is scheduled to attend a Business Meeting on May 24th, 2022 at the Hilton Hotel. The meeting is set to commence at 10:00 AM and end at 11:00 AM. It is expected that attendees will discuss important business matters and make decisions. The Hilton Hotel will be the venue where the meeting will take place, and it is expected that all attendees should be punctual and prepared for the agenda items.\n"
     ]
    }
   ],
   "source": [
    "import os\n",
    "import time\n",
    "import uuid\n",
    "import numpy as np\n",
    "import jsonlines\n",
    "from concurrent.futures import ProcessPoolExecutor\n",
    "import sentence_transformers\n",
    "import chromadb\n",
    "import os.path as osp\n",
    "from chromadb.config import Settings\n",
    "\n",
    "EMBED_MODEL_NAME = \"sentence-transformers/all-mpnet-base-v2\"\n",
    "CHROMA_PERSIST_DIRECTORY = osp.join(TOOL_QA_ROOT, \"data/chroma_db/agenda\")\n",
    "CHROMA_COLLECTION_NAME = \"all\"\n",
    "CHROMA_SERVER_HOST = \"localhost\"\n",
    "CHROMA_SERVER_HTTP_PORT = \"8000\"\n",
    "FILE_PATH = osp.join(TOOL_QA_ROOT, \"data/external_corpus/agenda/agenda_descriptions_merged.jsonl\")\n",
    "\n",
    "def sentence_embedding(model, texts):\n",
    "    embeddings = model.encode(texts)\n",
    "    return embeddings\n",
    "\n",
    "def create_chroma_db(chroma_server_host, chroma_server_http_port, collection_name):\n",
    "    chroma_client = chromadb.Client(Settings(\n",
    "        chroma_api_impl=\"rest\",\n",
    "        chroma_server_host=chroma_server_host,\n",
    "        chroma_server_http_port=chroma_server_http_port,\n",
    "    ))\n",
    "    collection = chroma_client.get_or_create_collection(name=collection_name)\n",
    "    return collection\n",
    "\n",
    "def create_chroma_db_local(persist_directory, collection_name):\n",
    "    \n",
    "    chroma_client = chromadb.PersistentClient(path=persist_directory)\n",
    "\n",
    "    collection = chroma_client.get_or_create_collection(name=collection_name)\n",
    "    return collection\n",
    "\n",
    "def insert_to_db(texts, model_name, cuda_idx, db):\n",
    "    model = sentence_transformers.SentenceTransformer(model_name, device=f\"cuda:{cuda_idx}\")\n",
    "\n",
    "    batch_embeddings = []\n",
    "    batch_texts = []\n",
    "    start_time = time.time()\n",
    "    print(f\"Total Articles to process: {len(texts)}, Current Thread: {cuda_idx}.\")\n",
    "    for i, text in enumerate(texts):\n",
    "        # 2. generate embedding\n",
    "        embeddings = sentence_embedding(model, text).tolist()\n",
    "\n",
    "        batch_embeddings.append(embeddings)\n",
    "        batch_texts.append(text)\n",
    "        # 3. add to vectorstore per 500 articles or last article\n",
    "        if i % 100 == 0 or i == len(texts)-1:\n",
    "            batch_ids = [str(uuid.uuid1()) for _ in batch_texts]\n",
    "            db.add(\n",
    "                embeddings=batch_embeddings,\n",
    "                documents=batch_texts,\n",
    "                ids = batch_ids\n",
    "            )\n",
    "            batch_embeddings = []\n",
    "            batch_texts = []\n",
    "            print(f\"Completed Processing article count: {i}, Current Thread: {cuda_idx}, Time took: {time.time() - start_time}.\")\n",
    "    print(f\"Thread {cuda_idx} Completed. Total time took for thread: {time.time() - start_time}.\")\n",
    "\n",
    "\n",
    "# Multi-processing\n",
    "def query_llm(query, is_local=True, start=None, end=None):\n",
    "    EMBED_MODEL_NAME = \"sentence-transformers/all-mpnet-base-v2\"\n",
    "    CHROMA_PERSIST_DIRECTORY = osp.join(TOOL_QA_ROOT, \"data/chroma_db/agenda\")\n",
    "    os.makedirs(CHROMA_PERSIST_DIRECTORY, exist_ok=True)\n",
    "    CHROMA_COLLECTION_NAME = \"all\"\n",
    "    CHROMA_SERVER_HOST = \"localhost\"\n",
    "    CHROMA_SERVER_HTTP_PORT = \"8000\"\n",
    "    FILE_PATH = osp.join(TOOL_QA_ROOT, \"data/external_corpus/agenda/agenda_descriptions_merged.jsonl\")\n",
    "\n",
    "    cuda_idxes = [0]\n",
    "    number_of_processes = len(cuda_idxes)\n",
    "    input_texts = []\n",
    "    db = create_chroma_db_local(CHROMA_PERSIST_DIRECTORY, CHROMA_COLLECTION_NAME)\n",
    "    with open(FILE_PATH, 'r') as f:\n",
    "        for item in jsonlines.Reader(f):\n",
    "            input_texts.append(item[\"event\"])\n",
    "    # input_texts = np.array_split(input_texts, number_of_processes)\n",
    "\n",
    "    args = ((input_texts[i], EMBED_MODEL_NAME, cuda_idxes[i], is_local) for i in range(number_of_processes))\n",
    "\n",
    "    # if there is no file under the directory \"/localscratch/yzhuang43/ra-llm/retrieval_benchmark/data/chroma_db/agenda\", insert the data into the db\n",
    "    if len(os.listdir(CHROMA_PERSIST_DIRECTORY)) == 0:\n",
    "        insert_to_db(input_texts, model_name=EMBED_MODEL_NAME, cuda_idx=0, db=db)\n",
    "\n",
    "    input_paths = np.array_split(input_texts, number_of_processes)\n",
    "    with ProcessPoolExecutor(number_of_processes) as executor:\n",
    "        executor.map(insert_to_db, args)\n",
    "    model = sentence_transformers.SentenceTransformer(EMBED_MODEL_NAME, device=f\"cuda:0\")\n",
    "    query_embedding = sentence_embedding(model, query).tolist()\n",
    "    results = db.query(query_embeddings=query_embedding, n_results=5)\n",
    "    retrieval_content = [result for result in results['documents'][0]]\n",
    "    # print(retrieval_content)\n",
    "    retrieval_content = '\\n\\n'.join(retrieval_content)\n",
    "    print('[query_llm]', query)\n",
    "    return retrieval_content\n",
    "\n",
    "query = \"What is the Jessica's genda on March 7th, 2023?\"\n",
    "print(query_llm(query))"
   ]
  },
  {
   "cell_type": "code",
   "execution_count": 11,
   "metadata": {},
   "outputs": [],
   "source": [
    "from dspy.predict.avatar import Tool, Avatar\n",
    "from langchain_community.utilities import GoogleSerperAPIWrapper, ArxivAPIWrapper, WikipediaAPIWrapper\n",
    "from langchain.tools import BaseTool, StructuredTool, tool\n",
    "\n",
    "def RETRIEVE(query: str) -> str:\n",
    "    \"\"\"If you want to search for some personal agenda information, you can use this tool and input a natural language query. For example, RETRIEVE('What is the Jessica's genda on March 7th, 2023?') returns 'Jessica has a job interview scheduled for July 26th, 2022 at 1 PM...'.\"\"\"\n",
    "    return query_llm(query)\n",
    "\n",
    "tools = [\n",
    "    Tool(\n",
    "        tool=StructuredTool.from_function(RETRIEVE),\n",
    "        name=\"RETRIEVE\",\n",
    "        desc=\"If you want to search for some personal agenda information, you can use this tool and input a natural language query. For example, RETRIEVE('What is the Jessica's genda on March 7th, 2023?') returns 'Jessica has a job interview scheduled for July 26th, 2022 at 1 PM...'.\"\n",
    "    )\n",
    "]"
   ]
  },
  {
   "cell_type": "markdown",
   "metadata": {},
   "source": [
    "Once we have defined our `tools`, we can now create an `Avatar` object by passing the `tools` and `signature`. It takes 2 more optional parameters `verbose` and `max_iters`. `verbose` is used to display the logs and `max_iters` is used to control the number of iterations in multi step execution. \n",
    "\n",
    "An avatar agent stops the tool usage iteration once it reaches `max_iters` or when it prompts `Finish`. You can also create custom tools too, all you need to make sure is:\n",
    "\n",
    "* You pass is a class object.\n",
    "* Implements `__init__` and `run` method.\n",
    "* Must take 1 string a input and returns 1 string as output.\n",
    "\n",
    "If your tool doesn't return or takes input a string then you can make a custom wrapper to take care of that for now. In future we'll try to enable a diverse tool usage."
   ]
  },
  {
   "cell_type": "code",
   "execution_count": 12,
   "metadata": {},
   "outputs": [
    {
     "name": "stderr",
     "output_type": "stream",
     "text": [
      "WARNING:root:\t*** Since DSPy 2.5.16+, TypedPredictors are now deprecated, underperform, and are about to be removed! ***\n",
      "Please use standard predictors, e.g. dspy.Predict and dspy.ChainOfThought.\n",
      "They now support type annotations and other features of TypedPredictors and tend to work much better out of the box.\n",
      "Please let us know if you face any issues: https://github.com/stanfordnlp/dspy/issues\n"
     ]
    }
   ],
   "source": [
    "actor_agent = Avatar(\n",
    "    tools=tools,\n",
    "    signature=ToolQASignature,\n",
    "    verbose=False,\n",
    "    max_iters=20\n",
    ")"
   ]
  },
  {
   "cell_type": "markdown",
   "metadata": {},
   "source": [
    "## Evaluation\n",
    "\n",
    "Open enden QA tasks are hard to evaluate on rigid metrics like exact match. So, we'll be using an improvised LLM as Judge for the evaluation of our model on test set."
   ]
  },
  {
   "cell_type": "code",
   "execution_count": 13,
   "metadata": {},
   "outputs": [],
   "source": [
    "class Evaluator(dspy.Signature):\n",
    "    \"\"\"Please act as an impartial judge to evaluate whether the answer is correct based on the ground truth answer\"\"\"\n",
    "    \n",
    "    question: str = dspy.InputField(\n",
    "        prefix=\"Question:\",\n",
    "        desc=\"question to ask\",\n",
    "    )\n",
    "    reference_answer: str = dspy.InputField(\n",
    "        prefix=\"Ground Truth Answer:\",\n",
    "        desc=\"Ground truth answer to the question.\",\n",
    "    )\n",
    "    answer: str = dspy.InputField(\n",
    "        prefix=\"Answer:\",\n",
    "        desc=\"Answer to the question given by the model.\",\n",
    "    )\n",
    "    rationale: str = dspy.OutputField(\n",
    "        prefix=\"Rationale:\",\n",
    "        desc=\"Explanation of why the answer is correct or incorrect.\",\n",
    "    )\n",
    "    is_correct: float = dspy.OutputField(\n",
    "        prefix=\"Correct:\",\n",
    "        desc=\"Whether the answer is correct. Give 0 if incorrect, 1 if correct, (0, 1) if partially correct.\",\n",
    "    )\n",
    "\n",
    "\n",
    "evaluator = dspy.TypedPredictor(Evaluator)\n",
    "\n",
    "\n",
    "def metric(example, prediction, trace=None):\n",
    "    acc = float(\n",
    "        evaluator(\n",
    "            question=example.question,\n",
    "            answer=prediction.answer,\n",
    "            reference_answer=example.answer\n",
    "        ).is_correct\n",
    "    ) \n",
    "    print(prediction.answer, '|', example.answer, '=>', acc)\n",
    "    return acc"
   ]
  },
  {
   "cell_type": "code",
   "execution_count": 14,
   "metadata": {},
   "outputs": [
    {
     "name": "stderr",
     "output_type": "stream",
     "text": [
      "WARNING:root:\t*** In DSPy 2.5, all LM clients except `dspy.LM` are deprecated, underperform, and are about to be deleted. ***\n",
      " \t\tYou are using the client GPT3, which will be removed in DSPy 2.6.\n",
      " \t\tChanging the client is straightforward and will let you use new features (Adapters) that improve the consistency of LM outputs, especially when using chat LMs. \n",
      "\n",
      " \t\tLearn more about the changes and how to migrate at\n",
      " \t\thttps://github.com/stanfordnlp/dspy/blob/main/examples/migration.ipynb\n"
     ]
    },
    {
     "name": "stdout",
     "output_type": "stream",
     "text": [
      "Example({'question': 'How many dates in the agenda table have Alexander scheduled?', 'answer': '73'}) (input_keys={'question', 'paper_id'})\n",
      "73 days | 73 => 1.0\n"
     ]
    },
    {
     "data": {
      "text/plain": [
       "1.0"
      ]
     },
     "execution_count": 14,
     "metadata": {},
     "output_type": "execute_result"
    }
   ],
   "source": [
    "print(toolqa_train[0])\n",
    "metric(toolqa_train[0], prediction=dspy.Example(answer='73 days'))"
   ]
  },
  {
   "cell_type": "markdown",
   "metadata": {},
   "source": [
    "For evaluation we can't use `dspy.Evaluate`, reason being that `Avatar` changes it's signature per iteration by adding the actions and it's results to it as fields. So we can create our own hacky thread safe evaluator for it."
   ]
  },
  {
   "cell_type": "code",
   "execution_count": 15,
   "metadata": {},
   "outputs": [],
   "source": [
    "import tqdm\n",
    "\n",
    "os.environ[\"TOKENIZERS_PARALLELISM\"] = \"False\"\n",
    "\n",
    "from concurrent.futures import ThreadPoolExecutor\n",
    "\n",
    "def process_example(example, signature):\n",
    "    try:\n",
    "        avatar = Avatar(\n",
    "            signature,\n",
    "            tools=tools,\n",
    "            verbose=False,\n",
    "            max_iters=20\n",
    "        )\n",
    "        prediction = avatar(**example.inputs().toDict())\n",
    "\n",
    "        return metric(example, prediction)\n",
    "    except Exception as e:\n",
    "        print(e)\n",
    "        return 0\n",
    "\n",
    "# process_example(tool_qa[0], ToolQASignature)\n",
    "def multi_thread_executor(test_set, signature, num_threads=60):\n",
    "    total_score = 0\n",
    "    total_examples = len(test_set)\n",
    "\n",
    "    with ThreadPoolExecutor(max_workers=num_threads) as executor:\n",
    "        futures = [executor.submit(process_example, example, signature) for example in test_set]\n",
    "\n",
    "        for future in tqdm.tqdm(futures, total=total_examples, desc=\"Processing examples\"):\n",
    "            total_score += future.result()\n",
    "\n",
    "    avg_metric = total_score / total_examples\n",
    "    return avg_metric\n",
    "\n",
    "def single_thread_executor(test_set, signature):\n",
    "    total_score = 0\n",
    "    total_examples = len(test_set)\n",
    "\n",
    "    for example in tqdm.tqdm(test_set, desc=\"Processing examples\"):\n",
    "        total_score += process_example(example, signature)\n",
    "\n",
    "    avg_metric = total_score / total_examples\n",
    "    return avg_metric"
   ]
  },
  {
   "cell_type": "markdown",
   "metadata": {},
   "source": [
    "## Optimization\n",
    "\n",
    "For the optimization of the `Actor` we'll be using `AvatarOptimizer`. It's a DSPy implementation of the [Avatar](https://github.com/zou-group/avatar/) method that optimizes the `Actor` for the given `tools` using a comparator module that optimizes Actor instruction. Note, that Actor is the Module that directs tool execution and flow, it's not the signature that we are passing. It doesn't optimize the instruction of the signature we pass. It takes the following parameters:\n",
    "\n",
    "* `metric`: Metric that we'll be optimizing for\n",
    "* `max_iters`: Maximum number of iterations for the optimizer\n",
    "* `lower_bound`: Lower bound for the metric to classify example as negative\n",
    "* `upper_bound`: Upper bound for the metric to classify example as positive\n",
    "* `max_positive_inputs`: Maximum number of positive inputs sampled for comparator\n",
    "* `max_negative_inputs`: Maximum number of negative inputs sampled for comparator\n",
    "* `optimize_for`: Whether we want to maximize the metric or minimize it during optimization\n",
    "\n",
    "Once the optimizer is done we can get the optimized actor and use it for the evaluation."
   ]
  },
  {
   "cell_type": "code",
   "execution_count": 16,
   "metadata": {},
   "outputs": [],
   "source": [
    "from dspy.teleprompt import AvatarOptimizer\n",
    "\n",
    "teleprompter = AvatarOptimizer(\n",
    "    metric=metric,\n",
    "    max_iters=2,\n",
    "    max_negative_inputs=20,\n",
    "    max_positive_inputs=20,\n",
    "    upper_bound=0,\n",
    "    lower_bound=0 # special case when we need some perturbation if no pos/neg\n",
    ")"
   ]
  },
  {
   "cell_type": "code",
   "execution_count": 17,
   "metadata": {},
   "outputs": [
    {
     "name": "stdout",
     "output_type": "stream",
     "text": [
      "====================\n",
      "Iteration 1/2\n"
     ]
    },
    {
     "name": "stderr",
     "output_type": "stream",
     "text": [
      "Processing examples:   0%|          | 0/40 [00:00<?, ?it/s]"
     ]
    },
    {
     "name": "stdout",
     "output_type": "stream",
     "text": [
      "[query_llm] How many people are between 2:30 PM and 3:30 PM on 2022/04/10 in the agenda table?\n",
      "0 | 9 => 0.0\n",
      "[query_llm] What events does Jade have on 2022/01/25 in the agenda table?\n",
      "Jade has no events on 2022/01/25 in the agenda table. | Kids concert => 0.0\n",
      "[query_llm] Check Layla's availability on 2022/11/26 from 9:00 AM to 6:00 PM in the agenda table.\n",
      "Layla is available for a meeting on 2022/11/26 from 9:00 AM to 6:00 PM as there are no scheduled events on that day in the agenda table. | 9:00 AM-2:00 PM, 5:00 PM-6:00 PM => 0.0\n",
      "[query_llm] Count the number of events on 2022/03/09 in the agenda table.\n",
      "0 | 24 => 0.0\n",
      "[query_llm] How many dates in the agenda table have Faith scheduled?\n",
      "5 | 85 => 0.0\n",
      "[query_llm] How many dates in the agenda table have Layla scheduled?\n",
      "Action 1: {\"tool_name\":\"Finish\",\"tool_input_query\":\"5\"}\n",
      "\n",
      "Result 1: Gathered all information needed to finish the task.\n",
      "\n",
      "Answer: 5 | 74 => 0.0\n",
      "[query_llm] Count the number of events on 2022/05/22 in the agenda table.\n",
      "0 | 18 => 0.0\n",
      "[query_llm] Count the number of events on 2022/11/12 in the agenda table.\n",
      "0 | 24 => 0.0\n",
      "[query_llm] Count the number of people scheduled between 10:00 AM and 12:00 PM on 2022/06/23 in the agenda table.\n",
      "There is no information available for the specified date and time range in the agenda table. | 7 => 0.0\n",
      "[query_llm] What events does Jasmine have on 2022/05/10 in the agenda table?\n",
      "Jasmine does not have any events on 2022/05/10 in the agenda table. | Vegan Food Festival => 0.0\n",
      "[query_llm] Number of people between 8:00 PM and 10:00 PM on 2022/06/06 in the agenda table\n",
      "There is no information available for the number of people between 8:00 PM and 10:00 PM on 2022/06/06 in the agenda table. | 7 => 0.0\n"
     ]
    },
    {
     "name": "stderr",
     "output_type": "stream",
     "text": [
      "Processing examples:   2%|▎         | 1/40 [00:15<10:01, 15.42s/it]"
     ]
    },
    {
     "name": "stdout",
     "output_type": "stream",
     "text": [
      "[query_llm] How many dates in the agenda table have Alexander scheduled?\n",
      "5 | 73 => 0.0\n",
      "[query_llm] How many dates in the agenda table have Jasmine scheduled?\n",
      "4 | 86 => 0.0\n",
      "[query_llm] What events does Stephen have on 2022/05/22 in the agenda table?\n",
      "Stephen has no events scheduled on 2022/05/22 in the agenda table. | Employee team building event => 0.0\n",
      "[query_llm] How many dates in the agenda table have Andrew scheduled?\n",
      "5 | 88 => 0.0\n",
      "[query_llm] Number of people between 3:00 PM and 4:00 PM on 2022/01/19 in the agenda table\n",
      "[query_llm] Count the number of events on 2022/05/30 in the agenda table.\n",
      "0 | 3 => 0.0\n",
      "0 | 33 => 0.0\n",
      "[query_llm] Number of people between 8:00 PM and 9:00 PM on 2022/09/15 in the agenda table\n",
      "0 | 8 => 0.0\n",
      "[query_llm] Check Emma's availability on 2022/06/14 between 9:00 AM and 6:00 PM in the agenda table.\n",
      "Emma is available for a meeting on 2022/06/14 between 10:00 AM and 6:00 PM. | 9:00 AM-6:30 PM, 7:30 PM-6:00 PM => 0.5\n",
      "[query_llm] What events does Elsie have on 2022/04/17 in the agenda table?\n",
      "Elsie does not have any events on 2022/04/17 in the agenda table. | Casino night => 0.0\n",
      "[query_llm] How many dates in the agenda table have Ella scheduled?\n",
      "4 | 85 => 0.0\n",
      "[query_llm] Count the number of events on 2022/05/06 in the agenda table.\n",
      "0 | 21 => 0.0\n",
      "[query_llm] Check Millie's availability on 2022/01/01 from 9:00 AM to 6:00 PM in the agenda table.\n",
      "Millie is available all day on 2022/01/01 from 9:00 AM to 6:00 PM. | 9:00 AM-10:00 AM, 1:00 PM-6:00 PM => 0.0\n",
      "[query_llm] Count the number of events on 2022/01/10 in the agenda table.\n",
      "0 | 24 => 0.0\n",
      "[query_llm] How many dates in the agenda table have Jade scheduled?\n",
      "4 | 76 => 0.0\n"
     ]
    },
    {
     "name": "stderr",
     "output_type": "stream",
     "text": [
      "Processing examples:  15%|█▌        | 6/40 [00:46<04:11,  7.39s/it]"
     ]
    },
    {
     "name": "stdout",
     "output_type": "stream",
     "text": [
      "[query_llm] Count the number of people scheduled between 12:00 PM and 2:00 PM on 2022/09/13 in the agenda table.\n",
      "0 | 11 => 0.0\n",
      "[query_llm] What events does Millie have on 2022/12/07 in the agenda table?\n",
      "[query_llm] How many people are between 2:00 PM and 4:00 PM on 2022/03/17 in the agenda table?\n",
      "Millie does not have any events on 2022/12/07 in the agenda table. | Theatre play => 0.0\n",
      "[query_llm] How many dates in the agenda table have Hector scheduled?\n"
     ]
    },
    {
     "name": "stderr",
     "output_type": "stream",
     "text": [
      "Processing examples:  22%|██▎       | 9/40 [00:51<02:33,  4.95s/it]"
     ]
    },
    {
     "name": "stdout",
     "output_type": "stream",
     "text": [
      "There are no events scheduled between 2:00 PM and 4:00 PM on 2022/03/17 in the agenda table, so the number of people is 0. | 10 => 0.0\n",
      "4 | 92 => 0.0\n",
      "[query_llm] Count the number of events on 2022/10/11 in the agenda table.\n",
      "0 | 23 => 0.0\n",
      "[query_llm] How many people are unavailable between 1:00 PM and 3:00 PM on 2022/06/17 in the agenda table?\n",
      "I'm sorry, but the retrieved data does not provide information about the number of people unavailable between 1:00 PM and 3:00 PM on 2022/06/17. Please check the agenda table for the specific date and time. | 6 => 0.0\n",
      "[query_llm] What events does David have on 2022/05/28 in the agenda table?\n",
      "David has no events scheduled on 2022/05/28 in the agenda table. | Art Exhibition => 0.0\n",
      "[query_llm] Count the number of events on 2022/09/25 in the agenda table.\n",
      "0 | 24 => 0.0\n",
      "[query_llm] How many dates in the agenda table have Chloe scheduled?\n",
      "[query_llm] Count the number of events on 2022/04/27 in the agenda table.\n",
      "3 | 88 => 0.0\n",
      "0 | 20 => 0.0\n",
      "[query_llm] What events does Emily have on 2022/09/19 in the agenda table?\n",
      "Emily has no events scheduled on 2022/09/19 in the agenda table. | Theatre performance, Art Walk => 0.0\n",
      "[query_llm] Check Patrick's availability on 2022/07/26 from 9:00 AM to 6:00 PM in the agenda table.\n",
      "[query_llm] Count the number of events on 2022/12/01 in the agenda table.\n",
      "[query_llm] How many dates in the agenda table have Henry scheduled?\n",
      "Patrick is available for a meeting on 2022/07/26 from 9:00 AM to 6:00 PM as there are no scheduled events for that day in the agenda table. | 9:00 AM-2:00 PM, 4:00 PM-6:00 PM => 0.0\n"
     ]
    },
    {
     "name": "stderr",
     "output_type": "stream",
     "text": [
      "Processing examples: 100%|██████████| 40/40 [00:53<00:00,  1.34s/it]"
     ]
    },
    {
     "name": "stdout",
     "output_type": "stream",
     "text": [
      "There are no events listed on 2022/12/01 in the agenda table. | 29 => 0.0\n",
      "5 | 95 => 0.0\n",
      "[query_llm] How many dates in the agenda table have Sophie scheduled?\n",
      "3 | 83 => 0.0\n",
      "Average Score: 0.0125\n",
      "Positive examples: 40\n",
      "Negative examples: 39\n",
      "Sampling 20 positive examples and 20 negative examples\n"
     ]
    },
    {
     "name": "stderr",
     "output_type": "stream",
     "text": [
      "\n"
     ]
    },
    {
     "name": "stdout",
     "output_type": "stream",
     "text": [
      "Generated new instruction: New Instruction: To effectively accomplish the `Goal` using the provided `Tools`, begin by carefully analyzing the user query to determine the most appropriate tool and input values. Retain the general guideline of outputting an `Action` that specifies the tool to use and the input query to pass to the tool. You may choose to use no tools and provide the final answer directly if the query is straightforward. Additionally, you can use a tool multiple times with different input queries if necessary.\n",
      "\n",
      "To improve performance on negative inputs, enhance the specificity and clarity of your tool input queries. Implement a more sophisticated natural language processing (NLP) system to better parse and understand user queries, ensuring that the input queries are accurately formed and relevant to the task. This will help in retrieving precise information, especially for queries that are broad or not clearly defined. Additionally, ensure that the agenda data is well-structured and indexed, facilitating efficient and accurate information retrieval.\n",
      "\n",
      "Incorporate a feedback loop to learn from incorrect outputs, allowing the system to adjust its logic or data handling processes accordingly. Implement error handling and validation checks to catch and correct potential mismatches or irrelevant data retrievals before presenting the final output. By refining the computational logic and ensuring consistent data handling, you can achieve more robust and accurate results across all queries, improving performance on negative inputs.\n",
      "====================\n",
      "Iteration 2/2\n"
     ]
    },
    {
     "name": "stderr",
     "output_type": "stream",
     "text": [
      "Processing examples:   0%|          | 0/40 [00:00<?, ?it/s]"
     ]
    },
    {
     "name": "stdout",
     "output_type": "stream",
     "text": [
      "[query_llm] Count the number of events on 2022/12/01 in the agenda table.\n",
      "[query_llm] Retrieve events for Millie on 2022/12/07 from the agenda table.\n",
      "[query_llm] Check Patrick's availability on 2022/07/26 between 9:00 AM and 6:00 PM in the agenda table.\n",
      "[query_llm] Retrieve the number of people scheduled between 8:00 PM and 9:00 PM on 2022/09/15 from the agenda table.\n",
      "[query_llm] Count the number of dates in the agenda table where Sophie has scheduled events.\n",
      "[query_llm] Count the number of dates Alexander has scheduled in the agenda table.\n",
      "[query_llm] Count the number of events on 2022/03/09 in the agenda table.\n",
      "[query_llm] Check Emma's availability on 2022/06/14 between 9:00 AM and 6:00 PM in the agenda table.\n",
      "[query_llm] Count the number of unique dates in the agenda table where Henry has scheduled events.\n",
      "There are no events listed on 2022/12/01 in the agenda table. | 29 => 0.0\n",
      "[query_llm] Count the number of dates Jasmine has scheduled in the agenda table.\n",
      "[query_llm] Count the number of events on 2022/01/10 in the agenda table.\n",
      "[query_llm] Count the number of dates in the agenda table where Hector is scheduled.\n",
      "Millie has no events scheduled on 2022/12/07 in the agenda table. | Theatre play => 0.0\n",
      "Emma is available for a meeting on 2022/06/14 between 10:00 AM and 6:00 PM. | 9:00 AM-6:30 PM, 7:30 PM-6:00 PM => 0.5\n",
      "[query_llm] Retrieve the number of people scheduled between 3:00 PM and 4:00 PM on 2022/01/19 in the agenda table.\n",
      "4 | 92 => 0.0\n"
     ]
    },
    {
     "name": "stderr",
     "output_type": "stream",
     "text": [
      "Processing examples:   2%|▎         | 1/40 [00:35<22:54, 35.25s/it]"
     ]
    },
    {
     "name": "stdout",
     "output_type": "stream",
     "text": [
      "4 | 95 => 0.0\n",
      "Sophie has scheduled events on 3 dates. | 83 => 0.0\n",
      "Alexander has 0 dates scheduled in the agenda table. | 73 => 0.0\n",
      "There are no events listed on 2022/01/10 in the agenda table. | 24 => 0.0\n",
      "Jasmine has 4 dates scheduled in the agenda table. | 86 => 0.0\n",
      "Patrick is available for a meeting on 2022/07/26 between 9:00 AM and 6:00 PM as there are no scheduled events for that day in the agenda table. | 9:00 AM-2:00 PM, 4:00 PM-6:00 PM => 0.0\n",
      "There are no events listed on 2022/03/09 in the agenda table. | 24 => 0.0\n",
      "[query_llm] Count the number of events on 2022/04/27 in the agenda table.\n",
      "[query_llm] Retrieve events for David on 2022/05/28 from the agenda table.\n",
      "[query_llm] Find the number of people scheduled between 2:30 PM and 3:30 PM on 2022/04/10 in the agenda table.\n",
      "David has no events scheduled on 2022/05/28 in the agenda table. | Art Exhibition => 0.0\n",
      "There are no events listed on 2022/04/27 in the agenda table. | 20 => 0.0\n",
      "There is no information available for events scheduled between 2:30 PM and 3:30 PM on 2022/04/10 in the agenda table. | 9 => 0.0\n",
      "[query_llm] Check Layla's availability on 2022/11/26 between 9:00 AM and 6:00 PM in the agenda table.\n",
      "[query_llm] Count the number of dates Chloe has scheduled in the agenda table.\n",
      "[query_llm] Retrieve the number of people scheduled between 12:00 PM and 2:00 PM on 2022/09/13 from the agenda table.\n",
      "[query_llm] Count the number of events on 2022/10/11 in the agenda table.\n",
      "[query_llm] Retrieve the number of people scheduled between 2:00 PM and 4:00 PM on 2022/03/17 in the agenda table.\n",
      "[query_llm] Find events for Emily on 2022/09/19 in the agenda table.\n",
      "[query_llm] Find the number of people scheduled between 8:00 PM and 10:00 PM on 2022/06/06 in the agenda table.\n",
      "[query_llm] Count the number of events on 2022/05/30 in the agenda table.\n",
      "[query_llm] Count the number of events on 2022/09/25 in the agenda table.\n",
      "There are no events listed on 2022/10/11 in the agenda table. | 23 => 0.0\n",
      "Layla is available for a meeting on 2022/11/26 between 9:00 AM and 6:00 PM as there are no scheduled events for her on that date. | 9:00 AM-2:00 PM, 5:00 PM-6:00 PM => 0.0\n",
      "Chloe has events scheduled on 3 different dates in the agenda table. | 88 => 0.0\n",
      "[query_llm] Retrieve events for Stephen on 2022/05/22 from the agenda table.\n",
      "Emily has no events scheduled on 2022/09/19 in the agenda table. | Theatre performance, Art Walk => 0.0\n",
      "[query_llm] Count the number of unique dates in the agenda table where Jade has scheduled events.\n",
      "[query_llm] Count the number of dates in the agenda table where Faith has scheduled events.\n",
      "There is no information available for the number of people scheduled between 12:00 PM and 2:00 PM on 2022/09/13 in the agenda table. | 11 => 0.0\n",
      "There are no events listed on 2022/05/30 in the agenda table. | 33 => 0.0\n",
      "[query_llm] Count the number of events on 2022/11/12 in the agenda table.\n",
      "[query_llm] Count the number of events on 2022/05/06 in the agenda table.\n",
      "Stephen has no events scheduled on 2022/05/22 in the agenda table. | Employee team building event => 0.0\n",
      "[query_llm] Count the number of dates in the agenda table where Andrew has scheduled events.\n",
      "There are no events listed on 2022/09/25 in the agenda table. | 24 => 0.0\n",
      "[query_llm] Count the number of events on 2022/05/22 in the agenda table.\n",
      "[query_llm] Count the number of dates in the agenda table where Ella is scheduled.\n",
      "[query_llm] Check Millie's availability on 2022/01/01 between 9:00 AM and 6:00 PM in the agenda table.\n",
      "There are no people scheduled between 8:00 PM and 10:00 PM on 2022/06/06 in the agenda table. | 7 => 0.0\n",
      "[query_llm] Count the number of people scheduled between 10:00 AM and 12:00 PM on 2022/06/23 in the agenda table.\n",
      "5 | 85 => 0.0\n",
      "[query_llm] Find events for Jasmine on 2022/05/10 in the agenda table.\n",
      "[query_llm] Count the number of unique dates in the agenda table where Layla has scheduled events.\n",
      "[query_llm] Retrieve events for Elsie on 2022/04/17 from the agenda table.\n",
      "[query_llm] Retrieve events for Jade on 2022/01/25 from the agenda table.\n",
      "[query_llm] List all people unavailable between 1:00 PM and 3:00 PM on 2022/06/17 in the agenda table.\n",
      "[query_llm] Retrieve the number of people scheduled between 8:00 PM and 9:00 PM on 2022/09/15 from the agenda table.\n",
      "Jade has events scheduled on 4 unique dates. | 76 => 0.0\n",
      "4 | 85 => 0.0\n",
      "Jade has no events on 2022/01/25 in the agenda table. | Kids concert => 0.0\n",
      "There are no events listed on 2022/11/12 in the agenda table. | 24 => 0.0\n",
      "[query_llm] Retrieve the number of people scheduled between 2:00 PM and 4:00 PM on 2022/03/17 in the agenda table, ensuring the data is specific to this date and time range.\n",
      "[query_llm] Retrieve the agenda entries for 2022/01/19 between 3:00 PM and 4:00 PM to determine the number of people scheduled during that time.\n",
      "3 | 88 => 0.0\n",
      "4 | 74 => 0.0\n",
      "Jasmine does not have any events scheduled on 2022/05/10 in the agenda table. | Vegan Food Festival => 0.0\n"
     ]
    },
    {
     "name": "stderr",
     "output_type": "stream",
     "text": [
      "Processing examples:   5%|▌         | 2/40 [00:55<16:39, 26.31s/it]"
     ]
    },
    {
     "name": "stdout",
     "output_type": "stream",
     "text": [
      "There are no events listed on 2022/05/22 in the agenda table. | 18 => 0.0\n",
      "No events found for Elsie on 2022/04/17 in the agenda table. | Casino night => 0.0\n",
      "There are no events listed on 2022/05/06 in the agenda table. | 21 => 0.0\n",
      "Millie is available for a meeting on 2022/01/01 between 9:00 AM and 6:00 PM as there are no scheduled events for her on that date. | 9:00 AM-10:00 AM, 1:00 PM-6:00 PM => 0.0\n",
      "[query_llm] List all events and people scheduled between 10:00 AM and 12:00 PM on 2022/06/23 in the agenda table.\n",
      "0 | 3 => 0.0\n",
      "There is no information available for people unavailable between 1:00 PM and 3:00 PM on 2022/06/17 in the agenda table. | 6 => 0.0\n",
      "There is no information available for events between 8:00 PM and 9:00 PM on 2022/09/15 in the agenda table. | 8 => 0.0\n",
      "There is no information available for the specified date and time range in the agenda table. | 10 => 0.0\n",
      "[query_llm] Check the agenda table for any events scheduled between 10:00 AM and 12:00 PM on 2022/06/23 and list the people involved.\n",
      "[query_llm] Identify and count the number of people with events scheduled between 10:00 AM and 12:00 PM on 2022/06/23 in the agenda table.\n",
      "[query_llm] Count the number of people with events scheduled between 10:00 AM and 12:00 PM on 2022/06/23 in the agenda table.\n"
     ]
    },
    {
     "name": "stderr",
     "output_type": "stream",
     "text": [
      "Processing examples: 100%|██████████| 40/40 [01:13<00:00,  1.83s/it]"
     ]
    },
    {
     "name": "stdout",
     "output_type": "stream",
     "text": [
      "There is no information available for events scheduled between 10:00 AM and 12:00 PM on 2022/06/23 in the agenda table. | 7 => 0.0\n",
      "Average Score: 0.0125\n",
      "Positive examples: 40\n",
      "Negative examples: 39\n",
      "Sampling 20 positive examples and 20 negative examples\n"
     ]
    },
    {
     "name": "stderr",
     "output_type": "stream",
     "text": [
      "\n"
     ]
    },
    {
     "name": "stdout",
     "output_type": "stream",
     "text": [
      "Generated new instruction: New Instruction: To effectively accomplish the `Goal` using the provided `Tools`, begin by carefully analyzing the user query to determine the most appropriate tool and input values. Retain the general guideline of outputting an `Action` that specifies the tool to use and the input query to pass to the tool. You may choose to use no tools and provide the final answer directly if the query is straightforward. Additionally, you can use a tool multiple times with different input queries if necessary. \n",
      "\n",
      "To improve performance on negative inputs, focus on enhancing the specificity and clarity of your tool input queries. Implement a more sophisticated natural language processing (NLP) system to better parse and understand user queries, ensuring that the input queries are accurately formed and relevant to the task. This will help in retrieving precise information, especially for queries that are broad or not clearly defined. Encourage the use of more specific and detailed tool input queries to improve the relevance of the retrieved data. Additionally, ensure that the agenda data is well-structured and indexed, facilitating efficient and accurate information retrieval.\n",
      "\n",
      "Incorporate a feedback loop to learn from incorrect outputs, allowing the system to adjust its logic or data handling processes accordingly. Implement error handling and validation checks to catch and correct potential mismatches or irrelevant data retrievals before presenting the final output. By refining the computational logic and ensuring consistent data handling, you can achieve more robust and accurate results across all queries, improving performance on negative inputs.\n",
      "Best Actor: actor.predictor = Predict(StringSignature(goal, tools, question -> action_1\n",
      "    instructions='New Instruction: To effectively accomplish the `Goal` using the provided `Tools`, begin by carefully analyzing the user query to determine the most appropriate tool and input values. Retain the general guideline of outputting an `Action` that specifies the tool to use and the input query to pass to the tool. You may choose to use no tools and provide the final answer directly if the query is straightforward. Additionally, you can use a tool multiple times with different input queries if necessary.\\n\\nTo improve performance on negative inputs, enhance the specificity and clarity of your tool input queries. Implement a more sophisticated natural language processing (NLP) system to better parse and understand user queries, ensuring that the input queries are accurately formed and relevant to the task. This will help in retrieving precise information, especially for queries that are broad or not clearly defined. Additionally, ensure that the agenda data is well-structured and indexed, facilitating efficient and accurate information retrieval.\\n\\nIncorporate a feedback loop to learn from incorrect outputs, allowing the system to adjust its logic or data handling processes accordingly. Implement error handling and validation checks to catch and correct potential mismatches or irrelevant data retrievals before presenting the final output. By refining the computational logic and ensuring consistent data handling, you can achieve more robust and accurate results across all queries, improving performance on negative inputs.'\n",
      "    goal = Field(annotation=str required=True json_schema_extra={'prefix': 'Goal:', 'desc': 'Task to be accomplished.', '__dspy_field_type': 'input'})\n",
      "    tools = Field(annotation=list[str] required=True json_schema_extra={'prefix': 'Tools:', 'desc': 'list of tools to use', '__dspy_field_type': 'input'})\n",
      "    question = Field(annotation=str required=True json_schema_extra={'prefix': 'Question:', 'desc': 'question to ask', 'format': <function ToolQASignature.<lambda> at 0x7f71fd6718a0>, '__dspy_field_type': 'input'})\n",
      "    action_1 = Field(annotation=Action required=True json_schema_extra={'prefix': 'Action 1:', 'desc': '1st action to take.', '__dspy_field_type': 'output'})\n",
      "))\n",
      "actor_clone.predictor = Predict(StringSignature(goal, tools, question -> action_1\n",
      "    instructions='New Instruction: To effectively accomplish the `Goal` using the provided `Tools`, begin by carefully analyzing the user query to determine the most appropriate tool and input values. Retain the general guideline of outputting an `Action` that specifies the tool to use and the input query to pass to the tool. You may choose to use no tools and provide the final answer directly if the query is straightforward. Additionally, you can use a tool multiple times with different input queries if necessary.\\n\\nTo improve performance on negative inputs, enhance the specificity and clarity of your tool input queries. Implement a more sophisticated natural language processing (NLP) system to better parse and understand user queries, ensuring that the input queries are accurately formed and relevant to the task. This will help in retrieving precise information, especially for queries that are broad or not clearly defined. Additionally, ensure that the agenda data is well-structured and indexed, facilitating efficient and accurate information retrieval.\\n\\nIncorporate a feedback loop to learn from incorrect outputs, allowing the system to adjust its logic or data handling processes accordingly. Implement error handling and validation checks to catch and correct potential mismatches or irrelevant data retrievals before presenting the final output. By refining the computational logic and ensuring consistent data handling, you can achieve more robust and accurate results across all queries, improving performance on negative inputs.'\n",
      "    goal = Field(annotation=str required=True json_schema_extra={'prefix': 'Goal:', 'desc': 'Task to be accomplished.', '__dspy_field_type': 'input'})\n",
      "    tools = Field(annotation=list[str] required=True json_schema_extra={'prefix': 'Tools:', 'desc': 'list of tools to use', '__dspy_field_type': 'input'})\n",
      "    question = Field(annotation=str required=True json_schema_extra={'prefix': 'Question:', 'desc': 'question to ask', 'format': <function ToolQASignature.<lambda> at 0x7f71fd6718a0>, '__dspy_field_type': 'input'})\n",
      "    action_1 = Field(annotation=Action required=True json_schema_extra={'prefix': 'Action 1:', 'desc': '1st action to take.', '__dspy_field_type': 'output'})\n",
      "))\n"
     ]
    }
   ],
   "source": [
    "optimized_actor_agent = teleprompter.compile(\n",
    "    student=actor_agent,\n",
    "    trainset=toolqa_train\n",
    ")"
   ]
  },
  {
   "cell_type": "markdown",
   "metadata": {},
   "source": [
    "Now we can evaluate our actor module, for this we've provided an implementation of thread safe evaluator that we above as part of class method of `AvatarOptimizer`."
   ]
  },
  {
   "cell_type": "code",
   "execution_count": 18,
   "metadata": {},
   "outputs": [
    {
     "name": "stderr",
     "output_type": "stream",
     "text": [
      "Processing examples:   0%|          | 0/60 [00:00<?, ?it/s]"
     ]
    },
    {
     "name": "stdout",
     "output_type": "stream",
     "text": [
      "[query_llm][query_llm] Count the number of unique dates in the agenda table where Christopher has scheduled events.\n",
      " Check Madison's availability on 2022/12/13 between 9:00 AM and 6:00 PM in the agenda table.\n",
      "[query_llm] Retrieve events for Andrew on 2022/06/12 from the agenda table.\n",
      "[query_llm] Check Amelia's availability on 2022/10/18 between 9:00 AM and 6:00 PM in the agenda table.\n",
      "[query_llm] Count the number of dates in the agenda table where Imogen has scheduled events.\n",
      "[query_llm] Count the number of events on 2022/01/10 in the agenda table.\n",
      "There are no events listed on 2022/01/10 in the agenda table. | 24 => 0.0\n",
      "[query_llm] Count the number of events scheduled on 2022/01/31 in the agenda table.\n",
      "[query_llm] Find events for James on 2022/10/23 in the agenda table.\n",
      "[query_llm] Find events for George on 2022/07/03 in the agenda table.\n",
      "[query_llm] Retrieve events for Lily on 2022/04/07 from the agenda table.\n",
      "[query_llm] Count the number of events on 2022/01/06 in the agenda table.\n",
      "[query_llm] Check Hector's availability on 2022/01/12 between 9:00 AM and 6:00 PM in the agenda table.\n",
      "[query_llm] Check Lucy's availability on 2022/10/09 between 9:00 AM and 6:00 PM in the agenda table.\n",
      "5 | 88 => 0.0\n",
      "No events found for George on 2022/07/03 in the agenda table. | Art Auction => 0.0\n",
      "No events found for James on 2022/10/23 in the agenda table. | Mindfulness meditation class => 0.0\n",
      "Lily has no events scheduled on 2022/04/07 in the agenda table. | Dinner with friends => 0.0\n",
      "There are no events scheduled on 2022/01/31 in the agenda table. | 16 => 0.0\n"
     ]
    },
    {
     "name": "stderr",
     "output_type": "stream",
     "text": [
      "Processing examples:   2%|▏         | 1/60 [00:47<46:29, 47.27s/it]"
     ]
    },
    {
     "name": "stdout",
     "output_type": "stream",
     "text": [
      "Christopher has scheduled events on 3 unique dates. | 86 => 0.0\n",
      "There are no events listed on 2022/01/06 in the agenda table. | 30 => 0.0\n",
      "Andrew has no events scheduled on 2022/06/12 in the agenda table. | Artisanal candy making class => 0.0\n",
      "Amelia is available all day on 2022/10/18 between 9:00 AM and 6:00 PM as there are no events listed for that date. | 1:00 PM-6:00 PM, 8:00 PM-6:00 PM => 0.0\n",
      "Hector is available all day on 2022/01/12 between 9:00 AM and 6:00 PM. | 9:00 AM-9:00 PM, 11:00 PM-6:00 PM => 0.0\n",
      "Madison is available for a meeting on 2022/12/13 between 9:00 AM and 6:00 PM as there are no scheduled events for that day in the agenda table. | 9:00 AM-2:00 PM, 4:00 PM-6:00 PM => 0.0\n",
      "Lucy is available all day on 2022/10/09 between 9:00 AM and 6:00 PM as there are no conflicting events in the agenda table. | 9:00 AM-11:00 AM, 12:00 PM-6:00 PM => 0.0\n",
      "[query_llm] Check Lily's availability on 2022/02/17 between 9:00 AM and 6:00 PM in the agenda table.\n",
      "[query_llm] Check Daisy's availability on 2022/10/03 between 9:00 AM and 6:00 PM in the agenda table.\n",
      "[query_llm] Count the number of unique dates in the agenda table where Hannah has scheduled events.\n",
      "[query_llm] Count the number of events on 2022/10/11 in the agenda table.\n",
      "There are no events listed on 2022/10/11 in the agenda table. | 23 => 0.0\n",
      "[query_llm] Check Elizabeth's availability on 2022/01/10 between 9:00 AM and 6:00 PM in the agenda table.\n",
      "4 | 76 => 0.0\n",
      "Daisy is available for a meeting on 2022/10/03 between 9:00 AM and 6:00 PM as there are no scheduled events for her on that date. | 9:00 AM-1:30 PM, 2:30 PM-6:00 PM => 0.0\n",
      "[query_llm] Check Jessica's availability on 2022/11/28 between 9:00 AM and 6:00 PM in the agenda table.\n",
      "Lily is available all day on 2022/02/17 between 9:00 AM and 6:00 PM as there are no scheduled events for that date in the agenda table. | 9:00 AM-8:00 PM, 11:00 PM-6:00 PM => 0.0\n",
      "[query_llm] Count the number of events on 2022/09/11 in the agenda table.\n",
      "[query_llm] Check Hector's availability on 2022/01/01 between 9:00 AM and 6:00 PM in the agenda table.\n",
      "Elizabeth is available for a meeting on 2022/01/10 between 9:00 AM and 6:00 PM as there are no conflicting appointments listed in the agenda table. | 9:00 AM-10:00 AM, 4:00 PM-8:00 PM, 10:00 PM-6:00 PM => 0.0\n",
      "There are no events listed on 2022/09/11 in the agenda table. | 23 => 0.0\n",
      "[query_llm] Find events for Phoebe on 2022/12/19 in the agenda table.\n",
      "[query_llm] Find events for Imogen on 2022/02/04 in the agenda table.\n",
      "Hector is available all day on 2022/01/01 from 9:00 AM to 6:00 PM as there are no scheduled events for that date in the agenda table. | 9:00 AM-6:30 PM, 8:30 PM-6:00 PM => 0.0\n",
      "[query_llm] Count the number of events on 2022/01/08 in the agenda table.\n",
      "Jessica is available for a meeting on 2022/11/28 between 9:00 AM and 6:00 PM as there are no scheduled events for her on that date in the agenda table. | 9:00 AM-7:00 PM, 9:00 PM-6:00 PM => 0.0\n",
      "Phoebe has no events scheduled on 2022/12/19 in the agenda table. | Cheese + Wine festival => 0.0\n",
      "[query_llm] Retrieve the number of people scheduled between 3:00 PM and 4:30 PM on 2022/06/21 from the agenda table.\n",
      "[query_llm] Check Alice's availability on 2022/03/09 between 9:00 AM and 6:00 PM in the agenda table.\n",
      "Imogen does not have any events scheduled on 2022/02/04 in the agenda table. | Food festival => 0.0\n",
      "[query_llm] Retrieve the number of people scheduled between 6:00 AM and 12:00 PM on 2022/08/28 in the agenda table.\n",
      "There are no events listed on 2022/01/08 in the agenda table. | 26 => 0.0\n",
      "[query_llm] Count the number of events scheduled on 2022/07/15 in the agenda table.\n",
      "There is no information available for the specified date and time in the agenda table. | 10 => 0.0\n",
      "[query_llm] Retrieve events for Daniel on 2022/01/23 from the agenda table.\n",
      "There is no information available for events scheduled between 6:00 AM and 12:00 PM on 2022/08/28 in the agenda table. | 7 => 0.0\n",
      "Alice is available for a meeting on 2022/03/09 between 9:00 AM and 6:00 PM as there are no events scheduled for her on that date in the agenda table. | 11:00 AM-6:00 PM => 0.0\n",
      "Daniel has no events scheduled on 2022/01/23 in the agenda table. | Boxing class, Street art tour => 0.0\n",
      "[query_llm] Count the number of events on 2022/09/20 in the agenda table.\n",
      "[query_llm] Retrieve the number of people scheduled between 6:00 AM and 8:00 AM on 2022/12/19 from the agenda table.\n",
      "There are no events listed on 2022/09/20 in the agenda table. | 27 => 0.0\n",
      "There is no information available for events scheduled between 6:00 AM and 8:00 AM on 2022/12/19 in the agenda table. | 1 => 0.0\n",
      "[query_llm] Retrieve events for Brian on 2022/03/17 from the agenda table.\n",
      "[query_llm] Retrieve the number of people scheduled between 6:00 PM and 8:00 PM on 2022/09/21 from the agenda table.\n",
      "[query_llm] Retrieve the number of people scheduled between 7:00 PM and 9:00 PM on 2022/10/01 from the agenda table.\n",
      "[query_llm] Count the number of events on 2022/12/07 in the agenda table.\n",
      "[query_llm] Retrieve the number of people scheduled between 9:00 AM and 1:00 PM on 2022/10/06 from the agenda table.\n",
      "Brian has no events scheduled on 2022/03/17 in the agenda table. | Art walk, Book signing => 0.0\n",
      "[query_llm] Check Joshua's availability on 2022/12/02 between 9:00 AM and 6:00 PM in the agenda table.\n",
      "[query_llm] Count the number of events scheduled on 2022/12/18 in the agenda table.\n",
      "[query_llm] Retrieve events for Benjamin on 2022/06/10 from the agenda table.\n",
      "[query_llm] Find events for Summer on 2022/04/07 in the agenda table.\n",
      "[query_llm] Check James' availability on 2022/04/13 between 9:00 AM and 6:00 PM in the agenda table.\n",
      "[query_llm] Count the number of dates in the agenda table where Summer is scheduled.\n",
      "[query_llm] Retrieve the number of people scheduled between 12:00 PM and 3:00 PM on 2022/03/13 in the agenda table.\n",
      "[query_llm] Find events for Sophia on 2022/03/10 in the agenda table.\n",
      "There are no people scheduled between 6:00 PM and 8:00 PM on 2022/09/21 in the agenda table. | 6 => 0.0\n",
      "[query_llm] Retrieve events for James on 2022/11/13 from the agenda table.\n",
      "[query_llm] Count the number of unique dates in the agenda table where Charles has scheduled events.\n",
      "There are no events listed on 2022/12/07 in the agenda table. | 21 => 0.0\n",
      "Joshua is available for a meeting on 2022/12/02 between 9:00 AM and 6:00 PM as there are no scheduled events for him on that date in the agenda table. | 9:00 AM-7:00 PM, 9:00 PM-6:00 PM => 0.5\n",
      "3 | 70 => 0.0\n",
      "No events found for Summer on 2022/04/07 in the agenda table. | Book club meeting => 0.0\n",
      "[query_llm] Retrieve the number of people scheduled between 9:00 AM and 2:00 PM on 2022/06/07 from the agenda table.\n",
      "[query_llm] Check Victoria's availability on 2022/08/05 between 9:00 AM and 6:00 PM in the agenda table.\n",
      "[query_llm] Count the number of dates Florence has scheduled in the agenda table.\n",
      "[query_llm] Count the number of people scheduled between 8:00 AM and 12:00 PM on 2022/12/26 in the agenda table.\n",
      "Sophia has no events scheduled on 2022/03/10 in the agenda table. | Hiking trail => 0.0\n",
      "James has no events scheduled on 2022/11/13 in the agenda table. | Food Festival => 0.0\n",
      "James is available for a meeting on 2022/04/13 between 9:00 AM and 6:00 PM as there are no conflicting events in the agenda table. | 9:00 AM-2:00 PM, 4:00 PM-7:30 PM, 10:30 PM-6:00 PM => 0.0\n",
      "[query_llm] Find the number of people scheduled between 6:30 PM and 8:00 PM on 2022/02/10 in the agenda table.\n",
      "[query_llm] Check Alice's availability on 2022/01/06 between 9:00 AM and 6:00 PM in the agenda table.\n",
      "There are no events scheduled on 2022/12/18 in the agenda table. | 38 => 0.0\n",
      "[query_llm] Count the number of dates in the agenda table where Hannah has scheduled events.\n",
      "[query_llm] Check Georgina's availability on 2022/03/20 between 9:00 AM and 6:00 PM in the agenda table.\n",
      "[query_llm] Count the number of dates Harper has scheduled in the agenda table.\n",
      "There is no information available for the specified date and time in the agenda table. | 6 => 0.0\n",
      "[query_llm] Retrieve the number of people scheduled between 3:00 PM and 4:00 PM on 2022/05/27 from the agenda table.\n",
      "5 | 78 => 0.0\n",
      "[query_llm] Find events for Amelia on 2022/09/18 in the agenda table.\n",
      "[query_llm] Count the number of people scheduled between 9:00 AM and 3:00 PM on 2022/06/20 in the agenda table.\n",
      "[query_llm] Count the number of dates Elsie has scheduled in the agenda table.\n",
      "Victoria is available for a meeting on 2022/08/05 between 9:00 AM and 2:00 PM, and again from 4:00 PM to 6:00 PM. | 9:00 AM-2:00 PM, 4:00 PM-6:00 PM => 1.0\n",
      "[query_llm] List all events scheduled on 2022/07/15 in the agenda table.\n",
      "5 | 94 => 0.0\n",
      "There is no information available for the number of people scheduled between 9:00 AM and 2:00 PM on 2022/06/07 in the agenda table. | 15 => 0.0\n",
      "5 | 76 => 0.0\n",
      "[query_llm] Check Faith's availability on 2022/04/01 between 9:00 AM and 6:00 PM in the agenda table.\n",
      "There are no people scheduled between 6:30 PM and 8:00 PM on 2022/02/10 in the agenda table. | 7 => 0.0\n",
      "Georgina is available all day on 2022/03/20 between 9:00 AM and 6:00 PM, as there are no scheduled events for her on that date in the agenda table. | 9:00 AM-7:00 AM, 10:00 AM-6:00 PM => 0.0\n"
     ]
    },
    {
     "name": "stderr",
     "output_type": "stream",
     "text": [
      "Processing examples:   3%|▎         | 2/60 [01:35<46:18, 47.90s/it]"
     ]
    },
    {
     "name": "stdout",
     "output_type": "stream",
     "text": [
      "Alice is available all day on 2022/01/06 between 9:00 AM and 6:00 PM. | 9:00 AM-1:00 PM, 3:00 PM-6:00 PM => 0.0\n",
      "[query_llm] Retrieve the number of people scheduled for any events between 9:00 AM and 1:00 PM on 2022/10/06 from the agenda table.\n",
      "[query_llm] Retrieve the number of people scheduled between 7:00 PM and 9:00 PM on 2022/10/01 from the agenda table.\n",
      "'3' | 83 => 0.0\n",
      "Amelia has no events on 2022/09/18 in the agenda table. | Yoga and meditation => 0.0\n",
      "[query_llm] Search for any scheduled events for Florence in the agenda table and count the number of unique dates.\n",
      "[query_llm] Retrieve events for Benjamin on 2022/06/10 from the agenda table, ensuring the date and person match exactly.\n",
      "[query_llm] List all events and people scheduled between 8:00 AM and 12:00 PM on 2022/12/26 in the agenda table.\n",
      "There are no events listed for 2022/07/15 in the agenda table. | 27 => 0.0\n",
      "[query_llm] Retrieve the number of people scheduled between 3:00 PM and 4:00 PM on 2022/05/27 from the agenda table, ensuring the data is correctly indexed and structured for accurate retrieval.\n"
     ]
    },
    {
     "name": "stderr",
     "output_type": "stream",
     "text": [
      "Processing examples:  22%|██▏       | 13/60 [01:37<03:46,  4.82s/it]"
     ]
    },
    {
     "name": "stdout",
     "output_type": "stream",
     "text": [
      "Faith is available for a meeting on 2022/04/01 between 9:00 AM and 6:00 PM as there are no conflicting events listed in the agenda table. | 9:00 AM-8:00 PM, 10:00 PM-6:00 PM => 1.0\n",
      "[query_llm] List all events and people scheduled between 9:00 AM and 3:00 PM on 2022/06/20 in the agenda table.\n"
     ]
    },
    {
     "name": "stderr",
     "output_type": "stream",
     "text": [
      "Processing examples:  30%|███       | 18/60 [01:40<02:16,  3.24s/it]"
     ]
    },
    {
     "name": "stdout",
     "output_type": "stream",
     "text": [
      "There is no information available for events scheduled between 7:00 PM and 9:00 PM on 2022/10/01 in the agenda table. | 9 => 0.0\n",
      "Benjamin has no events on 2022/06/10 in the agenda table. | Join a fitness bootcamp => 0.0\n",
      "There is no data available for events scheduled between 3:00 PM and 4:00 PM on 2022/05/27 in the agenda table. | 4 => 0.0\n",
      "Florence has events scheduled on 5 unique dates in the agenda table. | 69 => 0.0\n",
      "[query_llm] Check the agenda table for any events scheduled between 8:00 AM and 12:00 PM on 2022/12/26 and list the people involved.\n",
      "There is no information available for events scheduled between 9:00 AM and 1:00 PM on 2022/10/06 in the agenda table. | 7 => 0.0\n"
     ]
    },
    {
     "name": "stderr",
     "output_type": "stream",
     "text": [
      "Processing examples:  35%|███▌      | 21/60 [01:43<01:45,  2.69s/it]"
     ]
    },
    {
     "name": "stdout",
     "output_type": "stream",
     "text": [
      "No events found for 2022/06/20 between 9:00 AM and 3:00 PM in the agenda table. | 14 => 0.0\n"
     ]
    },
    {
     "name": "stderr",
     "output_type": "stream",
     "text": [
      "Processing examples: 100%|██████████| 60/60 [01:45<00:00,  1.75s/it]"
     ]
    },
    {
     "name": "stdout",
     "output_type": "stream",
     "text": [
      "There are no people scheduled between 8:00 AM and 12:00 PM on 2022/12/26 in the agenda table. | 9 => 0.0\n"
     ]
    },
    {
     "name": "stderr",
     "output_type": "stream",
     "text": [
      "\n"
     ]
    },
    {
     "data": {
      "text/plain": [
       "0.041666666666666664"
      ]
     },
     "execution_count": 18,
     "metadata": {},
     "output_type": "execute_result"
    }
   ],
   "source": [
    "teleprompter.thread_safe_evaluator(toolqa_test, optimized_actor_agent)"
   ]
  },
  {
   "cell_type": "markdown",
   "metadata": {},
   "source": [
    "## ReAct"
   ]
  },
  {
   "cell_type": "code",
   "execution_count": 19,
   "metadata": {},
   "outputs": [],
   "source": [
    "from langchain_core.tools import Tool\n",
    "from langchain_community.utilities import GoogleSerperAPIWrapper, ArxivAPIWrapper, WikipediaAPIWrapper\n",
    "\n",
    "\n",
    "tools = [\n",
    "    Tool(\n",
    "        func=StructuredTool.from_function(RETRIEVE),\n",
    "        name=\"RETRIEVE\",\n",
    "        description=\"If you want to search for some personal agenda information, you can use this tool and input a natural language query. For example, RETRIEVE('What is the Jessica's genda on March 7th, 2023?') returns 'Jessica has a job interview scheduled for July 26th, 2022 at 1 PM...'.\"\n",
    "    ),\n",
    "    Tool(\n",
    "        func=GoogleSerperAPIWrapper().run,\n",
    "        name=\"WEB_SEARCH\",\n",
    "        description=\"If you have a question, you can use this tool to search the web for the answer.\"\n",
    "    )\n",
    "]"
   ]
  },
  {
   "cell_type": "code",
   "execution_count": 20,
   "metadata": {},
   "outputs": [],
   "source": [
    "from langchain import hub\n",
    "from langchain.agents import AgentExecutor, create_react_agent, load_tools\n",
    "from langchain_openai import ChatOpenAI\n",
    "from langchain_community.utilities import GoogleSerperAPIWrapper\n",
    "from langchain_core.tools import Tool\n",
    "\n",
    "llm = ChatOpenAI(\n",
    "    model_name=\"gpt-4o\",\n",
    "    temperature=0.0\n",
    ")\n",
    "prompt = hub.pull(\"hwchase17/react\")\n",
    "\n",
    "agent = create_react_agent(llm, tools, prompt)\n",
    "agent_executor = AgentExecutor(agent=agent, tools=tools, verbose=False, handle_parsing_errors=True)\n",
    "\n",
    "def metric(example, prediction, trace=None):\n",
    "    return int(\n",
    "        evaluator(\n",
    "            question=example.question,\n",
    "            answer=prediction[\"output\"],\n",
    "            reference_answer=example.answer\n",
    "        ).is_correct\n",
    "    )\n",
    "\n",
    "def get_metric_value(example):\n",
    "    prediction = agent_executor.invoke(\n",
    "        {\n",
    "            \"input\": example.question\n",
    "        }\n",
    "    )\n",
    "    return metric(example, prediction)\n",
    "\n",
    "def process_example(example):\n",
    "    try:\n",
    "        return get_metric_value(example)\n",
    "    except Exception as e:\n",
    "        print(e)\n",
    "        return 0\n",
    "\n",
    "def multi_thread_executor(test_set, num_threads=100):\n",
    "    total_score = 0\n",
    "    total_examples = len(test_set)\n",
    "\n",
    "    with ThreadPoolExecutor(max_workers=num_threads) as executor:\n",
    "        futures = [executor.submit(process_example, example) for example in test_set]\n",
    "\n",
    "        for future in tqdm.tqdm(futures, total=total_examples, desc=\"Processing examples\"):\n",
    "            total_score += future.result()\n",
    "\n",
    "    avg_metric = total_score / total_examples\n",
    "    return avg_metric"
   ]
  },
  {
   "cell_type": "code",
   "execution_count": 21,
   "metadata": {},
   "outputs": [
    {
     "name": "stderr",
     "output_type": "stream",
     "text": [
      "Processing examples:   0%|          | 0/60 [00:00<?, ?it/s]"
     ]
    },
    {
     "name": "stdout",
     "output_type": "stream",
     "text": [
      "[query_llm] How many dates in the agenda table have Elsie scheduled?\n",
      "[query_llm] How many dates in the agenda table have Florence scheduled?\n",
      "[query_llm] What is the agenda on March 13th, 2022, between 12:00 PM and 3:00 PM?\n",
      "[query_llm] What events are scheduled on 2022/01/06 in the agenda table?\n",
      "[query_llm] How many dates in the agenda table have Christopher scheduled?\n",
      "[query_llm] What events does Brian have on 2022/03/17 in the agenda table?\n",
      "[query_llm] What is Madison's agenda on December 13th, 2022?\n",
      "[query_llm] How many dates in the agenda table have Charles scheduled?\n",
      "[query_llm] How many dates in the agenda table have Summer scheduled?\n",
      "[query_llm] What is the agenda on October 6th, 2022, between 9:00 AM and 1:00 PM?\n",
      "[query_llm] How many dates in the agenda table have Hannah scheduled?\n",
      "[query_llm] How many dates in the agenda table have Harper scheduled?\n",
      "[query_llm] What is Alice's agenda on January 6th, 2022?\n",
      "[query_llm] What is Victoria's agenda on August 5th, 2022?\n",
      "[query_llm] What events does Imogen have on 2022/02/04 in the agenda table?\n"
     ]
    },
    {
     "name": "stderr",
     "output_type": "stream",
     "text": [
      "Processing examples:   2%|▏         | 1/60 [01:04<1:03:22, 64.45s/it]"
     ]
    },
    {
     "name": "stdout",
     "output_type": "stream",
     "text": [
      "[query_llm][query_llm] What is the agenda on June 7th, 2022?\n",
      " What events does Benjamin have on 2022/06/10 in the agenda table?\n",
      "[query_llm] What events are scheduled on 2022/01/10 in the agenda table?\n",
      "[query_llm] What is Andrew's agenda on June 12th, 2022?\n",
      "[query_llm] What events are scheduled on 2022/12/18 in the agenda table?\n",
      "[query_llm] What is Joshua's agenda on December 2nd, 2022?\n",
      "[query_llm] What is the agenda on March 13th, 2022?\n",
      "[query_llm] What events are scheduled on September 20th, 2022 in the agenda table?\n",
      "[query_llm] What events does Brian have on March 17th, 2022 in the agenda table?\n",
      "[query_llm] What is Summer's agenda on April 7th, 2022?\n",
      "[query_llm] What is the agenda on October 6th, 2022?\n",
      "[query_llm] What events does James have on 2022/11/13 in the agenda table?\n",
      "[query_llm] What events are scheduled on January 31st, 2022 in the agenda table?\n",
      "[query_llm] What is Amelia's agenda on September 18th, 2022?\n",
      "[query_llm] What events are scheduled on July 15th, 2022 in the agenda table?\n",
      "[query_llm] What events are scheduled on 2022/01/08 in the agenda table?\n",
      "[query_llm] What is Jessica's agenda on November 28th, 2022?\n",
      "[query_llm] What is Hector's agenda on January 1st, 2022?\n",
      "[query_llm] What events does Sophia have on 2022/03/10 in the agenda table?\n",
      "[query_llm] What is George's agenda on July 3rd, 2022?\n",
      "[query_llm] What is the agenda on December 19th, 2022, between 6:00 AM and 8:00 AM?\n",
      "[query_llm] What is Amelia's agenda on October 18th, 2022?\n",
      "[query_llm] What is Elizabeth's agenda on January 10th, 2022?\n",
      "[query_llm] How many dates in the agenda table have Hannah scheduled?\n",
      "[query_llm] What is Georgina's agenda on March 20th, 2022?\n",
      "[query_llm] What is Faith's agenda on April 1st, 2022?\n",
      "[query_llm] What events does Phoebe have on 2022/12/19 in the agenda table?\n",
      "[query_llm] How many people are between 6:30 PM and 8:00 PM on 2022/02/10 in the agenda table?\n",
      "[query_llm] What events are scheduled on December 7th, 2022 in the agenda table?\n",
      "[query_llm] What is Hector's agenda on January 12th, 2022?\n",
      "[query_llm] What is the agenda on June 21st, 2022, between 3:00 PM and 4:30 PM?\n",
      "[query_llm] What is James's agenda on October 23, 2022?\n",
      "[query_llm] What is Lily's agenda on April 7th, 2022?\n",
      "[query_llm] What is Lucy's agenda on October 9th, 2022?\n",
      "[query_llm] What is James's agenda on April 13th, 2022?\n",
      "[query_llm] How many dates in the agenda table have Imogen scheduled?\n",
      "[query_llm] What is Daisy's agenda on October 3rd, 2022?\n",
      "[query_llm] What is the agenda on December 26th, 2022, between 8:00 AM and 12:00 PM?\n",
      "[query_llm] What is Lily's agenda on February 17, 2022?\n",
      "[query_llm] What is the agenda on June 20th, 2022, between 9:00 AM and 3:00 PM?\n",
      "[query_llm] What is Daniel's agenda on January 23, 2022?\n",
      "[query_llm] What is the agenda on October 1st, 2022, between 7:00 PM and 9:00 PM?\n",
      "[query_llm] What events are scheduled on 2022/10/11 in the agenda table?\n",
      "[query_llm] What events are scheduled on 2022/09/11 in the agenda table?\n",
      "\n",
      "[query_llm] What is the agenda on May 27th, 2022, between 3:00 PM and 4:00 PM?\n",
      "[query_llm] What is Alice's agenda on March 9th, 2022?\n",
      "[query_llm] What is the agenda on September 21st, 2022, between 6:00 PM and 8:00 PM?\n",
      "[query_llm] What is the agenda on August 28th, 2022, between 6:00 AM and 12:00 PM?\n",
      "[query_llm] What is Madison's agenda on December 13th, 2022?\n",
      "[query_llm] What is the agenda on June 7th, 2022?\n",
      "[query_llm] What is Alice's agenda on January 6th, 2022?\n",
      "[query_llm] What is Victoria's agenda on August 5th, 2022?\n"
     ]
    },
    {
     "name": "stderr",
     "output_type": "stream",
     "text": [
      "Processing examples:   3%|▎         | 2/60 [02:16<1:06:40, 68.97s/it]"
     ]
    },
    {
     "name": "stdout",
     "output_type": "stream",
     "text": [
      "[query_llm] What is Joshua's agenda on December 2nd, 2022?\n",
      "[query_llm] What events are scheduled on March 13th, 2022, between 12:00 PM and 3:00 PM?\n",
      "[query_llm] What events are scheduled on October 6th, 2022, between 9:00 AM and 1:00 PM?\n",
      "[query_llm] What events are scheduled on January 31st, 2022 in the agenda table?\n",
      "[query_llm] What events are scheduled on July 15th, 2022 in the agenda table?\n",
      "[query_llm] What is Jessica's agenda on November 28th, 2022?\n",
      "[query_llm] What is the agenda on December 19th, 2022?\n",
      "[query_llm] What is Amelia's agenda on October 18th, 2022?\n",
      "[query_llm] What is Elizabeth's agenda on January 10th, 2022?\n",
      "[query_llm] Agenda details for February 10th, 2022, between 6:30 PM and 8:00 PM\n",
      "[query_llm] What is Georgina's agenda on March 20th, 2022?\n",
      "[query_llm] What is Hector's agenda on January 12th, 2022?\n",
      "[query_llm] What is the agenda on June 21st, 2022?\n",
      "[query_llm] What is Lucy's agenda on October 9th, 2022?\n",
      "[query_llm] What is Lily's agenda on April 7th, 2022?\n",
      "[query_llm] What is Daisy's agenda on October 3rd, 2022?\n",
      "[query_llm] What events are scheduled on December 26th, 2022, between 8:00 AM and 12:00 PM?\n",
      "[query_llm] What is the agenda on June 20th, 2022?\n",
      "[query_llm] What is Lily's agenda on February 17, 2022?\n",
      "[query_llm] What is James's agenda on April 13th, 2022?\n",
      "[query_llm] What events are scheduled on September 11, 2022, in the agenda table?\n",
      "\n",
      "[query_llm] What is Alice's agenda on March 9th, 2022?\n",
      "[query_llm] What events are scheduled on September 21st, 2022, between 6:00 PM and 8:00 PM?\n",
      "[query_llm] What is the agenda on May 27th, 2022, between 3:00 PM and 4:00 PM?\n",
      "[query_llm] What events are scheduled on August 28th, 2022, between 6:00 AM and 12:00 PM?\n",
      "[query_llm] What is the agenda on June 7th, 2022?\n",
      "[query_llm] What is Daniel's agenda on January 23, 2022?\n",
      "[query_llm] What is Joshua's agenda on December 2nd, 2022?\n",
      "[query_llm] What is Jessica's agenda on November 28th, 2022?\n",
      "[query_llm] What events are scheduled on December 19th, 2022, between 6:00 AM and 8:00 AM?\n",
      "[query_llm] What is Amelia's agenda on October 18th, 2022?\n",
      "[query_llm] What is the agenda on June 20th, 2022, between 9:00 AM and 3:00 PM?\n",
      "[query_llm] What is Lucy's agenda on October 9th, 2022?\n",
      "[query_llm] List all events on December 26th, 2022, between 8:00 AM and 12:00 PM.\n",
      "[query_llm] What is James's agenda on April 13th, 2022?\n",
      "[query_llm] What events are scheduled on September 11, 2022, in the agenda table?\n",
      "\n",
      "[query_llm] List all events on September 21st, 2022, between 6:00 PM and 8:00 PM.\n",
      "[query_llm] List all events on August 28th, 2022, between 6:00 AM and 12:00 PM.\n",
      "[query_llm] What is Alice's agenda on March 9th, 2022?\n"
     ]
    },
    {
     "name": "stderr",
     "output_type": "stream",
     "text": [
      "Processing examples:  27%|██▋       | 16/60 [02:55<04:34,  6.23s/it] "
     ]
    },
    {
     "name": "stdout",
     "output_type": "stream",
     "text": [
      "[query_llm] What events are scheduled on June 20th, 2022, between 9:00 AM and 3:00 PM?\n"
     ]
    },
    {
     "name": "stderr",
     "output_type": "stream",
     "text": [
      "Processing examples: 100%|██████████| 60/60 [03:00<00:00,  3.00s/it]\n"
     ]
    },
    {
     "data": {
      "text/plain": [
       "0.03333333333333333"
      ]
     },
     "execution_count": 21,
     "metadata": {},
     "output_type": "execute_result"
    }
   ],
   "source": [
    "multi_thread_executor(toolqa_test)"
   ]
  }
 ],
 "metadata": {
  "kernelspec": {
   "display_name": "stark11",
   "language": "python",
   "name": "python3"
  },
  "language_info": {
   "codemirror_mode": {
    "name": "ipython",
    "version": 3
   },
   "file_extension": ".py",
   "mimetype": "text/x-python",
   "name": "python",
   "nbconvert_exporter": "python",
   "pygments_lexer": "ipython3",
   "version": "3.11.9"
  }
 },
 "nbformat": 4,
 "nbformat_minor": 2
}
