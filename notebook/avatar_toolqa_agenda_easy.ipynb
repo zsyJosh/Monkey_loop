{
 "cells": [
  {
   "cell_type": "code",
   "execution_count": 2,
   "metadata": {},
   "outputs": [],
   "source": [
    "HF_USR_NAME = 'shirwu'\n",
    "TOOL_QA_ROOT = '/dfs/project/kgrlm/shirwu/msr_intern/home/t-yingxinwu/msr_intern/ToolQA-rebuttal'"
   ]
  },
  {
   "cell_type": "markdown",
   "metadata": {},
   "source": [
    "### Upload to Huggingface"
   ]
  },
  {
   "cell_type": "code",
   "execution_count": 2,
   "metadata": {},
   "outputs": [],
   "source": [
    "import pandas as pd\n",
    "from datasets import Dataset\n",
    "from datasets import DatasetDict\n",
    "\n",
    "level = 'easy'\n",
    "dataset = 'agenda'\n",
    "\n",
    "dataset_dir = f'{dataset}-{level}.jsonl'\n",
    "hf_dataset_name = f'toolqa_{dataset}_{level}'\n",
    "\n",
    "df = pd.read_json(dataset_dir, lines=True)\n",
    "df.head()\n",
    "\n",
    "df['answer'] = df['answer'].apply(lambda x: str(x))\n",
    "dataset = Dataset.from_pandas(df)"
   ]
  },
  {
   "cell_type": "code",
   "execution_count": 3,
   "metadata": {},
   "outputs": [
    {
     "data": {
      "application/vnd.jupyter.widget-view+json": {
       "model_id": "d82883037aa34a36a55fb2a93e46b523",
       "version_major": 2,
       "version_minor": 0
      },
      "text/plain": [
       "Uploading the dataset shards:   0%|          | 0/1 [00:00<?, ?it/s]"
      ]
     },
     "metadata": {},
     "output_type": "display_data"
    },
    {
     "data": {
      "application/vnd.jupyter.widget-view+json": {
       "model_id": "c204b014e4734c558c0b032b0843bd9f",
       "version_major": 2,
       "version_minor": 0
      },
      "text/plain": [
       "Creating parquet from Arrow format:   0%|          | 0/1 [00:00<?, ?ba/s]"
      ]
     },
     "metadata": {},
     "output_type": "display_data"
    },
    {
     "data": {
      "text/plain": [
       "CommitInfo(commit_url='https://huggingface.co/datasets/shirwu/toolqa_agenda_easy/commit/0df55d78535ff852f72cc05c36360590a612f5fa', commit_message='Upload dataset', commit_description='', oid='0df55d78535ff852f72cc05c36360590a612f5fa', pr_url=None, pr_revision=None, pr_num=None)"
      ]
     },
     "execution_count": 3,
     "metadata": {},
     "output_type": "execute_result"
    }
   ],
   "source": [
    "dataset_dict = DatasetDict({'train': dataset})\n",
    "# push to hf for the ease for using dspy\n",
    "dataset_dict.push_to_hub(repo_id=hf_dataset_name, private=True)"
   ]
  },
  {
   "cell_type": "markdown",
   "metadata": {},
   "source": [
    "## Setting Up\n",
    "\n",
    "* ToolQA\n",
    "\n",
    "Before loading our datasets and going to the execution part, we'll need to configure the `lm` in `dspy.settings`. For the purpose of this notebook we'll be using `gpt-4o`."
   ]
  },
  {
   "cell_type": "code",
   "execution_count": 4,
   "metadata": {},
   "outputs": [],
   "source": [
    "import os\n",
    "import dspy\n",
    "import warnings\n",
    "warnings.simplefilter(\"ignore\", UserWarning)\n",
    "warnings.simplefilter(\"ignore\", FutureWarning)\n",
    "\n",
    "\n",
    "dspy.settings.configure(\n",
    "    lm=dspy.OpenAI(\n",
    "        model=\"gpt-4o\",\n",
    "        api_key=os.getenv(\"OPENAI_API_KEY\"),\n",
    "        max_tokens=2048,\n",
    "        temperature=0.6\n",
    "    )\n",
    ")"
   ]
  },
  {
   "cell_type": "markdown",
   "metadata": {},
   "source": [
    "## Defining Signature"
   ]
  },
  {
   "cell_type": "code",
   "execution_count": 5,
   "metadata": {},
   "outputs": [],
   "source": [
    "class ToolQASignature(dspy.Signature):\n",
    "    \"\"\"You will be given a question. Your task is to answer the question with a short response. For example, (1) Question: \\'How many dates in the agenda table have Alexander scheduled?\\' => Answer: \\'73\\' (2) Question: \\'What events does Jade have on 2022/01/25 in the agenda table?\\' => Answer: \\'Kids concert\\'\n",
    "    \"\"\"\n",
    "    \n",
    "    question: str = dspy.InputField(\n",
    "        prefix=\"Question:\",\n",
    "        desc=\"question to ask\",\n",
    "        format=lambda x: x.strip(),\n",
    "    )\n",
    "    answer: str = dspy.OutputField(\n",
    "        prefix=\"Answer:\",\n",
    "        desc=\"answer to the question\",\n",
    "    )\n"
   ]
  },
  {
   "cell_type": "markdown",
   "metadata": {},
   "source": [
    "## Loading Datasets"
   ]
  },
  {
   "cell_type": "code",
   "execution_count": 6,
   "metadata": {},
   "outputs": [],
   "source": [
    "from random import sample\n",
    "from dspy.datasets import DataLoader\n",
    "\n",
    "dl = DataLoader()"
   ]
  },
  {
   "cell_type": "code",
   "execution_count": 7,
   "metadata": {},
   "outputs": [
    {
     "data": {
      "application/vnd.jupyter.widget-view+json": {
       "model_id": "351130be4d264739b8fc434f14f86cd8",
       "version_major": 2,
       "version_minor": 0
      },
      "text/plain": [
       "Downloading readme:   0%|          | 0.00/337 [00:00<?, ?B/s]"
      ]
     },
     "metadata": {},
     "output_type": "display_data"
    },
    {
     "data": {
      "application/vnd.jupyter.widget-view+json": {
       "model_id": "34039f7031424445b2de0ea169e379ea",
       "version_major": 2,
       "version_minor": 0
      },
      "text/plain": [
       "Downloading data:   0%|          | 0.00/7.37k [00:00<?, ?B/s]"
      ]
     },
     "metadata": {},
     "output_type": "display_data"
    },
    {
     "data": {
      "application/vnd.jupyter.widget-view+json": {
       "model_id": "e9c6568ab9b6425cbd80916f99205255",
       "version_major": 2,
       "version_minor": 0
      },
      "text/plain": [
       "Generating train split:   0%|          | 0/100 [00:00<?, ? examples/s]"
      ]
     },
     "metadata": {},
     "output_type": "display_data"
    }
   ],
   "source": [
    "tool_qa = dl.from_huggingface(\n",
    "    f'{HF_USR_NAME}/' + hf_dataset_name,\n",
    "    split=\"train\",\n",
    "    input_keys=(\"question\", \"answer\"),\n",
    ")"
   ]
  },
  {
   "cell_type": "code",
   "execution_count": 8,
   "metadata": {},
   "outputs": [
    {
     "data": {
      "text/plain": [
       "100"
      ]
     },
     "execution_count": 8,
     "metadata": {},
     "output_type": "execute_result"
    }
   ],
   "source": [
    "len(tool_qa)"
   ]
  },
  {
   "cell_type": "code",
   "execution_count": 9,
   "metadata": {},
   "outputs": [],
   "source": [
    "import random\n",
    "# set seed\n",
    "random.seed(42)\n",
    "\n",
    "train_idx = random.sample(range(len(tool_qa)), 40)\n",
    "remaining_idx = list(set(range(len(tool_qa))) - set(train_idx))\n",
    "test_idx = random.sample(remaining_idx, 60)\n",
    "\n",
    "toolqa_train = [\n",
    "    dspy.Example(question=example.question, answer=example.answer).with_inputs(\"question\", \"paper_id\")\n",
    "    for example in [tool_qa[i] for i in train_idx]\n",
    "]\n",
    "toolqa_test = [\n",
    "    dspy.Example(question=example.question, answer=example.answer).with_inputs(\"question\", \"paper_id\")\n",
    "    for example in [tool_qa[i] for i in test_idx]\n",
    "]"
   ]
  },
  {
   "cell_type": "markdown",
   "metadata": {},
   "source": [
    "## Setting Up Tools\n",
    "\n",
    "We'll setup `Avatar` modules for both signatures and all the `tools` can be used by each of the dataset. `Tool` is a pydantic model that Avatar expects the `tools` to be composed as more specifically it have 4 fields:\n",
    "\n",
    "* `name` : Name of the tool\n",
    "* `input_type` : Type of input the tool accepts\n",
    "* `output_type` : Type of output the tool returns\n",
    "* `tool` : The actual tool object"
   ]
  },
  {
   "cell_type": "code",
   "execution_count": 10,
   "metadata": {},
   "outputs": [
    {
     "name": "stdout",
     "output_type": "stream",
     "text": [
      "[query_llm] What is the Jessica's genda on March 7th, 2023?\n",
      "Jessica has a job interview scheduled for July 26th, 2022 at 1 PM. The interview will take place at the Corporate Office Building, and is scheduled to end at 2 PM.\n",
      "\n",
      "Jessica has a business meeting on January 22nd, 2022 at The Pacific Design Center. The meeting is scheduled to start at 3:00 PM and end at 4:00 PM.\n",
      "\n",
      "Jessica will be attending a Late Night Movie on January 13, 2022, at a movie theater. The movie will start at 11:00 PM and end at 1:00 AM. She is looking forward to enjoying some popcorn and her favorite movie as she winds down her day.\n",
      "\n",
      "Jessica is participating in a charity walk happening on April 22nd, 2022. The event is scheduled to start at 9:00 AM and will end at 11:00 AM. The walk will take place in Lincoln Park, and it's an opportunity for participants to raise money for a charitable organization while enjoying a morning walk. Jessica is sure to have a great time giving back to her community and supporting a good cause.\n",
      "\n",
      "Jessica is scheduled to attend a Business Meeting on May 24th, 2022 at the Hilton Hotel. The meeting is set to commence at 10:00 AM and end at 11:00 AM. It is expected that attendees will discuss important business matters and make decisions. The Hilton Hotel will be the venue where the meeting will take place, and it is expected that all attendees should be punctual and prepared for the agenda items.\n"
     ]
    }
   ],
   "source": [
    "import os\n",
    "import time\n",
    "import uuid\n",
    "import numpy as np\n",
    "import jsonlines\n",
    "from concurrent.futures import ProcessPoolExecutor\n",
    "import sentence_transformers\n",
    "import chromadb\n",
    "import os.path as osp\n",
    "from chromadb.config import Settings\n",
    "\n",
    "EMBED_MODEL_NAME = \"sentence-transformers/all-mpnet-base-v2\"\n",
    "CHROMA_PERSIST_DIRECTORY = osp.join(TOOL_QA_ROOT, \"data/chroma_db/agenda\")\n",
    "CHROMA_COLLECTION_NAME = \"all\"\n",
    "CHROMA_SERVER_HOST = \"localhost\"\n",
    "CHROMA_SERVER_HTTP_PORT = \"8000\"\n",
    "FILE_PATH = osp.join(TOOL_QA_ROOT, \"data/external_corpus/agenda/agenda_descriptions_merged.jsonl\")\n",
    "\n",
    "def sentence_embedding(model, texts):\n",
    "    embeddings = model.encode(texts)\n",
    "    return embeddings\n",
    "\n",
    "def create_chroma_db(chroma_server_host, chroma_server_http_port, collection_name):\n",
    "    chroma_client = chromadb.Client(Settings(\n",
    "        chroma_api_impl=\"rest\",\n",
    "        chroma_server_host=chroma_server_host,\n",
    "        chroma_server_http_port=chroma_server_http_port,\n",
    "    ))\n",
    "    collection = chroma_client.get_or_create_collection(name=collection_name)\n",
    "    return collection\n",
    "\n",
    "def create_chroma_db_local(persist_directory, collection_name):\n",
    "    \n",
    "    chroma_client = chromadb.PersistentClient(path=persist_directory)\n",
    "\n",
    "    collection = chroma_client.get_or_create_collection(name=collection_name)\n",
    "    return collection\n",
    "\n",
    "def insert_to_db(texts, model_name, cuda_idx, db):\n",
    "    model = sentence_transformers.SentenceTransformer(model_name, device=f\"cuda:{cuda_idx}\")\n",
    "\n",
    "    batch_embeddings = []\n",
    "    batch_texts = []\n",
    "    start_time = time.time()\n",
    "    print(f\"Total Articles to process: {len(texts)}, Current Thread: {cuda_idx}.\")\n",
    "    for i, text in enumerate(texts):\n",
    "        # 2. generate embedding\n",
    "        embeddings = sentence_embedding(model, text).tolist()\n",
    "\n",
    "        batch_embeddings.append(embeddings)\n",
    "        batch_texts.append(text)\n",
    "        # 3. add to vectorstore per 500 articles or last article\n",
    "        if i % 100 == 0 or i == len(texts)-1:\n",
    "            batch_ids = [str(uuid.uuid1()) for _ in batch_texts]\n",
    "            db.add(\n",
    "                embeddings=batch_embeddings,\n",
    "                documents=batch_texts,\n",
    "                ids = batch_ids\n",
    "            )\n",
    "            batch_embeddings = []\n",
    "            batch_texts = []\n",
    "            print(f\"Completed Processing article count: {i}, Current Thread: {cuda_idx}, Time took: {time.time() - start_time}.\")\n",
    "    print(f\"Thread {cuda_idx} Completed. Total time took for thread: {time.time() - start_time}.\")\n",
    "\n",
    "\n",
    "# Multi-processing\n",
    "def query_llm(query, is_local=True, start=None, end=None):\n",
    "    EMBED_MODEL_NAME = \"sentence-transformers/all-mpnet-base-v2\"\n",
    "    CHROMA_PERSIST_DIRECTORY = osp.join(TOOL_QA_ROOT, \"data/chroma_db/agenda\")\n",
    "    os.makedirs(CHROMA_PERSIST_DIRECTORY, exist_ok=True)\n",
    "    CHROMA_COLLECTION_NAME = \"all\"\n",
    "    CHROMA_SERVER_HOST = \"localhost\"\n",
    "    CHROMA_SERVER_HTTP_PORT = \"8000\"\n",
    "    FILE_PATH = osp.join(TOOL_QA_ROOT, \"data/external_corpus/agenda/agenda_descriptions_merged.jsonl\")\n",
    "\n",
    "    cuda_idxes = [0]\n",
    "    number_of_processes = len(cuda_idxes)\n",
    "    input_texts = []\n",
    "    db = create_chroma_db_local(CHROMA_PERSIST_DIRECTORY, CHROMA_COLLECTION_NAME)\n",
    "    with open(FILE_PATH, 'r') as f:\n",
    "        for item in jsonlines.Reader(f):\n",
    "            input_texts.append(item[\"event\"])\n",
    "    # input_texts = np.array_split(input_texts, number_of_processes)\n",
    "\n",
    "    args = ((input_texts[i], EMBED_MODEL_NAME, cuda_idxes[i], is_local) for i in range(number_of_processes))\n",
    "\n",
    "    # if there is no file under the directory \"/localscratch/yzhuang43/ra-llm/retrieval_benchmark/data/chroma_db/agenda\", insert the data into the db\n",
    "    if len(os.listdir(CHROMA_PERSIST_DIRECTORY)) == 0:\n",
    "        insert_to_db(input_texts, model_name=EMBED_MODEL_NAME, cuda_idx=0, db=db)\n",
    "\n",
    "    input_paths = np.array_split(input_texts, number_of_processes)\n",
    "    with ProcessPoolExecutor(number_of_processes) as executor:\n",
    "        executor.map(insert_to_db, args)\n",
    "    model = sentence_transformers.SentenceTransformer(EMBED_MODEL_NAME, device=f\"cuda:0\")\n",
    "    query_embedding = sentence_embedding(model, query).tolist()\n",
    "    results = db.query(query_embeddings=query_embedding, n_results=5)\n",
    "    retrieval_content = [result for result in results['documents'][0]]\n",
    "    # print(retrieval_content)\n",
    "    retrieval_content = '\\n\\n'.join(retrieval_content)\n",
    "    print('[query_llm]', query)\n",
    "    return retrieval_content\n",
    "\n",
    "query = \"What is the Jessica's agenda on March 7th, 2023?\"\n",
    "print(query_llm(query))"
   ]
  },
  {
   "cell_type": "code",
   "execution_count": 11,
   "metadata": {},
   "outputs": [],
   "source": [
    "from dspy.predict.avatar import Tool, Avatar\n",
    "from langchain_community.utilities import GoogleSerperAPIWrapper, ArxivAPIWrapper, WikipediaAPIWrapper\n",
    "from langchain.tools import BaseTool, StructuredTool, tool\n",
    "\n",
    "def RETRIEVE(query: str) -> str:\n",
    "    \"\"\"If you want to search for some personal agenda information, you can use this tool and input a natural language query. For example, RETRIEVE('What is the Jessica's genda on March 7th, 2023?') returns 'Jessica has a job interview scheduled for July 26th, 2022 at 1 PM...'.\"\"\"\n",
    "    return query_llm(query)\n",
    "\n",
    "tools = [\n",
    "    Tool(\n",
    "        tool=StructuredTool.from_function(RETRIEVE),\n",
    "        name=\"RETRIEVE\",\n",
    "        desc=\"If you want to search for some personal agenda information, you can use this tool and input a natural language query. For example, RETRIEVE('What is the Jessica's genda on March 7th, 2023?') returns 'Jessica has a job interview scheduled for July 26th, 2022 at 1 PM...'.\"\n",
    "    )\n",
    "]"
   ]
  },
  {
   "cell_type": "markdown",
   "metadata": {},
   "source": [
    "Once we have defined our `tools`, we can now create an `Avatar` object by passing the `tools` and `signature`. It takes 2 more optional parameters `verbose` and `max_iters`. `verbose` is used to display the logs and `max_iters` is used to control the number of iterations in multi step execution. \n",
    "\n",
    "An avatar agent stops the tool usage iteration once it reaches `max_iters` or when it prompts `Finish`. You can also create custom tools too, all you need to make sure is:\n",
    "\n",
    "* You pass is a class object.\n",
    "* Implements `__init__` and `run` method.\n",
    "* Must take 1 string a input and returns 1 string as output.\n",
    "\n",
    "If your tool doesn't return or takes input a string then you can make a custom wrapper to take care of that for now. In future we'll try to enable a diverse tool usage."
   ]
  },
  {
   "cell_type": "code",
   "execution_count": 12,
   "metadata": {},
   "outputs": [
    {
     "name": "stderr",
     "output_type": "stream",
     "text": [
      "WARNING:root:\t*** Since DSPy 2.5.16+, TypedPredictors are now deprecated, underperform, and are about to be removed! ***\n",
      "Please use standard predictors, e.g. dspy.Predict and dspy.ChainOfThought.\n",
      "They now support type annotations and other features of TypedPredictors and tend to work much better out of the box.\n",
      "Please let us know if you face any issues: https://github.com/stanfordnlp/dspy/issues\n"
     ]
    }
   ],
   "source": [
    "actor_agent = Avatar(\n",
    "    tools=tools,\n",
    "    signature=ToolQASignature,\n",
    "    verbose=False,\n",
    "    max_iters=10\n",
    ")"
   ]
  },
  {
   "cell_type": "markdown",
   "metadata": {},
   "source": [
    "## Evaluation\n",
    "\n",
    "Open enden QA tasks are hard to evaluate on rigid metrics like exact match. So, we'll be using an improvised LLM as Judge for the evaluation of our model on test set."
   ]
  },
  {
   "cell_type": "code",
   "execution_count": 13,
   "metadata": {},
   "outputs": [],
   "source": [
    "class Evaluator(dspy.Signature):\n",
    "    \"\"\"Please act as an impartial judge to evaluate whether the answer is correct based on the ground truth answer\"\"\"\n",
    "    \n",
    "    question: str = dspy.InputField(\n",
    "        prefix=\"Question:\",\n",
    "        desc=\"question to ask\",\n",
    "    )\n",
    "    reference_answer: str = dspy.InputField(\n",
    "        prefix=\"Ground Truth Answer:\",\n",
    "        desc=\"Ground truth answer to the question.\",\n",
    "    )\n",
    "    answer: str = dspy.InputField(\n",
    "        prefix=\"Answer:\",\n",
    "        desc=\"Answer to the question given by the model.\",\n",
    "    )\n",
    "    rationale: str = dspy.OutputField(\n",
    "        prefix=\"Rationale:\",\n",
    "        desc=\"Explanation of why the answer is correct or incorrect.\",\n",
    "    )\n",
    "    is_correct: float = dspy.OutputField(\n",
    "        prefix=\"Correct:\",\n",
    "        desc=\"Whether the answer is correct. Give 0 if incorrect, 1 if correct, (0, 1) if partially correct.\",\n",
    "    )\n",
    "\n",
    "\n",
    "evaluator = dspy.TypedPredictor(Evaluator)\n",
    "\n",
    "\n",
    "def metric(example, prediction, trace=None):\n",
    "    acc = float(\n",
    "        evaluator(\n",
    "            question=example.question,\n",
    "            answer=prediction.answer,\n",
    "            reference_answer=example.answer\n",
    "        ).is_correct\n",
    "    ) \n",
    "    print(prediction.answer, '|', example.answer, '=>', acc)\n",
    "    return acc"
   ]
  },
  {
   "cell_type": "code",
   "execution_count": 14,
   "metadata": {},
   "outputs": [
    {
     "name": "stderr",
     "output_type": "stream",
     "text": [
      "WARNING:root:\t*** In DSPy 2.5, all LM clients except `dspy.LM` are deprecated, underperform, and are about to be deleted. ***\n",
      " \t\tYou are using the client GPT3, which will be removed in DSPy 2.6.\n",
      " \t\tChanging the client is straightforward and will let you use new features (Adapters) that improve the consistency of LM outputs, especially when using chat LMs. \n",
      "\n",
      " \t\tLearn more about the changes and how to migrate at\n",
      " \t\thttps://github.com/stanfordnlp/dspy/blob/main/examples/migration.ipynb\n"
     ]
    },
    {
     "name": "stdout",
     "output_type": "stream",
     "text": [
      "Example({'question': 'What did Georgina do from 1:00 PM to 11:00 PM on 2022/05/18?', 'answer': 'Oktoberfest'}) (input_keys={'paper_id', 'question'})\n",
      "73 days | Oktoberfest => 0.0\n"
     ]
    },
    {
     "data": {
      "text/plain": [
       "0.0"
      ]
     },
     "execution_count": 14,
     "metadata": {},
     "output_type": "execute_result"
    }
   ],
   "source": [
    "print(toolqa_train[0])\n",
    "metric(toolqa_train[0], prediction=dspy.Example(answer='73 days'))"
   ]
  },
  {
   "cell_type": "markdown",
   "metadata": {},
   "source": [
    "For evaluation we can't use `dspy.Evaluate`, reason being that `Avatar` changes it's signature per iteration by adding the actions and it's results to it as fields. So we can create our own hacky thread safe evaluator for it."
   ]
  },
  {
   "cell_type": "code",
   "execution_count": 15,
   "metadata": {},
   "outputs": [],
   "source": [
    "import tqdm\n",
    "\n",
    "os.environ[\"TOKENIZERS_PARALLELISM\"] = \"False\"\n",
    "\n",
    "from concurrent.futures import ThreadPoolExecutor\n",
    "\n",
    "def process_example(example, signature):\n",
    "    try:\n",
    "        avatar = Avatar(\n",
    "            signature,\n",
    "            tools=tools,\n",
    "            verbose=False,\n",
    "            max_iters=10\n",
    "        )\n",
    "        prediction = avatar(**example.inputs().toDict())\n",
    "\n",
    "        return metric(example, prediction)\n",
    "    except Exception as e:\n",
    "        print(e)\n",
    "        return 0\n",
    "\n",
    "# process_example(tool_qa[0], ToolQASignature)\n",
    "def multi_thread_executor(test_set, signature, num_threads=60):\n",
    "    total_score = 0\n",
    "    total_examples = len(test_set)\n",
    "\n",
    "    with ThreadPoolExecutor(max_workers=num_threads) as executor:\n",
    "        futures = [executor.submit(process_example, example, signature) for example in test_set]\n",
    "\n",
    "        for future in tqdm.tqdm(futures, total=total_examples, desc=\"Processing examples\"):\n",
    "            total_score += future.result()\n",
    "\n",
    "    avg_metric = total_score / total_examples\n",
    "    return avg_metric\n",
    "\n",
    "def single_thread_executor(test_set, signature):\n",
    "    total_score = 0\n",
    "    total_examples = len(test_set)\n",
    "\n",
    "    for example in tqdm.tqdm(test_set, desc=\"Processing examples\"):\n",
    "        total_score += process_example(example, signature)\n",
    "\n",
    "    avg_metric = total_score / total_examples\n",
    "    return avg_metric"
   ]
  },
  {
   "cell_type": "markdown",
   "metadata": {},
   "source": [
    "## Optimization\n",
    "\n",
    "For the optimization of the `Actor` we'll be using `AvatarOptimizer`. It's a DSPy implementation of the [Avatar](https://github.com/zou-group/avatar/) method that optimizes the `Actor` for the given `tools` using a comparator module that optimizes Actor instruction. Note, that Actor is the Module that directs tool execution and flow, it's not the signature that we are passing. It doesn't optimize the instruction of the signature we pass. It takes the following parameters:\n",
    "\n",
    "* `metric`: Metric that we'll be optimizing for\n",
    "* `max_iters`: Maximum number of iterations for the optimizer\n",
    "* `lower_bound`: Lower bound for the metric to classify example as negative\n",
    "* `upper_bound`: Upper bound for the metric to classify example as positive\n",
    "* `max_positive_inputs`: Maximum number of positive inputs sampled for comparator\n",
    "* `max_negative_inputs`: Maximum number of negative inputs sampled for comparator\n",
    "* `optimize_for`: Whether we want to maximize the metric or minimize it during optimization\n",
    "\n",
    "Once the optimizer is done we can get the optimized actor and use it for the evaluation."
   ]
  },
  {
   "cell_type": "code",
   "execution_count": 16,
   "metadata": {},
   "outputs": [],
   "source": [
    "from dspy.teleprompt import AvatarOptimizer\n",
    "\n",
    "teleprompter = AvatarOptimizer(\n",
    "    metric=metric,\n",
    "    max_iters=1,\n",
    "    max_negative_inputs=20,\n",
    "    max_positive_inputs=20,\n",
    ")"
   ]
  },
  {
   "cell_type": "code",
   "execution_count": 17,
   "metadata": {},
   "outputs": [
    {
     "name": "stdout",
     "output_type": "stream",
     "text": [
      "====================\n",
      "Iteration 1/1\n"
     ]
    },
    {
     "name": "stderr",
     "output_type": "stream",
     "text": [
      "Processing examples:   0%|          | 0/40 [00:00<?, ?it/s]"
     ]
    },
    {
     "name": "stdout",
     "output_type": "stream",
     "text": [
      "[query_llm] Millie's schedule on 2022/06/11\n",
      "[query_llm] Culinary festival location for Adrian on 2022/09/27\n",
      "[query_llm] Where did Morning Swim that Matilda attended take place on 2022/07/24?\n",
      "[query_llm] Thomas attendance records for Artisanal Pizza Making on 2022/10/28\n",
      "[query_llm] What did Aurora do from 2:00 PM to 3:00 PM on 2022/02/21?\n",
      "[query_llm] Natalie's attendance duration for Volunteer work on 2022/03/01\n",
      "[query_llm] Elsie Speed dating event 2022/10/12\n",
      "[query_llm] Georgia Escape Room 2022/06/24\n",
      "[query_llm] Anthony's attendance duration at Volleyball Tournament on 2022/11/13\n",
      "[query_llm] Isabella's schedule on 2022/12/25 from 2:00 PM to 4:00 PM\n",
      "[query_llm] Charlotte's attendance duration for Piano Recital on 2022/01/30\n",
      "LA Fitness Aquatic Center | LA Fitness Aquatic Center  => 1.0\n",
      "Millie did not attend a Wine education seminar on 2022/06/11 according to the retrieved schedule. | 6:00 PM => 0.0\n",
      "The Culinary Festival that Adrian attended on 2022/09/27 took place at The Convention Center. | The Convention Center  => 1.0\n",
      "Elsie attended the Speed Dating event on October 12th, 2022, at The Lexington NYC from 7:00 PM to 9:00 PM. | 7:00 PM => 1.0\n",
      "Anthony attended the Volleyball Tournament for 3 hours on 2022/11/13. | 3:00:00 => 1.0\n",
      "Natalie attended Volunteer work on 2022/03/01 for 4 hours. | 4:00:00 => 1.0\n",
      "Aurora did not have any scheduled events from 2:00 PM to 3:00 PM on 2022/02/21. | Meeting with a client => 0.0\n",
      "Thomas attended the Artisanal Pizza Making event on October 28, 2022, from 6:00 PM to 8:00 PM at The Urban Oven. | 6:00 PM => 1.0\n",
      "Charlotte attended the Piano Recital on 2022/01/30 for 2 hours. | 2:00:00 => 1.0\n",
      "Isabella's schedule on 2022/12/25 from 2:00 PM to 4:00 PM is not available in the retrieved data. | Batting cage practice => 0.0\n",
      "Georgia attended the Escape Room on June 24th, 2022, from 6:00 PM to 8:00 PM. | 6:00 PM => 1.0\n",
      "[query_llm] Joshua's Horseback riding duration on 2022/09/11\n",
      "[query_llm] What did Lily do from 7:00 PM to 9:00 PM on 2022/10/06?\n",
      "[query_llm] Who attended Horse race between 2:00 PM and 5:00 PM on 2022/08/14 in Santa Anita Park?\n",
      "2 hours and 30 minutes | 2:30:00 => 1.0\n",
      "[query_llm] Poetry reading location for George on 2022/09/26\n",
      "[query_llm] Emily's events on 2022/05/30\n",
      "[query_llm] Attendees of Graduation ceremony between 5:00 PM and 7:00 PM on 2022/10/22 in Stadium, University of North Carolina\n",
      "Nicholas attended the horse race event between 2:00 PM and 5:00 PM on 2022/08/14 in Santa Anita Park. | Harper => 0.0\n",
      "[query_llm] Faith's attendance duration at Brewery tasting room on 2022/12/06\n",
      "[query_llm] Amelia's schedule on 2022/02/23 from 4:00 PM to 6:00 PM\n",
      "[query_llm] Location of the Charity auction that Willow attended on 2022/06/25\n",
      "[query_llm] Grace Broadway Show attendance on 2022/02/17\n",
      "Emily did not attend 'Visit to historic landmark' on 2022/05/30 as per the retrieved information. | 10:00 AM => 0.0\n",
      "Freya and her fellow graduates attended the Graduation ceremony between 5:00 PM and 7:00 PM on 2022/10/22 in Stadium, University of North Carolina. | Freya => 0.5\n",
      "Action 1: {\"tool_name\":\"RETRIEVE\",\"tool_input_query\":\"Poetry reading location for George on 2022/09/26\"}\n",
      "\n",
      "Result 1: George will be hosting a poetry reading at The Poetry Foundation on September 26, 2022 starting at 6:30 PM and ending at 8:30 PM. This event will feature various poets and their works and promises to be an evening full of amazing poetry. If you're a fan of poetry or just looking for something new to experience, this event is definitely worth checking out!\n",
      "\n",
      "Action 2: {\"tool_name\":\"Finish\",\"tool_input_query\":\"The Poetry Foundation\"}\n",
      "\n",
      "Result 2: Gathered all information needed to finish the task.\n",
      "\n",
      "Answer: The Poetry Foundation | The Poetry Foundation => 1.0\n",
      "Faith attended the Brewery tasting room for 2 hours on 2022/12/06. | 2:00:00 => 1.0\n",
      "Lily's activities from 7:00 PM to 9:00 PM on 2022/10/06 are not listed in the retrieved information. | Cocktail making class => 0.0\n",
      "Sotheby's Auction House | Sotheby's Auction House => 1.0\n",
      "Amelia has no events scheduled from 4:00 PM to 6:00 PM on 2022/02/23. | Parkour Class => 0.0\n",
      "Grace attended the Broadway Show on February 17, 2022, at Richard Rogers Theater from 8:00 PM to 10:00 PM. | 8:00 PM => 1.0\n",
      "[query_llm] Amelia's activities from 07:00 PM to 09:00 PM on 2022/08/07\n",
      "[query_llm] What did Ava do from 12:00 PM to 4:00 PM on 2022/06/16?\n",
      "[query_llm] Farmers Market Visit location attended by Molly on 2022/03/05\n",
      "[query_llm] Who attended the Boxing match between 7:00 PM and 10:00 PM on 2022/11/06 in Madison Square Garden?\n",
      "[query_llm] Location of Intermediate Spanish lesson attended by Alice on 2022/05/20\n",
      "[query_llm] Aidan's attendance duration for Leadership training on 2022/09/12\n",
      "[query_llm] Who attended Coffee tasting between 10:00 AM and 11:00 AM on 2022/12/08 in Cafe Grumpy?\n",
      "[query_llm] Where did the Live podcast that Hector attended take place on 2022/06/15?\n",
      "[query_llm] Matilda's attendance duration at Food truck festival on 2022/12/26\n",
      "[query_llm] Brian's attendance duration for Movie Screening on 2022/05/22\n",
      "[query_llm] Faith's attendance at Book club meeting on 2022/03/26\n",
      "[query_llm] Layla's agenda on 2022/04/24 for the event 'Take a pottery throwing class'\n",
      "[query_llm] Model airplane flying attendance of Thomas on 2022/03/18\n",
      "[query_llm] Mia's events on 2022/01/05\n",
      "Union Square Greenmarket | Union Square Greenmarket => 1.0\n",
      "[query_llm] What did Richard do from 1:00 PM to 3:00 PM on 2022/03/26?\n",
      "Amelia's schedule does not list any activities from 07:00 PM to 09:00 PM on 2022/08/07. | Language Exchange => 0.0\n",
      "[query_llm] Ballet Performance location for Ruby on 2022/06/21\n",
      "[query_llm] What did Georgina do from 1:00 PM to 11:00 PM on 2022/05/18?\n",
      "[query_llm] What did Ava do from 9:00 AM to 5:00 PM on 2022/06/07?\n",
      "[query_llm] Robert's attendance at the Opera Performance on 2022/04/18\n",
      "Instituto Cervantes | Instituto Cervantes => 1.0\n",
      "[query_llm] What did Ava do from 2:00 PM to 4:00 PM on 2022/06/16?\n",
      "The Live podcast that Hector attended on 2022/06/15 took place at The Bell House. | The Bell House => 1.0\n",
      "Brian attended the Movie Screening for 2 hours on 2022/05/22. | 2:00:00 => 1.0\n",
      "No specific attendees are mentioned for the coffee tasting event at Cafe Grumpy on December 8, 2022, between 10:00 AM and 11:00 AM. | George => 0.0\n",
      "10:00 AM to 12:00 PM at Hobby Hangar | 10:00 AM => 1.0\n",
      "8 hours | 8:00:00 => 1.0\n",
      "Ballet Theater located in the Music Center | Ballet Theater, Music Center => 1.0\n",
      "Matilda attended the Food truck festival on 2022/12/26 for a duration of 5 hours. | 5:00:00 => 1.0\n",
      "Robert attended the Opera Performance on April 18th, 2022, at the Civic Theater. The event started at 7:00 PM and ended around 9:00 PM. | 7:00 PM => 1.0\n",
      "Mia did not attend a Choral Performance on 2022/01/05. | 1:00 PM => 0.0\n",
      "Faith attended the Book Club meeting on March 26, 2022, from 7:00 PM to 8:30 PM at the Brooklyn Public Library. | 7:00 PM => 1.0\n",
      "Ava's activities from 12:00 PM to 4:00 PM on 2022/06/16 are not available in the retrieved data. | Cooking competition => 0.0\n",
      "Spa Day scheduled from 1:00 PM to 4:00 PM at The Beverly Hills Hotel Spa on June 19, 2022. | Roller skating => 0.0\n"
     ]
    },
    {
     "name": "stderr",
     "output_type": "stream",
     "text": [
      "Processing examples:   2%|▎         | 1/40 [01:01<39:58, 61.50s/it]"
     ]
    },
    {
     "name": "stdout",
     "output_type": "stream",
     "text": [
      "Georgina did not have any events scheduled from 1:00 PM to 11:00 PM on 2022/05/18. | Oktoberfest => 0.0\n",
      "Layla attended the pottery throwing class on April 24th, 2022, from 10:00 AM to 12:00 PM at The Potter's Wheel. | 10:00 AM => 1.0\n",
      "Ava did not have any scheduled events from 9:00 AM to 5:00 PM on 2022/06/07 based on the retrieved information. | Industry conference => 0.0\n"
     ]
    },
    {
     "name": "stderr",
     "output_type": "stream",
     "text": [
      "Processing examples: 100%|██████████| 40/40 [01:08<00:00,  1.72s/it]"
     ]
    },
    {
     "name": "stdout",
     "output_type": "stream",
     "text": [
      "The information provided does not specify who attended the boxing match at Madison Square Garden on November 6, 2022. | Joseph => 0.0\n",
      "Average Score: 0.6125\n",
      "Positive examples: 24\n",
      "Negative examples: 15\n",
      "Sampling 20 positive examples and 20 negative examples\n"
     ]
    },
    {
     "name": "stderr",
     "output_type": "stream",
     "text": [
      "\n"
     ]
    },
    {
     "name": "stdout",
     "output_type": "stream",
     "text": [
      "Generated new instruction: New Instruction: \n",
      "\n",
      "To effectively accomplish the `Goal` using the provided `Tools`, it is essential to apply a structured approach that leverages both existing capabilities and enhanced features for improved performance. Begin by thoroughly analyzing the user query to identify key elements such as event, location, time, and participants. Utilize a more sophisticated NLP model to understand the context and relationships within the query, especially focusing on identifying participants and cross-referencing details. This will ensure that the retrieval logic extracts relevant information from the agenda accurately, addressing the specific needs of the query.\n",
      "\n",
      "Implement a query refinement process as a pre-processing step. Break down the user query into more specific sub-queries that can be effectively processed by the `RETRIEVE` tool. This step is critical for handling ambiguous queries, ensuring that the tool is used multiple times if necessary, with different input queries to cover all aspects of the user's request. Additionally, integrate a temporal filtering mechanism to match specific time frames and participant names, enhancing the relevance and accuracy of the outputs.\n",
      "\n",
      "Finally, incorporate an entity recognition component that can identify and match entities such as people, places, and events within both the query and the data. This will significantly improve the retrieval process for complex queries, ensuring that the output is precise and relevant. By following these enhanced strategies, the group will be able to effectively use the tools to improve performance on negative inputs, ultimately achieving the desired `Goal`.\n",
      "Best Actor: actor.predictor = Predict(StringSignature(goal, tools, question -> action_1\n",
      "    instructions=\"New Instruction: \\n\\nTo effectively accomplish the `Goal` using the provided `Tools`, it is essential to apply a structured approach that leverages both existing capabilities and enhanced features for improved performance. Begin by thoroughly analyzing the user query to identify key elements such as event, location, time, and participants. Utilize a more sophisticated NLP model to understand the context and relationships within the query, especially focusing on identifying participants and cross-referencing details. This will ensure that the retrieval logic extracts relevant information from the agenda accurately, addressing the specific needs of the query.\\n\\nImplement a query refinement process as a pre-processing step. Break down the user query into more specific sub-queries that can be effectively processed by the `RETRIEVE` tool. This step is critical for handling ambiguous queries, ensuring that the tool is used multiple times if necessary, with different input queries to cover all aspects of the user's request. Additionally, integrate a temporal filtering mechanism to match specific time frames and participant names, enhancing the relevance and accuracy of the outputs.\\n\\nFinally, incorporate an entity recognition component that can identify and match entities such as people, places, and events within both the query and the data. This will significantly improve the retrieval process for complex queries, ensuring that the output is precise and relevant. By following these enhanced strategies, the group will be able to effectively use the tools to improve performance on negative inputs, ultimately achieving the desired `Goal`.\"\n",
      "    goal = Field(annotation=str required=True json_schema_extra={'prefix': 'Goal:', 'desc': 'Task to be accomplished.', '__dspy_field_type': 'input'})\n",
      "    tools = Field(annotation=list[str] required=True json_schema_extra={'prefix': 'Tools:', 'desc': 'list of tools to use', '__dspy_field_type': 'input'})\n",
      "    question = Field(annotation=str required=True json_schema_extra={'prefix': 'Question:', 'desc': 'question to ask', 'format': <function ToolQASignature.<lambda> at 0x7fd7e337dd00>, '__dspy_field_type': 'input'})\n",
      "    action_1 = Field(annotation=Action required=True json_schema_extra={'prefix': 'Action 1:', 'desc': '1st action to take.', '__dspy_field_type': 'output'})\n",
      "))\n",
      "actor_clone.predictor = Predict(StringSignature(goal, tools, question -> action_1\n",
      "    instructions=\"New Instruction: \\n\\nTo effectively accomplish the `Goal` using the provided `Tools`, it is essential to apply a structured approach that leverages both existing capabilities and enhanced features for improved performance. Begin by thoroughly analyzing the user query to identify key elements such as event, location, time, and participants. Utilize a more sophisticated NLP model to understand the context and relationships within the query, especially focusing on identifying participants and cross-referencing details. This will ensure that the retrieval logic extracts relevant information from the agenda accurately, addressing the specific needs of the query.\\n\\nImplement a query refinement process as a pre-processing step. Break down the user query into more specific sub-queries that can be effectively processed by the `RETRIEVE` tool. This step is critical for handling ambiguous queries, ensuring that the tool is used multiple times if necessary, with different input queries to cover all aspects of the user's request. Additionally, integrate a temporal filtering mechanism to match specific time frames and participant names, enhancing the relevance and accuracy of the outputs.\\n\\nFinally, incorporate an entity recognition component that can identify and match entities such as people, places, and events within both the query and the data. This will significantly improve the retrieval process for complex queries, ensuring that the output is precise and relevant. By following these enhanced strategies, the group will be able to effectively use the tools to improve performance on negative inputs, ultimately achieving the desired `Goal`.\"\n",
      "    goal = Field(annotation=str required=True json_schema_extra={'prefix': 'Goal:', 'desc': 'Task to be accomplished.', '__dspy_field_type': 'input'})\n",
      "    tools = Field(annotation=list[str] required=True json_schema_extra={'prefix': 'Tools:', 'desc': 'list of tools to use', '__dspy_field_type': 'input'})\n",
      "    question = Field(annotation=str required=True json_schema_extra={'prefix': 'Question:', 'desc': 'question to ask', 'format': <function ToolQASignature.<lambda> at 0x7fd7e337dd00>, '__dspy_field_type': 'input'})\n",
      "    action_1 = Field(annotation=Action required=True json_schema_extra={'prefix': 'Action 1:', 'desc': '1st action to take.', '__dspy_field_type': 'output'})\n",
      "))\n"
     ]
    }
   ],
   "source": [
    "optimized_actor_agent = teleprompter.compile(\n",
    "    student=actor_agent,\n",
    "    trainset=toolqa_train\n",
    ")"
   ]
  },
  {
   "cell_type": "markdown",
   "metadata": {},
   "source": [
    "Now we can evaluate our actor module, for this we've provided an implementation of thread safe evaluator that we above as part of class method of `AvatarOptimizer`."
   ]
  },
  {
   "cell_type": "code",
   "execution_count": 18,
   "metadata": {},
   "outputs": [
    {
     "name": "stderr",
     "output_type": "stream",
     "text": [
      "Processing examples:   0%|          | 0/60 [00:00<?, ?it/s]"
     ]
    },
    {
     "name": "stdout",
     "output_type": "stream",
     "text": [
      "[query_llm] Phoebe's attendance at the Food festival on 2022/01/10\n",
      "[query_llm] What did Daisy do from 11:00 PM to 1:00 AM on 2022/02/01?\n",
      "[query_llm] Willow's attendance duration for Summer camp informational session on 2022/04/02\n",
      "[query_llm] Where did Movie Night that Hector attended take place on 2022/06/03?\n",
      "[query_llm] Georgia's events on 2022/06/22\n",
      "[query_llm] What did Adam do from 7:00 PM to 9:00 PM on 2022/10/27?\n",
      "[query_llm] Faith's attendance at the Ice hockey game on 2022/10/04\n",
      "[query_llm] Patrick's events on 2022/02/22, specifically looking for Landscape photography workshop attendance\n",
      "[query_llm] Brian's attendance duration at Happy Hour on 2022/06/20\n",
      "[query_llm] What did Alice do from 6:00 PM to 9:00 PM on 2022/07/28?\n",
      "[query_llm] Who attended Star Gazing between 8:00 PM and 11:00 PM on 2022/08/23 in Observatory, Griffith Park Observatory?\n",
      "[query_llm] Albert's schedule for 2022/08/11\n",
      "[query_llm] Benjamin's attendance at Movie night on 2022/10/21\n",
      "[query_llm] Historical Tour location for Matilda on 2022/12/13\n",
      "[query_llm] Georgina's attendance at Corporate Social Responsibility Conference on 2022/04/23\n",
      "[query_llm] What did Anthony do from 8:00 AM to 10:00 AM on 2022/09/04?\n",
      "Faith did not attend an Ice hockey game on 2022/10/04. | 7:00 PM => 0.0\n",
      "6:00 PM to 9:00 PM | 6:00 PM => 0.5\n",
      "1.5 hours | 1:30:00 => 1.0\n",
      "Daisy did not have any events scheduled from 11:00 PM to 1:00 AM on 2022/02/01 based on the retrieved information. | Late Night Movie => 0.0\n",
      "Adam has no recorded events from 7:00 PM to 9:00 PM on 2022/10/27. | Join a public speaking class => 0.0\n",
      "Adrian | Adrian => 1.0\n",
      "Albert did not attend Youth talent showcase on 2022/08/11. | 5:00 PM => 0.0\n",
      "Benjamin attended Movie night on 2022/10/21 at AMC Theatres from 8:30 PM to 10:30 PM. | 8:30 PM => 1.0\n",
      "Local History Museum | Local History Museum => 1.0\n",
      "Brian attended Happy Hour for 2 hours on 2022/06/20. | 2:00:00 => 1.0\n",
      "[query_llm] Henry's attendance duration for Chili cook-off on 2022/03/21\n",
      "The Movie Night that Hector attended on 2022/06/03 took place on the rooftop of The Standard Hotel. | The Standard Hotel rooftop  => 1.0\n",
      "Alice's activities from 6:00 PM to 9:00 PM on 2022/07/28 are not listed in the retrieved information. | Fashion Show => 0.0\n",
      "Georgina is scheduled to attend the Corporate Social Responsibility Conference on April 23rd, 2022. | 10:00 AM => 0.0\n",
      "[query_llm] William's schedule on 2022/01/17\n",
      "[query_llm] Who attended the Historical lecture between 7:00 PM and 9:00 PM on 2022/11/29 in The New-York Historical Society?\n",
      "[query_llm] What did Andrew do from 6:00 PM to 8:00 PM on 2022/08/23 in the agenda table?\n",
      "Patrick attended the Landscape Photography Workshop on February 22, 2022, from 8:00 AM to 11:00 AM at Central Park. | 8:00 AM => 1.0\n",
      "[query_llm] How long did Albert attend Conference Call on 2022/04/24?\n",
      "No events are scheduled for Anthony from 8:00 AM to 10:00 AM on 2022/09/04. | Classic Car Show => 0.0\n",
      "[query_llm] George's Tennis lesson duration on 2022/06/22\n",
      "[query_llm] James' activities from 9:00 AM to 11:00 AM on 2022/02/02\n",
      "[query_llm] How long did Daisy attend Jazz Performance on 2022/02/05?\n",
      "[query_llm] Attendees of Poetry reading between 7:00 PM and 9:00 PM on 2022/04/07 at Beyond Baroque\n",
      "[query_llm] Charlotte's schedule from 4:00 PM to 5:30 PM on 2022/10/31\n",
      "[query_llm] Felix's attendance details for Live piano performance on 2022/03/30\n",
      "Henry attended the Chili cook-off for 3 hours on 2022/03/21. | 3:00:00 => 1.0\n",
      "[query_llm] Who attended Art exhibit opening reception between 5:00 PM and 7:00 PM on 2022/08/01 in Locust Projects, Design District?\n",
      "Albert attended the Conference Call for 1 hour on 2022/04/24. | 1:00:00 => 1.0\n",
      "No attendees are mentioned for the Historical lecture between 7:00 PM and 9:00 PM on 2022/11/29 at The New-York Historical Society. | Henry => 0.0\n",
      "[query_llm] When did Georgina attend Pet grooming session on 2022/04/18?\n",
      "Andrew has no events scheduled from 6:00 PM to 8:00 PM on 2022/08/23 in the agenda table. | Fashion show => 0.0\n",
      "Daisy attended the Jazz Performance on February 5th, 2022 for three hours. | 3:00:00 => 1.0\n",
      "George attended the Tennis lesson for 1 hour on 2022/06/22. | 1:00:00 => 1.0\n",
      "Charlotte | Charlotte => 1.0\n",
      "[query_llm] What did Thomas do from 8:00 PM to 10:00 PM on 2022/10/03?\n",
      "Charlotte had a dentist appointment from 4:00 PM to 5:00 PM on 2022/10/31. | Cooking Class => 0.0\n",
      "James had no activities scheduled from 9:00 AM to 11:00 AM on 2022/02/02 as per the retrieved information. | Business meeting => 0.0\n",
      "Felix attended the Live piano performance on March 30th, 2022, from 7:00 PM to 9:00 PM at The Piano Bar. | 7:00 PM => 1.0\n",
      "William did not attend a Music concert on 2022/01/17 based on the retrieved schedule. | 8:00 PM => 0.0\n",
      "[query_llm] What did Grace do from 8:00 PM to 9:30 PM on 2022/08/01?\n",
      "[query_llm] What did Matilda do from 7:30 PM to 9:30 PM on 2022/03/25 in the agenda table?\n",
      "[query_llm] Adam's attendance duration for the Breakfast meeting on 2022/05/07\n",
      "[query_llm] Robotics seminar location for Esme on 2022/09/13\n",
      "1:00 PM to 2:00 PM on April 18th, 2022 | 1:00 PM => 1.0\n",
      "[query_llm] Emily's attendance at Jazz concert on 2022/06/15\n",
      "[query_llm] Isabella's schedule from 2:00 PM to 3:00 PM on 2022/12/03\n",
      "Sophia hosted the art exhibit opening reception at Locust Projects, Design District on August 1st, 2022, but the attendees are not listed in the retrieved information. | Sophia => 0.0\n",
      "[query_llm] Where did the Chess club meeting that Victoria attended take place on 2022/06/13?\n",
      "[query_llm] Willow's schedule on 2022/09/26 for Intermediate Spanish conversation class\n",
      "[query_llm] Attendees of Wine Tasting event at City Winery between 5:00 PM and 7:00 PM on 2022/05/23\n",
      "University Auditorium | University Auditorium => 1.0\n",
      "Adam attended the Breakfast meeting for 1 hour and 30 minutes on 2022/05/07. | 1:30:00 => 1.0\n",
      "[query_llm] Attendees of Wine and Paint Event between 6:00 PM and 8:00 PM on 2022/04/10 in Art Studio Downtown\n",
      "Matilda did not have any scheduled events from 7:30 PM to 9:30 PM on 2022/03/25. | Opera show => 0.0\n"
     ]
    },
    {
     "name": "stderr",
     "output_type": "stream",
     "text": [
      "Processing examples:   2%|▏         | 1/60 [00:53<52:46, 53.67s/it]"
     ]
    },
    {
     "name": "stdout",
     "output_type": "stream",
     "text": [
      "Thomas did not have any scheduled events from 8:00 PM to 10:00 PM on 2022/10/03. | Star-gazing => 0.0\n",
      "The Chess club meeting that Victoria attended on 2022/06/13 took place at The Chess Forum. | The Chess Forum => 1.0\n",
      "There is no information available for what Grace did from 8:00 PM to 9:30 PM on 2022/08/01 in the provided data. | Stand-up comedy show => 0.0\n",
      "Emily attended the Jazz concert on June 15, 2022, at The Jazz Lounge from 8:00 PM to 10:00 PM. | 8:00 PM => 1.0\n",
      "Willow attended the Intermediate Spanish conversation class on 2022/09/26 from 11:00 AM to 1:00 PM. | 11:00 AM => 1.0\n",
      "There is no record of a Wine Tasting event at City Winery on 2022/05/23 between 5:00 PM and 7:00 PM. | Penelope => 0.0\n",
      "The available data does not mention any specific attendees for the Wine and Paint Event on April 10th, 2022, at the Art Studio Downtown. | Benjamin => 0.0\n",
      "[query_llm] Daniel's Dance Class attendance duration on 2022/06/24\n",
      "[query_llm] Charles' attendance duration for 'Watch a baseball game' on 2022/05/21\n",
      "3 hours | 3:00:00 => 1.0\n",
      "[query_llm] Millie's attendance duration for Theatre play on 2022/12/07\n",
      "[query_llm] Brian's agenda on 2022/06/30 for Car maintenance check\n",
      "I could not find any information about Daniel's Dance Class attendance on 2022/06/24 in the provided data. | 1:00:00 => 0.0\n",
      "[query_llm] Georgina's attendance at Indie film festival on 2022/04/30\n",
      "[query_llm] Daisy's attendance duration for Stand-up paddleboarding lesson on 2022/10/19\n",
      "[query_llm] Who attended Photography Class between 11:00 AM and 1:00 PM on 2022/03/09 in The Camera Store?\n",
      "Millie attended the theatre play for 2 hours on 2022/12/07. | 2:00:00 => 1.0\n",
      "[query_llm] Aidan's attendance for Bird-watching tour on 2022/12/09\n",
      "[query_llm] Floral design session location for Emily on 2022/09/30\n",
      "[query_llm] What did Elizabeth do from 7:30 PM to 10:00 PM on 2022/06/29?\n",
      "[query_llm] Who attended Gym workout between 2:00 PM and 3:00 PM on 2022/03/15 in CrossFit Fitness?\n",
      "[query_llm] Phillip's attendance for Creative writing workshop on 2022/06/28\n",
      "[query_llm] Madison's attendance at Stand-up comedy show on 2022/10/11\n",
      "[query_llm] Daisy's attendance duration at Public policy conference on 2022/02/25\n",
      "[query_llm] Who attended Aquarium visit between 10:00 AM and 5:00 PM on 2022/07/06 in New England Aquarium?\n",
      "[query_llm] Emily's activities from 7:00 PM to 9:30 PM on 2022/02/07\n",
      "[query_llm] Isabella's attendance at the Photography workshop on 2022/05/06\n",
      "[query_llm] Aurora's attendance duration for Dreamcatcher-making workshop on 2022/01/24\n",
      "[query_llm] Isabella's schedule from 2:00 PM to 3:00 PM on 2022/12/03\n",
      "[query_llm] Georgia's Move-in day on 2022/06/22\n",
      "[query_llm] Martial arts class location for Lily on 2022/10/11\n",
      "[query_llm] Fun run event location for Zara on 2022/02/19\n",
      "Daisy attended the stand-up paddleboarding lesson for 1 hour on 2022/10/19. | 1:00:00 => 1.0\n",
      "Brian attended a car maintenance check on June 30th, 2022, from 9:00 AM to 11:00 AM at Quick Lube. | 9:00 AM => 1.0\n",
      "Chloe attended the Photography Class between 11:00 AM and 1:00 PM on 2022/03/09 in The Camera Store. | Chloe => 1.0\n",
      "Garden Collage | Garden Collage => 1.0\n",
      "Aidan attended the Bird-watching tour on December 9th, 2022, from 8:00 AM to 10:00 AM in Central Park. | 8:00 AM => 1.0\n",
      "Georgina attended the Indie film festival on April 30th, 2022, from 12:00 PM to 10:00 PM. | 12:00 PM => 1.0\n",
      "Elizabeth's schedule for 2022/06/29 from 7:30 PM to 10:00 PM is not available in the provided data. | Opera performance => 0.0\n",
      "Aurora attended the Dreamcatcher-making workshop for 2 hours on 2022/01/24. | 2:00:00 => 1.0\n",
      "Daisy attended the Public Policy Conference on February 25, 2022, for a total of 8 hours. | 8:00:00 => 1.0\n",
      "Isabella did not attend a Photography workshop on 2022/05/06. | 12:00 PM => 0.0\n",
      "Brian attended the Gym workout between 2:00 PM and 3:00 PM on 2022/03/15 at CrossFit Fitness. | Brian => 1.0\n",
      "Georgina attended the Aquarium visit between 10:00 AM and 5:00 PM on 2022/07/06 in New England Aquarium. | Georgina => 1.0\n",
      "Madison attended the Stand-up comedy show on October 11th, 2022, from 8:00 PM to 10:00 PM at the Comedy Cellar. | 8:00 PM => 1.0\n"
     ]
    },
    {
     "name": "stderr",
     "output_type": "stream",
     "text": [
      "Processing examples:  10%|█         | 6/60 [01:12<08:51,  9.85s/it]"
     ]
    },
    {
     "name": "stdout",
     "output_type": "stream",
     "text": [
      "Georgia attended Move-in day on 2022/06/22 from 9:00 AM to 5:00 PM. | 9:00 AM => 0.5\n",
      "[query_llm] Emily's activities on February 7th, 2022 between 7:00 PM and 9:30 PM\n",
      "Phillip attended the Creative writing workshop on June 28th, 2022, from 6:00 PM to 8:00 PM. | 6:00 PM => 1.0\n",
      "The Fun Run Trail | The Fun Run Trail => 1.0\n"
     ]
    },
    {
     "name": "stderr",
     "output_type": "stream",
     "text": [
      "Processing examples:  18%|█▊        | 11/60 [01:14<03:47,  4.64s/it]"
     ]
    },
    {
     "name": "stdout",
     "output_type": "stream",
     "text": [
      "There is no information available about Isabella's activities from 2:00 PM to 3:00 PM on 2022/12/03. | Ballet class => 0.0\n",
      "The Martial Arts class that Lily attended on 2022/10/11 took place at The Martial Arts Academy. | The Martial Arts Academy => 1.0\n"
     ]
    },
    {
     "name": "stderr",
     "output_type": "stream",
     "text": [
      "Processing examples: 100%|██████████| 60/60 [01:15<00:00,  1.26s/it]"
     ]
    },
    {
     "name": "stdout",
     "output_type": "stream",
     "text": [
      "Emily's activities from 7:00 PM to 9:30 PM on 2022/02/07 are not available in the provided data. | Board game night => 0.0\n"
     ]
    },
    {
     "name": "stderr",
     "output_type": "stream",
     "text": [
      "\n"
     ]
    },
    {
     "data": {
      "text/plain": [
       "0.6"
      ]
     },
     "execution_count": 18,
     "metadata": {},
     "output_type": "execute_result"
    }
   ],
   "source": [
    "teleprompter.thread_safe_evaluator(toolqa_test, actor_agent)"
   ]
  },
  {
   "cell_type": "markdown",
   "metadata": {},
   "source": [
    "## ReAct"
   ]
  },
  {
   "cell_type": "code",
   "execution_count": 22,
   "metadata": {},
   "outputs": [],
   "source": [
    "from langchain_core.tools import Tool\n",
    "from langchain_community.utilities import GoogleSerperAPIWrapper, ArxivAPIWrapper, WikipediaAPIWrapper\n",
    "\n",
    "\n",
    "tools = [\n",
    "    Tool(\n",
    "        func=StructuredTool.from_function(RETRIEVE),\n",
    "        name=\"RETRIEVE\",\n",
    "        description=\"If you want to search for some personal agenda information, you can use this tool and input a natural language query. For example, RETRIEVE('What is the Jessica's genda on March 7th, 2023?') returns 'Jessica has a job interview scheduled for July 26th, 2022 at 1 PM...'.\"\n",
    "    ),\n",
    "    Tool(\n",
    "        func=GoogleSerperAPIWrapper().run,\n",
    "        name=\"WEB_SEARCH\",\n",
    "        description=\"If you have a question, you can use this tool to search the web for the answer.\"\n",
    "    )\n",
    "]"
   ]
  },
  {
   "cell_type": "code",
   "execution_count": 20,
   "metadata": {},
   "outputs": [],
   "source": [
    "from langchain import hub\n",
    "from langchain.agents import AgentExecutor, create_react_agent, load_tools\n",
    "from langchain_openai import ChatOpenAI\n",
    "from langchain_community.utilities import GoogleSerperAPIWrapper\n",
    "from langchain_core.tools import Tool\n",
    "\n",
    "llm = ChatOpenAI(\n",
    "    model_name=\"gpt-4o\",\n",
    "    temperature=0.0\n",
    ")\n",
    "prompt = hub.pull(\"hwchase17/react\")\n",
    "\n",
    "agent = create_react_agent(llm, tools, prompt)\n",
    "agent_executor = AgentExecutor(agent=agent, tools=tools, verbose=False, handle_parsing_errors=True)\n",
    "\n",
    "def metric(example, prediction, trace=None):\n",
    "    return int(\n",
    "        evaluator(\n",
    "            question=example.question,\n",
    "            answer=prediction[\"output\"],\n",
    "            reference_answer=example.answer\n",
    "        ).is_correct\n",
    "    )\n",
    "\n",
    "def get_metric_value(example):\n",
    "    prediction = agent_executor.invoke(\n",
    "        {\n",
    "            \"input\": example.question\n",
    "        }\n",
    "    )\n",
    "    return metric(example, prediction)\n",
    "\n",
    "def process_example(example):\n",
    "    try:\n",
    "        return get_metric_value(example)\n",
    "    except Exception as e:\n",
    "        print(e)\n",
    "        return 0\n",
    "\n",
    "def multi_thread_executor(test_set, num_threads=100):\n",
    "    total_score = 0\n",
    "    total_examples = len(test_set)\n",
    "\n",
    "    with ThreadPoolExecutor(max_workers=num_threads) as executor:\n",
    "        futures = [executor.submit(process_example, example) for example in test_set]\n",
    "\n",
    "        for future in tqdm.tqdm(futures, total=total_examples, desc=\"Processing examples\"):\n",
    "            total_score += future.result()\n",
    "\n",
    "    avg_metric = total_score / total_examples\n",
    "    return avg_metric"
   ]
  },
  {
   "cell_type": "code",
   "execution_count": 21,
   "metadata": {},
   "outputs": [
    {
     "name": "stderr",
     "output_type": "stream",
     "text": [
      "Processing examples:   0%|          | 0/60 [00:00<?, ?it/s]"
     ]
    },
    {
     "name": "stdout",
     "output_type": "stream",
     "text": [
      "[query_llm] When did Benjamin attend Movie night on 2022/10/21?\n",
      "[query_llm] What is Emily's agenda on February 7th, 2022?\n",
      "[query_llm] What is George's agenda on June 22, 2022?\n",
      "[query_llm] What is Georgina's agenda on April 30th, 2022?\n",
      "[query_llm] Who attended Poetry reading between 7:00 PM and 9:00 PM on 2022/04/07 in Beyond Baroque?\n",
      "[query_llm] What is Alice's agenda on July 28th, 2022, from 6:00 PM to 9:00 PM?\n",
      "[query_llm] What is Millie's agenda on December 7th, 2022?\n",
      "[query_llm] What is Hector's agenda on June 3rd, 2022?\n",
      "[query_llm] What is Isabella's agenda on December 3rd, 2022?\n",
      "[query_llm] What is Georgia's agenda on June 22, 2022?\n",
      "[query_llm] What is Georgina's agenda on April 18th, 2022?\n",
      "[query_llm] When did Brian attend Car maintenance check on 2022/06/30?\n",
      "[query_llm] What is Patrick's agenda on February 22, 2022?\n",
      "[query_llm] What is Aurora's agenda on January 24th, 2022?\n",
      "[query_llm] What is George's agenda on June 22, 2022?\n",
      "[query_llm] What is Elizabeth's agenda on June 29th, 2022?\n",
      "[query_llm] When did Georgina attend Corporate Social Responsibility Conference on 2022/04/23?\n",
      "[query_llm] What is Daisy's agenda on October 19th, 2022?\n",
      "[query_llm] Who attended Aquarium visit between 10:00 AM and 5:00 PM on 2022/07/06 in New England Aquarium?\n",
      "[query_llm] What is Daniel's agenda on June 24th, 2022?\n",
      "[query_llm] What is Aidan's agenda on December 9th, 2022?\n",
      "[query_llm] Who attended Art exhibit opening reception between 5:00 PM and 7:00 PM on 2022/08/01 in Locust Projects, Design District?\n",
      "[query_llm] When did Willow attend Intermediate Spanish conversation class on 2022/09/26?\n",
      "[query_llm] What is Thomas's agenda on October 3rd, 2022?\n",
      "[query_llm] What is Albert's agenda on August 11th, 2022?\n",
      "[query_llm] When did Isabella attend Photography workshop on 2022/05/06?\n",
      "[query_llm] What is James's agenda on February 2nd, 2022?\n",
      "[query_llm] Where did the Fun run that Zara attended take place on 2022/02/19?\n",
      "[query_llm] Who attended Gym workout between 2:00 PM and 3:00 PM on 2022/03/15 in CrossFit Fitness?\n",
      "[query_llm] What is Adam's agenda on May 7th, 2022?\n",
      "[query_llm] What is Henry's agenda on March 21st, 2022?\n",
      "[query_llm] What is Georgia's agenda on June 22, 2022, specifically regarding Move-in day?\n",
      "[query_llm] What is Daisy's agenda on February 25th, 2022?\n",
      "[query_llm] When did Emily attend Jazz concert on 2022/06/15?\n",
      "[query_llm] Who attended Star Gazing between 8:00 PM and 11:00 PM on 2022/08/23 in Observatory, Griffith Park Observatory?\n",
      "[query_llm] What is Charlotte's agenda on October 31, 2022, from 4:00 PM to 5:30 PM?\n",
      "[query_llm] What is Phoebe's agenda on January 10th, 2022?\n",
      "[query_llm] Who attended Photography Class between 11:00 AM and 1:00 PM on 2022/03/09 in The Camera Store?\n",
      "[query_llm] Who attended Wine and Paint Event between 6:00 PM and 8:00 PM on 2022/04/10 in Art Studio Downtown?\n",
      "[query_llm] What is Esme's agenda on September 13th, 2022?\n",
      "[query_llm] What is Andrew's agenda on August 23, 2022, from 6:00 PM to 8:00 PM?\n",
      "[query_llm] What is Daisy's agenda on February 1st, 2022, from 11:00 PM to 1:00 AM?\n",
      "[query_llm] When did Faith attend Ice hockey game on 2022/10/04?\n",
      "[query_llm] What is Anthony's agenda on September 4th, 2022?\n",
      "[query_llm] Where did the Floral design session that Emily attended take place on 2022/09/30?\n",
      "[query_llm] Did Patrick attend a Landscape photography workshop on February 22, 2022?\n",
      "[query_llm] Where did the Chess club meeting that Victoria attended take place on 2022/06/13?\n",
      "[query_llm] What is Hector's agenda on June 3rd, 2022?\n",
      "[query_llm] Who attended Wine Tasting between 5:00 PM and 7:00 PM on 2022/05/23 in City Winery?\n",
      "[query_llm] What is Brian's agenda on June 20th, 2022?\n",
      "[query_llm] What is Charles's agenda on May 21, 2022?\n",
      "[query_llm] Who attended the Historical lecture between 7:00 PM and 9:00 PM on 2022/11/29 in The New-York Historical Society?\n",
      "[query_llm] What did Grace do from 8:00 PM to 9:30 PM on 2022/08/01?\n",
      "[query_llm] Where did Lily's martial arts class take place on 2022/10/11?\n",
      "[query_llm] When did Phillip attend Creative writing workshop on 2022/06/28?\n",
      "[query_llm] When did Georgina attend a pet grooming session on April 18th, 2022?\n",
      "[query_llm] When did William attend Music concert on 2022/01/17?\n",
      "[query_llm] What did Alice do from 6:00 PM to 9:00 PM on July 28th, 2022?\n",
      "[query_llm] What is Matilda's agenda on March 25th, 2022?\n",
      "[query_llm] What is Albert's agenda on April 24th, 2022?\n",
      "[query_llm] What is Matilda's agenda on December 13th, 2022?\n",
      "[query_llm] What is Daisy's agenda on February 5th, 2022?\n",
      "[query_llm] What did Adam do from 7:00 PM to 9:00 PM on 2022/10/27?\n",
      "[query_llm] What is Willow's agenda on April 2nd, 2022?\n",
      "[query_llm] What is Felix's agenda on March 30th, 2022?\n",
      "[query_llm] When did Madison attend Stand-up comedy show on 2022/10/11?\n",
      "[query_llm] What did Emily do from 7:00 PM to 9:30 PM on February 7th, 2022?\n",
      "[query_llm] What is Isabella's agenda on December 3rd, 2022?\n",
      "[query_llm] What is Millie's agenda on December 7th, 2022?\n",
      "[query_llm] What is Aurora's agenda on January 24th, 2022, specifically regarding the Dreamcatcher-making workshop?\n",
      "[query_llm] What is Daisy's agenda on October 19th, 2022, specifically regarding the stand-up paddleboarding lesson?\n",
      "[query_llm] What did Thomas do from 8:00 PM to 10:00 PM on October 3rd, 2022?\n",
      "[query_llm] What is Albert's agenda on August 11th, 2022?\n",
      "[query_llm] What is Aidan's agenda on December 9th, 2022?\n",
      "[query_llm] What did Elizabeth do from 7:30 PM to 10:00 PM on June 29th, 2022?\n"
     ]
    },
    {
     "name": "stderr",
     "output_type": "stream",
     "text": [
      "Processing examples:   2%|▏         | 1/60 [01:59<1:57:38, 119.64s/it]"
     ]
    },
    {
     "name": "stdout",
     "output_type": "stream",
     "text": [
      "[query_llm] What is Henry's agenda on March 21st, 2022, specifically regarding the Chili cook-off?\n",
      "[query_llm] What is Esme's agenda on September 13th, 2022, specifically regarding the Robotics seminar?\n",
      "[query_llm] What is Charlotte's agenda on October 31, 2022, from 4:00 PM to 5:30 PM?\n",
      "[query_llm] What is Daisy's agenda on February 1st, 2022, from 11:00 PM to 1:00 AM?\n",
      "[query_llm] What did Matilda do from 7:30 PM to 9:30 PM on March 25th, 2022?\n",
      "[query_llm] What did Anthony do from 8:00 AM to 10:00 AM on September 4th, 2022?\n",
      "[query_llm] What did Grace do from 8:00 PM to 9:30 PM on August 1st, 2022?\n",
      "[query_llm] What is Charles's agenda for attending a baseball game on May 21, 2022?\n",
      "[query_llm] What is Brian's agenda on June 20th, 2022?\n",
      "[query_llm] What is Matilda's agenda on December 13th, 2022?\n",
      "[query_llm] What is Daisy's agenda on February 5th, 2022?\n",
      "[query_llm] What is Albert's agenda on April 24th, 2022?\n",
      "[query_llm] What did Adam do from 7:00 PM to 9:00 PM on October 27, 2022?\n",
      "[query_llm] What did Emily do from 7:00 PM to 9:30 PM on February 7th, 2022?\n",
      "[query_llm] Attendees of Wine Tasting on 2022/05/23 at City Winery between 5:00 PM and 7:00 PM\n"
     ]
    },
    {
     "name": "stderr",
     "output_type": "stream",
     "text": [
      "Processing examples:  38%|███▊      | 23/60 [02:11<01:40,  2.73s/it]  "
     ]
    },
    {
     "name": "stdout",
     "output_type": "stream",
     "text": [
      "[query_llm] What is Albert's agenda on April 24th, 2022?\n"
     ]
    },
    {
     "name": "stderr",
     "output_type": "stream",
     "text": [
      "Processing examples:  48%|████▊     | 29/60 [02:27<01:04,  2.09s/it]"
     ]
    },
    {
     "name": "stdout",
     "output_type": "stream",
     "text": [
      "[query_llm] What did Andrew do on August 23, 2022, from 6:00 PM to 8:00 PM?\n"
     ]
    },
    {
     "name": "stderr",
     "output_type": "stream",
     "text": [
      "Processing examples: 100%|██████████| 60/60 [02:56<00:00,  2.93s/it]\n"
     ]
    },
    {
     "data": {
      "text/plain": [
       "0.38333333333333336"
      ]
     },
     "execution_count": 21,
     "metadata": {},
     "output_type": "execute_result"
    }
   ],
   "source": [
    "multi_thread_executor(toolqa_test)"
   ]
  }
 ],
 "metadata": {
  "kernelspec": {
   "display_name": "stark11",
   "language": "python",
   "name": "python3"
  },
  "language_info": {
   "codemirror_mode": {
    "name": "ipython",
    "version": 3
   },
   "file_extension": ".py",
   "mimetype": "text/x-python",
   "name": "python",
   "nbconvert_exporter": "python",
   "pygments_lexer": "ipython3",
   "version": "3.11.9"
  }
 },
 "nbformat": 4,
 "nbformat_minor": 2
}
