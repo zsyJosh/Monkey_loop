{
 "cells": [
  {
   "cell_type": "code",
   "execution_count": 1,
   "metadata": {},
   "outputs": [],
   "source": [
    "HF_USR_NAME = 'shirwu'\n",
    "TOOL_QA_ROOT = ''"
   ]
  },
  {
   "cell_type": "markdown",
   "metadata": {},
   "source": [
    "### Upload to Huggingface"
   ]
  },
  {
   "cell_type": "code",
   "execution_count": 2,
   "metadata": {},
   "outputs": [],
   "source": [
    "import pandas as pd\n",
    "from datasets import Dataset\n",
    "from datasets import DatasetDict\n",
    "\n",
    "level = 'hard'\n",
    "dataset = 'agenda'\n",
    "\n",
    "dataset_dir = f'{dataset}-{level}.jsonl'\n",
    "hf_dataset_name = f'toolqa_{dataset}_{level}'\n",
    "\n",
    "df = pd.read_json(dataset_dir, lines=True)\n",
    "df.head()\n",
    "\n",
    "df['answer'] = df['answer'].apply(lambda x: str(x))\n",
    "dataset = Dataset.from_pandas(df)"
   ]
  },
  {
   "cell_type": "code",
   "execution_count": 3,
   "metadata": {},
   "outputs": [],
   "source": [
    "dataset_dict = DatasetDict({'train': dataset})\n",
    "# push to hf for the ease for using dspy\n",
    "# dataset_dict.push_to_hub(repo_id=hf_dataset_name, private=True)"
   ]
  },
  {
   "cell_type": "markdown",
   "metadata": {},
   "source": [
    "## Setting Up\n",
    "\n",
    "* ToolQA\n",
    "\n",
    "Before loading our datasets and going to the execution part, we'll need to configure the `lm` in `dspy.settings`. For the purpose of this notebook we'll be using `gpt-4o`."
   ]
  },
  {
   "cell_type": "code",
   "execution_count": 4,
   "metadata": {},
   "outputs": [],
   "source": [
    "import os\n",
    "import dspy\n",
    "import warnings\n",
    "warnings.simplefilter(\"ignore\", UserWarning)\n",
    "warnings.simplefilter(\"ignore\", FutureWarning)\n",
    "\n",
    "\n",
    "dspy.settings.configure(\n",
    "    lm=dspy.OpenAI(\n",
    "        model=\"gpt-4o\",\n",
    "        api_key=os.getenv(\"OPENAI_API_KEY\"),\n",
    "        max_tokens=4000,\n",
    "        temperature=0\n",
    "    )\n",
    ")"
   ]
  },
  {
   "cell_type": "markdown",
   "metadata": {},
   "source": [
    "## Defining Signature"
   ]
  },
  {
   "cell_type": "code",
   "execution_count": 5,
   "metadata": {},
   "outputs": [],
   "source": [
    "class ToolQASignature(dspy.Signature):\n",
    "    \"\"\"You will be given a question. Your task is to answer the question with a short response. For example, (1) Question: \\'How many dates in the agenda table have Alexander scheduled?\\' => Answer: \\'73\\' (2) Question: \\'What events does Jade have on 2022/01/25 in the agenda table?\\' => Answer: \\'Kids concert\\'\n",
    "    \"\"\"\n",
    "    \n",
    "    question: str = dspy.InputField(\n",
    "        prefix=\"Question:\",\n",
    "        desc=\"question to ask\",\n",
    "        format=lambda x: x.strip(),\n",
    "    )\n",
    "    answer: str = dspy.OutputField(\n",
    "        prefix=\"Answer:\",\n",
    "        desc=\"answer to the question\",\n",
    "    )\n"
   ]
  },
  {
   "cell_type": "markdown",
   "metadata": {},
   "source": [
    "## Loading Datasets"
   ]
  },
  {
   "cell_type": "code",
   "execution_count": 6,
   "metadata": {},
   "outputs": [],
   "source": [
    "from random import sample\n",
    "from dspy.datasets import DataLoader\n",
    "\n",
    "dl = DataLoader()"
   ]
  },
  {
   "cell_type": "code",
   "execution_count": 7,
   "metadata": {},
   "outputs": [],
   "source": [
    "tool_qa = dl.from_huggingface(\n",
    "    f'{HF_USR_NAME}/' + hf_dataset_name,\n",
    "    split=\"train\",\n",
    "    input_keys=(\"question\", \"answer\"),\n",
    ")"
   ]
  },
  {
   "cell_type": "code",
   "execution_count": 8,
   "metadata": {},
   "outputs": [
    {
     "data": {
      "text/plain": [
       "100"
      ]
     },
     "execution_count": 8,
     "metadata": {},
     "output_type": "execute_result"
    }
   ],
   "source": [
    "len(tool_qa)"
   ]
  },
  {
   "cell_type": "code",
   "execution_count": 9,
   "metadata": {},
   "outputs": [],
   "source": [
    "import random\n",
    "# set seed\n",
    "random.seed(42)\n",
    "\n",
    "train_idx = random.sample(range(len(tool_qa)), 40)\n",
    "remaining_idx = list(set(range(len(tool_qa))) - set(train_idx))\n",
    "test_idx = random.sample(remaining_idx, 60)\n",
    "\n",
    "toolqa_train = [\n",
    "    dspy.Example(question=example.question, answer=example.answer).with_inputs(\"question\", \"paper_id\")\n",
    "    for example in [tool_qa[i] for i in train_idx]\n",
    "]\n",
    "toolqa_test = [\n",
    "    dspy.Example(question=example.question, answer=example.answer).with_inputs(\"question\", \"paper_id\")\n",
    "    for example in [tool_qa[i] for i in test_idx]\n",
    "]"
   ]
  },
  {
   "cell_type": "markdown",
   "metadata": {},
   "source": [
    "## Setting Up Tools\n",
    "\n",
    "We'll setup `Avatar` modules for both signatures and all the `tools` can be used by each of the dataset. `Tool` is a pydantic model that Avatar expects the `tools` to be composed as more specifically it have 4 fields:\n",
    "\n",
    "* `name` : Name of the tool\n",
    "* `input_type` : Type of input the tool accepts\n",
    "* `output_type` : Type of output the tool returns\n",
    "* `tool` : The actual tool object"
   ]
  },
  {
   "cell_type": "code",
   "execution_count": 10,
   "metadata": {},
   "outputs": [
    {
     "name": "stdout",
     "output_type": "stream",
     "text": [
      "[query_llm] What is the Jessica's genda on March 7th, 2023?\n",
      "Jessica has a job interview scheduled for July 26th, 2022 at 1 PM. The interview will take place at the Corporate Office Building, and is scheduled to end at 2 PM.\n",
      "\n",
      "Jessica has a business meeting on January 22nd, 2022 at The Pacific Design Center. The meeting is scheduled to start at 3:00 PM and end at 4:00 PM.\n",
      "\n",
      "Jessica will be attending a Late Night Movie on January 13, 2022, at a movie theater. The movie will start at 11:00 PM and end at 1:00 AM. She is looking forward to enjoying some popcorn and her favorite movie as she winds down her day.\n",
      "\n",
      "Jessica is participating in a charity walk happening on April 22nd, 2022. The event is scheduled to start at 9:00 AM and will end at 11:00 AM. The walk will take place in Lincoln Park, and it's an opportunity for participants to raise money for a charitable organization while enjoying a morning walk. Jessica is sure to have a great time giving back to her community and supporting a good cause.\n",
      "\n",
      "Jessica is scheduled to attend a Business Meeting on May 24th, 2022 at the Hilton Hotel. The meeting is set to commence at 10:00 AM and end at 11:00 AM. It is expected that attendees will discuss important business matters and make decisions. The Hilton Hotel will be the venue where the meeting will take place, and it is expected that all attendees should be punctual and prepared for the agenda items.\n"
     ]
    }
   ],
   "source": [
    "import os\n",
    "import time\n",
    "import uuid\n",
    "import numpy as np\n",
    "import jsonlines\n",
    "from concurrent.futures import ProcessPoolExecutor\n",
    "import sentence_transformers\n",
    "import chromadb\n",
    "import os.path as osp\n",
    "from chromadb.config import Settings\n",
    "\n",
    "EMBED_MODEL_NAME = \"sentence-transformers/all-mpnet-base-v2\"\n",
    "CHROMA_PERSIST_DIRECTORY = osp.join(TOOL_QA_ROOT, \"data/chroma_db/agenda\")\n",
    "CHROMA_COLLECTION_NAME = \"all\"\n",
    "CHROMA_SERVER_HOST = \"localhost\"\n",
    "CHROMA_SERVER_HTTP_PORT = \"8000\"\n",
    "FILE_PATH = osp.join(TOOL_QA_ROOT, \"data/external_corpus/agenda/agenda_descriptions_merged.jsonl\")\n",
    "\n",
    "def sentence_embedding(model, texts):\n",
    "    embeddings = model.encode(texts)\n",
    "    return embeddings\n",
    "\n",
    "def create_chroma_db(chroma_server_host, chroma_server_http_port, collection_name):\n",
    "    chroma_client = chromadb.Client(Settings(\n",
    "        chroma_api_impl=\"rest\",\n",
    "        chroma_server_host=chroma_server_host,\n",
    "        chroma_server_http_port=chroma_server_http_port,\n",
    "    ))\n",
    "    collection = chroma_client.get_or_create_collection(name=collection_name)\n",
    "    return collection\n",
    "\n",
    "def create_chroma_db_local(persist_directory, collection_name):\n",
    "    \n",
    "    chroma_client = chromadb.PersistentClient(path=persist_directory)\n",
    "\n",
    "    collection = chroma_client.get_or_create_collection(name=collection_name)\n",
    "    return collection\n",
    "\n",
    "def insert_to_db(texts, model_name, cuda_idx, db):\n",
    "    model = sentence_transformers.SentenceTransformer(model_name, device=f\"cuda:{cuda_idx}\")\n",
    "\n",
    "    batch_embeddings = []\n",
    "    batch_texts = []\n",
    "    start_time = time.time()\n",
    "    print(f\"Total Articles to process: {len(texts)}, Current Thread: {cuda_idx}.\")\n",
    "    for i, text in enumerate(texts):\n",
    "        # 2. generate embedding\n",
    "        embeddings = sentence_embedding(model, text).tolist()\n",
    "\n",
    "        batch_embeddings.append(embeddings)\n",
    "        batch_texts.append(text)\n",
    "        # 3. add to vectorstore per 500 articles or last article\n",
    "        if i % 100 == 0 or i == len(texts)-1:\n",
    "            batch_ids = [str(uuid.uuid1()) for _ in batch_texts]\n",
    "            db.add(\n",
    "                embeddings=batch_embeddings,\n",
    "                documents=batch_texts,\n",
    "                ids = batch_ids\n",
    "            )\n",
    "            batch_embeddings = []\n",
    "            batch_texts = []\n",
    "            print(f\"Completed Processing article count: {i}, Current Thread: {cuda_idx}, Time took: {time.time() - start_time}.\")\n",
    "    print(f\"Thread {cuda_idx} Completed. Total time took for thread: {time.time() - start_time}.\")\n",
    "\n",
    "\n",
    "# Multi-processing\n",
    "def query_llm(query, is_local=True, start=None, end=None):\n",
    "    EMBED_MODEL_NAME = \"sentence-transformers/all-mpnet-base-v2\"\n",
    "    CHROMA_PERSIST_DIRECTORY = osp.join(TOOL_QA_ROOT, \"data/chroma_db/agenda\")\n",
    "    os.makedirs(CHROMA_PERSIST_DIRECTORY, exist_ok=True)\n",
    "    CHROMA_COLLECTION_NAME = \"all\"\n",
    "    CHROMA_SERVER_HOST = \"localhost\"\n",
    "    CHROMA_SERVER_HTTP_PORT = \"8000\"\n",
    "    FILE_PATH = osp.join(TOOL_QA_ROOT, \"data/external_corpus/agenda/agenda_descriptions_merged.jsonl\")\n",
    "\n",
    "    cuda_idxes = [0]\n",
    "    number_of_processes = len(cuda_idxes)\n",
    "    input_texts = []\n",
    "    db = create_chroma_db_local(CHROMA_PERSIST_DIRECTORY, CHROMA_COLLECTION_NAME)\n",
    "    with open(FILE_PATH, 'r') as f:\n",
    "        for item in jsonlines.Reader(f):\n",
    "            input_texts.append(item[\"event\"])\n",
    "    # input_texts = np.array_split(input_texts, number_of_processes)\n",
    "\n",
    "    args = ((input_texts[i], EMBED_MODEL_NAME, cuda_idxes[i], is_local) for i in range(number_of_processes))\n",
    "\n",
    "    # if there is no file under the directory \"/localscratch/yzhuang43/ra-llm/retrieval_benchmark/data/chroma_db/agenda\", insert the data into the db\n",
    "    if len(os.listdir(CHROMA_PERSIST_DIRECTORY)) == 0:\n",
    "        insert_to_db(input_texts, model_name=EMBED_MODEL_NAME, cuda_idx=0, db=db)\n",
    "\n",
    "    input_paths = np.array_split(input_texts, number_of_processes)\n",
    "    with ProcessPoolExecutor(number_of_processes) as executor:\n",
    "        executor.map(insert_to_db, args)\n",
    "    model = sentence_transformers.SentenceTransformer(EMBED_MODEL_NAME, device=f\"cuda:0\")\n",
    "    query_embedding = sentence_embedding(model, query).tolist()\n",
    "    results = db.query(query_embeddings=query_embedding, n_results=5)\n",
    "    retrieval_content = [result for result in results['documents'][0]]\n",
    "    # print(retrieval_content)\n",
    "    retrieval_content = '\\n\\n'.join(retrieval_content)\n",
    "    print('[query_llm]', query)\n",
    "    return retrieval_content\n",
    "\n",
    "query = \"What is the Jessica's genda on March 7th, 2023?\"\n",
    "print(query_llm(query))"
   ]
  },
  {
   "cell_type": "code",
   "execution_count": 11,
   "metadata": {},
   "outputs": [],
   "source": [
    "from dspy.predict.avatar import Tool, Avatar\n",
    "from langchain_community.utilities import GoogleSerperAPIWrapper, ArxivAPIWrapper, WikipediaAPIWrapper\n",
    "from langchain.tools import BaseTool, StructuredTool, tool\n",
    "\n",
    "def RETRIEVE(query: str) -> str:\n",
    "    \"\"\"If you want to search for some personal agenda information, you can use this tool and input a natural language query. For example, RETRIEVE('What is the Jessica's genda on March 7th, 2023?') returns 'Jessica has a job interview scheduled for July 26th, 2022 at 1 PM...'.\"\"\"\n",
    "    return query_llm(query)\n",
    "\n",
    "tools = [\n",
    "    Tool(\n",
    "        tool=StructuredTool.from_function(RETRIEVE),\n",
    "        name=\"RETRIEVE\",\n",
    "        desc=\"If you want to search for some personal agenda information, you can use this tool and input a natural language query. For example, RETRIEVE('What is the Jessica's genda on March 7th, 2023?') returns 'Jessica has a job interview scheduled for July 26th, 2022 at 1 PM...'.\"\n",
    "    )\n",
    "]"
   ]
  },
  {
   "cell_type": "markdown",
   "metadata": {},
   "source": [
    "Once we have defined our `tools`, we can now create an `Avatar` object by passing the `tools` and `signature`. It takes 2 more optional parameters `verbose` and `max_iters`. `verbose` is used to display the logs and `max_iters` is used to control the number of iterations in multi step execution. \n",
    "\n",
    "An avatar agent stops the tool usage iteration once it reaches `max_iters` or when it prompts `Finish`. You can also create custom tools too, all you need to make sure is:\n",
    "\n",
    "* You pass is a class object.\n",
    "* Implements `__init__` and `run` method.\n",
    "* Must take 1 string a input and returns 1 string as output.\n",
    "\n",
    "If your tool doesn't return or takes input a string then you can make a custom wrapper to take care of that for now. In future we'll try to enable a diverse tool usage."
   ]
  },
  {
   "cell_type": "code",
   "execution_count": 12,
   "metadata": {},
   "outputs": [],
   "source": [
    "actor_agent = Avatar(\n",
    "    tools=tools,\n",
    "    signature=ToolQASignature,\n",
    "    verbose=False,\n",
    "    max_iters=20\n",
    ")"
   ]
  },
  {
   "cell_type": "code",
   "execution_count": 13,
   "metadata": {},
   "outputs": [],
   "source": [
    "import time\n",
    "import logging\n",
    "from dataclasses import dataclass, field\n",
    "from typing import Dict, List, Optional\n",
    "from datetime import datetime\n",
    "import tiktoken\n",
    "from concurrent.futures import ThreadPoolExecutor, as_completed\n",
    "import warnings\n",
    "import copy\n",
    "import tqdm\n",
    "import logging\n",
    "import warnings\n",
    "import os\n",
    "\n",
    "# Set up logging\n",
    "# logging.basicConfig(level=logging.INFO)\n",
    "logger = logging.getLogger(__name__)\n",
    "\n",
    "\n",
    "# Disable all INFO logging\n",
    "logging.getLogger().setLevel(logging.WARNING)\n",
    "\n",
    "# Silence all loggers that might be chatty\n",
    "loggers_to_silence = [\n",
    "    \"httpx\",\n",
    "    \"httpcore\",\n",
    "    \"openai\",\n",
    "    \"arxiv\",\n",
    "    \"dspy\",\n",
    "    \"langchain\",\n",
    "    \"langchain_community\",\n",
    "    \"requests\",\n",
    "    \"urllib3\",\n",
    "    \"tiktoken\",\n",
    "    \"asyncio\",\n",
    "    \"faiss\",\n",
    "    \"anthropic\"\n",
    "]\n",
    "\n",
    "for logger_name in loggers_to_silence:\n",
    "    logging.getLogger(logger_name).setLevel(logging.WARNING)\n",
    "\n",
    "# Suppress specific warnings\n",
    "warnings.filterwarnings('ignore', category=UserWarning)\n",
    "warnings.filterwarnings('ignore', category=DeprecationWarning)\n",
    "warnings.filterwarnings('ignore', category=FutureWarning)\n",
    "\n",
    "os.environ['TOKENIZERS_PARALLELISM'] = 'false'  # Disable tokenizer parallelism warning"
   ]
  },
  {
   "cell_type": "markdown",
   "metadata": {},
   "source": [
    "## Evaluation\n",
    "\n",
    "Open enden QA tasks are hard to evaluate on rigid metrics like exact match. So, we'll be using an improvised LLM as Judge for the evaluation of our model on test set."
   ]
  },
  {
   "cell_type": "code",
   "execution_count": 14,
   "metadata": {},
   "outputs": [],
   "source": [
    "class Evaluator(dspy.Signature):\n",
    "    \"\"\"Please act as an impartial judge to evaluate whether the answer is correct based on the ground truth answer\"\"\"\n",
    "    \n",
    "    question: str = dspy.InputField(\n",
    "        prefix=\"Question:\",\n",
    "        desc=\"question to ask\",\n",
    "    )\n",
    "    reference_answer: str = dspy.InputField(\n",
    "        prefix=\"Ground Truth Answer:\",\n",
    "        desc=\"Ground truth answer to the question.\",\n",
    "    )\n",
    "    answer: str = dspy.InputField(\n",
    "        prefix=\"Answer:\",\n",
    "        desc=\"Answer to the question given by the model.\",\n",
    "    )\n",
    "    rationale: str = dspy.OutputField(\n",
    "        prefix=\"Rationale:\",\n",
    "        desc=\"Explanation of why the answer is correct or incorrect.\",\n",
    "    )\n",
    "    is_correct: float = dspy.OutputField(\n",
    "        prefix=\"Correct:\",\n",
    "        desc=\"Whether the answer is correct. Give 0 if incorrect, 1 if correct, (0, 1) if partially correct.\",\n",
    "    )\n",
    "\n",
    "\n",
    "evaluator = dspy.TypedPredictor(Evaluator)\n",
    "\n",
    "\n",
    "def metric(example, prediction, trace=None):\n",
    "    acc = float(\n",
    "        evaluator(\n",
    "            question=example.question,\n",
    "            answer=prediction.answer,\n",
    "            reference_answer=example.answer\n",
    "        ).is_correct\n",
    "    ) \n",
    "    print(prediction.answer, '|', example.answer, '=>', acc)\n",
    "    return acc"
   ]
  },
  {
   "cell_type": "code",
   "execution_count": 15,
   "metadata": {},
   "outputs": [
    {
     "name": "stdout",
     "output_type": "stream",
     "text": [
      "Example({'question': 'How many dates in the agenda table have Alexander scheduled?', 'answer': '73'}) (input_keys={'question', 'paper_id'})\n",
      "73 days | 73 => 1.0\n"
     ]
    },
    {
     "data": {
      "text/plain": [
       "1.0"
      ]
     },
     "execution_count": 15,
     "metadata": {},
     "output_type": "execute_result"
    }
   ],
   "source": [
    "print(toolqa_train[0])\n",
    "metric(toolqa_train[0], prediction=dspy.Example(answer='73 days'))"
   ]
  },
  {
   "cell_type": "markdown",
   "metadata": {},
   "source": [
    "For evaluation we can't use `dspy.Evaluate`, reason being that `Avatar` changes it's signature per iteration by adding the actions and it's results to it as fields. So we can create our own hacky thread safe evaluator for it."
   ]
  },
  {
   "cell_type": "code",
   "execution_count": 16,
   "metadata": {},
   "outputs": [],
   "source": [
    "import time\n",
    "import logging\n",
    "from dataclasses import dataclass, field\n",
    "from typing import Dict, List, Optional\n",
    "from datetime import datetime\n",
    "import tiktoken\n",
    "from concurrent.futures import ThreadPoolExecutor, as_completed\n",
    "import warnings\n",
    "import copy\n",
    "\n",
    "# Set up logging\n",
    "logging.basicConfig(level=logging.INFO)\n",
    "logger = logging.getLogger(__name__)\n",
    "\n",
    "@dataclass\n",
    "class APICallMetrics:\n",
    "    timestamp: datetime\n",
    "    tool_name: str\n",
    "    tokens_in: int = 0\n",
    "    tokens_out: int = 0\n",
    "    execution_time: float = 0.0\n",
    "\n",
    "@dataclass\n",
    "class AvatarMetrics:\n",
    "    total_calls: int = 0\n",
    "    total_tokens_in: int = 0\n",
    "    total_tokens_out: int = 0\n",
    "    total_execution_time: float = 0.0\n",
    "    calls_by_tool: Dict[str, int] = field(default_factory=dict)\n",
    "    api_call_history: List[APICallMetrics] = field(default_factory=list)\n",
    "    \n",
    "    def add_call(self, metrics: APICallMetrics):\n",
    "        self.total_calls += 1\n",
    "        self.total_tokens_in += metrics.tokens_in\n",
    "        self.total_tokens_out += metrics.tokens_out\n",
    "        self.total_execution_time += metrics.execution_time\n",
    "        self.calls_by_tool[metrics.tool_name] = self.calls_by_tool.get(metrics.tool_name, 0) + 1\n",
    "        self.api_call_history.append(metrics)\n",
    "    \n",
    "    def merge(self, other: 'AvatarMetrics'):\n",
    "        \"\"\"Merge another AvatarMetrics instance into this one\"\"\"\n",
    "        self.total_calls += other.total_calls\n",
    "        self.total_tokens_in += other.total_tokens_in\n",
    "        self.total_tokens_out += other.total_tokens_out\n",
    "        self.total_execution_time += other.total_execution_time\n",
    "        for tool, count in other.calls_by_tool.items():\n",
    "            self.calls_by_tool[tool] = self.calls_by_tool.get(tool, 0) + count\n",
    "        self.api_call_history.extend(other.api_call_history)\n",
    "\n",
    "    def estimate_cost(self, model_name: str = \"gpt-4\") -> float:\n",
    "        pricing = {\n",
    "            \"gpt-4\": {\"input\": 2.5, \"output\": 10.0},\n",
    "        }\n",
    "        if model_name not in pricing:\n",
    "            raise ValueError(f\"Unknown model: {model_name}\")\n",
    "        \n",
    "        rates = pricing[model_name]\n",
    "        input_cost = (self.total_tokens_in / 1000000) * rates[\"input\"]\n",
    "        output_cost = (self.total_tokens_out / 1000000) * rates[\"output\"]\n",
    "        return input_cost + output_cost\n",
    "\n",
    "class AvatarWithMetrics(Avatar):\n",
    "    def __init__(self, *args, **kwargs):\n",
    "        super().__init__(*args, **kwargs)\n",
    "        self.metrics = AvatarMetrics()\n",
    "        self.tokenizer = tiktoken.encoding_for_model(\"gpt-4\")\n",
    "    \n",
    "    def _count_tokens(self, text: str) -> int:\n",
    "        try:\n",
    "            return len(self.tokenizer.encode(str(text)))\n",
    "        except Exception as e:\n",
    "            logger.warning(f\"Error counting tokens: {e}\")\n",
    "            return 0\n",
    "\n",
    "    def _wrapped_tool_call(self, tool, input_text: str) -> str:\n",
    "        start_time = time.time()\n",
    "        tokens_in = self._count_tokens(input_text)\n",
    "        \n",
    "        try:\n",
    "            result = tool.run(input_text)\n",
    "        except Exception as e:\n",
    "            logger.error(f\"Tool execution error: {e}\")\n",
    "            raise\n",
    "        finally:\n",
    "            execution_time = time.time() - start_time\n",
    "            tokens_out = self._count_tokens(str(result))\n",
    "            \n",
    "            metrics = APICallMetrics(\n",
    "                timestamp=datetime.now(),\n",
    "                tool_name=tool.name,\n",
    "                tokens_in=tokens_in,\n",
    "                tokens_out=tokens_out,\n",
    "                execution_time=execution_time\n",
    "            )\n",
    "            self.metrics.add_call(metrics)\n",
    "            \n",
    "        return result\n",
    "\n",
    "    def __call__(self, *args, **kwargs):\n",
    "        start_time = time.time()\n",
    "        result = super().__call__(*args, **kwargs)\n",
    "        total_time = time.time() - start_time\n",
    "        \n",
    "        metrics = APICallMetrics(\n",
    "            timestamp=datetime.now(),\n",
    "            tool_name=\"main_llm\",\n",
    "            tokens_in=self._count_tokens(str(args) + str(kwargs)),\n",
    "            tokens_out=self._count_tokens(str(result)),\n",
    "            execution_time=total_time\n",
    "        )\n",
    "        self.metrics.add_call(metrics)\n",
    "        \n",
    "        return result\n",
    "\n",
    "def multi_thread_executor(test_set, signature, num_threads=60):\n",
    "    total_score = 0\n",
    "    total_examples = len(test_set)\n",
    "    combined_metrics = AvatarMetrics()\n",
    "\n",
    "    start_time = time.time()\n",
    "    with ThreadPoolExecutor(max_workers=num_threads) as executor:\n",
    "        futures = []\n",
    "        for example in test_set:\n",
    "            def process_with_metrics(example=example):\n",
    "                try:\n",
    "                    avatar = AvatarWithMetrics(signature, tools=tools, verbose=False, max_iters=10)\n",
    "                    prediction = avatar(**example.inputs().toDict())\n",
    "                    return metric(example, prediction), avatar.metrics\n",
    "                except Exception as e:\n",
    "                    print(e)\n",
    "                    return 0, AvatarMetrics()\n",
    "\n",
    "            futures.append(executor.submit(process_with_metrics))\n",
    "\n",
    "        for future in tqdm.tqdm(futures, total=total_examples, desc=\"Processing examples\"):\n",
    "            score, metrics = future.result()\n",
    "            total_score += score\n",
    "            # Only combine token counts and call counts, not execution times\n",
    "            combined_metrics.total_calls += metrics.total_calls\n",
    "            combined_metrics.total_tokens_in += metrics.total_tokens_in\n",
    "            combined_metrics.total_tokens_out += metrics.total_tokens_out\n",
    "            for tool, count in metrics.calls_by_tool.items():\n",
    "                combined_metrics.calls_by_tool[tool] = combined_metrics.calls_by_tool.get(tool, 0) + count\n",
    "            combined_metrics.api_call_history.extend(metrics.api_call_history)\n",
    "    \n",
    "    total_execution_time = time.time() - start_time\n",
    "    combined_metrics.total_execution_time = total_execution_time\n",
    "\n",
    "    avg_metric = total_score / total_examples\n",
    "    return avg_metric, combined_metrics\n",
    "\n",
    "def single_thread_executor(test_set, signature):\n",
    "    total_score = 0\n",
    "    total_examples = len(test_set)\n",
    "    combined_metrics = AvatarMetrics()\n",
    "\n",
    "    for example in tqdm.tqdm(test_set, desc=\"Processing examples\"):\n",
    "        try:\n",
    "            avatar = AvatarWithMetrics(signature, tools=tools, verbose=False, max_iters=10)\n",
    "            prediction = avatar(**example.inputs().toDict())\n",
    "            score = metric(example, prediction)\n",
    "            total_score += score\n",
    "            # Combine metrics from this run\n",
    "            for call in avatar.metrics.api_call_history:\n",
    "                combined_metrics.add_call(call)\n",
    "        except Exception as e:\n",
    "            print(e)\n",
    "\n",
    "    avg_metric = total_score / total_examples\n",
    "    return avg_metric, combined_metrics\n",
    "\n",
    "def format_metrics_report(metrics: AvatarMetrics, model_name: str = \"gpt-4\") -> str:\n",
    "    cost = metrics.estimate_cost(model_name)\n",
    "    \n",
    "    report = f\"\"\"\n",
    "Avatar Execution Metrics Report\n",
    "==============================\n",
    "Execution Time: {metrics.total_execution_time:.2f} seconds\n",
    "Total API Calls: {metrics.total_calls}\n",
    "Total Tokens: {metrics.total_tokens_in + metrics.total_tokens_out:,} ({metrics.total_tokens_in:,} in, {metrics.total_tokens_out:,} out)\n",
    "Estimated Cost: ${cost:.4f}\n",
    "\n",
    "Average Time per Call: {metrics.total_execution_time / metrics.total_calls:.2f} seconds\n",
    "\n",
    "Tool Usage Breakdown:\n",
    "-------------------\n",
    "\"\"\"\n",
    "    for tool, count in sorted(metrics.calls_by_tool.items()):\n",
    "        report += f\"{tool}: {count} calls\\n\"\n",
    "\n",
    "    return report"
   ]
  },
  {
   "cell_type": "code",
   "execution_count": 17,
   "metadata": {},
   "outputs": [
    {
     "name": "stderr",
     "output_type": "stream",
     "text": [
      "Processing examples:   0%|          | 0/60 [00:00<?, ?it/s]"
     ]
    },
    {
     "name": "stdout",
     "output_type": "stream",
     "text": [
      "[query_llm] How many dates in the agenda table have Harper scheduled?\n",
      "[query_llm] What events does Andrew have on 2022/06/12 in the agenda table?\n",
      "5 | 94 => 0.0\n",
      "Andrew has no events on 2022/06/12 in the agenda table. | Artisanal candy making class => 0.0\n",
      "[query_llm] Check Hector's availability on 2022/01/12 from 9:00 AM to 6:00 PM in the agenda table.\n",
      "Hector is available for a meeting on 2022/01/12 from 9:00 AM to 6:00 PM as there are no scheduled events for that day in the agenda table. | 9:00 AM-9:00 PM, 11:00 PM-6:00 PM => 1.0\n",
      "[query_llm] How many dates in the agenda table have Imogen scheduled?\n",
      "5 | 88 => 0.0\n",
      "[query_llm] Number of people between 3:00 PM and 4:30 PM on 2022/06/21 in the agenda table\n",
      "There is no information available for the specified date and time in the agenda table. | 10 => 0.0\n",
      "[query_llm] Count the number of people scheduled between 9:00 AM and 2:00 PM on 2022/06/07 in the agenda table.\n",
      "[query_llm] Number of people between 3:00 PM and 4:00 PM on 2022/05/27 in the agenda table\n",
      "There are no events listed between 3:00 PM and 4:00 PM on 2022/05/27 in the agenda table, so the number of people is 0. | 4 => 0.0\n",
      "[query_llm] Check Georgina's availability on 2022/03/20 between 9:00 AM and 6:00 PM in the agenda table.\n",
      "[query_llm] Check Hector's availability on 2022/01/01 between 9:00 AM and 6:00 PM in the agenda table.\n",
      "[query_llm] What events does Imogen have on 2022/02/04 in the agenda table?\n",
      "Hector is available for a meeting on 2022/01/01 between 9:00 AM and 6:00 PM as there are no scheduled events for that day in the agenda table. | 9:00 AM-6:30 PM, 8:30 PM-6:00 PM => 0.0\n",
      "Georgina is available for a meeting on 2022/03/20 between 9:00 AM and 6:00 PM as there are no scheduled events for her on that day in the agenda table. | 9:00 AM-7:00 AM, 10:00 AM-6:00 PM => 0.0\n",
      "Imogen does not have any events on 2022/02/04 in the agenda table. | Food festival => 0.0\n",
      "[query_llm] What events does Phoebe have on 2022/12/19 in the agenda table?\n",
      "[query_llm] Count the number of events on 2022/07/15 in the agenda table.\n",
      "0 | 27 => 0.0\n",
      "Phoebe does not have any events on 2022/12/19 in the agenda table. | Cheese + Wine festival => 0.0\n",
      "[query_llm] Count the number of events on 2022/10/11 in the agenda table.\n",
      "There are no events listed on 2022/10/11 in the agenda table. | 23 => 0.0\n",
      "[query_llm] How many dates in the agenda table have Charles scheduled?\n",
      "4 | 78 => 0.0\n",
      "[query_llm] What events does Daniel have on 2022/01/23 in the agenda table?\n",
      "Daniel has no events on 2022/01/23 in the agenda table. | Boxing class, Street art tour => 0.0\n",
      "[query_llm] How many dates in the agenda table have Christopher scheduled?\n",
      "3 | 86 => 0.0\n",
      "[query_llm] How many dates in the agenda table have Summer scheduled?\n",
      "4 | 70 => 0.0\n",
      "[query_llm] What events does James have on 2022/11/13 in the agenda table?\n",
      "James has no events scheduled on 2022/11/13 in the agenda table. | Food Festival => 0.0\n",
      "[query_llm] Count the number of events on 2022/01/10 in the agenda table.\n",
      "There are no events listed on 2022/01/10 in the agenda table. | 24 => 0.0\n",
      "[query_llm] What events does Brian have on 2022/03/17 in the agenda table?\n",
      "Brian has no events scheduled on 2022/03/17 in the agenda table. | Art walk, Book signing => 0.0\n",
      "[query_llm] What events does George have on 2022/07/03 in the agenda table?\n",
      "George has no events scheduled on 2022/07/03 in the agenda table. | Art Auction => 0.0\n",
      "[query_llm] Count the number of events on 2022/12/18 in the agenda table.\n",
      "There are no events listed on 2022/12/18 in the agenda table. | 38 => 0.0\n",
      "[query_llm] Number of people between 6:00 PM and 8:00 PM on 2022/09/21 in the agenda table\n",
      "0 | 6 => 0.0\n",
      "[query_llm] Count the number of people scheduled between 8:00 AM and 12:00 PM on 2022/12/26 in the agenda table.\n",
      "Action 1: {\"tool_name\":\"Finish\",\"tool_input_query\":\"0\"}\n",
      "\n",
      "Result 1: Gathered all information needed to finish the task.\n",
      "\n",
      "Answer: 0 | 9 => 0.0\n",
      "[query_llm] What events does Lily have on 2022/04/07 in the agenda table?\n",
      "Lily does not have any events scheduled on 2022/04/07 in the agenda table. | Dinner with friends => 0.0\n",
      "[query_llm] Check Lucy's availability on 2022/10/09 from 9:00 AM to 6:00 PM in the agenda table.\n",
      "Lucy is available for a meeting on 2022/10/09 from 9:00 AM to 6:00 PM as there are no scheduled events for that day in the agenda table. | 9:00 AM-11:00 AM, 12:00 PM-6:00 PM => 0.0\n",
      "[query_llm] How many dates in the agenda table have Hannah scheduled?\n",
      "5 | 76 => 0.0\n",
      "[query_llm] How many dates in the agenda table have Hannah scheduled?\n",
      "5 | 76 => 0.0\n",
      "[query_llm] Number of people between 6:00 AM and 8:00 AM on 2022/12/19 in the agenda table\n",
      "0 | 1 => 0.0\n",
      "[query_llm] Check availability for Alice on 2022/03/09 between 9:00 AM and 6:00 PM in the agenda table.\n",
      "Alice is available for a meeting on 2022/03/09 between 9:00 AM and 6:00 PM as there are no scheduled events for her on that day in the agenda table. | 11:00 AM-6:00 PM => 0.0\n",
      "[query_llm] How many people are between 9:00 AM and 3:00 PM on 2022/06/20 in the agenda table?\n",
      "There are no events listed for 2022/06/20 between 9:00 AM and 3:00 PM in the agenda table, so the number of people is 0. | 14 => 0.0\n",
      "[query_llm] Number of people between 7:00 PM and 9:00 PM on 2022/10/01 in the agenda table\n",
      "There are no events listed between 7:00 PM and 9:00 PM on 2022/10/01 in the agenda table, so the number of people is 0. | 9 => 0.0\n"
     ]
    },
    {
     "name": "stderr",
     "output_type": "stream",
     "text": [
      "Processing examples:   2%|▏         | 1/60 [01:11<1:09:57, 71.14s/it]"
     ]
    },
    {
     "name": "stdout",
     "output_type": "stream",
     "text": [
      "[query_llm] Count the number of events on 2022/01/06 in the agenda table.\n",
      "0 | 30 => 0.0\n",
      "[query_llm] How many people are between 12:00 PM and 3:00 PM on 2022/03/13 in the agenda table?\n",
      "There is no information available for events between 12:00 PM and 3:00 PM on 2022/03/13 in the agenda table. | 6 => 0.0\n",
      "[query_llm] How many dates in the agenda table have Elsie scheduled?\n",
      "4 | 83 => 0.0\n",
      "[query_llm] What events does Benjamin have on 2022/06/10 in the agenda table?\n",
      "Benjamin does not have any events scheduled on 2022/06/10 in the agenda table. | Join a fitness bootcamp => 0.0\n",
      "[query_llm] Check Elizabeth's availability on 2022/01/10 from 9:00 AM to 6:00 PM in the agenda table.\n",
      "Elizabeth is available for a meeting on 2022/01/10 from 9:00 AM to 6:00 PM as there are no conflicting appointments in the agenda table. | 9:00 AM-10:00 AM, 4:00 PM-8:00 PM, 10:00 PM-6:00 PM => 0.0\n",
      "[query_llm] Check availability for Joshua on 2022/12/02 from 9:00 AM to 6:00 PM in the agenda table.\n",
      "Joshua is available for a meeting on 2022/12/02 from 9:00 AM to 6:00 PM as there are no scheduled events for him on that day in the agenda table. | 9:00 AM-7:00 PM, 9:00 PM-6:00 PM => 0.0\n",
      "[query_llm] Check availability for James from 9:00 AM to 6:00 PM on 2022/04/13 in the agenda table.\n",
      "James is available for a meeting from 9:00 AM to 6:00 PM on 2022/04/13 as there are no conflicting events in the agenda table. | 9:00 AM-2:00 PM, 4:00 PM-7:30 PM, 10:30 PM-6:00 PM => 0.0\n",
      "[query_llm] What events does Summer have on 2022/04/07 in the agenda table?\n",
      "No events for Summer on 2022/04/07 in the agenda table. | Book club meeting => 0.0\n",
      "[query_llm] Count the number of events on 2022/01/31 in the agenda table.\n",
      "0 | 16 => 0.0\n",
      "[query_llm] Count the number of people scheduled between 6:30 PM and 8:00 PM on 2022/02/10 in the agenda table.\n",
      "There are no people scheduled between 6:30 PM and 8:00 PM on 2022/02/10 in the agenda table. | 7 => 0.0\n",
      "[query_llm] Count the number of events on 2022/12/07 in the agenda table.\n",
      "0 | 21 => 0.0\n",
      "[query_llm] Count the number of people scheduled between 9:00 AM and 2:00 PM on 2022/06/07 in the agenda table.\n",
      "0 | 15 => 0.0\n",
      "[query_llm] Check Jessica's availability on 2022/11/28 from 9:00 AM to 6:00 PM in the agenda table.\n",
      "Jessica is available for a meeting on 2022/11/28 from 9:00 AM to 6:00 PM as there are no scheduled events for that day in the agenda table. | 9:00 AM-7:00 PM, 9:00 PM-6:00 PM => 0.0\n",
      "[query_llm] Check Daisy's availability on 2022/10/03 from 9:00 AM to 6:00 PM in the agenda table.\n",
      "Daisy is available for a meeting on 2022/10/03 from 9:00 AM to 6:00 PM as there are no scheduled events for her on that day in the agenda table. | 9:00 AM-1:30 PM, 2:30 PM-6:00 PM => 0.0\n",
      "[query_llm] Count the number of events on 2022/09/11 in the agenda table.\n",
      "[query_llm] How many dates in the agenda table have Florence scheduled?\n",
      "0 | 23 => 0.0\n",
      "4 | 69 => 0.0\n",
      "[query_llm] Check Lily's availability on 2022/02/17 between 9:00 AM and 6:00 PM in the agenda table.\n",
      "[query_llm] What events does Sophia have on 2022/03/10 in the agenda table?\n",
      "Lily is available for a meeting on 2022/02/17 between 9:00 AM and 6:00 PM as there are no scheduled events for that date in the agenda table. | 9:00 AM-8:00 PM, 11:00 PM-6:00 PM => 0.5\n",
      "Sophia has no events scheduled on 2022/03/10 in the agenda table. | Hiking trail => 0.0\n",
      "[query_llm] Count the number of events on 2022/01/08 in the agenda table.\n",
      "0 | 26 => 0.0\n",
      "[query_llm] What events does James have on 2022/10/23 in the agenda table?\n",
      "James does not have any events scheduled on 2022/10/23 in the agenda table. | Mindfulness meditation class => 0.0\n",
      "[query_llm] Check Amelia's availability on 2022/10/18 between 9:00 AM and 6:00 PM in the agenda table.\n",
      "Amelia is available for a meeting on 2022/10/18 between 9:00 AM and 6:00 PM as there are no events scheduled for that day in the agenda table. | 1:00 PM-6:00 PM, 8:00 PM-6:00 PM => 0.0\n",
      "[query_llm] Check Madison's availability on 2022/12/13 from 9:00 AM to 6:00 PM in the agenda table.\n",
      "[query_llm] Number of people between 9:00 AM and 1:00 PM on 2022/10/06 in the agenda table\n",
      "Madison is available for a meeting on 2022/12/13 from 9:00 AM to 6:00 PM as there are no scheduled events on that day. | 9:00 AM-2:00 PM, 4:00 PM-6:00 PM => 0.0\n",
      "There is no information available for events on 2022/10/06 between 9:00 AM and 1:00 PM in the agenda table. | 7 => 0.0\n",
      "[query_llm] Check availability for Faith on 2022/04/01 from 9:00 AM to 6:00 PM in the agenda table.\n",
      "Faith is available for a meeting on 2022/04/01 from 9:00 AM to 6:00 PM as there are no conflicting events listed in the agenda table. | 9:00 AM-8:00 PM, 10:00 PM-6:00 PM => 0.5\n",
      "[query_llm] Count the number of events on 2022/09/20 in the agenda table.\n",
      "0 | 27 => 0.0\n",
      "[query_llm] What events does Amelia have on 2022/09/18 in the agenda table?\n",
      "[query_llm] Check Alice's availability on 2022/01/06 from 9:00 AM to 6:00 PM in the agenda table.\n",
      "Amelia has no events scheduled on 2022/09/18 in the agenda table. | Yoga and meditation => 0.0\n"
     ]
    },
    {
     "name": "stderr",
     "output_type": "stream",
     "text": [
      "Processing examples: 100%|██████████| 60/60 [01:31<00:00,  1.53s/it] "
     ]
    },
    {
     "name": "stdout",
     "output_type": "stream",
     "text": [
      "[query_llm] Count the number of people scheduled between 6:00 AM and 12:00 PM on 2022/08/28 in the agenda table.\n",
      "[query_llm] Check Victoria's availability on 2022/08/05 from 9:00 AM to 6:00 PM in the agenda table.\n",
      "Alice is available for a meeting on 2022/01/06 from 9:00 AM to 6:00 PM as there are no events scheduled for her on that day. | 9:00 AM-1:00 PM, 3:00 PM-6:00 PM => 0.0\n",
      "Victoria is available for a meeting on 2022/08/05 from 9:00 AM to 2:00 PM and from 4:00 PM to 6:00 PM. | 9:00 AM-2:00 PM, 4:00 PM-6:00 PM => 1.0\n",
      "There are no people scheduled between 6:00 AM and 12:00 PM on 2022/08/28 in the agenda table. | 7 => 0.0\n"
     ]
    },
    {
     "name": "stderr",
     "output_type": "stream",
     "text": [
      "\n"
     ]
    }
   ],
   "source": [
    "score, metrics = multi_thread_executor(toolqa_test, ToolQASignature)"
   ]
  },
  {
   "cell_type": "code",
   "execution_count": 18,
   "metadata": {},
   "outputs": [
    {
     "name": "stdout",
     "output_type": "stream",
     "text": [
      "Test Score: 0.05\n",
      "\n",
      "Avatar Execution Metrics Report\n",
      "==============================\n",
      "Execution Time: 92.71 seconds\n",
      "Total API Calls: 60\n",
      "Total Tokens: 25,694 (1,745 in, 23,949 out)\n",
      "Estimated Cost: $0.2439\n",
      "\n",
      "Average Time per Call: 1.55 seconds\n",
      "\n",
      "Tool Usage Breakdown:\n",
      "-------------------\n",
      "main_llm: 60 calls\n",
      "\n"
     ]
    }
   ],
   "source": [
    "# print(f\"Average Score on ArxivQA before opitmization: {aqa_score:.2f}\")\n",
    "print(f\"Test Score: {score:.2f}\")\n",
    "print(format_metrics_report(metrics))"
   ]
  },
  {
   "cell_type": "markdown",
   "metadata": {},
   "source": [
    "## Optimization\n",
    "\n",
    "For the optimization of the `Actor` we'll be using `AvatarOptimizer`. It's a DSPy implementation of the [Avatar](https://github.com/zou-group/avatar/) method that optimizes the `Actor` for the given `tools` using a comparator module that optimizes Actor instruction. Note, that Actor is the Module that directs tool execution and flow, it's not the signature that we are passing. It doesn't optimize the instruction of the signature we pass. It takes the following parameters:\n",
    "\n",
    "* `metric`: Metric that we'll be optimizing for\n",
    "* `max_iters`: Maximum number of iterations for the optimizer\n",
    "* `lower_bound`: Lower bound for the metric to classify example as negative\n",
    "* `upper_bound`: Upper bound for the metric to classify example as positive\n",
    "* `max_positive_inputs`: Maximum number of positive inputs sampled for comparator\n",
    "* `max_negative_inputs`: Maximum number of negative inputs sampled for comparator\n",
    "* `optimize_for`: Whether we want to maximize the metric or minimize it during optimization\n",
    "\n",
    "Once the optimizer is done we can get the optimized actor and use it for the evaluation."
   ]
  },
  {
   "cell_type": "code",
   "execution_count": 19,
   "metadata": {},
   "outputs": [],
   "source": [
    "from new_optimizer import AvatarOptimizerWithMetrics\n",
    "\n",
    "iterative_monkey = AvatarOptimizerWithMetrics(\n",
    "    metric=metric,\n",
    "    max_iters=2,\n",
    "    max_negative_inputs=20,\n",
    "    max_positive_inputs=20,\n",
    "    upper_bound=0,\n",
    "    lower_bound=0 # special case when we need some perturbation if no pos/neg\n",
    ")"
   ]
  },
  {
   "cell_type": "code",
   "execution_count": 20,
   "metadata": {},
   "outputs": [
    {
     "name": "stderr",
     "output_type": "stream",
     "text": [
      "Processing examples:   0%|          | 0/40 [00:00<?, ?it/s]"
     ]
    },
    {
     "name": "stdout",
     "output_type": "stream",
     "text": [
      "[query_llm] How many dates in the agenda table have Ella scheduled?\n",
      "4 | 85 => 0.0\n",
      "[query_llm] What events does Emily have on 2022/09/19 in the agenda table?\n",
      "Emily has no events scheduled on 2022/09/19 in the agenda table. | Theatre performance, Art Walk => 0.0\n",
      "[query_llm] What events does Jasmine have on 2022/05/10 in the agenda table?\n",
      "Jasmine does not have any events scheduled on 2022/05/10 in the agenda table. | Vegan Food Festival => 0.0\n",
      "[query_llm] What events does Jade have on 2022/01/25 in the agenda table?\n",
      "Jade has no events on 2022/01/25 in the agenda table. | Kids concert => 0.0\n",
      "[query_llm] Count the number of events on 2022/10/11 in the agenda table.\n",
      "There are no events listed on 2022/10/11 in the agenda table. | 23 => 0.0\n",
      "[query_llm] Count the number of events on 2022/03/09 in the agenda table.\n",
      "0 | 24 => 0.0\n",
      "[query_llm] How many dates in the agenda table have Hector scheduled?\n",
      "[query_llm] Count the number of events on 2022/12/01 in the agenda table.\n",
      "5 | 92 => 0.0\n",
      "[query_llm] Count the number of events on 2022/05/22 in the agenda table.\n",
      "0 | 29 => 0.0\n",
      "0 | 18 => 0.0\n",
      "[query_llm] Check Emma's availability on 2022/06/14 from 9:00 AM to 6:00 PM in the agenda table.\n",
      "Emma is available for a meeting on 2022/06/14 from 10:00 AM to 6:00 PM. | 9:00 AM-6:30 PM, 7:30 PM-6:00 PM => 1.0\n",
      "[query_llm] What events does Elsie have on 2022/04/17 in the agenda table?\n",
      "Elsie has no events on 2022/04/17 in the agenda table. | Casino night => 0.0\n",
      "[query_llm] Count the number of events on 2022/05/30 in the agenda table.\n",
      "There are no events on 2022/05/30 in the agenda table. | 33 => 0.0\n",
      "[query_llm] Check availability for Patrick on 2022/07/26 from 9:00 AM to 6:00 PM in the agenda table.\n",
      "Patrick is available for a meeting on 2022/07/26 from 9:00 AM to 6:00 PM as there are no scheduled events for that day in the agenda table. | 9:00 AM-2:00 PM, 4:00 PM-6:00 PM => 0.0\n",
      "[query_llm] How many dates in the agenda table have Layla scheduled?\n",
      "5 | 74 => 0.0\n",
      "[query_llm] How many dates in the agenda table have Sophie scheduled?\n",
      "3 | 83 => 0.0\n",
      "[query_llm] Check Layla's availability on 2022/11/26 from 9:00 AM to 6:00 PM in the agenda table.\n",
      "Layla is available for a meeting on 2022/11/26 from 9:00 AM to 6:00 PM as there are no scheduled events on that date in the agenda table. | 9:00 AM-2:00 PM, 5:00 PM-6:00 PM => 0.0\n",
      "[query_llm] Count the number of events on 2022/09/25 in the agenda table.\n",
      "0 | 24 => 0.0\n",
      "[query_llm] Number of people between 10:00 AM and 12:00 PM on 2022/06/23 in the agenda table\n",
      "0 | 7 => 0.0\n",
      "[query_llm] How many dates in the agenda table have Jade scheduled?\n",
      "4 | 76 => 0.0\n",
      "[query_llm] Count the number of events on 2022/01/10 in the agenda table.\n",
      "There are no events listed on 2022/01/10 in the agenda table. | 24 => 0.0\n",
      "[query_llm] How many dates in the agenda table have Henry scheduled?\n",
      "5 | 95 => 0.0\n",
      "[query_llm] How many people are unavailable between 1:00 PM and 3:00 PM on 2022/06/17 in the agenda table?\n",
      "[query_llm] Number of people between 8:00 PM and 9:00 PM on 2022/09/15 in the agenda table\n",
      "The retrieved data does not contain information about the availability of people on 2022/06/17 between 1:00 PM and 3:00 PM. Therefore, I cannot determine how many people are unavailable during that time. | 6 => 0.0\n",
      "0 | 8 => 0.0\n",
      "[query_llm] Count the number of events on 2022/04/27 in the agenda table.\n",
      "0 | 20 => 0.0\n",
      "[query_llm] Number of people between 2:00 PM and 4:00 PM on 2022/03/17 in the agenda table\n",
      "[query_llm] Count the number of events on 2022/05/06 in the agenda table.\n",
      "There are no events scheduled between 2:00 PM and 4:00 PM on 2022/03/17 in the agenda table. | 10 => 0.0\n",
      "There are no events listed on 2022/05/06 in the agenda table. | 21 => 0.0\n",
      "[query_llm] How many dates in the agenda table have Andrew scheduled?\n",
      "5 | 88 => 0.0\n",
      "[query_llm] How many dates in the agenda table have Alexander scheduled?\n",
      "[query_llm] How many dates in the agenda table have Chloe scheduled?\n"
     ]
    },
    {
     "name": "stderr",
     "output_type": "stream",
     "text": [
      "Processing examples:   2%|▎         | 1/40 [00:48<31:49, 48.96s/it]"
     ]
    },
    {
     "name": "stdout",
     "output_type": "stream",
     "text": [
      "4 | 73 => 0.0\n",
      "3 | 88 => 0.0\n",
      "[query_llm] How many dates in the agenda table have Faith scheduled?\n",
      "5 | 85 => 0.0\n"
     ]
    },
    {
     "name": "stderr",
     "output_type": "stream",
     "text": [
      "Processing examples:  12%|█▎        | 5/40 [00:49<04:18,  7.38s/it]"
     ]
    },
    {
     "name": "stdout",
     "output_type": "stream",
     "text": [
      "[query_llm] How many people are between 2:30 PM and 3:30 PM on 2022/04/10 in the agenda table?\n",
      "[query_llm] How many people are scheduled between 12:00 PM and 2:00 PM on 2022/09/13 in the agenda table?\n",
      "0 | 9 => 0.0\n",
      "0 | 11 => 0.0\n",
      "[query_llm] What events does Stephen have on 2022/05/22 in the agenda table?\n",
      "Stephen has no events scheduled on 2022/05/22 in the agenda table. | Employee team building event => 0.0\n",
      "[query_llm] How many dates in the agenda table have Jasmine scheduled?\n",
      "4 | 86 => 0.0\n",
      "[query_llm] Check Millie's availability on 2022/01/01 from 9:00 AM to 6:00 PM in the agenda table.\n",
      "[query_llm] What events does David have on 2022/05/28 in the agenda table?\n",
      "[query_llm] Number of people between 8:00 PM and 10:00 PM on 2022/06/06 in the agenda table\n",
      "Millie is available all day on 2022/01/01 from 9:00 AM to 6:00 PM. | 9:00 AM-10:00 AM, 1:00 PM-6:00 PM => 0.0\n",
      "David does not have any events on 2022/05/28 in the agenda table. | Art Exhibition => 0.0\n",
      "0 | 7 => 0.0\n",
      "[query_llm] Count the number of events on 2022/11/12 in the agenda table.\n",
      "[query_llm] Number of people between 3:00 PM and 4:00 PM on 2022/01/19 in the agenda table\n",
      "[query_llm] What events does Millie have on 2022/12/07 in the agenda table?\n"
     ]
    },
    {
     "name": "stderr",
     "output_type": "stream",
     "text": [
      "Processing examples: 100%|██████████| 40/40 [00:50<00:00,  1.25s/it]"
     ]
    },
    {
     "name": "stdout",
     "output_type": "stream",
     "text": [
      "There is no information available for the number of people between 3:00 PM and 4:00 PM on 2022/01/19 in the agenda table. | 3 => 0.0\n",
      "0 | 24 => 0.0\n",
      "Millie has no events scheduled on 2022/12/07 in the agenda table. | Theatre play => 0.0\n",
      "Average Score: 0.025\n"
     ]
    },
    {
     "name": "stderr",
     "output_type": "stream",
     "text": [
      "\n"
     ]
    },
    {
     "name": "stdout",
     "output_type": "stream",
     "text": [
      "Generated new instruction: New Instruction: You will be given `Tools`, which will be a list of tools to use to accomplish the `Goal`. Your task is to decide which tool to use and what input values to provide based on the user query. To enhance performance, focus on crafting specific and well-aligned input queries that match the tool's capabilities. Ensure that each query is directly related to the agenda table to facilitate accurate information retrieval. You may use a tool multiple times with different input queries if applicable, or opt to provide the final answer directly without using any tools.\n",
      "\n",
      "To address the challenges with negative inputs, implement an enhanced query parsing mechanism. This mechanism should be capable of understanding and interpreting the user's intent, even if the query is not perfectly structured. Introduce a contextual understanding layer that can infer the user's needs from partial or ambiguous queries, thereby improving the relevance of the tool outputs. This will help in aligning the tool's capabilities with the user's requirements more effectively.\n",
      "\n",
      "Additionally, incorporate a feedback loop where the tool can ask clarifying questions if the initial query is too vague or broad. This will ensure more accurate retrieval of information. Implement a data filtering mechanism to eliminate duplicate or irrelevant entries in the tool output, ensuring that the results are concise and directly related to the query. By following these guidelines, you will improve the accuracy and relevance of the tool outputs, leading to better performance on the task.\n"
     ]
    },
    {
     "name": "stderr",
     "output_type": "stream",
     "text": [
      "Processing examples:   0%|          | 0/40 [00:00<?, ?it/s]"
     ]
    },
    {
     "name": "stdout",
     "output_type": "stream",
     "text": [
      "[query_llm] Count the number of people scheduled between 10:00 AM and 12:00 PM on 2022/06/23 in the agenda table.\n",
      "[query_llm] Count the number of dates in the agenda table where Hector is scheduled.\n",
      "[query_llm] Count the number of dates Chloe has scheduled in the agenda table.\n",
      "[query_llm] List the number of people scheduled between 2:30 PM and 3:30 PM on 2022/04/10 in the agenda table.\n",
      "[query_llm] Count the number of dates Alexander is scheduled in the agenda table.\n",
      "[query_llm] Find available time slots for Millie on 2022/01/01 between 9:00 AM and 6:00 PM in the agenda table.\n",
      "[query_llm][query_llm] Count the number of events on 2022/05/22 in the agenda table.\n",
      " Count the number of events on 2022/12/01 in the agenda table.\n",
      "[query_llm] Check Patrick's availability on 2022/07/26 between 9:00 AM and 6:00 PM in the agenda table.\n",
      "[query_llm] Count the number of events on 2022/10/11 in the agenda table.\n",
      "[query_llm] Events for Stephen on 2022/05/22\n",
      "[query_llm] Count the number of events on 2022/03/09 in the agenda table.\n",
      "[query_llm] Count the number of dates in the agenda table where Andrew is scheduled.\n",
      "[query_llm] Count the number of dates in the agenda table where Henry is scheduled.\n",
      "2 | 88 => 0.0\n",
      "[query_llm] Count the number of events on 2022/01/10 in the agenda table.\n",
      "[query_llm] Count the number of events on 2022/04/27 in the agenda table.\n",
      "[query_llm] Count the number of dates in the agenda table where Faith is scheduled.\n",
      "Stephen has no events scheduled on 2022/05/22 in the agenda table. | Employee team building event => 0.0\n",
      "5 | 95 => 0.0\n"
     ]
    },
    {
     "name": "stderr",
     "output_type": "stream",
     "text": [
      "Processing examples:   2%|▎         | 1/40 [00:30<20:01, 30.81s/it]"
     ]
    },
    {
     "name": "stdout",
     "output_type": "stream",
     "text": [
      "[query_llm] Count the number of people scheduled between 3:00 PM and 4:00 PM on 2022/01/19 in the agenda table.\n",
      "Alexander is scheduled on 2 dates in the agenda table. | 73 => 0.0\n",
      "[query_llm] Emily's events on 2022/09/19 in the agenda table\n"
     ]
    },
    {
     "name": "stderr",
     "output_type": "stream",
     "text": [
      "Processing examples:   5%|▌         | 2/40 [00:31<08:11, 12.93s/it]"
     ]
    },
    {
     "name": "stdout",
     "output_type": "stream",
     "text": [
      "4 | 92 => 0.0\n",
      "There are no events listed on 2022/01/10 in the agenda table. | 24 => 0.0\n",
      "There are no events listed on 2022/05/22 in the agenda table. | 18 => 0.0\n",
      "5 | 85 => 0.0\n",
      "There are no events listed on 2022/12/01 in the agenda table. | 29 => 0.0\n",
      "[query_llm] Check Layla's availability on 2022/11/26 between 9:00 AM and 6:00 PM in the agenda table.\n",
      "There are no entries in the agenda table for the specified date and time range. | 9 => 0.0\n",
      "Patrick is available for a meeting on 2022/07/26 between 9:00 AM and 6:00 PM as there are no conflicting events in the agenda table. | 9:00 AM-2:00 PM, 4:00 PM-6:00 PM => 0.0\n"
     ]
    },
    {
     "name": "stderr",
     "output_type": "stream",
     "text": [
      "Processing examples:   8%|▊         | 3/40 [00:32<04:45,  7.72s/it]"
     ]
    },
    {
     "name": "stdout",
     "output_type": "stream",
     "text": [
      "\"There are no events listed on 2022/03/09 in the agenda table.\" | 24 => 0.0\n",
      "\"There are no events listed on 2022/10/11 in the agenda table.\" | 23 => 0.0\n",
      "There are no events listed on 2022/04/27 in the agenda table. | 20 => 0.0\n",
      "Chloe has events scheduled on three different dates in the agenda table. | 88 => 0.0\n",
      "There is no relevant information in the retrieved data regarding the number of people scheduled between 10:00 AM and 12:00 PM on 2022/06/23. | 7 => 0.0\n",
      "Millie is available all day on 2022/01/01 between 9:00 AM and 6:00 PM as there are no scheduled events for her on that date in the agenda table. | 9:00 AM-10:00 AM, 1:00 PM-6:00 PM => 0.0\n",
      "[query_llm] List all entries from the agenda table for 2022/03/17 between 2:00 PM and 4:00 PM.\n",
      "Emily has no events on 2022/09/19 in the agenda table. | Theatre performance, Art Walk => 0.0\n",
      "Layla is available for a meeting on 2022/11/26 between 9:00 AM and 6:00 PM as there are no scheduled events for her on that date in the agenda table. | 9:00 AM-2:00 PM, 5:00 PM-6:00 PM => 0.0\n",
      "[query_llm] Elsie's events on 2022/04/17 in the agenda table\n",
      "[query_llm] Count the number of events on 2022/05/30 in the agenda table.\n",
      "There are no people scheduled in the agenda table between 2:00 PM and 4:00 PM on 2022/03/17. | 10 => 0.0\n",
      "Elsie has no events on 2022/04/17 in the agenda table. | Casino night => 0.0\n",
      "[query_llm] Jade's events on 2022/01/25\n",
      "[query_llm] Count the number of events on 2022/11/12 in the agenda table.\n",
      "[query_llm] Count the number of events on 2022/09/25 in the agenda table.\n",
      "[query_llm] Count the number of people scheduled between 8:00 PM and 10:00 PM on 2022/06/06 in the agenda table.\n",
      "[query_llm] Count the number of people scheduled between 12:00 PM and 2:00 PM on 2022/09/13 in the agenda table.\n",
      "Kids concert | Kids concert => 1.0\n",
      "\"There are no events listed on 2022/05/30 in the agenda table.\" | 33 => 0.0\n",
      "[query_llm] Retrieve events for Millie on 2022/12/07 from the agenda table.\n",
      "[query_llm] Count the number of events on 2022/05/06 in the agenda table.\n",
      "[query_llm] Count the number of dates in the agenda table where Jade has scheduled events.\n",
      "[query_llm] Find the number of people unavailable between 1:00 PM and 3:00 PM on 2022/06/17 in the agenda table.\n",
      "[query_llm] Count the number of dates in the agenda table where Sophie is scheduled.\n",
      "[query_llm] List all events scheduled between 3:00 PM and 4:00 PM on 2022/01/19 in the agenda table to count the number of people involved.\n",
      "[query_llm] Count the number of dates in the agenda table where Layla is scheduled.\n",
      "[query_llm] Count the number of dates in the agenda table where Ella is scheduled.\n",
      "[query_llm] Check Emma's availability on 2022/06/14 between 9:00 AM and 6:00 PM in the agenda table.\n",
      "[query_llm] Find events for Jasmine on 2022/05/10 in the agenda table.\n",
      "[query_llm] Count the number of dates Jasmine has scheduled in the agenda table.\n",
      "[query_llm] Count the number of people scheduled between 8:00 PM and 9:00 PM on 2022/09/15 in the agenda table.\n",
      "[query_llm] Events for David on 2022/05/28\n",
      "4 | 85 => 0.0\n"
     ]
    },
    {
     "name": "stderr",
     "output_type": "stream",
     "text": [
      "Processing examples:  10%|█         | 4/40 [00:49<06:51, 11.42s/it]"
     ]
    },
    {
     "name": "stdout",
     "output_type": "stream",
     "text": [
      "5 | 74 => 0.0\n",
      "4 | 86 => 0.0\n",
      "There are no events listed on 2022/11/12 in the agenda table. | 24 => 0.0\n",
      "5 | 76 => 0.0\n",
      "There are no events listed on 2022/09/25 in the agenda table. | 24 => 0.0\n",
      "Emma is available for a meeting on 2022/06/14 between 10:00 AM and 6:00 PM. | 9:00 AM-6:30 PM, 7:30 PM-6:00 PM => 1.0\n",
      "Millie has no events scheduled on 2022/12/07 in the agenda table. | Theatre play => 0.0\n",
      "Jasmine does not have any events scheduled on 2022/05/10 in the agenda table. | Vegan Food Festival => 0.0\n",
      "Sophie is scheduled on 3 dates in the agenda table. | 83 => 0.0\n",
      "There are no events listed on 2022/05/06 in the agenda table. | 21 => 0.0\n",
      "[query_llm] List all events scheduled between 12:00 PM and 2:00 PM on 2022/09/13 in the agenda table.\n",
      "No relevant data found for the specified date and time range in the agenda table. | 6 => 0.0\n",
      "0 | 3 => 0.0\n",
      "There are no people scheduled between 8:00 PM and 10:00 PM on 2022/06/06 in the agenda table. | 7 => 0.0\n",
      "There are no events scheduled between 8:00 PM and 9:00 PM on 2022/09/15 in the agenda table. | 8 => 0.0\n",
      "David does not have any events scheduled on 2022/05/28 in the agenda table. | Art Exhibition => 0.0\n"
     ]
    },
    {
     "name": "stderr",
     "output_type": "stream",
     "text": [
      "Processing examples: 100%|██████████| 40/40 [00:58<00:00,  1.47s/it]"
     ]
    },
    {
     "name": "stdout",
     "output_type": "stream",
     "text": [
      "There are no people scheduled between 12:00 PM and 2:00 PM on 2022/09/13 in the agenda table. | 11 => 0.0\n",
      "Average Score: 0.05\n"
     ]
    },
    {
     "name": "stderr",
     "output_type": "stream",
     "text": [
      "\n"
     ]
    },
    {
     "name": "stdout",
     "output_type": "stream",
     "text": [
      "Generated new instruction: New Instruction: You will be given `Tools`, which will be a list of tools to use to accomplish the `Goal`. Your task is to decide which tool to use and what input values to provide based on the user query. To enhance performance, focus on crafting specific and well-aligned input queries that match the tool's capabilities. Ensure that each query is directly related to the agenda table to facilitate accurate information retrieval. You may use a tool multiple times with different input queries if applicable, or opt to provide the final answer directly without using any tools.\n",
      "\n",
      "To address challenges with negative inputs, implement an enhanced query parsing mechanism. This mechanism should be capable of understanding and interpreting the user's intent, even if the query is not perfectly structured. Introduce a contextual understanding layer that can infer the user's needs from partial or ambiguous queries, thereby improving the relevance of the tool outputs. Additionally, incorporate a feedback loop where the tool can ask clarifying questions if the initial query is too vague or broad. This will ensure more accurate retrieval of information and align the tool's capabilities with the user's requirements more effectively.\n",
      "\n",
      "Furthermore, implement a data filtering mechanism to eliminate duplicate or irrelevant entries in the tool output, ensuring that the results are concise and directly related to the query. By following these guidelines, you will improve the accuracy and relevance of the tool outputs, leading to better performance on the task. This structured approach will help in refining the computational logic and enhancing the overall effectiveness of the tools used.\n",
      "\n",
      "                Optimization Process Metrics\n",
      "                ==========================\n",
      "                Total Execution Time: 33.24 seconds\n",
      "                Total API Calls: 4\n",
      "                - Comparator calls: 2\n",
      "                - Feedback instruction calls: 2\n",
      "\n",
      "                Token Usage:\n",
      "                ----------\n",
      "                Total Tokens: 33,285\n",
      "                - Input tokens: 31,952\n",
      "                - Output tokens: 1,333\n",
      "\n",
      "                Cost Analysis:\n",
      "                ------------\n",
      "                Estimated Total Cost: $1.0385\n",
      "                \n"
     ]
    }
   ],
   "source": [
    "result = iterative_monkey.compile(\n",
    "    student=actor_agent,\n",
    "    trainset=toolqa_train\n",
    ")"
   ]
  },
  {
   "cell_type": "markdown",
   "metadata": {},
   "source": [
    "Now we can evaluate our actor module, for this we've provided an implementation of thread safe evaluator that we above as part of class method of `AvatarOptimizer`."
   ]
  },
  {
   "cell_type": "code",
   "execution_count": null,
   "metadata": {},
   "outputs": [
    {
     "name": "stdout",
     "output_type": "stream",
     "text": [
      "Total optimization cost: $1.0385\n",
      "Final score achieved: 0.050\n",
      "\n",
      "Iteration 0:\n",
      "Score: 0.025\n",
      "Comparator tokens in: 14544\n",
      "Comparator tokens out: 373\n",
      "Feedback tokens in: 509\n",
      "Feedback tokens out: 281\n",
      "Execution time: 63.11s\n",
      "\n",
      "Iteration 1:\n",
      "Score: 0.050\n",
      "Comparator tokens in: 16200\n",
      "Comparator tokens out: 382\n",
      "Feedback tokens in: 699\n",
      "Feedback tokens out: 297\n",
      "Execution time: 80.10s\n"
     ]
    }
   ],
   "source": [
    "optimized_actor_agent = result[\"agent\"]\n",
    "optimization_metrics = result[\"metrics\"]\n",
    "\n",
    "# Now you can process the metrics\n",
    "print(f\"Total optimization cost: ${optimization_metrics['total_cost']:.4f}\")\n",
    "print(f\"Final score achieved: {optimization_metrics['final_score']:.3f}\")\n",
    "\n",
    "# Analyze per-iteration performance\n",
    "for iteration in optimization_metrics['iteration_details']:\n",
    "    print(f\"\\nIteration {iteration['iteration']}:\")\n",
    "    print(f\"Score: {iteration['score']:.3f}\")\n",
    "    print(f\"Comparator tokens in: {iteration['comparator_metrics']['tokens_in']}\")\n",
    "    print(f\"Comparator tokens out: {iteration['comparator_metrics']['tokens_out']}\")\n",
    "    print(f\"Feedback tokens in: {iteration['feedback_metrics']['tokens_in']}\")\n",
    "    print(f\"Feedback tokens out: {iteration['feedback_metrics']['tokens_out']}\")\n",
    "    print(f\"Execution time: {iteration['total_iteration_time']:.2f}s\")"
   ]
  },
  {
   "cell_type": "code",
   "execution_count": 22,
   "metadata": {},
   "outputs": [
    {
     "name": "stdout",
     "output_type": "stream",
     "text": [
      "Processing batch 1 of 4...\n"
     ]
    },
    {
     "name": "stderr",
     "output_type": "stream",
     "text": [
      "Processing examples:   0%|          | 0/60 [00:00<?, ?it/s]"
     ]
    },
    {
     "name": "stdout",
     "output_type": "stream",
     "text": [
      "[query_llm] Count the number of events on 2022/01/06 in the agenda table.\n",
      "[query_llm] Events for Brian on 2022/03/17 in the agenda table\n",
      "[query_llm] Count the number of dates Harper is scheduled in the agenda table.\n",
      "[query_llm] Count the number of dates Charles has scheduled in the agenda table.\n",
      "[query_llm] Find available time slots for Alice on 2022/01/06 between 9:00 AM and 6:00 PM in the agenda table.\n",
      "[query_llm] Events for Andrew on 2022/06/12 in the agenda table\n",
      "[query_llm] Count the number of dates in the agenda table where Hannah has scheduled events.\n",
      "[query_llm] Check Faith's availability on 2022/04/01 between 9:00 AM and 6:00 PM in the agenda table.\n",
      "[query_llm] Count the number of events on 2022/12/18 in the agenda table.\n",
      "[query_llm] Count the number of people scheduled between 9:00 AM and 2:00 PM on 2022/06/07 in the agenda table.\n",
      "[query_llm] Count the number of events on 2022/01/08 in the agenda table.\n",
      "[query_llm] Count the number of dates Christopher has scheduled in the agenda table.\n",
      "[query_llm] Check Amelia's availability on 2022/10/18 between 9:00 AM and 6:00 PM in the agenda table.\n",
      "5 | 94 => 0.0\n",
      "Brian has no events scheduled on 2022/03/17 in the agenda table.5 | 76 => 0.0\n",
      " | Art walk, Book signing => 0.0\n",
      "Andrew has no events on 2022/06/12 in the agenda table. | Artisanal candy making class => 0.0\n",
      "There are no events listed on 2022/12/18 in the agenda table. | 38 => 0.0\n",
      "Charles has scheduled events on 4 different dates in the agenda table. | 78 => 0.0\n"
     ]
    },
    {
     "name": "stderr",
     "output_type": "stream",
     "text": [
      "Processing examples:   2%|▏         | 1/60 [00:35<35:04, 35.68s/it]"
     ]
    },
    {
     "name": "stdout",
     "output_type": "stream",
     "text": [
      "There are no events listed on 2022/01/06 in the agenda table. | 30 => 0.0\n",
      "\"There are no events listed on 2022/01/08 in the agenda table.\" | 26 => 0.0\n",
      "[query_llm] Sophia's events on 2022/03/10 in the agenda table\n",
      "[query_llm] Count the number of people scheduled between 3:00 PM and 4:00 PM on 2022/05/27 in the agenda table.\n"
     ]
    },
    {
     "name": "stderr",
     "output_type": "stream",
     "text": [
      "Processing examples:   3%|▎         | 2/60 [00:36<14:40, 15.18s/it]"
     ]
    },
    {
     "name": "stdout",
     "output_type": "stream",
     "text": [
      "[query_llm] Count the number of people scheduled between 6:30 PM and 8:00 PM on 2022/02/10 in the agenda table.\n",
      "2 | 86 => 0.0\n",
      "Alice is available all day on 2022/01/06 between 9:00 AM and 6:00 PM. | 9:00 AM-1:00 PM, 3:00 PM-6:00 PM => 0.0\n",
      "[query_llm] Count the number of events on 2022/01/31 in the agenda table.\n",
      "Faith is available for a meeting on 2022/04/01 between 9:00 AM and 6:00 PM as there are no scheduled events for her on that date in the agenda table. | 9:00 AM-8:00 PM, 10:00 PM-6:00 PM => 1.0\n",
      "Amelia is available for a meeting on 2022/10/18 between 9:00 AM and 6:00 PM as there are no conflicting events listed in the agenda table. | 1:00 PM-6:00 PM, 8:00 PM-6:00 PM => 0.0\n",
      "[query_llm] Check Victoria's availability on 2022/08/05 between 9:00 AM and 6:00 PM in the agenda table.\n",
      "There are no relevant entries for 2022/06/07 between 9:00 AM and 2:00 PM in the agenda table. | 15 => 0.0\n",
      "[query_llm] Events for Lily on 2022/04/07 in the agenda table\n",
      "[query_llm] Count the number of people scheduled between 6:00 AM and 8:00 AM on 2022/12/19 in the agenda table.\n",
      "[query_llm] Check Jessica's availability on 2022/11/28 between 9:00 AM and 6:00 PM in the agenda table.\n",
      "[query_llm] Check Elizabeth's availability on 2022/01/10 between 9:00 AM and 6:00 PM in the agenda table.\n",
      "[query_llm] Count the number of events on 2022/12/07 in the agenda table.\n",
      "0There are no people scheduled between 6:30 PM and 8:00 PM on 2022/02/10 in the agenda table. | 7 => 0.0\n",
      " | 21 => 0.0\n",
      "[query_llm] Count the number of events on 2022/09/20 in the agenda table.\n",
      "[query_llm] Events for Imogen on 2022/02/04 in the agenda table\n",
      "[query_llm] Count the number of people scheduled between 12:00 PM and 3:00 PM on 2022/03/13 in the agenda table.\n",
      "There are no entries in the agenda table for the specified date and time range. | 4 => 0.0\n",
      "Sophia has no events on 2022/03/10 in the agenda table. | Hiking trail => 0.0\n",
      "Victoria is available for a meeting on 2022/08/05 from 9:00 AM to 2:00 PM and from 4:00 PM to 6:00 PM. | 9:00 AM-2:00 PM, 4:00 PM-6:00 PM => 1.0\n",
      "There are no events listed on 2022/01/31 in the agenda table. | 16 => 0.0\n",
      "[query_llm] Check Madison's availability on 2022/12/13 between 9:00 AM and 6:00 PM in the agenda table.\n",
      "[query_llm] Count the number of people scheduled between 9:00 AM and 3:00 PM on 2022/06/20 in the agenda table.\n"
     ]
    },
    {
     "name": "stderr",
     "output_type": "stream",
     "text": [
      "Processing examples:  10%|█         | 6/60 [00:46<04:52,  5.42s/it]"
     ]
    },
    {
     "name": "stdout",
     "output_type": "stream",
     "text": [
      "Lily has no events on 2022/04/07 in the agenda table. | Dinner with friends => 0.0\n",
      "There are no entries in the agenda table for the specified date and time range. | 1 => 0.0\n"
     ]
    },
    {
     "name": "stderr",
     "output_type": "stream",
     "text": [
      "Processing examples:  15%|█▌        | 9/60 [00:47<02:34,  3.04s/it]"
     ]
    },
    {
     "name": "stdout",
     "output_type": "stream",
     "text": [
      "Imogen has no events scheduled on 2022/02/04 in the agenda table. | Food festival => 0.0\n",
      "Elizabeth is available for a meeting on 2022/01/10 between 9:00 AM and 6:00 PM as there are no conflicting appointments in the agenda table. | 9:00 AM-10:00 AM, 4:00 PM-8:00 PM, 10:00 PM-6:00 PM => 0.0\n",
      "There are no events listed on 2022/09/20 in the agenda table. | 27 => 0.0\n",
      "Jessica is available for a meeting on 2022/11/28 between 9:00 AM and 6:00 PM as there are no scheduled events for that date in the agenda table. | 9:00 AM-7:00 PM, 9:00 PM-6:00 PM => 0.0\n",
      "[query_llm] Events for James on 2022/10/23\n",
      "There are no entries in the agenda table for 2022/03/13 between 12:00 PM and 3:00 PM. | 6 => 0.0\n",
      "James has no events on 2022/10/23 in the agenda table. | Mindfulness meditation class => 0.0\n",
      "Madison is available for a meeting on 2022/12/13 between 9:00 AM and 6:00 PM as there are no scheduled events for that day in the agenda table. | 9:00 AM-2:00 PM, 4:00 PM-6:00 PM => 0.0\n",
      "[query_llm] Events for Phoebe on 2022/12/19 in the agenda table\n",
      "[query_llm] Count the number of events on 2022/01/10 in the agenda table.\n",
      "[query_llm] Check Hector's availability on 2022/01/01 between 9:00 AM and 6:00 PM in the agenda table.\n",
      "[query_llm] Check Georgina's availability on 2022/03/20 between 9:00 AM and 6:00 PM in the agenda table.\n",
      "[query_llm] Count the number of people scheduled between 6:00 AM and 12:00 PM on 2022/08/28 in the agenda table.\n",
      "There are no events listed on 2022/01/10 in the agenda table. | 24 => 0.0\n",
      "Phoebe has no events on 2022/12/19 in the agenda table. | Cheese + Wine festival => 0.0\n",
      "Hector is available all day on 2022/01/01 as there are no scheduled events for that date in the agenda table. | 9:00 AM-6:30 PM, 8:30 PM-6:00 PM => 0.0\n",
      "There are no entries in the agenda table for 2022/08/28 between 6:00 AM and 12:00 PM. | 7 => 0.0\n",
      "[query_llm] Count the number of dates in the agenda table where Imogen is scheduled.\n",
      "[query_llm] Check Joshua's availability on 2022/12/02 between 9:00 AM and 6:00 PM in the agenda table.\n",
      "[query_llm] Check Hector's availability on 2022/01/12 between 9:00 AM and 6:00 PM in the agenda table.\n",
      "[query_llm] Check Alice's availability on 2022/03/09 between 9:00 AM and 6:00 PM in the agenda table.\n",
      "[query_llm] Count the number of dates Florence has scheduled in the agenda table.\n",
      "[query_llm] Count the number of events on 2022/09/11 in the agenda table.\n",
      "[query_llm] Events for Daniel on 2022/01/23 in the agenda table\n",
      "[query_llm] Check James' availability on 2022/04/13 between 9:00 AM and 6:00 PM in the agenda table.\n",
      "[query_llm] Count the number of dates in the agenda table where Summer is scheduled.\n",
      "[query_llm] Count the number of people scheduled between 8:00 AM and 12:00 PM on 2022/12/26 in the agenda table.\n",
      "[query_llm] Find events for Amelia on 2022/09/18 in the agenda table.\n",
      "[query_llm] Events for Summer on 2022/04/07 in the agenda table\n",
      "[query_llm] Events for George on 2022/07/03 in the agenda table\n",
      "5 | 88 => 0.0\n",
      "Daniel has no events on 2022/01/23 in the agenda table. | Boxing class, Street art tour => 0.0\n",
      "[query_llm] Count the number of dates Elsie has scheduled in the agenda table.\n",
      "Florence has no scheduled dates in the agenda table. | 69 => 0.0\n",
      "[query_llm] Check Daisy's availability on 2022/10/03 between 9:00 AM and 6:00 PM in the agenda table.\n",
      "[query_llm] Events for James on 2022/11/13\n",
      "[query_llm] Check Lucy's availability on 2022/10/09 between 9:00 AM and 6:00 PM in the agenda table.\n",
      "[query_llm] Events for Benjamin on 2022/06/10 in the agenda table\n",
      "No events for Summer on 2022/04/07 in the agenda table. | Book club meeting => 0.0\n",
      "[query_llm] Count the number of people scheduled between 3:00 PM and 4:30 PM on 2022/06/21 in the agenda table.\n",
      "[query_llm] List all events scheduled between 9:00 AM and 3:00 PM on 2022/06/20 in the agenda table.\n",
      "\"There are no events listed on 2022/09/11 in the agenda table.\" | 23 => 0.0\n",
      "[query_llm] Check Lily's availability on 2022/02/17 between 9:00 AM and 6:00 PM in the agenda table.\n",
      "[query_llm] Count the number of events on 2022/07/15 in the agenda table.\n",
      "[query_llm] Count the number of people scheduled between 6:00 PM and 8:00 PM on 2022/09/21 in the agenda table.\n",
      "[query_llm] Count the number of people scheduled between 7:00 PM and 9:00 PM on 2022/10/01 in the agenda table.\n",
      "[query_llm] Count the number of dates in the agenda table where Hannah has scheduled events.\n",
      "5 | 76 => 0.0\n",
      "[query_llm] Count the number of people scheduled between 9:00 AM and 1:00 PM on 2022/10/06 in the agenda table.\n",
      "[query_llm] Count the number of events on 2022/10/11 in the agenda table.\n",
      "Georgina is available all day on 2022/03/20 between 9:00 AM and 6:00 PM as there are no scheduled events for her on that date in the agenda table. | 9:00 AM-7:00 AM, 10:00 AM-6:00 PM => 0.0\n",
      "No events found for George on 2022/07/03 in the agenda table. | Art Auction => 0.0\n",
      "There are no entries in the agenda table for 2022/12/26 between 8:00 AM and 12:00 PM. | 9 => 0.0\n",
      "Amelia has no events on 2022/09/18 in the agenda table. | Yoga and meditation => 0.0\n"
     ]
    },
    {
     "name": "stderr",
     "output_type": "stream",
     "text": [
      "Processing examples:  17%|█▋        | 10/60 [01:13<05:59,  7.19s/it]"
     ]
    },
    {
     "name": "stdout",
     "output_type": "stream",
     "text": [
      "3 | 70 => 0.0\n",
      "James is available for a meeting on 2022/04/13 between 9:00 AM and 6:00 PM as there are no events scheduled for him on that day in the agenda table. | 9:00 AM-2:00 PM, 4:00 PM-7:30 PM, 10:30 PM-6:00 PM => 0.0\n",
      "Joshua is available all day on 2022/12/02 from 9:00 AM to 6:00 PM. | 9:00 AM-7:00 PM, 9:00 PM-6:00 PM => 0.0\n",
      "Elsie has events scheduled on three different dates in the agenda table. | 83 => 0.0\n",
      "Hector is available all day on 2022/01/12 between 9:00 AM and 6:00 PM as there are no conflicting events in the agenda table. | 9:00 AM-9:00 PM, 11:00 PM-6:00 PM => 1.0\n",
      "No events found for Benjamin on 2022/06/10 in the agenda table. | Join a fitness bootcamp => 0.0\n",
      "There are no entries in the agenda table for the specified date and time range. | 10 => 0.0\n"
     ]
    },
    {
     "name": "stderr",
     "output_type": "stream",
     "text": [
      "Processing examples:  28%|██▊       | 17/60 [01:14<01:57,  2.73s/it]"
     ]
    },
    {
     "name": "stdout",
     "output_type": "stream",
     "text": [
      "Daisy is available for a meeting on 2022/10/03 between 9:00 AM and 6:00 PM as there are no scheduled events for her on that date in the agenda table. | 9:00 AM-1:30 PM, 2:30 PM-6:00 PM => 0.0\n",
      "No events found for James on 2022/11/13 in the agenda table. | Food Festival => 0.0\n",
      "0 | 6 => 0.0\n",
      "There are no events listed on 2022/10/11 in the agenda table. | 23 => 0.0\n",
      "Lucy is available all day on 2022/10/09 between 9:00 AM and 6:00 PM as there are no scheduled events for that date in the agenda table. | 9:00 AM-11:00 AM, 12:00 PM-6:00 PM => 0.0\n",
      "There are no entries in the agenda table for 2022/10/06 between 9:00 AM and 1:00 PM. | 7 => 0.0\n"
     ]
    },
    {
     "name": "stderr",
     "output_type": "stream",
     "text": [
      "Processing examples:  35%|███▌      | 21/60 [01:16<01:14,  1.91s/it]"
     ]
    },
    {
     "name": "stdout",
     "output_type": "stream",
     "text": [
      "0 | 14 => 0.0\n"
     ]
    },
    {
     "name": "stderr",
     "output_type": "stream",
     "text": [
      "Processing examples:  70%|███████   | 42/60 [01:16<00:09,  1.83it/s]"
     ]
    },
    {
     "name": "stdout",
     "output_type": "stream",
     "text": [
      "Alice is available all day on 2022/03/09 between 9:00 AM and 6:00 PM as there are no events scheduled for her on that date in the agenda table. | 11:00 AM-6:00 PM => 0.5\n",
      "There are no events listed on 2022/07/15 in the agenda table. | 27 => 0.0\n",
      "Lily is available all day on 2022/02/17 between 9:00 AM and 6:00 PM as there are no scheduled events for her on that date in the agenda table. | 9:00 AM-8:00 PM, 11:00 PM-6:00 PM => 0.0\n"
     ]
    },
    {
     "name": "stderr",
     "output_type": "stream",
     "text": [
      "Processing examples: 100%|██████████| 60/60 [01:17<00:00,  1.29s/it]"
     ]
    },
    {
     "name": "stdout",
     "output_type": "stream",
     "text": [
      "There are no people scheduled between 7:00 PM and 9:00 PM on 2022/10/01 in the agenda table. | 9 => 0.0\n"
     ]
    },
    {
     "name": "stderr",
     "output_type": "stream",
     "text": [
      "\n"
     ]
    },
    {
     "name": "stdout",
     "output_type": "stream",
     "text": [
      "Processing batch 2 of 4...\n"
     ]
    },
    {
     "name": "stderr",
     "output_type": "stream",
     "text": [
      "Processing examples:   0%|          | 0/60 [00:00<?, ?it/s]"
     ]
    },
    {
     "name": "stdout",
     "output_type": "stream",
     "text": [
      "[query_llm] Events for Phoebe on 2022/12/19 in the agenda table\n",
      "Phoebe has no events on 2022/12/19 in the agenda table. | Cheese + Wine festival => 0.0\n",
      "[query_llm] Check Amelia's availability on 2022/10/18 between 9:00 AM and 6:00 PM in the agenda table.\n",
      "Amelia is available for a meeting on 2022/10/18 between 9:00 AM and 6:00 PM as there are no conflicting events listed in the agenda table. | 1:00 PM-6:00 PM, 8:00 PM-6:00 PM => 0.0\n",
      "[query_llm] Events for Lily on 2022/04/07 in the agenda table\n",
      "Lily has no events on 2022/04/07 in the agenda table. | Dinner with friends => 0.0\n",
      "[query_llm] Count the number of events on 2022/09/11 in the agenda table.\n",
      "\"There are no events listed on 2022/09/11 in the agenda table.\" | 23 => 0.0\n",
      "[query_llm] Check Jessica's availability on 2022/11/28 between 9:00 AM and 6:00 PM in the agenda table.\n",
      "Jessica is available for a meeting on 2022/11/28 between 9:00 AM and 6:00 PM as there are no scheduled events for that date in the agenda table. | 9:00 AM-7:00 PM, 9:00 PM-6:00 PM => 0.0\n",
      "[query_llm] Count the number of dates in the agenda table where Hannah has scheduled events.\n",
      "5 | 76 => 0.0\n",
      "[query_llm] Count the number of people scheduled between 6:00 PM and 8:00 PM on 2022/09/21 in the agenda table.\n",
      "0 | 6 => 0.0\n",
      "[query_llm] Check Elizabeth's availability on 2022/01/10 between 9:00 AM and 6:00 PM in the agenda table.\n",
      "Elizabeth is available for a meeting on 2022/01/10 between 9:00 AM and 6:00 PM as there are no conflicting appointments in the agenda table. | 9:00 AM-10:00 AM, 4:00 PM-8:00 PM, 10:00 PM-6:00 PM => 0.0\n",
      "[query_llm] Count the number of dates Charles has scheduled in the agenda table.\n",
      "Charles has scheduled events on 4 different dates in the agenda table. | 78 => 0.0\n",
      "[query_llm] Check Madison's availability on 2022/12/13 between 9:00 AM and 6:00 PM in the agenda table.\n",
      "Madison is available for a meeting on 2022/12/13 between 9:00 AM and 6:00 PM as there are no scheduled events for that day in the agenda table. | 9:00 AM-2:00 PM, 4:00 PM-6:00 PM => 0.0\n",
      "[query_llm] Count the number of dates in the agenda table where Summer is scheduled.\n",
      "3 | 70 => 0.0\n"
     ]
    },
    {
     "name": "stderr",
     "output_type": "stream",
     "text": [
      "Processing examples:   2%|▏         | 1/60 [00:29<28:36, 29.09s/it]"
     ]
    },
    {
     "name": "stdout",
     "output_type": "stream",
     "text": [
      "[query_llm] Events for Imogen on 2022/02/04 in the agenda table\n",
      "[query_llm] Check Hector's availability on 2022/01/01 between 9:00 AM and 6:00 PM in the agenda table.\n",
      "Hector is available all day on 2022/01/01 as there are no scheduled events for that date in the agenda table. | 9:00 AM-6:30 PM, 8:30 PM-6:00 PM => 0.0\n",
      "Imogen has no events scheduled on 2022/02/04 in the agenda table. | Food festival => 0.0\n",
      "[query_llm] Count the number of events on 2022/01/06 in the agenda table.\n",
      "There are no events listed on 2022/01/06 in the agenda table. | 30 => 0.0\n",
      "[query_llm] Count the number of dates in the agenda table where Imogen is scheduled.\n",
      "5 | 88 => 0.0\n",
      "[query_llm] Count the number of dates Christopher has scheduled in the agenda table.\n",
      "2 | 86 => 0.0\n",
      "[query_llm] Check Victoria's availability on 2022/08/05 between 9:00 AM and 6:00 PM in the agenda table.\n",
      "Victoria is available for a meeting on 2022/08/05 from 9:00 AM to 2:00 PM and from 4:00 PM to 6:00 PM. | 9:00 AM-2:00 PM, 4:00 PM-6:00 PM => 1.0\n",
      "[query_llm] Count the number of dates Harper is scheduled in the agenda table.\n",
      "5 | 94 => 0.0\n",
      "[query_llm] Count the number of people scheduled between 8:00 AM and 12:00 PM on 2022/12/26 in the agenda table.\n",
      "There are no entries in the agenda table for 2022/12/26 between 8:00 AM and 12:00 PM. | 9 => 0.0\n",
      "[query_llm] Events for George on 2022/07/03 in the agenda table\n",
      "No events found for George on 2022/07/03 in the agenda table. | Art Auction => 0.0\n",
      "[query_llm] Count the number of events on 2022/01/10 in the agenda table.\n",
      "[query_llm] Check Lucy's availability on 2022/10/09 between 9:00 AM and 6:00 PM in the agenda table.\n",
      "There are no events listed on 2022/01/10 in the agenda table. | 24 => 0.0\n",
      "Lucy is available all day on 2022/10/09 between 9:00 AM and 6:00 PM as there are no scheduled events for that date in the agenda table. | 9:00 AM-11:00 AM, 12:00 PM-6:00 PM => 0.0\n",
      "[query_llm] Events for Brian on 2022/03/17 in the agenda table\n",
      "Brian has no events scheduled on 2022/03/17 in the agenda table. | Art walk, Book signing => 0.0\n",
      "[query_llm] Count the number of people scheduled between 6:00 AM and 8:00 AM on 2022/12/19 in the agenda table.\n",
      "There are no entries in the agenda table for the specified date and time range. | 1 => 0.0\n",
      "[query_llm] Check Faith's availability on 2022/04/01 between 9:00 AM and 6:00 PM in the agenda table.\n",
      "Faith is available for a meeting on 2022/04/01 between 9:00 AM and 6:00 PM as there are no scheduled events for her on that date in the agenda table. | 9:00 AM-8:00 PM, 10:00 PM-6:00 PM => 1.0\n",
      "[query_llm] Count the number of people scheduled between 12:00 PM and 3:00 PM on 2022/03/13 in the agenda table.\n",
      "There are no entries in the agenda table for 2022/03/13 between 12:00 PM and 3:00 PM. | 6 => 0.0\n",
      "[query_llm] Check James' availability on 2022/04/13 between 9:00 AM and 6:00 PM in the agenda table.\n",
      "James is available for a meeting on 2022/04/13 between 9:00 AM and 6:00 PM as there are no events scheduled for him on that day in the agenda table. | 9:00 AM-2:00 PM, 4:00 PM-7:30 PM, 10:30 PM-6:00 PM => 0.0\n",
      "[query_llm] Count the number of events on 2022/10/11 in the agenda table.\n",
      "There are no events listed on 2022/10/11 in the agenda table. | 23 => 0.0\n",
      "[query_llm] Count the number of people scheduled between 9:00 AM and 1:00 PM on 2022/10/06 in the agenda table.\n",
      "There are no entries in the agenda table for 2022/10/06 between 9:00 AM and 1:00 PM. | 7 => 0.0\n",
      "[query_llm] Count the number of dates Elsie has scheduled in the agenda table.\n",
      "Elsie has events scheduled on three different dates in the agenda table. | 83 => 0.0\n",
      "[query_llm] Count the number of dates Florence has scheduled in the agenda table.\n",
      "Florence has no scheduled dates in the agenda table. | 69 => 0.0\n",
      "[query_llm] Count the number of dates in the agenda table where Hannah has scheduled events.\n",
      "5 | 76 => 0.0\n",
      "[query_llm] Count the number of people scheduled between 3:00 PM and 4:00 PM on 2022/05/27 in the agenda table.\n",
      "There are no entries in the agenda table for the specified date and time range. | 4 => 0.0\n",
      "[query_llm] Events for James on 2022/10/23\n",
      "James has no events on 2022/10/23 in the agenda table. | Mindfulness meditation class => 0.0\n",
      "[query_llm] Events for Benjamin on 2022/06/10 in the agenda table\n",
      "No events found for Benjamin on 2022/06/10 in the agenda table. | Join a fitness bootcamp => 0.0\n",
      "[query_llm] Check Joshua's availability on 2022/12/02 between 9:00 AM and 6:00 PM in the agenda table.\n",
      "Joshua is available all day on 2022/12/02 from 9:00 AM to 6:00 PM. | 9:00 AM-7:00 PM, 9:00 PM-6:00 PM => 0.0\n",
      "[query_llm] Count the number of people scheduled between 6:00 AM and 12:00 PM on 2022/08/28 in the agenda table.\n",
      "There are no entries in the agenda table for 2022/08/28 between 6:00 AM and 12:00 PM. | 7 => 0.0\n",
      "[query_llm] Events for James on 2022/11/13\n",
      "No events found for James on 2022/11/13 in the agenda table. | Food Festival => 0.0\n",
      "[query_llm] Events for Andrew on 2022/06/12 in the agenda table\n",
      "Andrew has no events on 2022/06/12 in the agenda table. | Artisanal candy making class => 0.0\n",
      "[query_llm] Count the number of events on 2022/01/31 in the agenda table.\n",
      "There are no events listed on 2022/01/31 in the agenda table. | 16 => 0.0\n",
      "[query_llm] Find events for Amelia on 2022/09/18 in the agenda table.\n",
      "Amelia has no events on 2022/09/18 in the agenda table. | Yoga and meditation => 0.0\n",
      "[query_llm] Count the number of people scheduled between 9:00 AM and 3:00 PM on 2022/06/20 in the agenda table.\n",
      "[query_llm] Events for Daniel on 2022/01/23 in the agenda table\n",
      "Daniel has no events on 2022/01/23 in the agenda table. | Boxing class, Street art tour => 0.0\n",
      "[query_llm] Count the number of events on 2022/09/20 in the agenda table.\n",
      "There are no events listed on 2022/09/20 in the agenda table. | 27 => 0.0\n",
      "[query_llm] Events for Summer on 2022/04/07 in the agenda table\n",
      "No events for Summer on 2022/04/07 in the agenda table. | Book club meeting => 0.0\n",
      "[query_llm] Sophia's events on 2022/03/10 in the agenda table\n",
      "Sophia has no events on 2022/03/10 in the agenda table. | Hiking trail => 0.0\n",
      "[query_llm] Count the number of events on 2022/12/18 in the agenda table.\n",
      "There are no events listed on 2022/12/18 in the agenda table. | 38 => 0.0\n",
      "[query_llm] Check Lily's availability on 2022/02/17 between 9:00 AM and 6:00 PM in the agenda table.\n",
      "Lily is available all day on 2022/02/17 between 9:00 AM and 6:00 PM as there are no scheduled events for her on that date in the agenda table. | 9:00 AM-8:00 PM, 11:00 PM-6:00 PM => 0.0\n",
      "[query_llm] Check Georgina's availability on 2022/03/20 between 9:00 AM and 6:00 PM in the agenda table.\n",
      "Georgina is available all day on 2022/03/20 between 9:00 AM and 6:00 PM as there are no scheduled events for her on that date in the agenda table. | 9:00 AM-7:00 AM, 10:00 AM-6:00 PM => 0.0\n",
      "[query_llm] Find available time slots for Alice on 2022/01/06 between 9:00 AM and 6:00 PM in the agenda table.\n"
     ]
    },
    {
     "name": "stderr",
     "output_type": "stream",
     "text": [
      "Processing examples:   3%|▎         | 2/60 [01:03<31:15, 32.34s/it]"
     ]
    },
    {
     "name": "stdout",
     "output_type": "stream",
     "text": [
      "Alice is available all day on 2022/01/06 between 9:00 AM and 6:00 PM. | 9:00 AM-1:00 PM, 3:00 PM-6:00 PM => 0.0\n",
      "[query_llm] Count the number of events on 2022/07/15 in the agenda table.\n",
      "There are no events listed on 2022/07/15 in the agenda table. | 27 => 0.0\n",
      "[query_llm] Check Hector's availability on 2022/01/12 between 9:00 AM and 6:00 PM in the agenda table.\n",
      "Hector is available all day on 2022/01/12 between 9:00 AM and 6:00 PM as there are no conflicting events in the agenda table. | 9:00 AM-9:00 PM, 11:00 PM-6:00 PM => 1.0\n",
      "[query_llm] Check Daisy's availability on 2022/10/03 between 9:00 AM and 6:00 PM in the agenda table.\n",
      "Daisy is available for a meeting on 2022/10/03 between 9:00 AM and 6:00 PM as there are no scheduled events for her on that date in the agenda table. | 9:00 AM-1:30 PM, 2:30 PM-6:00 PM => 0.0\n",
      "[query_llm] Count the number of people scheduled between 3:00 PM and 4:30 PM on 2022/06/21 in the agenda table.\n",
      "There are no entries in the agenda table for the specified date and time range. | 10 => 0.0\n",
      "[query_llm] Check Alice's availability on 2022/03/09 between 9:00 AM and 6:00 PM in the agenda table.\n",
      "Alice is available all day on 2022/03/09 between 9:00 AM and 6:00 PM as there are no events scheduled for her on that date in the agenda table. | 11:00 AM-6:00 PM => 0.5\n",
      "[query_llm] Count the number of people scheduled between 9:00 AM and 2:00 PM on 2022/06/07 in the agenda table.\n",
      "[query_llm] Count the number of people scheduled between 7:00 PM and 9:00 PM on 2022/10/01 in the agenda table.\n",
      "There are no relevant entries for 2022/06/07 between 9:00 AM and 2:00 PM in the agenda table. | 15 => 0.0\n",
      "There are no people scheduled between 7:00 PM and 9:00 PM on 2022/10/01 in the agenda table. | 9 => 0.0\n",
      "[query_llm] Count the number of events on 2022/12/07 in the agenda table.\n",
      "0 | 21 => 0.0\n",
      "[query_llm] Count the number of people scheduled between 6:30 PM and 8:00 PM on 2022/02/10 in the agenda table.\n",
      "There are no people scheduled between 6:30 PM and 8:00 PM on 2022/02/10 in the agenda table. | 7 => 0.0\n",
      "[query_llm] Count the number of events on 2022/01/08 in the agenda table.\n",
      "\"There are no events listed on 2022/01/08 in the agenda table.\" | 26 => 0.0\n"
     ]
    },
    {
     "name": "stderr",
     "output_type": "stream",
     "text": [
      "Processing examples: 100%|██████████| 60/60 [01:04<00:00,  1.08s/it]\n"
     ]
    },
    {
     "name": "stdout",
     "output_type": "stream",
     "text": [
      "[query_llm] List all events scheduled between 9:00 AM and 3:00 PM on 2022/06/20 in the agenda table.\n",
      "0 | 14 => 0.0\n",
      "Processing batch 3 of 4...\n"
     ]
    },
    {
     "name": "stderr",
     "output_type": "stream",
     "text": [
      "Processing examples:   0%|          | 0/60 [00:00<?, ?it/s]"
     ]
    },
    {
     "name": "stdout",
     "output_type": "stream",
     "text": [
      "[query_llm] Count the number of dates in the agenda table where Imogen is scheduled.\n",
      "5 | 88 => 0.0\n",
      "[query_llm] Count the number of events on 2022/12/07 in the agenda table.\n",
      "0 | 21 => 0.0\n",
      "[query_llm] Check Faith's availability on 2022/04/01 between 9:00 AM and 6:00 PM in the agenda table.\n",
      "Faith is available for a meeting on 2022/04/01 between 9:00 AM and 6:00 PM as there are no scheduled events for her on that date in the agenda table. | 9:00 AM-8:00 PM, 10:00 PM-6:00 PM => 1.0\n",
      "[query_llm] Find available time slots for Alice on 2022/01/06 between 9:00 AM and 6:00 PM in the agenda table.\n",
      "Alice is available all day on 2022/01/06 between 9:00 AM and 6:00 PM. | 9:00 AM-1:00 PM, 3:00 PM-6:00 PM => 0.0\n",
      "[query_llm] Events for Andrew on 2022/06/12 in the agenda table\n",
      "[query_llm] Events for Benjamin on 2022/06/10 in the agenda table\n",
      "Andrew has no events on 2022/06/12 in the agenda table. | Artisanal candy making class => 0.0\n",
      "No events found for Benjamin on 2022/06/10 in the agenda table. | Join a fitness bootcamp => 0.0\n",
      "[query_llm] Count the number of events on 2022/01/08 in the agenda table.\n",
      "\"There are no events listed on 2022/01/08 in the agenda table.\" | 26 => 0.0\n",
      "[query_llm] Count the number of events on 2022/12/18 in the agenda table.\n",
      "There are no events listed on 2022/12/18 in the agenda table. | 38 => 0.0\n",
      "[query_llm] Count the number of dates Florence has scheduled in the agenda table.\n",
      "Florence has no scheduled dates in the agenda table. | 69 => 0.0\n",
      "[query_llm] Find events for Amelia on 2022/09/18 in the agenda table.\n",
      "Amelia has no events on 2022/09/18 in the agenda table. | Yoga and meditation => 0.0\n",
      "[query_llm] Check Elizabeth's availability on 2022/01/10 between 9:00 AM and 6:00 PM in the agenda table.\n",
      "Elizabeth is available for a meeting on 2022/01/10 between 9:00 AM and 6:00 PM as there are no conflicting appointments in the agenda table. | 9:00 AM-10:00 AM, 4:00 PM-8:00 PM, 10:00 PM-6:00 PM => 0.0\n",
      "[query_llm] Check Madison's availability on 2022/12/13 between 9:00 AM and 6:00 PM in the agenda table.\n",
      "Madison is available for a meeting on 2022/12/13 between 9:00 AM and 6:00 PM as there are no scheduled events for that day in the agenda table. | 9:00 AM-2:00 PM, 4:00 PM-6:00 PM => 0.0\n",
      "[query_llm] Count the number of people scheduled between 9:00 AM and 3:00 PM on 2022/06/20 in the agenda table.\n",
      "[query_llm] Count the number of events on 2022/01/31 in the agenda table.\n",
      "There are no events listed on 2022/01/31 in the agenda table. | 16 => 0.0\n",
      "[query_llm] Check Daisy's availability on 2022/10/03 between 9:00 AM and 6:00 PM in the agenda table.\n",
      "Daisy is available for a meeting on 2022/10/03 between 9:00 AM and 6:00 PM as there are no scheduled events for her on that date in the agenda table. | 9:00 AM-1:30 PM, 2:30 PM-6:00 PM => 0.0\n",
      "[query_llm] Count the number of dates in the agenda table where Summer is scheduled.\n",
      "3 | 70 => 0.0\n",
      "[query_llm] Check Joshua's availability on 2022/12/02 between 9:00 AM and 6:00 PM in the agenda table.\n",
      "Joshua is available all day on 2022/12/02 from 9:00 AM to 6:00 PM. | 9:00 AM-7:00 PM, 9:00 PM-6:00 PM => 0.0\n",
      "[query_llm][query_llm] Count the number of people scheduled between 9:00 AM and 1:00 PM on 2022/10/06 in the agenda table.\n",
      " Count the number of people scheduled between 3:00 PM and 4:30 PM on 2022/06/21 in the agenda table.\n",
      "[query_llm] Count the number of people scheduled between 6:00 AM and 12:00 PM on 2022/08/28 in the agenda table.\n",
      "[query_llm] Count the number of people scheduled between 7:00 PM and 9:00 PM on 2022/10/01 in the agenda table.\n",
      "There are no entries in the agenda table for 2022/08/28 between 6:00 AM and 12:00 PM. | 7 => 0.0\n",
      "There are no entries in the agenda table for 2022/10/06 between 9:00 AM and 1:00 PM. | 7 => 0.0\n",
      "There are no entries in the agenda table for the specified date and time range. | 10 => 0.0\n",
      "There are no people scheduled between 7:00 PM and 9:00 PM on 2022/10/01 in the agenda table. | 9 => 0.0\n",
      "[query_llm] Count the number of dates in the agenda table where Hannah has scheduled events.\n",
      "5 | 76 => 0.0\n",
      "[query_llm] Events for Lily on 2022/04/07 in the agenda table\n",
      "Lily has no events on 2022/04/07 in the agenda table. | Dinner with friends => 0.0\n",
      "[query_llm] Count the number of people scheduled between 6:30 PM and 8:00 PM on 2022/02/10 in the agenda table.\n",
      "There are no people scheduled between 6:30 PM and 8:00 PM on 2022/02/10 in the agenda table. | 7 => 0.0\n"
     ]
    },
    {
     "name": "stderr",
     "output_type": "stream",
     "text": [
      "Processing examples:   2%|▏         | 1/60 [00:39<38:33, 39.21s/it]"
     ]
    },
    {
     "name": "stdout",
     "output_type": "stream",
     "text": [
      "[query_llm] Count the number of events on 2022/01/06 in the agenda table.\n",
      "There are no events listed on 2022/01/06 in the agenda table. | 30 => 0.0\n",
      "[query_llm] Events for Brian on 2022/03/17 in the agenda table\n",
      "Brian has no events scheduled on 2022/03/17 in the agenda table. | Art walk, Book signing => 0.0\n",
      "[query_llm] Count the number of dates Christopher has scheduled in the agenda table.\n",
      "2 | 86 => 0.0\n",
      "[query_llm] Count the number of people scheduled between 12:00 PM and 3:00 PM on 2022/03/13 in the agenda table.\n",
      "There are no entries in the agenda table for 2022/03/13 between 12:00 PM and 3:00 PM. | 6 => 0.0\n",
      "[query_llm] Events for James on 2022/10/23\n",
      "James has no events on 2022/10/23 in the agenda table. | Mindfulness meditation class => 0.0\n",
      "[query_llm] Events for Imogen on 2022/02/04 in the agenda table\n",
      "Imogen has no events scheduled on 2022/02/04 in the agenda table. | Food festival => 0.0\n",
      "[query_llm] Count the number of dates in the agenda table where Hannah has scheduled events.\n",
      "5 | 76 => 0.0\n",
      "[query_llm] Count the number of people scheduled between 9:00 AM and 2:00 PM on 2022/06/07 in the agenda table.\n",
      "[query_llm] Check Amelia's availability on 2022/10/18 between 9:00 AM and 6:00 PM in the agenda table.\n",
      "There are no relevant entries for 2022/06/07 between 9:00 AM and 2:00 PM in the agenda table. | 15 => 0.0\n",
      "Amelia is available for a meeting on 2022/10/18 between 9:00 AM and 6:00 PM as there are no conflicting events listed in the agenda table. | 1:00 PM-6:00 PM, 8:00 PM-6:00 PM => 0.0\n",
      "[query_llm] Check Lily's availability on 2022/02/17 between 9:00 AM and 6:00 PM in the agenda table.\n",
      "Lily is available all day on 2022/02/17 between 9:00 AM and 6:00 PM as there are no scheduled events for her on that date in the agenda table. | 9:00 AM-8:00 PM, 11:00 PM-6:00 PM => 0.0\n",
      "[query_llm] Events for George on 2022/07/03 in the agenda table\n",
      "No events found for George on 2022/07/03 in the agenda table. | Art Auction => 0.0\n",
      "[query_llm] Count the number of events on 2022/10/11 in the agenda table.\n",
      "There are no events listed on 2022/10/11 in the agenda table. | 23 => 0.0\n",
      "[query_llm] Events for James on 2022/11/13\n",
      "No events found for James on 2022/11/13 in the agenda table. | Food Festival => 0.0\n",
      "[query_llm] Count the number of dates Harper is scheduled in the agenda table.\n",
      "5 | 94 => 0.0\n",
      "[query_llm] Check James' availability on 2022/04/13 between 9:00 AM and 6:00 PM in the agenda table.\n",
      "James is available for a meeting on 2022/04/13 between 9:00 AM and 6:00 PM as there are no events scheduled for him on that day in the agenda table. | 9:00 AM-2:00 PM, 4:00 PM-7:30 PM, 10:30 PM-6:00 PM => 0.0\n",
      "[query_llm] Check Georgina's availability on 2022/03/20 between 9:00 AM and 6:00 PM in the agenda table.\n",
      "Georgina is available all day on 2022/03/20 between 9:00 AM and 6:00 PM as there are no scheduled events for her on that date in the agenda table. | 9:00 AM-7:00 AM, 10:00 AM-6:00 PM => 0.0\n",
      "[query_llm] Count the number of events on 2022/09/11 in the agenda table.\n",
      "\"There are no events listed on 2022/09/11 in the agenda table.\" | 23 => 0.0\n",
      "[query_llm] Events for Phoebe on 2022/12/19 in the agenda table\n",
      "Phoebe has no events on 2022/12/19 in the agenda table. | Cheese + Wine festival => 0.0\n"
     ]
    },
    {
     "name": "stderr",
     "output_type": "stream",
     "text": [
      "Processing examples:   5%|▌         | 3/60 [00:58<16:28, 17.34s/it]"
     ]
    },
    {
     "name": "stdout",
     "output_type": "stream",
     "text": [
      "[query_llm] Count the number of dates Charles has scheduled in the agenda table.\n",
      "[query_llm] Events for Summer on 2022/04/07 in the agenda table\n",
      "Charles has scheduled events on 4 different dates in the agenda table. | 78 => 0.0\n",
      "No events for Summer on 2022/04/07 in the agenda table. | Book club meeting => 0.0\n",
      "[query_llm] Check Victoria's availability on 2022/08/05 between 9:00 AM and 6:00 PM in the agenda table.\n",
      "[query_llm] Count the number of events on 2022/09/20 in the agenda table.\n",
      "Victoria is available for a meeting on 2022/08/05 from 9:00 AM to 2:00 PM and from 4:00 PM to 6:00 PM. | 9:00 AM-2:00 PM, 4:00 PM-6:00 PM => 1.0\n",
      "There are no events listed on 2022/09/20 in the agenda table. | 27 => 0.0\n",
      "[query_llm] Count the number of events on 2022/01/10 in the agenda table.\n",
      "There are no events listed on 2022/01/10 in the agenda table. | 24 => 0.0\n",
      "[query_llm] Check Jessica's availability on 2022/11/28 between 9:00 AM and 6:00 PM in the agenda table.\n",
      "Jessica is available for a meeting on 2022/11/28 between 9:00 AM and 6:00 PM as there are no scheduled events for that date in the agenda table. | 9:00 AM-7:00 PM, 9:00 PM-6:00 PM => 0.0\n",
      "[query_llm] Count the number of people scheduled between 8:00 AM and 12:00 PM on 2022/12/26 in the agenda table.\n",
      "There are no entries in the agenda table for 2022/12/26 between 8:00 AM and 12:00 PM. | 9 => 0.0\n",
      "[query_llm] Events for Daniel on 2022/01/23 in the agenda table\n",
      "Daniel has no events on 2022/01/23 in the agenda table. | Boxing class, Street art tour => 0.0\n",
      "[query_llm] Check Lucy's availability on 2022/10/09 between 9:00 AM and 6:00 PM in the agenda table.\n",
      "Lucy is available all day on 2022/10/09 between 9:00 AM and 6:00 PM as there are no scheduled events for that date in the agenda table. | 9:00 AM-11:00 AM, 12:00 PM-6:00 PM => 0.0\n",
      "[query_llm] Sophia's events on 2022/03/10 in the agenda table\n",
      "Sophia has no events on 2022/03/10 in the agenda table. | Hiking trail => 0.0\n",
      "[query_llm] Count the number of people scheduled between 3:00 PM and 4:00 PM on 2022/05/27 in the agenda table.\n",
      "There are no entries in the agenda table for the specified date and time range. | 4 => 0.0\n",
      "[query_llm] Count the number of people scheduled between 6:00 PM and 8:00 PM on 2022/09/21 in the agenda table.\n",
      "[query_llm] Count the number of dates Elsie has scheduled in the agenda table.\n",
      "0 | 6 => 0.0\n"
     ]
    },
    {
     "name": "stderr",
     "output_type": "stream",
     "text": [
      "Processing examples:  10%|█         | 6/60 [01:03<06:54,  7.68s/it]"
     ]
    },
    {
     "name": "stdout",
     "output_type": "stream",
     "text": [
      "Elsie has events scheduled on three different dates in the agenda table. | 83 => 0.0\n",
      "[query_llm] Count the number of people scheduled between 6:00 AM and 8:00 AM on 2022/12/19 in the agenda table.\n",
      "There are no entries in the agenda table for the specified date and time range. | 1 => 0.0\n",
      "[query_llm] Check Alice's availability on 2022/03/09 between 9:00 AM and 6:00 PM in the agenda table.\n",
      "[query_llm] Count the number of events on 2022/07/15 in the agenda table.\n",
      "Alice is available all day on 2022/03/09 between 9:00 AM and 6:00 PM as there are no events scheduled for her on that date in the agenda table. | 11:00 AM-6:00 PM => 0.5\n",
      "There are no events listed on 2022/07/15 in the agenda table. | 27 => 0.0\n",
      "[query_llm] Check Hector's availability on 2022/01/01 between 9:00 AM and 6:00 PM in the agenda table.\n",
      "[query_llm] List all events scheduled between 9:00 AM and 3:00 PM on 2022/06/20 in the agenda table.\n",
      "[query_llm] Check Hector's availability on 2022/01/12 between 9:00 AM and 6:00 PM in the agenda table.\n",
      "Hector is available all day on 2022/01/01 as there are no scheduled events for that date in the agenda table. | 9:00 AM-6:30 PM, 8:30 PM-6:00 PM => 0.0\n",
      "0 | 14 => 0.0\n",
      "Hector is available all day on 2022/01/12 between 9:00 AM and 6:00 PM as there are no conflicting events in the agenda table. | 9:00 AM-9:00 PM, 11:00 PM-6:00 PM => 1.0\n"
     ]
    },
    {
     "name": "stderr",
     "output_type": "stream",
     "text": [
      "Processing examples: 100%|██████████| 60/60 [01:03<00:00,  1.06s/it]\n"
     ]
    },
    {
     "name": "stdout",
     "output_type": "stream",
     "text": [
      "Processing batch 4 of 4...\n"
     ]
    },
    {
     "name": "stderr",
     "output_type": "stream",
     "text": [
      "Processing examples:   0%|          | 0/60 [00:00<?, ?it/s]"
     ]
    },
    {
     "name": "stdout",
     "output_type": "stream",
     "text": [
      "[query_llm] Check James' availability on 2022/04/13 between 9:00 AM and 6:00 PM in the agenda table.\n",
      "[query_llm] Events for Lily on 2022/04/07 in the agenda table\n",
      "James is available for a meeting on 2022/04/13 between 9:00 AM and 6:00 PM as there are no events scheduled for him on that day in the agenda table. | 9:00 AM-2:00 PM, 4:00 PM-7:30 PM, 10:30 PM-6:00 PM => 0.0\n",
      "Lily has no events on 2022/04/07 in the agenda table. | Dinner with friends => 0.0\n",
      "[query_llm] Check Amelia's availability on 2022/10/18 between 9:00 AM and 6:00 PM in the agenda table.\n",
      "Amelia is available for a meeting on 2022/10/18 between 9:00 AM and 6:00 PM as there are no conflicting events listed in the agenda table. | 1:00 PM-6:00 PM, 8:00 PM-6:00 PM => 0.0\n",
      "[query_llm] Events for Brian on 2022/03/17 in the agenda table\n",
      "Brian has no events scheduled on 2022/03/17 in the agenda table. | Art walk, Book signing => 0.0\n",
      "[query_llm] Count the number of people scheduled between 6:00 PM and 8:00 PM on 2022/09/21 in the agenda table.\n",
      "0 | 6 => 0.0\n",
      "[query_llm] Check Jessica's availability on 2022/11/28 between 9:00 AM and 6:00 PM in the agenda table.\n",
      "Jessica is available for a meeting on 2022/11/28 between 9:00 AM and 6:00 PM as there are no scheduled events for that date in the agenda table. | 9:00 AM-7:00 PM, 9:00 PM-6:00 PM => 0.0\n",
      "[query_llm] Count the number of people scheduled between 8:00 AM and 12:00 PM on 2022/12/26 in the agenda table.\n",
      "There are no entries in the agenda table for 2022/12/26 between 8:00 AM and 12:00 PM. | 9 => 0.0\n",
      "[query_llm] Sophia's events on 2022/03/10 in the agenda table\n",
      "Sophia has no events on 2022/03/10 in the agenda table. | Hiking trail => 0.0\n",
      "[query_llm] Count the number of events on 2022/01/10 in the agenda table.\n",
      "[query_llm] Check Lily's availability on 2022/02/17 between 9:00 AM and 6:00 PM in the agenda table.\n",
      "There are no events listed on 2022/01/10 in the agenda table. | 24 => 0.0\n",
      "Lily is available all day on 2022/02/17 between 9:00 AM and 6:00 PM as there are no scheduled events for her on that date in the agenda table. | 9:00 AM-8:00 PM, 11:00 PM-6:00 PM => 0.0\n",
      "[query_llm] Check Lucy's availability on 2022/10/09 between 9:00 AM and 6:00 PM in the agenda table.\n",
      "Lucy is available all day on 2022/10/09 between 9:00 AM and 6:00 PM as there are no scheduled events for that date in the agenda table. | 9:00 AM-11:00 AM, 12:00 PM-6:00 PM => 0.0\n",
      "[query_llm] Count the number of dates in the agenda table where Hannah has scheduled events.\n",
      "5 | 76 => 0.0\n",
      "[query_llm] Count the number of events on 2022/12/18 in the agenda table.\n",
      "There are no events listed on 2022/12/18 in the agenda table. | 38 => 0.0\n",
      "[query_llm] Count the number of dates Charles has scheduled in the agenda table.\n",
      "Charles has scheduled events on 4 different dates in the agenda table. | 78 => 0.0\n",
      "[query_llm] Check Joshua's availability on 2022/12/02 between 9:00 AM and 6:00 PM in the agenda table.\n",
      "Joshua is available all day on 2022/12/02 from 9:00 AM to 6:00 PM. | 9:00 AM-7:00 PM, 9:00 PM-6:00 PM => 0.0\n",
      "[query_llm] Count the number of events on 2022/10/11 in the agenda table.\n",
      "[query_llm] Find available time slots for Alice on 2022/01/06 between 9:00 AM and 6:00 PM in the agenda table.\n",
      "There are no events listed on 2022/10/11 in the agenda table. | 23 => 0.0\n",
      "Alice is available all day on 2022/01/06 between 9:00 AM and 6:00 PM. | 9:00 AM-1:00 PM, 3:00 PM-6:00 PM => 0.0\n",
      "[query_llm] Count the number of events on 2022/01/31 in the agenda table.\n",
      "There are no events listed on 2022/01/31 in the agenda table. | 16 => 0.0\n",
      "[query_llm] Count the number of dates Elsie has scheduled in the agenda table.\n",
      "Elsie has events scheduled on three different dates in the agenda table. | 83 => 0.0\n"
     ]
    },
    {
     "name": "stderr",
     "output_type": "stream",
     "text": [
      "Processing examples:   2%|▏         | 1/60 [00:45<44:40, 45.43s/it]"
     ]
    },
    {
     "name": "stdout",
     "output_type": "stream",
     "text": [
      "[query_llm] Count the number of events on 2022/01/06 in the agenda table.\n",
      "There are no events listed on 2022/01/06 in the agenda table. | 30 => 0.0\n",
      "[query_llm] Check Georgina's availability on 2022/03/20 between 9:00 AM and 6:00 PM in the agenda table.\n",
      "Georgina is available all day on 2022/03/20 between 9:00 AM and 6:00 PM as there are no scheduled events for her on that date in the agenda table. | 9:00 AM-7:00 AM, 10:00 AM-6:00 PM => 0.0\n",
      "[query_llm] Events for Imogen on 2022/02/04 in the agenda table\n",
      "Imogen has no events scheduled on 2022/02/04 in the agenda table. | Food festival => 0.0\n",
      "[query_llm] Count the number of people scheduled between 3:00 PM and 4:00 PM on 2022/05/27 in the agenda table.\n",
      "There are no entries in the agenda table for the specified date and time range. | 4 => 0.0\n",
      "[query_llm] Events for Daniel on 2022/01/23 in the agenda table\n",
      "Daniel has no events on 2022/01/23 in the agenda table. | Boxing class, Street art tour => 0.0\n",
      "[query_llm] Check Alice's availability on 2022/03/09 between 9:00 AM and 6:00 PM in the agenda table.\n",
      "Alice is available all day on 2022/03/09 between 9:00 AM and 6:00 PM as there are no events scheduled for her on that date in the agenda table. | 11:00 AM-6:00 PM => 0.5\n"
     ]
    },
    {
     "name": "stderr",
     "output_type": "stream",
     "text": [
      "Processing examples:   7%|▋         | 4/60 [00:53<09:59, 10.71s/it]"
     ]
    },
    {
     "name": "stdout",
     "output_type": "stream",
     "text": [
      "[query_llm] Count the number of dates Christopher has scheduled in the agenda table.\n",
      "2 | 86 => 0.0\n",
      "[query_llm] Events for Andrew on 2022/06/12 in the agenda table\n",
      "Andrew has no events on 2022/06/12 in the agenda table. | Artisanal candy making class => 0.0\n",
      "[query_llm] Check Hector's availability on 2022/01/12 between 9:00 AM and 6:00 PM in the agenda table.\n",
      "Hector is available all day on 2022/01/12 between 9:00 AM and 6:00 PM as there are no conflicting events in the agenda table. | 9:00 AM-9:00 PM, 11:00 PM-6:00 PM => 1.0\n",
      "[query_llm] Count the number of events on 2022/09/11 in the agenda table.\n",
      "\"There are no events listed on 2022/09/11 in the agenda table.\" | 23 => 0.0\n",
      "[query_llm] Count the number of dates in the agenda table where Imogen is scheduled.\n",
      "5 | 88 => 0.0\n",
      "[query_llm] Count the number of dates in the agenda table where Summer is scheduled.\n",
      "3 | 70 => 0.0\n",
      "[query_llm] Count the number of events on 2022/12/07 in the agenda table.\n",
      "0 | 21 => 0.0\n",
      "[query_llm] Check Victoria's availability on 2022/08/05 between 9:00 AM and 6:00 PM in the agenda table.\n",
      "Victoria is available for a meeting on 2022/08/05 from 9:00 AM to 2:00 PM and from 4:00 PM to 6:00 PM. | 9:00 AM-2:00 PM, 4:00 PM-6:00 PM => 1.0\n",
      "[query_llm] Events for George on 2022/07/03 in the agenda table\n",
      "No events found for George on 2022/07/03 in the agenda table. | Art Auction => 0.0\n",
      "[query_llm] Check Elizabeth's availability on 2022/01/10 between 9:00 AM and 6:00 PM in the agenda table.\n",
      "Elizabeth is available for a meeting on 2022/01/10 between 9:00 AM and 6:00 PM as there are no conflicting appointments in the agenda table. | 9:00 AM-10:00 AM, 4:00 PM-8:00 PM, 10:00 PM-6:00 PM => 0.0\n",
      "[query_llm] Check Madison's availability on 2022/12/13 between 9:00 AM and 6:00 PM in the agenda table.\n",
      "Madison is available for a meeting on 2022/12/13 between 9:00 AM and 6:00 PM as there are no scheduled events for that day in the agenda table. | 9:00 AM-2:00 PM, 4:00 PM-6:00 PM => 0.0\n",
      "[query_llm] Count the number of people scheduled between 6:30 PM and 8:00 PM on 2022/02/10 in the agenda table.\n",
      "There are no people scheduled between 6:30 PM and 8:00 PM on 2022/02/10 in the agenda table. | 7 => 0.0\n",
      "[query_llm] Find events for Amelia on 2022/09/18 in the agenda table.\n",
      "Amelia has no events on 2022/09/18 in the agenda table. | Yoga and meditation => 0.0\n",
      "[query_llm] Count the number of dates Florence has scheduled in the agenda table.\n",
      "Florence has no scheduled dates in the agenda table. | 69 => 0.0\n",
      "[query_llm] Check Faith's availability on 2022/04/01 between 9:00 AM and 6:00 PM in the agenda table.\n",
      "Faith is available for a meeting on 2022/04/01 between 9:00 AM and 6:00 PM as there are no scheduled events for her on that date in the agenda table. | 9:00 AM-8:00 PM, 10:00 PM-6:00 PM => 1.0\n",
      "[query_llm] Events for Benjamin on 2022/06/10 in the agenda table\n",
      "No events found for Benjamin on 2022/06/10 in the agenda table. | Join a fitness bootcamp => 0.0\n",
      "[query_llm] Count the number of people scheduled between 7:00 PM and 9:00 PM on 2022/10/01 in the agenda table.\n",
      "There are no people scheduled between 7:00 PM and 9:00 PM on 2022/10/01 in the agenda table. | 9 => 0.0\n",
      "[query_llm] Count the number of people scheduled between 9:00 AM and 2:00 PM on 2022/06/07 in the agenda table.\n",
      "There are no relevant entries for 2022/06/07 between 9:00 AM and 2:00 PM in the agenda table. | 15 => 0.0\n",
      "[query_llm] Events for Summer on 2022/04/07 in the agenda table\n",
      "No events for Summer on 2022/04/07 in the agenda table. | Book club meeting => 0.0\n"
     ]
    },
    {
     "name": "stderr",
     "output_type": "stream",
     "text": [
      "Processing examples:  10%|█         | 6/60 [01:14<09:38, 10.71s/it]"
     ]
    },
    {
     "name": "stdout",
     "output_type": "stream",
     "text": [
      "[query_llm] Count the number of people scheduled between 6:00 AM and 8:00 AM on 2022/12/19 in the agenda table.\n",
      "There are no entries in the agenda table for the specified date and time range. | 1 => 0.0\n",
      "[query_llm] Count the number of events on 2022/09/20 in the agenda table.\n",
      "There are no events listed on 2022/09/20 in the agenda table. | 27 => 0.0\n",
      "[query_llm] Events for James on 2022/11/13\n",
      "No events found for James on 2022/11/13 in the agenda table. | Food Festival => 0.0\n",
      "[query_llm] Check Daisy's availability on 2022/10/03 between 9:00 AM and 6:00 PM in the agenda table.\n",
      "Daisy is available for a meeting on 2022/10/03 between 9:00 AM and 6:00 PM as there are no scheduled events for her on that date in the agenda table. | 9:00 AM-1:30 PM, 2:30 PM-6:00 PM => 0.0\n",
      "[query_llm] Count the number of people scheduled between 6:00 AM and 12:00 PM on 2022/08/28 in the agenda table.\n",
      "[query_llm] Count the number of people scheduled between 9:00 AM and 1:00 PM on 2022/10/06 in the agenda table.\n",
      "There are no entries in the agenda table for 2022/08/28 between 6:00 AM and 12:00 PM. | 7 => 0.0\n",
      "There are no entries in the agenda table for 2022/10/06 between 9:00 AM and 1:00 PM. | 7 => 0.0\n",
      "[query_llm] Count the number of events on 2022/07/15 in the agenda table.\n"
     ]
    },
    {
     "name": "stderr",
     "output_type": "stream",
     "text": [
      "Processing examples:  12%|█▏        | 7/60 [01:15<07:22,  8.35s/it]"
     ]
    },
    {
     "name": "stdout",
     "output_type": "stream",
     "text": [
      "[query_llm] Count the number of dates in the agenda table where Hannah has scheduled events.\n",
      "There are no events listed on 2022/07/15 in the agenda table. | 27 => 0.0\n",
      "5 | 76 => 0.0\n",
      "[query_llm] Count the number of people scheduled between 12:00 PM and 3:00 PM on 2022/03/13 in the agenda table.\n",
      "There are no entries in the agenda table for 2022/03/13 between 12:00 PM and 3:00 PM. | 6 => 0.0\n",
      "[query_llm] Count the number of events on 2022/01/08 in the agenda table.\n"
     ]
    },
    {
     "name": "stderr",
     "output_type": "stream",
     "text": [
      "Processing examples:  33%|███▎      | 20/60 [01:15<00:54,  1.35s/it]"
     ]
    },
    {
     "name": "stdout",
     "output_type": "stream",
     "text": [
      "\"There are no events listed on 2022/01/08 in the agenda table.\" | 26 => 0.0\n",
      "[query_llm] Count the number of dates Harper is scheduled in the agenda table.\n",
      "5 | 94 => 0.0\n",
      "[query_llm] Check Hector's availability on 2022/01/01 between 9:00 AM and 6:00 PM in the agenda table.\n",
      "Hector is available all day on 2022/01/01 as there are no scheduled events for that date in the agenda table. | 9:00 AM-6:30 PM, 8:30 PM-6:00 PM => 0.0\n",
      "[query_llm] Count the number of people scheduled between 9:00 AM and 3:00 PM on 2022/06/20 in the agenda table.\n",
      "[query_llm] Count the number of people scheduled between 3:00 PM and 4:30 PM on 2022/06/21 in the agenda table.\n",
      "[query_llm] Events for James on 2022/10/23\n",
      "There are no entries in the agenda table for the specified date and time range. | 10 => 0.0\n",
      "James has no events on 2022/10/23 in the agenda table. | Mindfulness meditation class => 0.0\n",
      "[query_llm] Events for Phoebe on 2022/12/19 in the agenda table\n",
      "Phoebe has no events on 2022/12/19 in the agenda table. | Cheese + Wine festival => 0.0\n"
     ]
    },
    {
     "name": "stderr",
     "output_type": "stream",
     "text": [
      "Processing examples: 100%|██████████| 60/60 [01:17<00:00,  1.30s/it]"
     ]
    },
    {
     "name": "stdout",
     "output_type": "stream",
     "text": [
      "[query_llm] List all events scheduled between 9:00 AM and 3:00 PM on 2022/06/20 in the agenda table.\n",
      "0 | 14 => 0.0\n"
     ]
    },
    {
     "name": "stderr",
     "output_type": "stream",
     "text": [
      "\n"
     ]
    },
    {
     "data": {
      "text/plain": [
       "0.058333333333333334"
      ]
     },
     "execution_count": 22,
     "metadata": {},
     "output_type": "execute_result"
    }
   ],
   "source": [
    "batch_num = 4\n",
    "iterative_monkey.thread_safe_evaluator_batch(toolqa_test, optimized_actor_agent,batch_num)"
   ]
  }
 ],
 "metadata": {
  "kernelspec": {
   "display_name": "stark11",
   "language": "python",
   "name": "python3"
  },
  "language_info": {
   "codemirror_mode": {
    "name": "ipython",
    "version": 3
   },
   "file_extension": ".py",
   "mimetype": "text/x-python",
   "name": "python",
   "nbconvert_exporter": "python",
   "pygments_lexer": "ipython3",
   "version": "3.11.9"
  }
 },
 "nbformat": 4,
 "nbformat_minor": 2
}
