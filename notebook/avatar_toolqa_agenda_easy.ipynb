{
 "cells": [
  {
   "cell_type": "code",
   "execution_count": 3,
   "metadata": {},
   "outputs": [],
   "source": [
    "HF_USR_NAME = 'shirwu'\n",
    "TOOL_QA_ROOT = ''"
   ]
  },
  {
   "cell_type": "markdown",
   "metadata": {},
   "source": [
    "### Upload to Huggingface"
   ]
  },
  {
   "cell_type": "code",
   "execution_count": 4,
   "metadata": {},
   "outputs": [],
   "source": [
    "import pandas as pd\n",
    "from datasets import Dataset\n",
    "from datasets import DatasetDict\n",
    "\n",
    "level = 'easy'\n",
    "dataset = 'agenda'\n",
    "\n",
    "dataset_dir = f'{dataset}-{level}.jsonl'\n",
    "hf_dataset_name = f'toolqa_{dataset}_{level}'\n",
    "\n",
    "df = pd.read_json(dataset_dir, lines=True)\n",
    "df.head()\n",
    "\n",
    "df['answer'] = df['answer'].apply(lambda x: str(x))\n",
    "dataset = Dataset.from_pandas(df)"
   ]
  },
  {
   "cell_type": "code",
   "execution_count": 5,
   "metadata": {},
   "outputs": [],
   "source": [
    "dataset_dict = DatasetDict({'train': dataset})\n",
    "# push to hf for the ease for using dspy\n",
    "# dataset_dict.push_to_hub(repo_id=hf_dataset_name, private=True)"
   ]
  },
  {
   "cell_type": "markdown",
   "metadata": {},
   "source": [
    "## Setting Up\n",
    "\n",
    "* ToolQA\n",
    "\n",
    "Before loading our datasets and going to the execution part, we'll need to configure the `lm` in `dspy.settings`. For the purpose of this notebook we'll be using `gpt-4o`."
   ]
  },
  {
   "cell_type": "code",
   "execution_count": 6,
   "metadata": {},
   "outputs": [],
   "source": [
    "import os\n",
    "import dspy\n",
    "import warnings\n",
    "warnings.simplefilter(\"ignore\", UserWarning)\n",
    "warnings.simplefilter(\"ignore\", FutureWarning)\n",
    "\n",
    "\n",
    "dspy.settings.configure(\n",
    "    lm=dspy.OpenAI(\n",
    "        model=\"gpt-4o\",\n",
    "        api_key=os.getenv(\"OPENAI_API_KEY\"),\n",
    "        max_tokens=2048,\n",
    "        temperature=0.6\n",
    "    )\n",
    ")"
   ]
  },
  {
   "cell_type": "markdown",
   "metadata": {},
   "source": [
    "## Defining Signature"
   ]
  },
  {
   "cell_type": "code",
   "execution_count": 7,
   "metadata": {},
   "outputs": [],
   "source": [
    "class ToolQASignature(dspy.Signature):\n",
    "    \"\"\"You will be given a question. Your task is to answer the question with a short response. For example, (1) Question: \\'How many dates in the agenda table have Alexander scheduled?\\' => Answer: \\'73\\' (2) Question: \\'What events does Jade have on 2022/01/25 in the agenda table?\\' => Answer: \\'Kids concert\\'\n",
    "    \"\"\"\n",
    "    \n",
    "    question: str = dspy.InputField(\n",
    "        prefix=\"Question:\",\n",
    "        desc=\"question to ask\",\n",
    "        format=lambda x: x.strip(),\n",
    "    )\n",
    "    answer: str = dspy.OutputField(\n",
    "        prefix=\"Answer:\",\n",
    "        desc=\"answer to the question\",\n",
    "    )\n"
   ]
  },
  {
   "cell_type": "markdown",
   "metadata": {},
   "source": [
    "## Loading Datasets"
   ]
  },
  {
   "cell_type": "code",
   "execution_count": 8,
   "metadata": {},
   "outputs": [],
   "source": [
    "from random import sample\n",
    "from dspy.datasets import DataLoader\n",
    "\n",
    "dl = DataLoader()"
   ]
  },
  {
   "cell_type": "code",
   "execution_count": 9,
   "metadata": {},
   "outputs": [
    {
     "data": {
      "application/vnd.jupyter.widget-view+json": {
       "model_id": "ecdb8b200752465bb8749cf0b170e354",
       "version_major": 2,
       "version_minor": 0
      },
      "text/plain": [
       "Downloading readme:   0%|          | 0.00/337 [00:00<?, ?B/s]"
      ]
     },
     "metadata": {},
     "output_type": "display_data"
    },
    {
     "data": {
      "application/vnd.jupyter.widget-view+json": {
       "model_id": "9dca1608fcfd4226b673a3c0d1318f64",
       "version_major": 2,
       "version_minor": 0
      },
      "text/plain": [
       "Downloading data files:   0%|          | 0/1 [00:00<?, ?it/s]"
      ]
     },
     "metadata": {},
     "output_type": "display_data"
    },
    {
     "data": {
      "application/vnd.jupyter.widget-view+json": {
       "model_id": "3c36d08301a3419e84258e625f04b67c",
       "version_major": 2,
       "version_minor": 0
      },
      "text/plain": [
       "Downloading data:   0%|          | 0.00/7.37k [00:00<?, ?B/s]"
      ]
     },
     "metadata": {},
     "output_type": "display_data"
    },
    {
     "data": {
      "application/vnd.jupyter.widget-view+json": {
       "model_id": "434c3e303e9f4d4c8f321f170bb58c71",
       "version_major": 2,
       "version_minor": 0
      },
      "text/plain": [
       "Extracting data files:   0%|          | 0/1 [00:00<?, ?it/s]"
      ]
     },
     "metadata": {},
     "output_type": "display_data"
    },
    {
     "data": {
      "application/vnd.jupyter.widget-view+json": {
       "model_id": "18363cdb78e24838afacf4b47e332e7f",
       "version_major": 2,
       "version_minor": 0
      },
      "text/plain": [
       "Generating train split:   0%|          | 0/100 [00:00<?, ? examples/s]"
      ]
     },
     "metadata": {},
     "output_type": "display_data"
    }
   ],
   "source": [
    "tool_qa = dl.from_huggingface(\n",
    "    f'{HF_USR_NAME}/' + hf_dataset_name,\n",
    "    split=\"train\",\n",
    "    input_keys=(\"question\", \"answer\"),\n",
    ")"
   ]
  },
  {
   "cell_type": "code",
   "execution_count": 10,
   "metadata": {},
   "outputs": [
    {
     "data": {
      "text/plain": [
       "100"
      ]
     },
     "execution_count": 10,
     "metadata": {},
     "output_type": "execute_result"
    }
   ],
   "source": [
    "len(tool_qa)"
   ]
  },
  {
   "cell_type": "code",
   "execution_count": 11,
   "metadata": {},
   "outputs": [],
   "source": [
    "import random\n",
    "# set seed\n",
    "random.seed(42)\n",
    "\n",
    "train_idx = random.sample(range(len(tool_qa)), 40)\n",
    "remaining_idx = list(set(range(len(tool_qa))) - set(train_idx))\n",
    "test_idx = random.sample(remaining_idx, 60)\n",
    "\n",
    "toolqa_train = [\n",
    "    dspy.Example(question=example.question, answer=example.answer).with_inputs(\"question\", \"paper_id\")\n",
    "    for example in [tool_qa[i] for i in train_idx]\n",
    "]\n",
    "toolqa_test = [\n",
    "    dspy.Example(question=example.question, answer=example.answer).with_inputs(\"question\", \"paper_id\")\n",
    "    for example in [tool_qa[i] for i in test_idx]\n",
    "]"
   ]
  },
  {
   "cell_type": "markdown",
   "metadata": {},
   "source": [
    "## Setting Up Tools\n",
    "\n",
    "We'll setup `Avatar` modules for both signatures and all the `tools` can be used by each of the dataset. `Tool` is a pydantic model that Avatar expects the `tools` to be composed as more specifically it have 4 fields:\n",
    "\n",
    "* `name` : Name of the tool\n",
    "* `input_type` : Type of input the tool accepts\n",
    "* `output_type` : Type of output the tool returns\n",
    "* `tool` : The actual tool object"
   ]
  },
  {
   "cell_type": "code",
   "execution_count": null,
   "metadata": {},
   "outputs": [
    {
     "name": "stdout",
     "output_type": "stream",
     "text": [
      "[query_llm] What is the Jessica's agenda on March 7th, 2023?\n",
      "Jessica has a business meeting on January 22nd, 2022 at The Pacific Design Center. The meeting is scheduled to start at 3:00 PM and end at 4:00 PM.\n",
      "\n",
      "Jessica is scheduled to attend a Business Meeting on May 24th, 2022 at the Hilton Hotel. The meeting is set to commence at 10:00 AM and end at 11:00 AM. It is expected that attendees will discuss important business matters and make decisions. The Hilton Hotel will be the venue where the meeting will take place, and it is expected that all attendees should be punctual and prepared for the agenda items.\n",
      "\n",
      "Jessica will be attending a dinner event on April 6th, 2022 at a fancy restaurant called The Steakhouse at the Four Seasons. The event will begin at 7:00 PM and end at 10:00 PM. It promises to be a luxurious night filled with delicious cuisine and great company.\n",
      "\n",
      "Jessica will be attending a dinner event on April 6th, 2022 at a fancy restaurant called The Steakhouse at the Four Seasons. The event will begin at 7:00 PM and end at 10:00 PM. It promises to be a luxurious night filled with delicious cuisine and great company.\n",
      "\n",
      "Jessica will attend the Business Summit on November 30, 2022, which will take place at The Westin Copley Place on Huntington Ave. The event will start at 11:00 AM and will conclude at 5:00 PM.\n"
     ]
    }
   ],
   "source": [
    "import os\n",
    "import time\n",
    "import uuid\n",
    "import numpy as np\n",
    "import jsonlines\n",
    "from concurrent.futures import ProcessPoolExecutor\n",
    "import sentence_transformers\n",
    "import chromadb\n",
    "import os.path as osp\n",
    "from chromadb.config import Settings\n",
    "\n",
    "EMBED_MODEL_NAME = \"sentence-transformers/all-mpnet-base-v2\"\n",
    "CHROMA_PERSIST_DIRECTORY = osp.join(TOOL_QA_ROOT, \"data/chroma_db/agenda\")\n",
    "CHROMA_COLLECTION_NAME = \"all\"\n",
    "CHROMA_SERVER_HOST = \"localhost\"\n",
    "CHROMA_SERVER_HTTP_PORT = \"8000\"\n",
    "FILE_PATH = osp.join(TOOL_QA_ROOT, \"data/external_corpus/agenda/agenda_descriptions_merged.jsonl\")\n",
    "\n",
    "def sentence_embedding(model, texts):\n",
    "    embeddings = model.encode(texts)\n",
    "    return embeddings\n",
    "\n",
    "def create_chroma_db(chroma_server_host, chroma_server_http_port, collection_name):\n",
    "    chroma_client = chromadb.Client(Settings(\n",
    "        chroma_api_impl=\"rest\",\n",
    "        chroma_server_host=chroma_server_host,\n",
    "        chroma_server_http_port=chroma_server_http_port,\n",
    "    ))\n",
    "    collection = chroma_client.get_or_create_collection(name=collection_name)\n",
    "    return collection\n",
    "\n",
    "def create_chroma_db_local(persist_directory, collection_name):\n",
    "    \n",
    "    chroma_client = chromadb.PersistentClient(path=persist_directory)\n",
    "\n",
    "    collection = chroma_client.get_or_create_collection(name=collection_name)\n",
    "    return collection\n",
    "\n",
    "def insert_to_db(texts, model_name, cuda_idx, db):\n",
    "    model = sentence_transformers.SentenceTransformer(model_name, device=f\"cuda:{cuda_idx}\")\n",
    "\n",
    "    batch_embeddings = []\n",
    "    batch_texts = []\n",
    "    start_time = time.time()\n",
    "    print(f\"Total Articles to process: {len(texts)}, Current Thread: {cuda_idx}.\")\n",
    "    for i, text in enumerate(texts):\n",
    "        # 2. generate embedding\n",
    "        embeddings = sentence_embedding(model, text).tolist()\n",
    "\n",
    "        batch_embeddings.append(embeddings)\n",
    "        batch_texts.append(text)\n",
    "        # 3. add to vectorstore per 500 articles or last article\n",
    "        if i % 100 == 0 or i == len(texts)-1:\n",
    "            batch_ids = [str(uuid.uuid1()) for _ in batch_texts]\n",
    "            db.add(\n",
    "                embeddings=batch_embeddings,\n",
    "                documents=batch_texts,\n",
    "                ids = batch_ids\n",
    "            )\n",
    "            batch_embeddings = []\n",
    "            batch_texts = []\n",
    "            print(f\"Completed Processing article count: {i}, Current Thread: {cuda_idx}, Time took: {time.time() - start_time}.\")\n",
    "    print(f\"Thread {cuda_idx} Completed. Total time took for thread: {time.time() - start_time}.\")\n",
    "\n",
    "\n",
    "# Multi-processing\n",
    "def query_llm(query, is_local=True, start=None, end=None):\n",
    "    EMBED_MODEL_NAME = \"sentence-transformers/all-mpnet-base-v2\"\n",
    "    CHROMA_PERSIST_DIRECTORY = osp.join(TOOL_QA_ROOT, \"data/chroma_db/agenda\")\n",
    "    os.makedirs(CHROMA_PERSIST_DIRECTORY, exist_ok=True)\n",
    "    CHROMA_COLLECTION_NAME = \"all\"\n",
    "    CHROMA_SERVER_HOST = \"localhost\"\n",
    "    CHROMA_SERVER_HTTP_PORT = \"8000\"\n",
    "    FILE_PATH = osp.join(TOOL_QA_ROOT, \"data/external_corpus/agenda/agenda_descriptions_merged.jsonl\")\n",
    "\n",
    "    cuda_idxes = [0]\n",
    "    number_of_processes = len(cuda_idxes)\n",
    "    input_texts = []\n",
    "    db = create_chroma_db_local(CHROMA_PERSIST_DIRECTORY, CHROMA_COLLECTION_NAME)\n",
    "    with open(FILE_PATH, 'r') as f:\n",
    "        for item in jsonlines.Reader(f):\n",
    "            input_texts.append(item[\"event\"])\n",
    "    # input_texts = np.array_split(input_texts, number_of_processes)\n",
    "\n",
    "    args = ((input_texts[i], EMBED_MODEL_NAME, cuda_idxes[i], is_local) for i in range(number_of_processes))\n",
    "\n",
    "    # if there is no file under the directory \"/localscratch/yzhuang43/ra-llm/retrieval_benchmark/data/chroma_db/agenda\", insert the data into the db\n",
    "    if len(os.listdir(CHROMA_PERSIST_DIRECTORY)) == 0:\n",
    "        insert_to_db(input_texts, model_name=EMBED_MODEL_NAME, cuda_idx=0, db=db)\n",
    "\n",
    "    input_paths = np.array_split(input_texts, number_of_processes)\n",
    "    with ProcessPoolExecutor(number_of_processes) as executor:\n",
    "        executor.map(insert_to_db, args)\n",
    "    model = sentence_transformers.SentenceTransformer(EMBED_MODEL_NAME, device=f\"cuda:0\")\n",
    "    query_embedding = sentence_embedding(model, query).tolist()\n",
    "    results = db.query(query_embeddings=query_embedding, n_results=5)\n",
    "    retrieval_content = [result for result in results['documents'][0]]\n",
    "    # print(retrieval_content)\n",
    "    retrieval_content = '\\n\\n'.join(retrieval_content)\n",
    "    print('[query_llm]', query)\n",
    "    return retrieval_content\n",
    "\n",
    "query = \"What is the Jessica's agenda on March 7th, 2023?\"\n",
    "print(query_llm(query))"
   ]
  },
  {
   "cell_type": "code",
   "execution_count": 13,
   "metadata": {},
   "outputs": [],
   "source": [
    "from dspy.predict.avatar import Tool, Avatar\n",
    "from langchain_community.utilities import GoogleSerperAPIWrapper, ArxivAPIWrapper, WikipediaAPIWrapper\n",
    "from langchain.tools import BaseTool, StructuredTool, tool\n",
    "\n",
    "def RETRIEVE(query: str) -> str:\n",
    "    \"\"\"If you want to search for some personal agenda information, you can use this tool and input a natural language query. For example, RETRIEVE('What is the Jessica's genda on March 7th, 2023?') returns 'Jessica has a job interview scheduled for July 26th, 2022 at 1 PM...'.\"\"\"\n",
    "    return query_llm(query)\n",
    "\n",
    "tools = [\n",
    "    Tool(\n",
    "        tool=StructuredTool.from_function(RETRIEVE),\n",
    "        name=\"RETRIEVE\",\n",
    "        desc=\"If you want to search for some personal agenda information, you can use this tool and input a natural language query. For example, RETRIEVE('What is the Jessica's genda on March 7th, 2023?') returns 'Jessica has a job interview scheduled for July 26th, 2022 at 1 PM...'.\"\n",
    "    )\n",
    "]"
   ]
  },
  {
   "cell_type": "markdown",
   "metadata": {},
   "source": [
    "Once we have defined our `tools`, we can now create an `Avatar` object by passing the `tools` and `signature`. It takes 2 more optional parameters `verbose` and `max_iters`. `verbose` is used to display the logs and `max_iters` is used to control the number of iterations in multi step execution. \n",
    "\n",
    "An avatar agent stops the tool usage iteration once it reaches `max_iters` or when it prompts `Finish`. You can also create custom tools too, all you need to make sure is:\n",
    "\n",
    "* You pass is a class object.\n",
    "* Implements `__init__` and `run` method.\n",
    "* Must take 1 string a input and returns 1 string as output.\n",
    "\n",
    "If your tool doesn't return or takes input a string then you can make a custom wrapper to take care of that for now. In future we'll try to enable a diverse tool usage."
   ]
  },
  {
   "cell_type": "code",
   "execution_count": 14,
   "metadata": {},
   "outputs": [],
   "source": [
    "actor_agent = Avatar(\n",
    "    tools=tools,\n",
    "    signature=ToolQASignature,\n",
    "    verbose=False,\n",
    "    max_iters=10\n",
    ")"
   ]
  },
  {
   "cell_type": "code",
   "execution_count": 15,
   "metadata": {},
   "outputs": [],
   "source": [
    "import time\n",
    "import logging\n",
    "from dataclasses import dataclass, field\n",
    "from typing import Dict, List, Optional\n",
    "from datetime import datetime\n",
    "import tiktoken\n",
    "from concurrent.futures import ThreadPoolExecutor, as_completed\n",
    "import warnings\n",
    "import copy\n",
    "import tqdm\n",
    "import logging\n",
    "import warnings\n",
    "import os\n",
    "\n",
    "# Set up logging\n",
    "# logging.basicConfig(level=logging.INFO)\n",
    "logger = logging.getLogger(__name__)\n",
    "\n",
    "\n",
    "# Disable all INFO logging\n",
    "logging.getLogger().setLevel(logging.WARNING)\n",
    "\n",
    "# Silence all loggers that might be chatty\n",
    "loggers_to_silence = [\n",
    "    \"httpx\",\n",
    "    \"httpcore\",\n",
    "    \"openai\",\n",
    "    \"arxiv\",\n",
    "    \"dspy\",\n",
    "    \"langchain\",\n",
    "    \"langchain_community\",\n",
    "    \"requests\",\n",
    "    \"urllib3\",\n",
    "    \"tiktoken\",\n",
    "    \"asyncio\",\n",
    "    \"faiss\",\n",
    "    \"anthropic\"\n",
    "]\n",
    "\n",
    "for logger_name in loggers_to_silence:\n",
    "    logging.getLogger(logger_name).setLevel(logging.WARNING)\n",
    "\n",
    "# Suppress specific warnings\n",
    "warnings.filterwarnings('ignore', category=UserWarning)\n",
    "warnings.filterwarnings('ignore', category=DeprecationWarning)\n",
    "warnings.filterwarnings('ignore', category=FutureWarning)\n",
    "\n",
    "os.environ['TOKENIZERS_PARALLELISM'] = 'false'  # Disable tokenizer parallelism warning"
   ]
  },
  {
   "cell_type": "markdown",
   "metadata": {},
   "source": [
    "## Evaluation\n",
    "\n",
    "Open enden QA tasks are hard to evaluate on rigid metrics like exact match. So, we'll be using an improvised LLM as Judge for the evaluation of our model on test set."
   ]
  },
  {
   "cell_type": "code",
   "execution_count": 16,
   "metadata": {},
   "outputs": [],
   "source": [
    "class Evaluator(dspy.Signature):\n",
    "    \"\"\"Please act as an impartial judge to evaluate whether the answer is correct based on the ground truth answer\"\"\"\n",
    "    \n",
    "    question: str = dspy.InputField(\n",
    "        prefix=\"Question:\",\n",
    "        desc=\"question to ask\",\n",
    "    )\n",
    "    reference_answer: str = dspy.InputField(\n",
    "        prefix=\"Ground Truth Answer:\",\n",
    "        desc=\"Ground truth answer to the question.\",\n",
    "    )\n",
    "    answer: str = dspy.InputField(\n",
    "        prefix=\"Answer:\",\n",
    "        desc=\"Answer to the question given by the model.\",\n",
    "    )\n",
    "    rationale: str = dspy.OutputField(\n",
    "        prefix=\"Rationale:\",\n",
    "        desc=\"Explanation of why the answer is correct or incorrect.\",\n",
    "    )\n",
    "    is_correct: float = dspy.OutputField(\n",
    "        prefix=\"Correct:\",\n",
    "        desc=\"Whether the answer is correct. Give 0 if incorrect, 1 if correct, (0, 1) if partially correct.\",\n",
    "    )\n",
    "\n",
    "\n",
    "evaluator = dspy.TypedPredictor(Evaluator)\n",
    "\n",
    "\n",
    "def metric(example, prediction, trace=None):\n",
    "    acc = float(\n",
    "        evaluator(\n",
    "            question=example.question,\n",
    "            answer=prediction.answer,\n",
    "            reference_answer=example.answer\n",
    "        ).is_correct\n",
    "    ) \n",
    "    print(prediction.answer, '|', example.answer, '=>', acc)\n",
    "    return acc"
   ]
  },
  {
   "cell_type": "code",
   "execution_count": 17,
   "metadata": {},
   "outputs": [
    {
     "name": "stdout",
     "output_type": "stream",
     "text": [
      "Example({'question': 'What did Georgina do from 1:00 PM to 11:00 PM on 2022/05/18?', 'answer': 'Oktoberfest'}) (input_keys={'paper_id', 'question'})\n",
      "73 days | Oktoberfest => 0.0\n"
     ]
    },
    {
     "data": {
      "text/plain": [
       "0.0"
      ]
     },
     "execution_count": 17,
     "metadata": {},
     "output_type": "execute_result"
    }
   ],
   "source": [
    "print(toolqa_train[0])\n",
    "metric(toolqa_train[0], prediction=dspy.Example(answer='73 days'))"
   ]
  },
  {
   "cell_type": "markdown",
   "metadata": {},
   "source": [
    "For evaluation we can't use `dspy.Evaluate`, reason being that `Avatar` changes it's signature per iteration by adding the actions and it's results to it as fields. So we can create our own hacky thread safe evaluator for it."
   ]
  },
  {
   "cell_type": "code",
   "execution_count": 18,
   "metadata": {},
   "outputs": [],
   "source": [
    "import time\n",
    "import logging\n",
    "from dataclasses import dataclass, field\n",
    "from typing import Dict, List, Optional\n",
    "from datetime import datetime\n",
    "import tiktoken\n",
    "from concurrent.futures import ThreadPoolExecutor, as_completed\n",
    "import warnings\n",
    "import copy\n",
    "\n",
    "# Set up logging\n",
    "logging.basicConfig(level=logging.INFO)\n",
    "logger = logging.getLogger(__name__)\n",
    "\n",
    "@dataclass\n",
    "class APICallMetrics:\n",
    "    timestamp: datetime\n",
    "    tool_name: str\n",
    "    tokens_in: int = 0\n",
    "    tokens_out: int = 0\n",
    "    execution_time: float = 0.0\n",
    "\n",
    "@dataclass\n",
    "class AvatarMetrics:\n",
    "    total_calls: int = 0\n",
    "    total_tokens_in: int = 0\n",
    "    total_tokens_out: int = 0\n",
    "    total_execution_time: float = 0.0\n",
    "    calls_by_tool: Dict[str, int] = field(default_factory=dict)\n",
    "    api_call_history: List[APICallMetrics] = field(default_factory=list)\n",
    "    \n",
    "    def add_call(self, metrics: APICallMetrics):\n",
    "        self.total_calls += 1\n",
    "        self.total_tokens_in += metrics.tokens_in\n",
    "        self.total_tokens_out += metrics.tokens_out\n",
    "        self.total_execution_time += metrics.execution_time\n",
    "        self.calls_by_tool[metrics.tool_name] = self.calls_by_tool.get(metrics.tool_name, 0) + 1\n",
    "        self.api_call_history.append(metrics)\n",
    "    \n",
    "    def merge(self, other: 'AvatarMetrics'):\n",
    "        \"\"\"Merge another AvatarMetrics instance into this one\"\"\"\n",
    "        self.total_calls += other.total_calls\n",
    "        self.total_tokens_in += other.total_tokens_in\n",
    "        self.total_tokens_out += other.total_tokens_out\n",
    "        self.total_execution_time += other.total_execution_time\n",
    "        for tool, count in other.calls_by_tool.items():\n",
    "            self.calls_by_tool[tool] = self.calls_by_tool.get(tool, 0) + count\n",
    "        self.api_call_history.extend(other.api_call_history)\n",
    "\n",
    "    def estimate_cost(self, model_name: str = \"gpt-4\") -> float:\n",
    "        pricing = {\n",
    "            \"gpt-4\": {\"input\": 2.5, \"output\": 10.0},\n",
    "        }\n",
    "        if model_name not in pricing:\n",
    "            raise ValueError(f\"Unknown model: {model_name}\")\n",
    "        \n",
    "        rates = pricing[model_name]\n",
    "        input_cost = (self.total_tokens_in / 1000000) * rates[\"input\"]\n",
    "        output_cost = (self.total_tokens_out / 1000000) * rates[\"output\"]\n",
    "        return input_cost + output_cost\n",
    "\n",
    "class AvatarWithMetrics(Avatar):\n",
    "    def __init__(self, *args, **kwargs):\n",
    "        super().__init__(*args, **kwargs)\n",
    "        self.metrics = AvatarMetrics()\n",
    "        self.tokenizer = tiktoken.encoding_for_model(\"gpt-4\")\n",
    "    \n",
    "    def _count_tokens(self, text: str) -> int:\n",
    "        try:\n",
    "            return len(self.tokenizer.encode(str(text)))\n",
    "        except Exception as e:\n",
    "            logger.warning(f\"Error counting tokens: {e}\")\n",
    "            return 0\n",
    "\n",
    "    def _wrapped_tool_call(self, tool, input_text: str) -> str:\n",
    "        start_time = time.time()\n",
    "        tokens_in = self._count_tokens(input_text)\n",
    "        \n",
    "        try:\n",
    "            result = tool.run(input_text)\n",
    "        except Exception as e:\n",
    "            logger.error(f\"Tool execution error: {e}\")\n",
    "            raise\n",
    "        finally:\n",
    "            execution_time = time.time() - start_time\n",
    "            tokens_out = self._count_tokens(str(result))\n",
    "            \n",
    "            metrics = APICallMetrics(\n",
    "                timestamp=datetime.now(),\n",
    "                tool_name=tool.name,\n",
    "                tokens_in=tokens_in,\n",
    "                tokens_out=tokens_out,\n",
    "                execution_time=execution_time\n",
    "            )\n",
    "            self.metrics.add_call(metrics)\n",
    "            \n",
    "        return result\n",
    "\n",
    "    def __call__(self, *args, **kwargs):\n",
    "        start_time = time.time()\n",
    "        result = super().__call__(*args, **kwargs)\n",
    "        total_time = time.time() - start_time\n",
    "        \n",
    "        metrics = APICallMetrics(\n",
    "            timestamp=datetime.now(),\n",
    "            tool_name=\"main_llm\",\n",
    "            tokens_in=self._count_tokens(str(args) + str(kwargs)),\n",
    "            tokens_out=self._count_tokens(str(result)),\n",
    "            execution_time=total_time\n",
    "        )\n",
    "        self.metrics.add_call(metrics)\n",
    "        \n",
    "        return result\n",
    "\n",
    "def multi_thread_executor(test_set, signature, num_threads=60):\n",
    "    total_score = 0\n",
    "    total_examples = len(test_set)\n",
    "    combined_metrics = AvatarMetrics()\n",
    "\n",
    "    start_time = time.time()\n",
    "    with ThreadPoolExecutor(max_workers=num_threads) as executor:\n",
    "        futures = []\n",
    "        for example in test_set:\n",
    "            def process_with_metrics(example=example):\n",
    "                try:\n",
    "                    avatar = AvatarWithMetrics(signature, tools=tools, verbose=False, max_iters=10)\n",
    "                    prediction = avatar(**example.inputs().toDict())\n",
    "                    return metric(example, prediction), avatar.metrics\n",
    "                except Exception as e:\n",
    "                    print(e)\n",
    "                    return 0, AvatarMetrics()\n",
    "\n",
    "            futures.append(executor.submit(process_with_metrics))\n",
    "\n",
    "        for future in tqdm.tqdm(futures, total=total_examples, desc=\"Processing examples\"):\n",
    "            score, metrics = future.result()\n",
    "            total_score += score\n",
    "            # Only combine token counts and call counts, not execution times\n",
    "            combined_metrics.total_calls += metrics.total_calls\n",
    "            combined_metrics.total_tokens_in += metrics.total_tokens_in\n",
    "            combined_metrics.total_tokens_out += metrics.total_tokens_out\n",
    "            for tool, count in metrics.calls_by_tool.items():\n",
    "                combined_metrics.calls_by_tool[tool] = combined_metrics.calls_by_tool.get(tool, 0) + count\n",
    "            combined_metrics.api_call_history.extend(metrics.api_call_history)\n",
    "    \n",
    "    total_execution_time = time.time() - start_time\n",
    "    combined_metrics.total_execution_time = total_execution_time\n",
    "\n",
    "    avg_metric = total_score / total_examples\n",
    "    return avg_metric, combined_metrics\n",
    "\n",
    "def single_thread_executor(test_set, signature):\n",
    "    total_score = 0\n",
    "    total_examples = len(test_set)\n",
    "    combined_metrics = AvatarMetrics()\n",
    "\n",
    "    for example in tqdm.tqdm(test_set, desc=\"Processing examples\"):\n",
    "        try:\n",
    "            avatar = AvatarWithMetrics(signature, tools=tools, verbose=False, max_iters=10)\n",
    "            prediction = avatar(**example.inputs().toDict())\n",
    "            score = metric(example, prediction)\n",
    "            total_score += score\n",
    "            # Combine metrics from this run\n",
    "            for call in avatar.metrics.api_call_history:\n",
    "                combined_metrics.add_call(call)\n",
    "        except Exception as e:\n",
    "            print(e)\n",
    "\n",
    "    avg_metric = total_score / total_examples\n",
    "    return avg_metric, combined_metrics\n",
    "\n",
    "def format_metrics_report(metrics: AvatarMetrics, model_name: str = \"gpt-4\") -> str:\n",
    "    cost = metrics.estimate_cost(model_name)\n",
    "    \n",
    "    report = f\"\"\"\n",
    "Avatar Execution Metrics Report\n",
    "==============================\n",
    "Execution Time: {metrics.total_execution_time:.2f} seconds\n",
    "Total API Calls: {metrics.total_calls}\n",
    "Total Tokens: {metrics.total_tokens_in + metrics.total_tokens_out:,} ({metrics.total_tokens_in:,} in, {metrics.total_tokens_out:,} out)\n",
    "Estimated Cost: ${cost:.4f}\n",
    "\n",
    "Average Time per Call: {metrics.total_execution_time / metrics.total_calls:.2f} seconds\n",
    "\n",
    "Tool Usage Breakdown:\n",
    "-------------------\n",
    "\"\"\"\n",
    "    for tool, count in sorted(metrics.calls_by_tool.items()):\n",
    "        report += f\"{tool}: {count} calls\\n\"\n",
    "\n",
    "    return report"
   ]
  },
  {
   "cell_type": "code",
   "execution_count": 19,
   "metadata": {},
   "outputs": [
    {
     "name": "stderr",
     "output_type": "stream",
     "text": [
      "Processing examples:   0%|          | 0/60 [00:00<?, ?it/s]"
     ]
    },
    {
     "name": "stdout",
     "output_type": "stream",
     "text": [
      "[query_llm] What did Adam do from 7:00 PM to 9:00 PM on 2022/10/27?\n",
      "[query_llm] Who attended Art exhibit opening reception between 5:00 PM and 7:00 PM on 2022/08/01 in Locust Projects, Design District?\n",
      "[query_llm] Alice's activities from 6:00 PM to 9:00 PM on 2022/07/28\n",
      "[query_llm] Floral design session location for Emily on 2022/09/30\n",
      "[query_llm] Aidan's events on 2022/12/09\n",
      "[query_llm] Who attended Poetry reading between 7:00 PM and 9:00 PM on 2022/04/07 in Beyond Baroque?\n",
      "[query_llm] When did Georgia attend Move-in day on 2022/06/22?\n",
      "[query_llm] What did Daisy do from 11:00 PM to 1:00 AM on 2022/02/01?\n",
      "[query_llm] Henry's attendance duration at the Chili cook-off on 2022/03/21\n",
      "[query_llm] James' activities from 9:00 AM to 11:00 AM on 2022/02/02\n",
      "[query_llm] Attendees of Wine Tasting event between 5:00 PM and 7:00 PM on 2022/05/23 in City Winery\n",
      "[query_llm] What did Thomas do from 8:00 PM to 10:00 PM on 2022/10/03?\n",
      "[query_llm] Brian's attendance duration at Happy Hour on 2022/06/20\n",
      "[query_llm] Who attended the Aquarium visit between 10:00 AM and 5:00 PM on 2022/07/06 in New England Aquarium?\n",
      "[query_llm] What did Matilda do from 7:30 PM to 9:30 PM on 2022/03/25?\n",
      "[query_llm] When did Benjamin attend Movie night on 2022/10/21?\n",
      "[query_llm] Albert's attendance duration for Conference Call on 2022/04/24\n",
      "[query_llm] Daniel's attendance duration for Dance Class on 2022/06/24\n",
      "[query_llm] Felix Live piano performance 2022/03/30\n",
      "[query_llm] Adam's attendance duration for Breakfast meeting on 2022/05/07\n",
      "[query_llm] Phoebe's attendance at the Food festival on 2022/01/10\n",
      "Adam attended the Poetry reading between 7:00 PM and 9:00 PM on 2022/04/07 in Beyond Baroque. | Charlotte => 0.0\n",
      "There is no specific information about who attended the Art exhibit opening reception on August 1st, 2022, at Locust Projects, Design District, in the provided data. | Sophia => 0.0\n",
      "Alice's activities from 6:00 PM to 9:00 PM on 2022/07/28 are not listed in the retrieved data. | Fashion Show => 0.0\n",
      "Garden Collage | Garden Collage => 1.0\n",
      "[query_llm] Daisy's attendance duration at the Public policy conference on 2022/02/25\n"
     ]
    },
    {
     "name": "stderr",
     "output_type": "stream",
     "text": [
      "Processing examples:   2%|▏         | 1/60 [00:31<30:36, 31.13s/it]"
     ]
    },
    {
     "name": "stdout",
     "output_type": "stream",
     "text": [
      "Aidan did not attend the Bird-watching tour on 2022/12/09. | 8:00 AM => 0.0\n",
      "Brian attended Happy Hour on 2022/06/20 for 2 hours. | 2:00:00 => 1.0\n",
      "Thomas had no scheduled events from 8:00 PM to 10:00 PM on 2022/10/03. | Star-gazing => 0.0\n",
      "Henry attended the Chili cook-off for 3 hours on 2022/03/21. | 3:00:00 => 1.0\n",
      "Adam does not have any listed activities from 7:00 PM to 9:00 PM on 2022/10/27. | Join a public speaking class => 0.0\n",
      "Daisy had no scheduled events from 11:00 PM to 1:00 AM on 2022/02/01. | Late Night Movie => 0.0\n",
      "The available information does not mention attendees for a Wine Tasting event between 5:00 PM and 7:00 PM on 2022/05/23 in City Winery. | Penelope => 0.0\n",
      "Georgia attended Move-in day on June 22nd, 2022, starting at 9:00 AM and ending at 5:00 PM. | 9:00 AM => 1.0\n",
      "Georgina attended the Aquarium visit between 10:00 AM and 5:00 PM on 2022/07/06 in New England Aquarium. | Georgina => 1.0\n",
      "No information available for Matilda's activities from 7:30 PM to 9:30 PM on 2022/03/25. | Opera show => 0.0\n",
      "Benjamin attended Movie night on 2022/10/21 from 8:30 PM to 10:30 PM. | 8:30 PM => 1.0\n",
      "[query_llm] Attendees of Wine and Paint Event between 6:00 PM and 8:00 PM on 2022/04/10 in Art Studio Downtown\n",
      "Adam attended the Breakfast meeting for 1.5 hours on 2022/05/07. | 1:30:00 => 1.0\n",
      "[query_llm] Millie's attendance duration for Theatre play on 2022/12/07\n",
      "Felix attended the Live piano performance on 2022/03/30 from 7:00 PM to 9:00 PM. | 7:00 PM => 1.0\n",
      "[query_llm] Willow's schedule on 2022/09/26\n",
      "Daniel's attendance duration for Dance Class on 2022/06/24 is not available in the provided data. | 1:00:00 => 0.0\n",
      "Daisy attended the Public policy conference on 2022/02/25 for 8 hours. | 8:00:00 => 1.0\n",
      "[query_llm] Chess club meeting location for Victoria on 2022/06/13\n",
      "Phoebe attended the Food festival on January 10, 2022, from 6:00 PM to 9:00 PM at The Taste LA. | 6:00 PM => 1.0\n",
      "James did not have any events scheduled from 9:00 AM to 11:00 AM on 2022/02/02. | Business meeting => 0.0\n",
      "Albert attended the Conference Call on 2022/04/24 for 1 hour, from 10:30 AM to 11:30 AM. | 1:00:00 => 1.0\n",
      "Willow did not attend Intermediate Spanish conversation class on 2022/09/26. | 11:00 AM => 0.0\n",
      "The provided information does not contain specific details about who attended the Wine and Paint Event on April 10th, 2022, in Art Studio Downtown. | Benjamin => 0.0\n",
      "The Chess Forum | The Chess Forum => 1.0\n",
      "Millie attended the theatre play for 2 hours on 2022/12/07. | 2:00:00 => 1.0\n",
      "[query_llm] What did Emily do from 7:00 PM to 9:30 PM on 2022/02/07?\n",
      "[query_llm] Emily's attendance at Jazz concert on 2022/06/15\n",
      "[query_llm] Daisy's attendance duration for Stand-up paddleboarding lesson on 2022/10/19\n",
      "[query_llm] Attendees of Historical lecture between 7:00 PM and 9:00 PM on 2022/11/29 at The New-York Historical Society\n",
      "[query_llm] Isabella's schedule on 2022/12/03 from 2:00 PM to 3:00 PM\n",
      "Emily attended the Jazz concert on June 15, 2022, at The Jazz Lounge from 8:00 PM to 10:00 PM. | 8:00 PM => 1.0\n",
      "Daisy's attendance duration for the Stand-up paddleboarding lesson on 2022/10/19 is not mentioned in the retrieved data. | 1:00:00 => 0.0\n",
      "Emily does not have any scheduled events from 7:00 PM to 9:30 PM on 2022/02/07. | Board game night => 0.0\n",
      "[query_llm] Charlotte's activities from 4:00 PM to 5:30 PM on 2022/10/31\n",
      "[query_llm] Phillip's attendance at Creative writing workshop on 2022/06/28\n",
      "The attendees of the Historical lecture between 7:00 PM and 9:00 PM on 2022/11/29 at The New-York Historical Society are not listed in the provided information. | Henry => 0.0\n",
      "Isabella's schedule from 2:00 PM to 3:00 PM on 2022/12/03 is not available in the provided data. | Ballet class => 0.0\n",
      "[query_llm] Aurora's attendance duration for Dreamcatcher-making workshop on 2022/01/24\n",
      "Charlotte's activities from 4:00 PM to 5:30 PM on 2022/10/31 are not listed in the retrieved data. | Cooking Class => 0.0\n",
      "[query_llm] Willow's attendance duration at Summer camp informational session on 2022/04/02\n",
      "Phillip attended the Creative writing workshop on 2022/06/28 from 6:00 PM to 8:00 PM. | 6:00 PM => 0.5\n",
      "[query_llm] Who attended Gym workout between 2:00 PM and 3:00 PM on 2022/03/15 in CrossFit Fitness?\n",
      "[query_llm] Patrick's attendance at Landscape photography workshop on 2022/02/22\n",
      "Aurora attended the Dreamcatcher-making workshop for 2 hours on 2022/01/24. | 2:00:00 => 1.0\n",
      "Willow attended the Summer camp informational session on 2022/04/02 for 1.5 hours. | 1:30:00 => 1.0\n",
      "Brian attended the Gym workout between 2:00 PM and 3:00 PM on 2022/03/15 at CrossFit Fitness. | Brian => 1.0\n",
      "8:00 AM to 11:00 AM | 8:00 AM => 0.5\n",
      "[query_llm] Georgina's Pet grooming session on 2022/04/18\n",
      "[query_llm] What did Anthony do from 8:00 AM to 10:00 AM on 2022/09/04?\n",
      "[query_llm] Georgina's attendance at Corporate Social Responsibility Conference on 2022/04/23\n",
      "1:00 PM to 2:00 PM | 1:00 PM => 0.5\n",
      "[query_llm] Georgina's attendance at Indie film festival on 2022/04/30\n",
      "[query_llm] What did Andrew do from 6:00 PM to 8:00 PM on 2022/08/23?\n",
      "[query_llm] Isabella Photography workshop on 2022/05/06\n",
      "Anthony did not have any events scheduled from 8:00 AM to 10:00 AM on 2022/09/04. | Classic Car Show => 0.0\n",
      "[query_llm] What did Grace do from 8:00 PM to 9:30 PM on 2022/08/01?\n",
      "[query_llm] Where did the Historical Tour that Matilda attended take place on 2022/12/13?\n",
      "[query_llm] Martial arts class location for Lily on 2022/10/11\n",
      "Georgina attended the Corporate Social Responsibility Conference on April 23rd, 2022, from 10:00 AM to 4:00 PM. | 10:00 AM => 1.0\n",
      "[query_llm] Madison's attendance at Stand-up comedy show on 2022/10/11\n",
      "[query_llm] What did Elizabeth do from 7:30 PM to 10:00 PM on 2022/06/29?\n",
      "[query_llm] Who attended Photography Class between 11:00 AM and 1:00 PM on 2022/03/09 in The Camera Store?\n",
      "[query_llm] Who attended Star Gazing between 8:00 PM and 11:00 PM on 2022/08/23 in Observatory, Griffith Park Observatory?\n",
      "[query_llm] Fun run attended by Zara on 2022/02/19 location\n",
      "[query_llm] George's attendance duration for Tennis lesson on 2022/06/22\n",
      "[query_llm] Charles' attendance duration for 'Watch a baseball game' on 2022/05/21\n",
      "[query_llm] Find the location of the Movie Night that Hector attended on 2022/06/03.\n",
      "[query_llm] William's schedule on 2022/01/17\n",
      "[query_llm] Brian's attendance for Car maintenance check on 2022/06/30\n",
      "[query_llm] Robotics seminar Esme attended on 2022/09/13\n",
      "Andrew has no events scheduled from 6:00 PM to 8:00 PM on 2022/08/23. | Fashion show => 0.0\n",
      "[query_llm] Albert's attendance at Youth talent showcase on 2022/08/11\n",
      "[query_llm] Faith's schedule on 2022/10/04\n",
      "[query_llm] Daisy's attendance duration for Jazz Performance on 2022/02/05\n",
      "Georgina attended the Indie film festival on April 30th, 2022. The festival started at 12:00 PM and ended at 10:00 PM. | 12:00 PM => 1.0\n",
      "The Martial Arts Academy | The Martial Arts Academy => 1.0\n",
      "Isabella attended a Photography workshop on May 6, 2022, at the International Center of Photography from 12:00 PM to 3:00 PM.No event found for Grace from 8:00 PM to 9:30 PM on 2022/08/01. | Stand-up comedy show => 0.0\n",
      " | 12:00 PM => 1.0\n",
      "The Historical Tour that Matilda attended on 2022/12/13 took place at the Local History Museum. | Local History Museum => 1.0\n",
      "The Fun Run Trail | The Fun Run Trail => 1.0\n"
     ]
    },
    {
     "name": "stderr",
     "output_type": "stream",
     "text": [
      "Processing examples:   3%|▎         | 2/60 [01:37<50:11, 51.92s/it]"
     ]
    },
    {
     "name": "stdout",
     "output_type": "stream",
     "text": [
      "The rooftop of The Standard Hotel | The Standard Hotel rooftop  => 1.0\n",
      "Madison attended a stand-up comedy show on October 11th, 2022, at the Comedy Cellar from 8:00 PM to 10:00 PM. | 8:00 PM => 1.0\n",
      "3 hours | 3:00:00 => 1.0\n",
      "3 hours | 3:00:00 => 1.0\n",
      "Chloe attended the Photography Class between 11:00 AM and 1:00 PM on 2022/03/09 at The Camera Store. | Chloe => 1.0\n",
      "Poppy attended Star Gazing between 8:00 PM and 11:00 PM on 2022/08/23 at Griffith Park Observatory. | Adrian => 0.0\n",
      "The Robotics seminar that Esme attended on 2022/09/13 took place at the University Auditorium. | University Auditorium => 1.0\n",
      "William did not attend a Music concert on 2022/01/17. | 8:00 PM => 0.0\n",
      "Brian attended a car maintenance check at Quick Lube on June 30th, 2022, from 9:00 AM to 11:00 AM. | 9:00 AM => 1.0\n",
      "Elizabeth does not have any events scheduled from 7:30 PM to 10:00 PM on 2022/06/29. | Opera performance => 0.0\n",
      "George attended the tennis lesson for 1 hour on 2022/06/22. | 1:00:00 => 1.0\n",
      "Albert attended the Youth Talent Showcase on August 11, 2022, from 5:00 PM to 7:00 PM. | 5:00 PM => 0.5\n"
     ]
    },
    {
     "name": "stderr",
     "output_type": "stream",
     "text": [
      "Processing examples: 100%|██████████| 60/60 [01:41<00:00,  1.69s/it]"
     ]
    },
    {
     "name": "stdout",
     "output_type": "stream",
     "text": [
      "Faith did not attend an Ice hockey game on 2022/10/04. | 7:00 PM => 0.0\n"
     ]
    },
    {
     "name": "stderr",
     "output_type": "stream",
     "text": [
      "\n"
     ]
    }
   ],
   "source": [
    "score, metrics = multi_thread_executor(toolqa_test, ToolQASignature)"
   ]
  },
  {
   "cell_type": "code",
   "execution_count": 20,
   "metadata": {},
   "outputs": [
    {
     "name": "stdout",
     "output_type": "stream",
     "text": [
      "Test Score: 0.55\n",
      "\n",
      "Avatar Execution Metrics Report\n",
      "==============================\n",
      "Execution Time: 102.03 seconds\n",
      "Total API Calls: 60\n",
      "Total Tokens: 31,888 (1,609 in, 30,279 out)\n",
      "Estimated Cost: $0.3068\n",
      "\n",
      "Average Time per Call: 1.70 seconds\n",
      "\n",
      "Tool Usage Breakdown:\n",
      "-------------------\n",
      "main_llm: 60 calls\n",
      "\n"
     ]
    }
   ],
   "source": [
    "# print(f\"Average Score on ArxivQA before opitmization: {aqa_score:.2f}\")\n",
    "print(f\"Test Score: {score:.2f}\")\n",
    "print(format_metrics_report(metrics))"
   ]
  },
  {
   "cell_type": "markdown",
   "metadata": {},
   "source": [
    "## Optimization\n",
    "\n",
    "For the optimization of the `Actor` we'll be using `AvatarOptimizer`. It's a DSPy implementation of the [Avatar](https://github.com/zou-group/avatar/) method that optimizes the `Actor` for the given `tools` using a comparator module that optimizes Actor instruction. Note, that Actor is the Module that directs tool execution and flow, it's not the signature that we are passing. It doesn't optimize the instruction of the signature we pass. It takes the following parameters:\n",
    "\n",
    "* `metric`: Metric that we'll be optimizing for\n",
    "* `max_iters`: Maximum number of iterations for the optimizer\n",
    "* `lower_bound`: Lower bound for the metric to classify example as negative\n",
    "* `upper_bound`: Upper bound for the metric to classify example as positive\n",
    "* `max_positive_inputs`: Maximum number of positive inputs sampled for comparator\n",
    "* `max_negative_inputs`: Maximum number of negative inputs sampled for comparator\n",
    "* `optimize_for`: Whether we want to maximize the metric or minimize it during optimization\n",
    "\n",
    "Once the optimizer is done we can get the optimized actor and use it for the evaluation."
   ]
  },
  {
   "cell_type": "code",
   "execution_count": 21,
   "metadata": {},
   "outputs": [],
   "source": [
    "from new_optimizer import AvatarOptimizerWithMetrics\n",
    "\n",
    "iterative_monkey = AvatarOptimizerWithMetrics(\n",
    "    metric=metric,\n",
    "    max_iters=1,\n",
    "    max_negative_inputs=20,\n",
    "    max_positive_inputs=20,\n",
    ")"
   ]
  },
  {
   "cell_type": "code",
   "execution_count": 22,
   "metadata": {},
   "outputs": [
    {
     "name": "stderr",
     "output_type": "stream",
     "text": [
      "Processing examples:   0%|          | 0/40 [00:00<?, ?it/s]"
     ]
    },
    {
     "name": "stdout",
     "output_type": "stream",
     "text": [
      "[query_llm] Who attended the Boxing match between 7:00 PM and 10:00 PM on 2022/11/06 in Madison Square Garden?\n",
      "[query_llm] Who attended Horse race between 2:00 PM and 5:00 PM on 2022/08/14 in Santa Anita Park?\n",
      "[query_llm] Natalie's attendance duration for Volunteer work on 2022/03/01\n",
      "[query_llm] Charity auction location that Willow attended on 2022/06/25\n",
      "[query_llm] Where did Farmers Market Visit that Molly attended take place on 2022/03/05?\n",
      "[query_llm] Faith's attendance at Book club meeting on 2022/03/26\n",
      "[query_llm] Graduation ceremony attendees between 5:00 PM and 7:00 PM on 2022/10/22 in Stadium, University of North Carolina\n",
      "[query_llm] Culinary festival location for Adrian on 2022/09/27\n",
      "[query_llm] Charlotte's attendance duration for Piano Recital on 2022/01/30\n",
      "[query_llm] Thomas attended Artisanal Pizza Making on 2022/10/28\n",
      "[query_llm] Millie's attendance at the Wine education seminar on 2022/06/11\n",
      "[query_llm] Where did Intermediate Spanish lesson that Alice attended take place on 2022/05/20?\n",
      "Union Square Greenmarket | Union Square Greenmarket => 1.0\n",
      "Sotheby's Auction House | Sotheby's Auction House => 1.0\n",
      "Nicholas attended the horse race between 2:00 PM and 5:00 PM on 2022/08/14 in Santa Anita Park. | Harper => 0.0\n",
      "Natalie attended Volunteer work on 2022/03/01 for 4 hours. | 4:00:00 => 1.0\n",
      "The Culinary Festival Adrian attended on 2022/09/27 took place at The Convention Center. | The Convention Center  => 1.0\n",
      "Faith attended the Book Club meeting on March 26th, 2022, starting at 7:00 PM and concluding at 8:30 PM. | 7:00 PM => 1.0\n",
      "Joseph attended the Boxing match between 7:00 PM and 10:00 PM on 2022/11/06 in Madison Square Garden. | Joseph => 1.0\n",
      "The information does not specify who attended the Graduation ceremony between 5:00 PM and 7:00 PM on 2022/10/22 in Stadium, University of North Carolina. | Freya => 0.0\n",
      "Charlotte attended the Piano Recital on 2022/01/30 for 2 hours. | 2:00:00 => 1.0\n",
      "The Intermediate Spanish lesson that Alice attended on 2022/05/20 took place at the Instituto Cervantes. | Instituto Cervantes => 1.0\n",
      "6:00 PM to 8:00 PM | 6:00 PM => 0.5\n",
      "Millie did not attend the Wine education seminar on 2022/06/11. | 6:00 PM => 0.0\n",
      "[query_llm] Matilda's attendance duration at Food truck festival on 2022/12/26\n",
      "[query_llm] Robert's attendance at Opera Performance on 2022/04/18\n",
      "[query_llm] Where did Morning Swim that Matilda attended take place on 2022/07/24?\n",
      "[query_llm] Mia's attendance at Choral Performance on 2022/01/05\n",
      "[query_llm] What did Georgina do from 1:00 PM to 11:00 PM on 2022/05/18?\n",
      "[query_llm] Live podcast location Hector attended on 2022/06/15\n",
      "[query_llm] Brian's attendance duration for Movie Screening on 2022/05/22\n",
      "Robert attended the Opera Performance on April 18th, 2022, at the Civic Theater from 7:00 PM to 9:00 PM. | 7:00 PM => 1.0\n",
      "[query_llm] Thomas's schedule on 2022/03/18 for Model airplane flying\n",
      "[query_llm] Emily's attendance for Visit to historic landmark on 2022/05/30\n",
      "[query_llm] Joshua's attendance duration for Horseback riding on 2022/09/11\n",
      "[query_llm] What did Amelia do from 4:00 PM to 6:00 PM on 2022/02/23?\n",
      "[query_llm] When did Georgia attend Escape Room on 2022/06/24?\n",
      "[query_llm] Find Elsie's events on 2022/10/12\n",
      "The Bell House | The Bell House => 1.0\n",
      "[query_llm] What did Ava do from 9:00 AM to 5:00 PM on 2022/06/07?\n",
      "[query_llm] Aidan's attendance duration for Leadership training on 2022/09/12\n",
      "[query_llm] What did Aurora do from 2:00 PM to 3:00 PM on 2022/02/21?\n",
      "Brian attended the Movie Screening on 2022/05/22 for 2 hours. | 2:00:00 => 1.0\n",
      "[query_llm] What did Ava do from 12:00 PM to 4:00 PM on 2022/06/16?\n",
      "Emily did not attend 'Visit to historic landmark' on 2022/05/30 based on the available data. | 10:00 AM => 0.0\n",
      "[query_llm] What did Lily do from 7:00 PM to 9:00 PM on 2022/10/06?\n",
      "Amelia has no scheduled events from 4:00 PM to 6:00 PM on 2022/02/23. | Parkour Class => 0.0\n",
      "[query_llm] What did Isabella do from 2:00 PM to 4:00 PM on 2022/12/25?\n",
      "Joshua attended Horseback riding for 2 hours and 30 minutes on 2022/09/11. | 2:30:00 => 1.0\n",
      "Thomas attended Model airplane flying at the Hobby Hangar on March 18, 2022, from 10:00 AM to 12:00 PM. | 10:00 AM => 1.0\n",
      "[query_llm] Anthony's attendance duration at Volleyball Tournament on 2022/11/13\n",
      "[query_llm] What did Richard do from 1:00 PM to 3:00 PM on 2022/03/26?\n",
      "Elsie did not attend a Speed dating event on 2022/10/12. | 7:00 PM => 0.0\n",
      "[query_llm] Amelia's activities from 07:00 PM to 09:00 PM on 2022/08/07\n",
      "[query_llm] Attendees of Coffee tasting between 10:00 AM and 11:00 AM on 2022/12/08 in Cafe Grumpy\n",
      "Georgia attended the Escape Room on June 24th, 2022, from 6:00 PM to 8:00 PM. | 6:00 PM => 1.0\n",
      "[query_llm] Faith's attendance at Brewery tasting room on 2022/12/06\n",
      "[query_llm] What events does Grace have on 2022/02/17 in the agenda table?\n",
      "[query_llm] Poetry reading location for George on 2022/09/26\n",
      "[query_llm] Layla's attendance for Take a pottery throwing class on 2022/04/24\n",
      "[query_llm] Ballet Performance location for Ruby on 2022/06/21\n",
      "LA Fitness Aquatic Center | LA Fitness Aquatic Center  => 1.0\n",
      "Matilda attended the Food truck festival on 2022/12/26 for 5 hours. | 5:00:00 => 1.0\n",
      "Ava's activities from 9:00 AM to 5:00 PM on 2022/06/07 are not listed in the provided data. | Industry conference => 0.0\n",
      "Aidan attended Leadership training for 8 hours on 2022/09/12. | 8:00:00 => 1.0\n",
      "Lily has no scheduled events from 7:00 PM to 9:00 PM on October 6th, 2022. | Cocktail making class => 0.0\n",
      "Aurora's activities from 2:00 PM to 3:00 PM on 2022/02/21 are not listed in the provided information. | Meeting with a client => 0.0\n",
      "There is no record of Isabella's activities from 2:00 PM to 4:00 PM on 2022/12/25. | Batting cage practice => 0.0\n",
      "[query_llm] What did Ava do from 12:00 PM to 4:00 PM on 2022/06/16?\n",
      "3 hours | 3:00:00 => 1.0\n",
      "[query_llm] Amelia's activities on 2022/08/07 from 07:00 PM to 09:00 PM\n",
      "Mia attended the Choral Performance on January 5th, 2022, from 1:00 PM to 3:00 PM at The Walt Disney Concert Hall. | 1:00 PM => 1.0\n",
      "2 hours | 2:00:00 => 1.0\n",
      "Ballet Theater located in the Music Center | Ballet Theater, Music Center => 1.0\n",
      "There is no information available on who attended the Coffee tasting event between 10:00 AM and 11:00 AM on 2022/12/08 in Cafe Grumpy. | George => 0.0\n"
     ]
    },
    {
     "name": "stderr",
     "output_type": "stream",
     "text": [
      "Processing examples:  38%|███▊      | 15/40 [00:52<01:02,  2.48s/it]"
     ]
    },
    {
     "name": "stdout",
     "output_type": "stream",
     "text": [
      "No events found for Georgina from 1:00 PM to 11:00 PM on 2022/05/18. | Oktoberfest => 0.0\n",
      "The Poetry Foundation | The Poetry Foundation => 1.0\n",
      "Grace did not attend a Broadway Show on 2022/02/17. | 8:00 PM => 0.0\n",
      "Answer: Spa Day at The Beverly Hills Hotel Spa from 1:00 PM to 4:00 PM on June 19, 2022. | Roller skating => 0.0\n"
     ]
    },
    {
     "name": "stderr",
     "output_type": "stream",
     "text": [
      "Processing examples:  60%|██████    | 24/40 [00:54<00:23,  1.46s/it]"
     ]
    },
    {
     "name": "stdout",
     "output_type": "stream",
     "text": [
      "There is no available information on what Ava did from 12:00 PM to 4:00 PM on 2022/06/16. | Cooking competition => 0.0\n"
     ]
    },
    {
     "name": "stderr",
     "output_type": "stream",
     "text": [
      "Processing examples:  82%|████████▎ | 33/40 [00:55<00:06,  1.11it/s]"
     ]
    },
    {
     "name": "stdout",
     "output_type": "stream",
     "text": [
      "Amelia had no scheduled activities from 07:00 PM to 09:00 PM on 2022/08/07. | Language Exchange => 0.0\n"
     ]
    },
    {
     "name": "stderr",
     "output_type": "stream",
     "text": [
      "Processing examples: 100%|██████████| 40/40 [00:58<00:00,  1.46s/it]"
     ]
    },
    {
     "name": "stdout",
     "output_type": "stream",
     "text": [
      "Layla attended the pottery throwing class on April 24th, 2022, from 10:00 AM to 12:00 PM at The Potter's Wheel. | 10:00 AM => 1.0\n"
     ]
    },
    {
     "name": "stderr",
     "output_type": "stream",
     "text": [
      "\n"
     ]
    },
    {
     "name": "stdout",
     "output_type": "stream",
     "text": [
      "Average Score: 0.5875\n",
      "Generated new instruction: I'm here to help you create improved instructions for the group, incorporating the feedback provided. Here's a revised set of instructions:\n",
      "\n",
      "---\n",
      "\n",
      "New Instruction: You will be given `Tools`, which will be a list of resources to use in order to accomplish the `Goal`. When presented with a user query, your task is to decide which tool to use and what input values to provide. You will output the necessary `Action` to achieve the `Goal`, including the tool to use and the input query for the tool. Note: You can choose not to use any tools and provide the final answer directly. You may also use one tool multiple times with different input queries if applicable.\n",
      "\n",
      "To improve performance on broader queries, break down these queries into specific, manageable components. For example, if asked, \"What did Georgina do from 1:00 PM to 11:00 PM on 2022/05/18?\", consider breaking the timeframe into smaller segments or focusing on specific activities within that period. Enhance query specificity to ensure the `RETRIEVE` tool can fetch the most relevant information. Use contextual filters to better handle queries that require scanning through multiple events or timeframes, ensuring that retrieved information is directly relevant to the query.\n",
      "\n",
      "Consider integrating additional data sources or tools capable of handling broader queries more effectively, especially those involving multiple events or large timeframes. Develop robust error-handling mechanisms for cases where the `RETRIEVE` tool may not provide sufficient information. This could include prompting for more specific queries or employing fallback methods to ensure relevant data is provided. By focusing on query specificity, contextual filtering, and error handling, you can improve performance on negative inputs, leading to more consistent and accurate results across all query types.\n",
      "\n",
      "---\n",
      "\n",
      "                Optimization Process Metrics\n",
      "                ==========================\n",
      "                Total Execution Time: 16.89 seconds\n",
      "                Total API Calls: 2\n",
      "                - Comparator calls: 1\n",
      "                - Feedback instruction calls: 1\n",
      "\n",
      "                Token Usage:\n",
      "                ----------\n",
      "                Total Tokens: 21,881\n",
      "                - Input tokens: 20,964\n",
      "                - Output tokens: 917\n",
      "\n",
      "                Cost Analysis:\n",
      "                ------------\n",
      "                Estimated Total Cost: $0.6839\n",
      "                \n"
     ]
    }
   ],
   "source": [
    "result = iterative_monkey.compile(\n",
    "    student=actor_agent,\n",
    "    trainset=toolqa_train\n",
    ")"
   ]
  },
  {
   "cell_type": "code",
   "execution_count": null,
   "metadata": {},
   "outputs": [
    {
     "name": "stdout",
     "output_type": "stream",
     "text": [
      "Total optimization cost: $0.6839\n",
      "Final score achieved: 0.588\n",
      "\n",
      "Iteration 0:\n",
      "Score: 0.588\n",
      "Comparator tokens in: 20244\n",
      "Comparator tokens out: 565\n",
      "Feedback tokens in: 720\n",
      "Feedback tokens out: 352\n",
      "Execution time: 76.10s\n"
     ]
    }
   ],
   "source": [
    "optimized_actor_agent = result[\"agent\"]\n",
    "optimization_metrics = result[\"metrics\"]\n",
    "\n",
    "# Now you can process the metrics\n",
    "print(f\"Total optimization cost: ${optimization_metrics['total_cost']:.4f}\")\n",
    "print(f\"Final score achieved: {optimization_metrics['final_score']:.3f}\")\n",
    "\n",
    "# Analyze per-iteration performance\n",
    "for iteration in optimization_metrics['iteration_details']:\n",
    "    print(f\"\\nIteration {iteration['iteration']}:\")\n",
    "    print(f\"Score: {iteration['score']:.3f}\")\n",
    "    print(f\"Comparator tokens in: {iteration['comparator_metrics']['tokens_in']}\")\n",
    "    print(f\"Comparator tokens out: {iteration['comparator_metrics']['tokens_out']}\")\n",
    "    print(f\"Feedback tokens in: {iteration['feedback_metrics']['tokens_in']}\")\n",
    "    print(f\"Feedback tokens out: {iteration['feedback_metrics']['tokens_out']}\")\n",
    "    print(f\"Execution time: {iteration['total_iteration_time']:.2f}s\")"
   ]
  },
  {
   "cell_type": "markdown",
   "metadata": {},
   "source": [
    "Now we can evaluate our actor module, for this we've provided an implementation of thread safe evaluator that we above as part of class method of `AvatarOptimizer`."
   ]
  },
  {
   "cell_type": "code",
   "execution_count": null,
   "metadata": {},
   "outputs": [
    {
     "name": "stdout",
     "output_type": "stream",
     "text": [
      "Processing batch 1 of 4...\n"
     ]
    },
    {
     "name": "stderr",
     "output_type": "stream",
     "text": [
      "Processing examples:   0%|          | 0/60 [00:00<?, ?it/s]"
     ]
    },
    {
     "name": "stdout",
     "output_type": "stream",
     "text": [
      "[query_llm] Activities of Daisy from 11:00 PM on 2022/01/31 to 1:00 AM on 2022/02/01\n",
      "[query_llm] Faith's schedule on 2022/10/04\n",
      "[query_llm] Millie's attendance duration at Theatre play on 2022/12/07\n",
      "[query_llm] Retrieve activities for Thomas from 8:00 PM to 10:00 PM on 2022/10/03.\n",
      "[query_llm] Find the time Albert attended the Youth talent showcase on 2022/08/11.\n",
      "[query_llm] Brian's activities on 2022/06/20, specifically focusing on the duration of Happy Hour attendance.\n",
      "[query_llm] Events for Phoebe on 2022/01/10\n",
      "[query_llm] Attendees of Aquarium visit between 10:00 AM and 5:00 PM on 2022/07/06 at New England Aquarium\n",
      "[query_llm] James' activities from 9:00 AM to 11:00 AM on 2022/02/02\n",
      "[query_llm] Georgia's schedule on 2022/06/22\n",
      "[query_llm] What time did Aidan attend the Bird-watching tour on 2022/12/09?\n",
      "[query_llm] Daisy's attendance details for Jazz Performance on 2022/02/05\n",
      "[query_llm] Fetch the duration of Aurora's attendance at the Dreamcatcher-making workshop on 2022/01/24.\n",
      "[query_llm] Attendees of Art exhibit opening reception between 5:00 PM and 7:00 PM on 2022/08/01 at Locust Projects, Design District\n",
      "[query_llm] Matilda Historical Tour location on 2022/12/13\n",
      "[query_llm] Brian's schedule on 2022/06/30\n",
      "[query_llm] Activities of Adam from 7:00 PM to 9:00 PM on 2022/10/27\n",
      "No activities found for Daisy from 11:00 PM on 2022/01/31 to 1:00 AM on 2022/02/01. | Late Night Movie => 0.0\n",
      "[query_llm] Attendees of Gym workout between 2:00 PM and 3:00 PM on 2022/03/15 at CrossFit Fitness\n",
      "Millie attended the Theatre play for 2 hours on 2022/12/07. | 2:00:00 => 1.0\n",
      "Faith did not attend an Ice hockey game on 2022/10/04 as per the available schedule. | 7:00 PM => 0.0\n",
      "Georgina attended the Aquarium visit at the New England Aquarium between 10:00 AM and 5:00 PM on 2022/07/06. | Georgina => 1.0\n",
      "Phoebe did not attend a Food festival on 2022/01/10. | 6:00 PM => 0.0\n",
      "Local History Museum | Local History Museum => 1.0\n",
      "Brian attended the Gym workout between 2:00 PM and 3:00 PM on 2022/03/15 at CrossFit Fitness. | Brian => 1.0\n",
      "Brian did not attend a Car maintenance check on 2022/06/30. | 9:00 AM => 0.0\n",
      "Brian attended Happy Hour for 2 hours on 2022/06/20. | 2:00:00 => 1.0\n",
      "No specific attendees were mentioned for the Art exhibit opening reception on 2022/08/01 at Locust Projects, Design District. | Sophia => 0.0\n",
      "Daisy attended the Jazz Performance on 2022/02/05 for 3 hours, from 8:00 PM to 11:00 PM. | 3:00:00 => 1.0\n",
      "Aidan attended the Bird-watching tour on 2022/12/09 from 8:00 AM to 10:00 AM. | 8:00 AM => 0.5\n",
      "Answer: Albert attended the Youth Talent Showcase on 2022/08/11 from 5:00 PM to 7:00 PM. | 5:00 PM => 1.0\n",
      "Answer: The duration of Aurora's attendance at the Dreamcatcher-making workshop on 2022/01/24 was 2 hours, from 3:00 PM to 5:00 PM. | 2:00:00 => 1.0\n",
      "No relevant activities found for James from 9:00 AM to 11:00 AM on 2022/02/02. | Business meeting => 0.0\n",
      "[query_llm] Attendees of Poetry reading at Beyond Baroque between 7:00 PM and 9:00 PM on 2022/04/07\n"
     ]
    },
    {
     "name": "stderr",
     "output_type": "stream",
     "text": [
      "Processing examples:   2%|▏         | 1/60 [00:41<40:26, 41.13s/it]"
     ]
    },
    {
     "name": "stdout",
     "output_type": "stream",
     "text": [
      "Thomas had no scheduled activities from 8:00 PM to 10:00 PM on 2022/10/03. | Star-gazing => 0.0\n",
      "No relevant activities found for Adam from 7:00 PM to 9:00 PM on 2022/10/27. | Join a public speaking class => 0.0\n",
      "Answer: The attendees of the Poetry reading at Beyond Baroque on April 7th, 2022, were not explicitly listed in the retrieved information. | Charlotte => 0.0\n",
      "[query_llm] Benjamin's events on 2022/10/21\n",
      "[query_llm] Attendees of Star Gazing event between 8:00 PM and 11:00 PM on 2022/08/23 at Observatory, Griffith Park Observatory\n",
      "[query_llm] Isabella's schedule on 2022/05/06\n",
      "[query_llm] Felix's schedule on 2022/03/30 for Live piano performance\n",
      "Benjamin did not attend Movie night on 2022/10/21 as per available information. | 8:30 PM => 0.0\n",
      "Adrian and Poppy attended the Star Gazing event between 8:00 PM and 11:00 PM on 2022/08/23 at Griffith Park Observatory. | Adrian => 0.5\n",
      "Isabella's schedule does not mention a Photography workshop on 2022/05/06. | 12:00 PM => 0.0\n",
      "[query_llm] Alice's activities between 6:00 PM and 9:00 PM on 2022/07/28\n",
      "Felix attended the live piano performance on March 30th, 2022, from 7:00 PM to 9:00 PM at The Piano Bar. | 7:00 PM => 1.0\n",
      "[query_llm] Who attended the Wine and Paint Event between 6:00 PM and 8:00 PM on 2022/04/10 in Art Studio Downtown?\n",
      "[query_llm] Events for Emily from 7:00 PM to 9:30 PM on 2022/02/07\n",
      "[query_llm] Patrick's attendance at Landscape photography workshop on 2022/02/22\n",
      "[query_llm] Attendees of Photography Class between 11:00 AM and 1:00 PM on 2022/03/09 in The Camera Store\n",
      "[query_llm] William's schedule on 2022/01/17\n",
      "[query_llm] Fetch Andrew's activities between 6:00 PM and 8:00 PM on 2022/08/23\n",
      "[query_llm] Emily's schedule on 2022/06/15\n",
      "[query_llm] Find the location of the Chess club meeting that Victoria attended on 2022/06/13.\n",
      "Alice's activities between 6:00 PM and 9:00 PM on 2022/07/28 are not available in the retrieved data. | Fashion Show => 0.0\n",
      "[query_llm] Elizabeth's activities from 7:30 PM to 10:00 PM on 2022/06/29\n",
      "[query_llm] Attendees of Wine Tasting at City Winery between 5:00 PM and 7:00 PM on 2022/05/23\n",
      "No specific attendee information was retrieved for the Wine and Paint Event on April 10th, 2022, at the Art Studio Downtown. | Benjamin => 0.0\n",
      "No relevant attendees found for the specified time and location. | Chloe => 0.0\n",
      "[query_llm] Find location of Movie Night attended by Hector on 2022/06/03.\n",
      "Patrick attended the Landscape photography workshop on February 22, 2022, from 8:00 AM to 11:00 AM at Central Park. | 8:00 AM => 1.0\n",
      "[query_llm] Georgina's events on 2022/04/30\n",
      "[query_llm] Georgina's schedule on 2022/04/18\n",
      "The Chess club meeting that Victoria attended on 2022/06/13 took place at The Chess Forum. | The Chess Forum => 1.0\n",
      "No relevant events found for Emily from 7:00 PM to 9:30 PM on 2022/02/07. | Board game night => 0.0\n",
      "[query_llm] Retrieve Anthony's activities from 8:00 AM to 10:00 AM on 2022/09/04.\n",
      "[query_llm] Willow's attendance at Summer camp informational session on 2022/04/02\n",
      "William did not attend a Music concert on 2022/01/17. | 8:00 PM => 0.0\n",
      "[query_llm] Madison's attendance at Stand-up comedy show on 2022/10/11\n",
      "[query_llm] What is the duration of Charles's 'Watch a baseball game' event on 2022/05/21?\n",
      "[query_llm] Willow's schedule on 2022/09/26\n",
      "[query_llm] Daisy's attendance duration for Stand-up paddleboarding lesson on 2022/10/19\n",
      "[query_llm] Find the location of the Floral design session attended by Emily on 2022/09/30.\n",
      "[query_llm] Find the location of the Fun run event that Zara attended on 2022/02/19.\n",
      "[query_llm] Find location of Martial arts class Lily attended on 2022/10/11\n",
      "Emily's attendance at the Jazz concert on 2022/06/15 is not found in the retrieved data. | 8:00 PM => 0.0\n",
      "No relevant activities found for Andrew between 6:00 PM and 8:00 PM on 2022/08/23. | Fashion show => 0.0\n",
      "No relevant activities for Elizabeth between 7:30 PM and 10:00 PM on 2022/06/29 were found in the retrieved data. | Opera performance => 0.0\n",
      "[query_llm] Georgia's Move-in day schedule on 2022/06/22\n",
      "[query_llm] Daisy's attendance duration at Public policy conference on 2022/02/25\n",
      "[query_llm] Events for Charlotte from 4:00 PM to 5:30 PM on 2022/10/31\n"
     ]
    },
    {
     "name": "stderr",
     "output_type": "stream",
     "text": [
      "Processing examples:   3%|▎         | 2/60 [01:06<30:34, 31.63s/it]"
     ]
    },
    {
     "name": "stdout",
     "output_type": "stream",
     "text": [
      "3 hoursGarden Collage | Garden Collage => 1.0\n",
      " | 3:00:00 => 1.0\n",
      "The Movie Night that Hector attended on 2022/06/03 took place on the rooftop of The Standard Hotel. | The Standard Hotel rooftop  => 1.0\n",
      "[query_llm] Attendees of Historical lecture between 7:00 PM and 9:00 PM on 2022/11/29 at The New-York Historical Society\n",
      "No specific attendees were mentioned for the Wine Tasting event at City Winery between 5:00 PM and 7:00 PM on 2022/05/23. | Penelope => 0.0\n",
      "[query_llm] Robotics seminar location for Esme on 2022/09/13\n",
      "[query_llm] Matilda's activities between 7:30 PM and 9:30 PM on 2022/03/25\n",
      "[query_llm] Phillip's attendance at Creative Writing Workshop on 2022/06/28\n",
      "[query_llm] Retrieve the duration of Daniel's Dance Class attendance on 2022/06/24.\n",
      "[query_llm] Albert's attendance duration for Conference Call on 2022/04/24\n",
      "[query_llm] Fetch Adam's attendance details for the Breakfast meeting on 2022/05/07.\n",
      "[query_llm] Isabella's activities between 2:00 PM and 3:00 PM on 2022/12/03\n",
      "[query_llm] What events or activities did Grace have from 8:00 PM to 9:30 PM on 2022/08/01?\n",
      "[query_llm] Retrieve duration of Henry's attendance at Chili cook-off on 2022/03/21\n",
      "[query_llm] Georgina's schedule on 2022/04/23 to find the time she attended the Corporate Social Responsibility Conference.\n",
      "Anthony has no recorded activities from 8:00 AM to 10:00 AM on 2022/09/04. | Classic Car Show => 0.0\n",
      "Georgina did not attend a Pet grooming session on 2022/04/18. | 1:00 PM => 0.0\n",
      "[query_llm] Retrieve the duration of George's Tennis lesson on 2022/06/22.\n",
      "Unable to find relevant information for Willow attending Intermediate Spanish conversation class on 2022/09/26. Please provide more specific details or check if the schedule is available. | 11:00 AM => 0.0\n",
      "Madison attended the stand-up comedy show on October 11th, 2022, from 8:00 PM to 10:00 PM at the Comedy Cellar. | 8:00 PM => 1.0\n",
      "The information retrieved does not include Daisy's attendance on 2022/10/19. Please provide more specific details or check the agenda for that date. | 1:00:00 => 0.0\n",
      "The Martial Arts class that Lily attended on 2022/10/11 took place at The Martial Arts Academy. | The Martial Arts Academy => 1.0\n",
      "[query_llm] Georgina's events on 2022/04/30 including Indie film festival\n",
      "[query_llm] Find the location of the Fun run event that Zara attended on 2022/02/19.\n",
      "Willow's attendance at the Summer camp informational session on 2022/04/02 is not mentioned in the retrieved data. | 1:30:00 => 0.0\n"
     ]
    },
    {
     "name": "stderr",
     "output_type": "stream",
     "text": [
      "Processing examples:  10%|█         | 6/60 [01:09<07:04,  7.86s/it]"
     ]
    },
    {
     "name": "stdout",
     "output_type": "stream",
     "text": [
      "Georgia attended Move-in day on 2022/06/22 from 9:00 AM to 5:00 PM. | 9:00 AM => 1.0\n",
      "University Auditorium | University Auditorium => 1.0\n",
      "No relevant events were found for Charlotte from 4:00 PM to 5:30 PM on 2022/10/31.No attendees found for the specified event timeframe and location. | Henry => 0.0\n",
      " | Cooking Class => 0.0\n",
      "Daisy attended the Public Policy Conference for 8 hours on February 25, 2022. | 8:00:00 => 1.0\n",
      "No relevant activities found for Matilda between 7:30 PM and 9:30 PM on 2022/03/25. | Opera show => 0.0\n",
      "Albert attended the Conference Call for 1 hour on 2022/04/24. | 1:00:00 => 1.0\n",
      "Answer: Daniel's Dance Class duration on 2022/06/24 is not available in the retrieved data. | 1:00:00 => 0.0\n",
      "Answer: Adam attended the Breakfast meeting on 2022/05/07 for 1 hour and 30 minutes. | 1:30:00 => 1.0\n",
      "No events or activities found for Grace from 8:00 PM to 9:30 PM on 2022/08/01. | Stand-up comedy show => 0.0\n",
      "Georgina's attendance at the Corporate Social Responsibility Conference on 2022/04/23 is not found in the retrieved data. | 10:00 AM => 0.0\n",
      "George's Tennis lesson on 2022/06/22 was not found in the retrieved data. Please provide more specific details or check the input data for accuracy. | 1:00:00 => 0.0\n"
     ]
    },
    {
     "name": "stderr",
     "output_type": "stream",
     "text": [
      "Processing examples:  18%|█▊        | 11/60 [01:12<03:01,  3.70s/it]"
     ]
    },
    {
     "name": "stdout",
     "output_type": "stream",
     "text": [
      "Isabella's activities between 2:00 PM and 3:00 PM on 2022/12/03 are not listed. No specific events found for this timeframe. | Ballet class => 0.0\n",
      "Henry attended the Chili cook-off for 3 hours on 2022/03/21. | 3:00:00 => 1.0\n",
      "The location of the Fun run event that Zara attended on 2022/02/19 is not available in the retrieved data. | The Fun Run Trail => 0.0\n",
      "Phillip attended the Creative Writing Workshop on June 28th, 2022, from 6:00 PM to 8:00 PM at The StoryStudio. | 6:00 PM => 1.0\n"
     ]
    },
    {
     "name": "stderr",
     "output_type": "stream",
     "text": [
      "Processing examples: 100%|██████████| 60/60 [01:15<00:00,  1.25s/it]"
     ]
    },
    {
     "name": "stdout",
     "output_type": "stream",
     "text": [
      "Georgina attended the Indie film festival on April 30th, 2022, from 12:00 PM to 10:00 PM at the Los Angeles Film Festival. | 12:00 PM => 1.0\n",
      "Processing batch 2 of 4...\n"
     ]
    },
    {
     "name": "stderr",
     "output_type": "stream",
     "text": [
      "\n",
      "Processing examples:   0%|          | 0/60 [00:00<?, ?it/s]"
     ]
    },
    {
     "name": "stdout",
     "output_type": "stream",
     "text": [
      "[query_llm] Find location of Movie Night attended by Hector on 2022/06/03.\n",
      "The Movie Night that Hector attended on 2022/06/03 took place on the rooftop of The Standard Hotel. | The Standard Hotel rooftop  => 1.0\n",
      "[query_llm] What events or activities did Grace have from 8:00 PM to 9:30 PM on 2022/08/01?\n",
      "No events or activities found for Grace from 8:00 PM to 9:30 PM on 2022/08/01. | Stand-up comedy show => 0.0\n",
      "[query_llm] Alice's activities between 6:00 PM and 9:00 PM on 2022/07/28\n",
      "Alice's activities between 6:00 PM and 9:00 PM on 2022/07/28 are not available in the retrieved data. | Fashion Show => 0.0\n",
      "[query_llm] Willow's attendance at Summer camp informational session on 2022/04/02\n",
      "Willow's attendance at the Summer camp informational session on 2022/04/02 is not mentioned in the retrieved data. | 1:30:00 => 0.0\n",
      "[query_llm] Activities of Daisy from 11:00 PM on 2022/01/31 to 1:00 AM on 2022/02/01\n",
      "No activities found for Daisy from 11:00 PM on 2022/01/31 to 1:00 AM on 2022/02/01. | Late Night Movie => 0.0\n",
      "[query_llm] Daisy's attendance details for Jazz Performance on 2022/02/05\n",
      "Daisy attended the Jazz Performance on 2022/02/05 for 3 hours, from 8:00 PM to 11:00 PM. | 3:00:00 => 1.0\n",
      "[query_llm] James' activities from 9:00 AM to 11:00 AM on 2022/02/02\n",
      "No relevant activities found for James from 9:00 AM to 11:00 AM on 2022/02/02. | Business meeting => 0.0\n",
      "[query_llm] Attendees of Gym workout between 2:00 PM and 3:00 PM on 2022/03/15 at CrossFit Fitness\n",
      "Brian attended the Gym workout between 2:00 PM and 3:00 PM on 2022/03/15 at CrossFit Fitness. | Brian => 1.0\n",
      "[query_llm] Robotics seminar location for Esme on 2022/09/13\n",
      "University Auditorium | University Auditorium => 1.0\n",
      "[query_llm] Brian's activities on 2022/06/20, specifically focusing on the duration of Happy Hour attendance.\n",
      "Brian attended Happy Hour for 2 hours on 2022/06/20. | 2:00:00 => 1.0\n",
      "[query_llm] Retrieve the duration of George's Tennis lesson on 2022/06/22.\n",
      "George's Tennis lesson on 2022/06/22 was not found in the retrieved data. Please provide more specific details or check the input data for accuracy. | 1:00:00 => 0.0\n",
      "[query_llm] Millie's attendance duration at Theatre play on 2022/12/07\n",
      "Millie attended the Theatre play for 2 hours on 2022/12/07. | 2:00:00 => 1.0\n",
      "[query_llm] Matilda Historical Tour location on 2022/12/13\n",
      "Local History Museum | Local History Museum => 1.0\n"
     ]
    },
    {
     "name": "stderr",
     "output_type": "stream",
     "text": [
      "Processing examples:   2%|▏         | 1/60 [00:31<31:01, 31.55s/it]"
     ]
    },
    {
     "name": "stdout",
     "output_type": "stream",
     "text": [
      "[query_llm] Retrieve activities for Thomas from 8:00 PM to 10:00 PM on 2022/10/03.\n",
      "[query_llm] Attendees of Art exhibit opening reception between 5:00 PM and 7:00 PM on 2022/08/01 at Locust Projects, Design District\n",
      "No specific attendees were mentioned for the Art exhibit opening reception on 2022/08/01 at Locust Projects, Design District. | Sophia => 0.0\n",
      "Thomas had no scheduled activities from 8:00 PM to 10:00 PM on 2022/10/03. | Star-gazing => 0.0\n",
      "[query_llm] Georgia's schedule on 2022/06/22\n",
      "[query_llm] Felix's schedule on 2022/03/30 for Live piano performance\n",
      "[query_llm] Emily's schedule on 2022/06/15\n",
      "Felix attended the live piano performance on March 30th, 2022, from 7:00 PM to 9:00 PM at The Piano Bar. | 7:00 PM => 1.0\n",
      "Emily's attendance at the Jazz concert on 2022/06/15 is not found in the retrieved data. | 8:00 PM => 0.0\n",
      "[query_llm] Georgia's Move-in day schedule on 2022/06/22\n",
      "[query_llm] Attendees of Aquarium visit between 10:00 AM and 5:00 PM on 2022/07/06 at New England Aquarium\n",
      "Georgia attended Move-in day on 2022/06/22 from 9:00 AM to 5:00 PM. | 9:00 AM => 1.0\n",
      "Georgina attended the Aquarium visit at the New England Aquarium between 10:00 AM and 5:00 PM on 2022/07/06. | Georgina => 1.0\n",
      "[query_llm] Willow's schedule on 2022/09/26\n",
      "Unable to find relevant information for Willow attending Intermediate Spanish conversation class on 2022/09/26. Please provide more specific details or check if the schedule is available. | 11:00 AM => 0.0\n",
      "[query_llm] Elizabeth's activities from 7:30 PM to 10:00 PM on 2022/06/29\n",
      "No relevant activities for Elizabeth between 7:30 PM and 10:00 PM on 2022/06/29 were found in the retrieved data. | Opera performance => 0.0\n",
      "[query_llm] Daisy's attendance duration at Public policy conference on 2022/02/25\n",
      "[query_llm] Events for Emily from 7:00 PM to 9:30 PM on 2022/02/07\n",
      "Daisy attended the Public Policy Conference for 8 hours on February 25, 2022. | 8:00:00 => 1.0\n",
      "No relevant events found for Emily from 7:00 PM to 9:30 PM on 2022/02/07. | Board game night => 0.0\n",
      "[query_llm] What is the duration of Charles's 'Watch a baseball game' event on 2022/05/21?\n",
      "[query_llm] Isabella's schedule on 2022/05/06\n",
      "3 hours | 3:00:00 => 1.0\n",
      "Isabella's schedule does not mention a Photography workshop on 2022/05/06. | 12:00 PM => 0.0\n",
      "[query_llm] Albert's attendance duration for Conference Call on 2022/04/24\n",
      "Albert attended the Conference Call for 1 hour on 2022/04/24. | 1:00:00 => 1.0\n",
      "[query_llm] Events for Phoebe on 2022/01/10\n",
      "Phoebe did not attend a Food festival on 2022/01/10. | 6:00 PM => 0.0\n",
      "[query_llm] William's schedule on 2022/01/17\n",
      "William did not attend a Music concert on 2022/01/17. | 8:00 PM => 0.0\n",
      "[query_llm] Attendees of Historical lecture between 7:00 PM and 9:00 PM on 2022/11/29 at The New-York Historical Society\n",
      "No attendees found for the specified event timeframe and location. | Henry => 0.0\n",
      "[query_llm] Benjamin's events on 2022/10/21\n",
      "Benjamin did not attend Movie night on 2022/10/21 as per available information. | 8:30 PM => 0.0\n",
      "[query_llm] Fetch Adam's attendance details for the Breakfast meeting on 2022/05/07.\n",
      "Answer: Adam attended the Breakfast meeting on 2022/05/07 for 1 hour and 30 minutes. | 1:30:00 => 1.0\n",
      "[query_llm] Attendees of Wine Tasting at City Winery between 5:00 PM and 7:00 PM on 2022/05/23\n",
      "No specific attendees were mentioned for the Wine Tasting event at City Winery between 5:00 PM and 7:00 PM on 2022/05/23. | Penelope => 0.0\n",
      "[query_llm] Who attended the Wine and Paint Event between 6:00 PM and 8:00 PM on 2022/04/10 in Art Studio Downtown?\n",
      "[query_llm] Attendees of Photography Class between 11:00 AM and 1:00 PM on 2022/03/09 in The Camera Store\n",
      "No specific attendee information was retrieved for the Wine and Paint Event on April 10th, 2022, at the Art Studio Downtown. | Benjamin => 0.0\n",
      "No relevant attendees found for the specified time and location. | Chloe => 0.0\n"
     ]
    },
    {
     "name": "stderr",
     "output_type": "stream",
     "text": [
      "Processing examples:   7%|▋         | 4/60 [00:57<12:04, 12.95s/it]"
     ]
    },
    {
     "name": "stdout",
     "output_type": "stream",
     "text": [
      "[query_llm] Activities of Adam from 7:00 PM to 9:00 PM on 2022/10/27\n",
      "No relevant activities found for Adam from 7:00 PM to 9:00 PM on 2022/10/27. | Join a public speaking class => 0.0\n"
     ]
    },
    {
     "name": "stderr",
     "output_type": "stream",
     "text": [
      "Processing examples:   8%|▊         | 5/60 [00:58<08:53,  9.70s/it]"
     ]
    },
    {
     "name": "stdout",
     "output_type": "stream",
     "text": [
      "[query_llm] Find the location of the Floral design session attended by Emily on 2022/09/30.\n",
      "Garden Collage | Garden Collage => 1.0\n",
      "[query_llm] Attendees of Poetry reading at Beyond Baroque between 7:00 PM and 9:00 PM on 2022/04/07\n",
      "Answer: The attendees of the Poetry reading at Beyond Baroque on April 7th, 2022, were not explicitly listed in the retrieved information. | Charlotte => 0.0\n",
      "[query_llm] Attendees of Star Gazing event between 8:00 PM and 11:00 PM on 2022/08/23 at Observatory, Griffith Park Observatory\n",
      "Adrian and Poppy attended the Star Gazing event between 8:00 PM and 11:00 PM on 2022/08/23 at Griffith Park Observatory. | Adrian => 0.5\n"
     ]
    },
    {
     "name": "stderr",
     "output_type": "stream",
     "text": [
      "Processing examples:  18%|█▊        | 11/60 [00:59<02:25,  2.96s/it]"
     ]
    },
    {
     "name": "stdout",
     "output_type": "stream",
     "text": [
      "[query_llm] Isabella's activities between 2:00 PM and 3:00 PM on 2022/12/03\n",
      "Isabella's activities between 2:00 PM and 3:00 PM on 2022/12/03 are not listed. No specific events found for this timeframe. | Ballet class => 0.0\n",
      "[query_llm] Daisy's attendance duration for Stand-up paddleboarding lesson on 2022/10/19\n",
      "The information retrieved does not include Daisy's attendance on 2022/10/19. Please provide more specific details or check the agenda for that date. | 1:00:00 => 0.0\n",
      "[query_llm] Retrieve the duration of Daniel's Dance Class attendance on 2022/06/24.\n",
      "Answer: Daniel's Dance Class duration on 2022/06/24 is not available in the retrieved data. | 1:00:00 => 0.0\n",
      "[query_llm] Fetch the duration of Aurora's attendance at the Dreamcatcher-making workshop on 2022/01/24.\n",
      "Answer: The duration of Aurora's attendance at the Dreamcatcher-making workshop on 2022/01/24 was 2 hours, from 3:00 PM to 5:00 PM. | 2:00:00 => 1.0\n",
      "[query_llm] Georgina's events on 2022/04/30\n",
      "[query_llm] What time did Aidan attend the Bird-watching tour on 2022/12/09?\n",
      "Aidan attended the Bird-watching tour on 2022/12/09 from 8:00 AM to 10:00 AM. | 8:00 AM => 0.5\n",
      "[query_llm] Georgina's schedule on 2022/04/23 to find the time she attended the Corporate Social Responsibility Conference.\n",
      "Georgina's attendance at the Corporate Social Responsibility Conference on 2022/04/23 is not found in the retrieved data. | 10:00 AM => 0.0\n",
      "[query_llm] Find the location of the Fun run event that Zara attended on 2022/02/19.\n",
      "[query_llm] Phillip's attendance at Creative Writing Workshop on 2022/06/28\n",
      "Phillip attended the Creative Writing Workshop on June 28th, 2022, from 6:00 PM to 8:00 PM at The StoryStudio. | 6:00 PM => 1.0\n",
      "[query_llm] Patrick's attendance at Landscape photography workshop on 2022/02/22\n",
      "Patrick attended the Landscape photography workshop on February 22, 2022, from 8:00 AM to 11:00 AM at Central Park. | 8:00 AM => 1.0\n",
      "[query_llm] Fetch Andrew's activities between 6:00 PM and 8:00 PM on 2022/08/23\n",
      "No relevant activities found for Andrew between 6:00 PM and 8:00 PM on 2022/08/23. | Fashion show => 0.0\n",
      "[query_llm] Events for Charlotte from 4:00 PM to 5:30 PM on 2022/10/31\n",
      "[query_llm] Madison's attendance at Stand-up comedy show on 2022/10/11\n",
      "No relevant events were found for Charlotte from 4:00 PM to 5:30 PM on 2022/10/31. | Cooking Class => 0.0\n",
      "Madison attended the stand-up comedy show on October 11th, 2022, from 8:00 PM to 10:00 PM at the Comedy Cellar. | 8:00 PM => 1.0\n",
      "[query_llm] Faith's schedule on 2022/10/04\n",
      "[query_llm] Brian's schedule on 2022/06/30\n"
     ]
    },
    {
     "name": "stderr",
     "output_type": "stream",
     "text": [
      "Processing examples:  25%|██▌       | 15/60 [01:04<01:42,  2.27s/it]"
     ]
    },
    {
     "name": "stdout",
     "output_type": "stream",
     "text": [
      "Brian did not attend a Car maintenance check on 2022/06/30. | 9:00 AM => 0.0\n",
      "Faith did not attend an Ice hockey game on 2022/10/04 as per the available schedule. | 7:00 PM => 0.0\n",
      "[query_llm] Find location of Martial arts class Lily attended on 2022/10/11\n",
      "The Martial Arts class that Lily attended on 2022/10/11 took place at The Martial Arts Academy. | The Martial Arts Academy => 1.0\n",
      "[query_llm] Find the location of the Chess club meeting that Victoria attended on 2022/06/13.\n",
      "The Chess club meeting that Victoria attended on 2022/06/13 took place at The Chess Forum. | The Chess Forum => 1.0\n",
      "[query_llm] Find the time Albert attended the Youth talent showcase on 2022/08/11.\n",
      "Answer: Albert attended the Youth Talent Showcase on 2022/08/11 from 5:00 PM to 7:00 PM. | 5:00 PM => 1.0\n",
      "[query_llm] Retrieve duration of Henry's attendance at Chili cook-off on 2022/03/21\n",
      "Henry attended the Chili cook-off for 3 hours on 2022/03/21. | 3:00:00 => 1.0\n",
      "[query_llm] Matilda's activities between 7:30 PM and 9:30 PM on 2022/03/25\n",
      "No relevant activities found for Matilda between 7:30 PM and 9:30 PM on 2022/03/25. | Opera show => 0.0\n",
      "[query_llm] Georgina's schedule on 2022/04/18\n",
      "Georgina did not attend a Pet grooming session on 2022/04/18. | 1:00 PM => 0.0\n",
      "[query_llm] Retrieve Anthony's activities from 8:00 AM to 10:00 AM on 2022/09/04.\n",
      "Anthony has no recorded activities from 8:00 AM to 10:00 AM on 2022/09/04. | Classic Car Show => 0.0\n"
     ]
    },
    {
     "name": "stderr",
     "output_type": "stream",
     "text": [
      "Processing examples: 100%|██████████| 60/60 [01:05<00:00,  1.10s/it]"
     ]
    },
    {
     "name": "stdout",
     "output_type": "stream",
     "text": [
      "[query_llm] Georgina's events on 2022/04/30 including Indie film festival\n",
      "Georgina attended the Indie film festival on April 30th, 2022, from 12:00 PM to 10:00 PM at the Los Angeles Film Festival. | 12:00 PM => 1.0\n",
      "[query_llm] Find the location of the Fun run event that Zara attended on 2022/02/19.\n",
      "The location of the Fun run event that Zara attended on 2022/02/19 is not available in the retrieved data. | The Fun Run Trail => 0.0\n",
      "Processing batch 3 of 4...\n"
     ]
    },
    {
     "name": "stderr",
     "output_type": "stream",
     "text": [
      "\n",
      "Processing examples:   0%|          | 0/60 [00:00<?, ?it/s]"
     ]
    },
    {
     "name": "stdout",
     "output_type": "stream",
     "text": [
      "[query_llm] Events for Phoebe on 2022/01/10\n",
      "Phoebe did not attend a Food festival on 2022/01/10. | 6:00 PM => 0.0\n",
      "[query_llm] Fetch the duration of Aurora's attendance at the Dreamcatcher-making workshop on 2022/01/24.\n",
      "Answer: The duration of Aurora's attendance at the Dreamcatcher-making workshop on 2022/01/24 was 2 hours, from 3:00 PM to 5:00 PM. | 2:00:00 => 1.0\n",
      "[query_llm] Activities of Daisy from 11:00 PM on 2022/01/31 to 1:00 AM on 2022/02/01\n",
      "No activities found for Daisy from 11:00 PM on 2022/01/31 to 1:00 AM on 2022/02/01. | Late Night Movie => 0.0\n",
      "[query_llm] Retrieve duration of Henry's attendance at Chili cook-off on 2022/03/21\n",
      "Henry attended the Chili cook-off for 3 hours on 2022/03/21. | 3:00:00 => 1.0\n",
      "[query_llm] Events for Charlotte from 4:00 PM to 5:30 PM on 2022/10/31\n",
      "No relevant events were found for Charlotte from 4:00 PM to 5:30 PM on 2022/10/31. | Cooking Class => 0.0\n",
      "[query_llm] Attendees of Art exhibit opening reception between 5:00 PM and 7:00 PM on 2022/08/01 at Locust Projects, Design District\n",
      "No specific attendees were mentioned for the Art exhibit opening reception on 2022/08/01 at Locust Projects, Design District. | Sophia => 0.0\n",
      "[query_llm] Find the time Albert attended the Youth talent showcase on 2022/08/11.\n",
      "Answer: Albert attended the Youth Talent Showcase on 2022/08/11 from 5:00 PM to 7:00 PM. | 5:00 PM => 1.0\n",
      "[query_llm] Fetch Andrew's activities between 6:00 PM and 8:00 PM on 2022/08/23\n",
      "[query_llm] Georgina's events on 2022/04/30\n",
      "No relevant activities found for Andrew between 6:00 PM and 8:00 PM on 2022/08/23. | Fashion show => 0.0\n"
     ]
    },
    {
     "name": "stderr",
     "output_type": "stream",
     "text": [
      "Processing examples:   2%|▏         | 1/60 [00:36<35:37, 36.23s/it]"
     ]
    },
    {
     "name": "stdout",
     "output_type": "stream",
     "text": [
      "[query_llm] Millie's attendance duration at Theatre play on 2022/12/07\n",
      "Millie attended the Theatre play for 2 hours on 2022/12/07. | 2:00:00 => 1.0\n",
      "[query_llm] Retrieve activities for Thomas from 8:00 PM to 10:00 PM on 2022/10/03.\n",
      "[query_llm] Willow's schedule on 2022/09/26\n",
      "Thomas had no scheduled activities from 8:00 PM to 10:00 PM on 2022/10/03. | Star-gazing => 0.0\n",
      "Unable to find relevant information for Willow attending Intermediate Spanish conversation class on 2022/09/26. Please provide more specific details or check if the schedule is available. | 11:00 AM => 0.0\n"
     ]
    },
    {
     "name": "stderr",
     "output_type": "stream",
     "text": [
      "Processing examples:   3%|▎         | 2/60 [00:36<14:48, 15.32s/it]"
     ]
    },
    {
     "name": "stdout",
     "output_type": "stream",
     "text": [
      "[query_llm] Find location of Movie Night attended by Hector on 2022/06/03.\n",
      "The Movie Night that Hector attended on 2022/06/03 took place on the rooftop of The Standard Hotel. | The Standard Hotel rooftop  => 1.0\n",
      "[query_llm] Robotics seminar location for Esme on 2022/09/13\n",
      "University Auditorium | University Auditorium => 1.0\n",
      "[query_llm] What is the duration of Charles's 'Watch a baseball game' event on 2022/05/21?\n",
      "3 hours | 3:00:00 => 1.0\n",
      "[query_llm] Attendees of Wine Tasting at City Winery between 5:00 PM and 7:00 PM on 2022/05/23\n",
      "No specific attendees were mentioned for the Wine Tasting event at City Winery between 5:00 PM and 7:00 PM on 2022/05/23. | Penelope => 0.0\n",
      "[query_llm] Attendees of Aquarium visit between 10:00 AM and 5:00 PM on 2022/07/06 at New England Aquarium\n",
      "Georgina attended the Aquarium visit at the New England Aquarium between 10:00 AM and 5:00 PM on 2022/07/06. | Georgina => 1.0\n",
      "[query_llm] James' activities from 9:00 AM to 11:00 AM on 2022/02/02\n",
      "No relevant activities found for James from 9:00 AM to 11:00 AM on 2022/02/02. | Business meeting => 0.0\n",
      "[query_llm] Attendees of Poetry reading at Beyond Baroque between 7:00 PM and 9:00 PM on 2022/04/07\n",
      "Answer: The attendees of the Poetry reading at Beyond Baroque on April 7th, 2022, were not explicitly listed in the retrieved information. | Charlotte => 0.0\n"
     ]
    },
    {
     "name": "stderr",
     "output_type": "stream",
     "text": [
      "Processing examples:   7%|▋         | 4/60 [00:45<07:44,  8.29s/it]"
     ]
    },
    {
     "name": "stdout",
     "output_type": "stream",
     "text": [
      "[query_llm] Activities of Adam from 7:00 PM to 9:00 PM on 2022/10/27\n",
      "No relevant activities found for Adam from 7:00 PM to 9:00 PM on 2022/10/27. | Join a public speaking class => 0.0\n",
      "[query_llm] Retrieve Anthony's activities from 8:00 AM to 10:00 AM on 2022/09/04.\n",
      "Anthony has no recorded activities from 8:00 AM to 10:00 AM on 2022/09/04. | Classic Car Show => 0.0\n",
      "[query_llm] Faith's schedule on 2022/10/04\n",
      "Faith did not attend an Ice hockey game on 2022/10/04 as per the available schedule. | 7:00 PM => 0.0\n",
      "[query_llm] Daisy's attendance duration for Stand-up paddleboarding lesson on 2022/10/19\n",
      "The information retrieved does not include Daisy's attendance on 2022/10/19. Please provide more specific details or check the agenda for that date. | 1:00:00 => 0.0\n",
      "[query_llm] Daisy's attendance details for Jazz Performance on 2022/02/05\n",
      "Daisy attended the Jazz Performance on 2022/02/05 for 3 hours, from 8:00 PM to 11:00 PM. | 3:00:00 => 1.0\n",
      "[query_llm] Felix's schedule on 2022/03/30 for Live piano performance\n",
      "Felix attended the live piano performance on March 30th, 2022, from 7:00 PM to 9:00 PM at The Piano Bar. | 7:00 PM => 1.0\n",
      "[query_llm] Matilda's activities between 7:30 PM and 9:30 PM on 2022/03/25\n",
      "No relevant activities found for Matilda between 7:30 PM and 9:30 PM on 2022/03/25. | Opera show => 0.0\n",
      "[query_llm] Benjamin's events on 2022/10/21\n",
      "Benjamin did not attend Movie night on 2022/10/21 as per available information. | 8:30 PM => 0.0\n",
      "[query_llm] Georgia's schedule on 2022/06/22\n",
      "[query_llm] Madison's attendance at Stand-up comedy show on 2022/10/11\n",
      "Madison attended the stand-up comedy show on October 11th, 2022, from 8:00 PM to 10:00 PM at the Comedy Cellar. | 8:00 PM => 1.0\n",
      "[query_llm] Retrieve the duration of Daniel's Dance Class attendance on 2022/06/24.\n",
      "Answer: Daniel's Dance Class duration on 2022/06/24 is not available in the retrieved data. | 1:00:00 => 0.0\n",
      "[query_llm] Albert's attendance duration for Conference Call on 2022/04/24\n",
      "Albert attended the Conference Call for 1 hour on 2022/04/24. | 1:00:00 => 1.0\n",
      "[query_llm] Events for Emily from 7:00 PM to 9:30 PM on 2022/02/07\n",
      "No relevant events found for Emily from 7:00 PM to 9:30 PM on 2022/02/07. | Board game night => 0.0\n",
      "[query_llm] Isabella's activities between 2:00 PM and 3:00 PM on 2022/12/03\n",
      "Isabella's activities between 2:00 PM and 3:00 PM on 2022/12/03 are not listed. No specific events found for this timeframe. | Ballet class => 0.0\n",
      "[query_llm] Brian's activities on 2022/06/20, specifically focusing on the duration of Happy Hour attendance.\n",
      "Brian attended Happy Hour for 2 hours on 2022/06/20. | 2:00:00 => 1.0\n",
      "[query_llm] Brian's schedule on 2022/06/30\n",
      "Brian did not attend a Car maintenance check on 2022/06/30. | 9:00 AM => 0.0\n",
      "[query_llm] Daisy's attendance duration at Public policy conference on 2022/02/25\n",
      "Daisy attended the Public Policy Conference for 8 hours on February 25, 2022. | 8:00:00 => 1.0\n",
      "[query_llm] William's schedule on 2022/01/17\n",
      "William did not attend a Music concert on 2022/01/17. | 8:00 PM => 0.0\n",
      "[query_llm] Georgina's schedule on 2022/04/23 to find the time she attended the Corporate Social Responsibility Conference.\n",
      "Georgina's attendance at the Corporate Social Responsibility Conference on 2022/04/23 is not found in the retrieved data. | 10:00 AM => 0.0\n",
      "[query_llm] Matilda Historical Tour location on 2022/12/13\n",
      "Local History Museum | Local History Museum => 1.0\n",
      "[query_llm] Find the location of the Fun run event that Zara attended on 2022/02/19.\n",
      "[query_llm] Phillip's attendance at Creative Writing Workshop on 2022/06/28\n",
      "Phillip attended the Creative Writing Workshop on June 28th, 2022, from 6:00 PM to 8:00 PM at The StoryStudio. | 6:00 PM => 1.0\n",
      "[query_llm] Willow's attendance at Summer camp informational session on 2022/04/02\n",
      "Willow's attendance at the Summer camp informational session on 2022/04/02 is not mentioned in the retrieved data. | 1:30:00 => 0.0\n",
      "[query_llm] Isabella's schedule on 2022/05/06\n",
      "Isabella's schedule does not mention a Photography workshop on 2022/05/06. | 12:00 PM => 0.0\n",
      "[query_llm] Georgina's schedule on 2022/04/18\n",
      "Georgina did not attend a Pet grooming session on 2022/04/18. | 1:00 PM => 0.0\n",
      "[query_llm] Elizabeth's activities from 7:30 PM to 10:00 PM on 2022/06/29\n",
      "No relevant activities for Elizabeth between 7:30 PM and 10:00 PM on 2022/06/29 were found in the retrieved data. | Opera performance => 0.0\n",
      "[query_llm] Find location of Martial arts class Lily attended on 2022/10/11\n",
      "The Martial Arts class that Lily attended on 2022/10/11 took place at The Martial Arts Academy. | The Martial Arts Academy => 1.0\n",
      "[query_llm] Attendees of Photography Class between 11:00 AM and 1:00 PM on 2022/03/09 in The Camera Store\n",
      "No relevant attendees found for the specified time and location. | Chloe => 0.0\n",
      "[query_llm] Attendees of Gym workout between 2:00 PM and 3:00 PM on 2022/03/15 at CrossFit Fitness\n",
      "Brian attended the Gym workout between 2:00 PM and 3:00 PM on 2022/03/15 at CrossFit Fitness. | Brian => 1.0\n",
      "[query_llm] Attendees of Star Gazing event between 8:00 PM and 11:00 PM on 2022/08/23 at Observatory, Griffith Park Observatory\n",
      "Adrian and Poppy attended the Star Gazing event between 8:00 PM and 11:00 PM on 2022/08/23 at Griffith Park Observatory. | Adrian => 0.5\n",
      "[query_llm] Patrick's attendance at Landscape photography workshop on 2022/02/22\n",
      "Patrick attended the Landscape photography workshop on February 22, 2022, from 8:00 AM to 11:00 AM at Central Park. | 8:00 AM => 1.0\n",
      "[query_llm] Who attended the Wine and Paint Event between 6:00 PM and 8:00 PM on 2022/04/10 in Art Studio Downtown?\n",
      "No specific attendee information was retrieved for the Wine and Paint Event on April 10th, 2022, at the Art Studio Downtown. | Benjamin => 0.0\n",
      "[query_llm] Find the location of the Chess club meeting that Victoria attended on 2022/06/13.\n",
      "The Chess club meeting that Victoria attended on 2022/06/13 took place at The Chess Forum. | The Chess Forum => 1.0\n",
      "[query_llm] Emily's schedule on 2022/06/15\n",
      "Emily's attendance at the Jazz concert on 2022/06/15 is not found in the retrieved data. | 8:00 PM => 0.0\n",
      "[query_llm] Attendees of Historical lecture between 7:00 PM and 9:00 PM on 2022/11/29 at The New-York Historical Society\n",
      "[query_llm] What events or activities did Grace have from 8:00 PM to 9:30 PM on 2022/08/01?\n",
      "No attendees found for the specified event timeframe and location. | Henry => 0.0\n",
      "No events or activities found for Grace from 8:00 PM to 9:30 PM on 2022/08/01. | Stand-up comedy show => 0.0\n",
      "[query_llm] Find the location of the Floral design session attended by Emily on 2022/09/30.\n",
      "Garden Collage | Garden Collage => 1.0\n",
      "[query_llm] Alice's activities between 6:00 PM and 9:00 PM on 2022/07/28\n",
      "Alice's activities between 6:00 PM and 9:00 PM on 2022/07/28 are not available in the retrieved data. | Fashion Show => 0.0\n",
      "[query_llm] Georgina's events on 2022/04/30 including Indie film festival\n",
      "Georgina attended the Indie film festival on April 30th, 2022, from 12:00 PM to 10:00 PM at the Los Angeles Film Festival. | 12:00 PM => 1.0\n",
      "[query_llm] What time did Aidan attend the Bird-watching tour on 2022/12/09?\n",
      "Aidan attended the Bird-watching tour on 2022/12/09 from 8:00 AM to 10:00 AM. | 8:00 AM => 0.5\n",
      "[query_llm] Retrieve the duration of George's Tennis lesson on 2022/06/22.\n",
      "George's Tennis lesson on 2022/06/22 was not found in the retrieved data. Please provide more specific details or check the input data for accuracy. | 1:00:00 => 0.0\n",
      "[query_llm] Fetch Adam's attendance details for the Breakfast meeting on 2022/05/07.\n",
      "Answer: Adam attended the Breakfast meeting on 2022/05/07 for 1 hour and 30 minutes. | 1:30:00 => 1.0\n",
      "[query_llm] Georgia's Move-in day schedule on 2022/06/22\n"
     ]
    },
    {
     "name": "stderr",
     "output_type": "stream",
     "text": [
      "Processing examples: 100%|██████████| 60/60 [01:07<00:00,  1.13s/it]"
     ]
    },
    {
     "name": "stdout",
     "output_type": "stream",
     "text": [
      "Georgia attended Move-in day on 2022/06/22 from 9:00 AM to 5:00 PM. | 9:00 AM => 1.0\n",
      "[query_llm] Find the location of the Fun run event that Zara attended on 2022/02/19.\n",
      "The location of the Fun run event that Zara attended on 2022/02/19 is not available in the retrieved data. | The Fun Run Trail => 0.0\n",
      "Processing batch 4 of 4...\n"
     ]
    },
    {
     "name": "stderr",
     "output_type": "stream",
     "text": [
      "\n",
      "Processing examples:   0%|          | 0/60 [00:00<?, ?it/s]"
     ]
    },
    {
     "name": "stdout",
     "output_type": "stream",
     "text": [
      "[query_llm] Alice's activities between 6:00 PM and 9:00 PM on 2022/07/28\n",
      "Alice's activities between 6:00 PM and 9:00 PM on 2022/07/28 are not available in the retrieved data. | Fashion Show => 0.0\n",
      "[query_llm] Faith's schedule on 2022/10/04\n",
      "Faith did not attend an Ice hockey game on 2022/10/04 as per the available schedule. | 7:00 PM => 0.0\n",
      "[query_llm] Attendees of Art exhibit opening reception between 5:00 PM and 7:00 PM on 2022/08/01 at Locust Projects, Design District\n",
      "No specific attendees were mentioned for the Art exhibit opening reception on 2022/08/01 at Locust Projects, Design District. | Sophia => 0.0\n",
      "[query_llm] Fetch Andrew's activities between 6:00 PM and 8:00 PM on 2022/08/23\n",
      "[query_llm] Brian's activities on 2022/06/20, specifically focusing on the duration of Happy Hour attendance.\n",
      "No relevant activities found for Andrew between 6:00 PM and 8:00 PM on 2022/08/23. | Fashion show => 0.0\n",
      "[query_llm] Georgina's events on 2022/04/30\n",
      "Brian attended Happy Hour for 2 hours on 2022/06/20. | 2:00:00 => 1.0\n",
      "[query_llm] Attendees of Poetry reading at Beyond Baroque between 7:00 PM and 9:00 PM on 2022/04/07\n",
      "Answer: The attendees of the Poetry reading at Beyond Baroque on April 7th, 2022, were not explicitly listed in the retrieved information. | Charlotte => 0.0\n",
      "[query_llm] Benjamin's events on 2022/10/21\n",
      "Benjamin did not attend Movie night on 2022/10/21 as per available information. | 8:30 PM => 0.0\n",
      "[query_llm] Events for Phoebe on 2022/01/10\n",
      "Phoebe did not attend a Food festival on 2022/01/10. | 6:00 PM => 0.0\n"
     ]
    },
    {
     "name": "stderr",
     "output_type": "stream",
     "text": [
      "Processing examples:   2%|▏         | 1/60 [00:32<31:44, 32.27s/it]"
     ]
    },
    {
     "name": "stdout",
     "output_type": "stream",
     "text": [
      "[query_llm] Patrick's attendance at Landscape photography workshop on 2022/02/22\n",
      "Patrick attended the Landscape photography workshop on February 22, 2022, from 8:00 AM to 11:00 AM at Central Park. | 8:00 AM => 1.0\n",
      "[query_llm] Retrieve activities for Thomas from 8:00 PM to 10:00 PM on 2022/10/03.\n",
      "Thomas had no scheduled activities from 8:00 PM to 10:00 PM on 2022/10/03. | Star-gazing => 0.0\n",
      "[query_llm] Events for Emily from 7:00 PM to 9:30 PM on 2022/02/07\n",
      "No relevant events found for Emily from 7:00 PM to 9:30 PM on 2022/02/07. | Board game night => 0.0\n",
      "[query_llm] James' activities from 9:00 AM to 11:00 AM on 2022/02/02\n",
      "No relevant activities found for James from 9:00 AM to 11:00 AM on 2022/02/02. | Business meeting => 0.0\n",
      "[query_llm] Find the location of the Chess club meeting that Victoria attended on 2022/06/13.\n",
      "The Chess club meeting that Victoria attended on 2022/06/13 took place at The Chess Forum. | The Chess Forum => 1.0\n"
     ]
    },
    {
     "name": "stderr",
     "output_type": "stream",
     "text": [
      "Processing examples:   3%|▎         | 2/60 [00:34<14:18, 14.80s/it]"
     ]
    },
    {
     "name": "stdout",
     "output_type": "stream",
     "text": [
      "[query_llm] Find location of Movie Night attended by Hector on 2022/06/03.\n",
      "The Movie Night that Hector attended on 2022/06/03 took place on the rooftop of The Standard Hotel. | The Standard Hotel rooftop  => 1.0\n",
      "[query_llm] Retrieve the duration of George's Tennis lesson on 2022/06/22.\n",
      "George's Tennis lesson on 2022/06/22 was not found in the retrieved data. Please provide more specific details or check the input data for accuracy. | 1:00:00 => 0.0\n",
      "[query_llm] William's schedule on 2022/01/17\n",
      "William did not attend a Music concert on 2022/01/17. | 8:00 PM => 0.0\n",
      "[query_llm] Georgia's schedule on 2022/06/22\n",
      "[query_llm] Emily's schedule on 2022/06/15\n",
      "Emily's attendance at the Jazz concert on 2022/06/15 is not found in the retrieved data. | 8:00 PM => 0.0\n",
      "[query_llm] Activities of Daisy from 11:00 PM on 2022/01/31 to 1:00 AM on 2022/02/01\n",
      "No activities found for Daisy from 11:00 PM on 2022/01/31 to 1:00 AM on 2022/02/01. | Late Night Movie => 0.0\n",
      "[query_llm] Isabella's schedule on 2022/05/06\n",
      "Isabella's schedule does not mention a Photography workshop on 2022/05/06. | 12:00 PM => 0.0\n",
      "[query_llm] Attendees of Star Gazing event between 8:00 PM and 11:00 PM on 2022/08/23 at Observatory, Griffith Park Observatory\n",
      "Adrian and Poppy attended the Star Gazing event between 8:00 PM and 11:00 PM on 2022/08/23 at Griffith Park Observatory. | Adrian => 0.5\n",
      "[query_llm] What is the duration of Charles's 'Watch a baseball game' event on 2022/05/21?\n",
      "3 hours | 3:00:00 => 1.0\n",
      "[query_llm] Georgina's schedule on 2022/04/23 to find the time she attended the Corporate Social Responsibility Conference.\n",
      "[query_llm] Georgina's schedule on 2022/04/18\n",
      "Georgina's attendance at the Corporate Social Responsibility Conference on 2022/04/23 is not found in the retrieved data. | 10:00 AM => 0.0\n",
      "Georgina did not attend a Pet grooming session on 2022/04/18. | 1:00 PM => 0.0\n",
      "[query_llm] Willow's schedule on 2022/09/26\n",
      "Unable to find relevant information for Willow attending Intermediate Spanish conversation class on 2022/09/26. Please provide more specific details or check if the schedule is available. | 11:00 AM => 0.0\n",
      "[query_llm] Georgia's Move-in day schedule on 2022/06/22\n",
      "[query_llm] Attendees of Wine Tasting at City Winery between 5:00 PM and 7:00 PM on 2022/05/23\n",
      "No specific attendees were mentioned for the Wine Tasting event at City Winery between 5:00 PM and 7:00 PM on 2022/05/23. | Penelope => 0.0\n",
      "Georgia attended Move-in day on 2022/06/22 from 9:00 AM to 5:00 PM. | 9:00 AM => 1.0\n",
      "[query_llm] Events for Charlotte from 4:00 PM to 5:30 PM on 2022/10/31\n",
      "No relevant events were found for Charlotte from 4:00 PM to 5:30 PM on 2022/10/31. | Cooking Class => 0.0\n",
      "[query_llm] What events or activities did Grace have from 8:00 PM to 9:30 PM on 2022/08/01?\n",
      "No events or activities found for Grace from 8:00 PM to 9:30 PM on 2022/08/01. | Stand-up comedy show => 0.0\n",
      "[query_llm] Find the location of the Fun run event that Zara attended on 2022/02/19.\n",
      "[query_llm] Find the location of the Floral design session attended by Emily on 2022/09/30.\n",
      "[query_llm] Attendees of Aquarium visit between 10:00 AM and 5:00 PM on 2022/07/06 at New England Aquarium\n",
      "Garden Collage | Garden Collage => 1.0\n",
      "Georgina attended the Aquarium visit at the New England Aquarium between 10:00 AM and 5:00 PM on 2022/07/06. | Georgina => 1.0\n",
      "[query_llm] Felix's schedule on 2022/03/30 for Live piano performance\n",
      "Felix attended the live piano performance on March 30th, 2022, from 7:00 PM to 9:00 PM at The Piano Bar. | 7:00 PM => 1.0\n",
      "[query_llm] Millie's attendance duration at Theatre play on 2022/12/07\n",
      "Millie attended the Theatre play for 2 hours on 2022/12/07. | 2:00:00 => 1.0\n",
      "[query_llm] What time did Aidan attend the Bird-watching tour on 2022/12/09?\n",
      "Aidan attended the Bird-watching tour on 2022/12/09 from 8:00 AM to 10:00 AM. | 8:00 AM => 0.5\n",
      "[query_llm] Retrieve duration of Henry's attendance at Chili cook-off on 2022/03/21\n",
      "Henry attended the Chili cook-off for 3 hours on 2022/03/21. | 3:00:00 => 1.0\n",
      "[query_llm] Fetch Adam's attendance details for the Breakfast meeting on 2022/05/07.\n",
      "Answer: Adam attended the Breakfast meeting on 2022/05/07 for 1 hour and 30 minutes. | 1:30:00 => 1.0\n",
      "[query_llm] Find location of Martial arts class Lily attended on 2022/10/11\n",
      "The Martial Arts class that Lily attended on 2022/10/11 took place at The Martial Arts Academy. | The Martial Arts Academy => 1.0\n",
      "[query_llm] Robotics seminar location for Esme on 2022/09/13\n",
      "University Auditorium | University Auditorium => 1.0\n",
      "[query_llm] Attendees of Historical lecture between 7:00 PM and 9:00 PM on 2022/11/29 at The New-York Historical Society\n",
      "No attendees found for the specified event timeframe and location. | Henry => 0.0\n",
      "[query_llm] Find the time Albert attended the Youth talent showcase on 2022/08/11.\n",
      "Answer: Albert attended the Youth Talent Showcase on 2022/08/11 from 5:00 PM to 7:00 PM. | 5:00 PM => 1.0\n",
      "[query_llm] Who attended the Wine and Paint Event between 6:00 PM and 8:00 PM on 2022/04/10 in Art Studio Downtown?\n",
      "No specific attendee information was retrieved for the Wine and Paint Event on April 10th, 2022, at the Art Studio Downtown. | Benjamin => 0.0\n",
      "[query_llm] Daisy's attendance duration for Stand-up paddleboarding lesson on 2022/10/19\n",
      "The information retrieved does not include Daisy's attendance on 2022/10/19. Please provide more specific details or check the agenda for that date. | 1:00:00 => 0.0\n",
      "[query_llm] Elizabeth's activities from 7:30 PM to 10:00 PM on 2022/06/29\n",
      "No relevant activities for Elizabeth between 7:30 PM and 10:00 PM on 2022/06/29 were found in the retrieved data. | Opera performance => 0.0\n"
     ]
    },
    {
     "name": "stderr",
     "output_type": "stream",
     "text": [
      "Processing examples:   7%|▋         | 4/60 [00:59<12:30, 13.41s/it]"
     ]
    },
    {
     "name": "stdout",
     "output_type": "stream",
     "text": [
      "[query_llm] Activities of Adam from 7:00 PM to 9:00 PM on 2022/10/27\n",
      "No relevant activities found for Adam from 7:00 PM to 9:00 PM on 2022/10/27. | Join a public speaking class => 0.0\n",
      "[query_llm] Brian's schedule on 2022/06/30\n",
      "Brian did not attend a Car maintenance check on 2022/06/30. | 9:00 AM => 0.0\n",
      "[query_llm] Find the location of the Fun run event that Zara attended on 2022/02/19.\n",
      "The location of the Fun run event that Zara attended on 2022/02/19 is not available in the retrieved data. | The Fun Run Trail => 0.0\n",
      "[query_llm] Willow's attendance at Summer camp informational session on 2022/04/02\n",
      "Willow's attendance at the Summer camp informational session on 2022/04/02 is not mentioned in the retrieved data. | 1:30:00 => 0.0\n",
      "[query_llm] Phillip's attendance at Creative Writing Workshop on 2022/06/28\n",
      "Phillip attended the Creative Writing Workshop on June 28th, 2022, from 6:00 PM to 8:00 PM at The StoryStudio. | 6:00 PM => 1.0\n",
      "[query_llm] Albert's attendance duration for Conference Call on 2022/04/24\n",
      "Albert attended the Conference Call for 1 hour on 2022/04/24. | 1:00:00 => 1.0\n",
      "[query_llm] Fetch the duration of Aurora's attendance at the Dreamcatcher-making workshop on 2022/01/24.\n",
      "Answer: The duration of Aurora's attendance at the Dreamcatcher-making workshop on 2022/01/24 was 2 hours, from 3:00 PM to 5:00 PM. | 2:00:00 => 1.0\n",
      "[query_llm] Matilda's activities between 7:30 PM and 9:30 PM on 2022/03/25\n",
      "No relevant activities found for Matilda between 7:30 PM and 9:30 PM on 2022/03/25. | Opera show => 0.0\n",
      "[query_llm] Attendees of Photography Class between 11:00 AM and 1:00 PM on 2022/03/09 in The Camera Store\n",
      "No relevant attendees found for the specified time and location. | Chloe => 0.0\n",
      "[query_llm] Attendees of Gym workout between 2:00 PM and 3:00 PM on 2022/03/15 at CrossFit Fitness\n",
      "Brian attended the Gym workout between 2:00 PM and 3:00 PM on 2022/03/15 at CrossFit Fitness. | Brian => 1.0\n",
      "[query_llm] Madison's attendance at Stand-up comedy show on 2022/10/11\n",
      "Madison attended the stand-up comedy show on October 11th, 2022, from 8:00 PM to 10:00 PM at the Comedy Cellar. | 8:00 PM => 1.0\n",
      "[query_llm] Matilda Historical Tour location on 2022/12/13\n",
      "Local History Museum | Local History Museum => 1.0\n",
      "[query_llm] Retrieve the duration of Daniel's Dance Class attendance on 2022/06/24.\n",
      "Answer: Daniel's Dance Class duration on 2022/06/24 is not available in the retrieved data. | 1:00:00 => 0.0\n",
      "[query_llm] Daisy's attendance duration at Public policy conference on 2022/02/25\n"
     ]
    },
    {
     "name": "stderr",
     "output_type": "stream",
     "text": [
      "Processing examples:  18%|█▊        | 11/60 [01:02<02:53,  3.54s/it]"
     ]
    },
    {
     "name": "stdout",
     "output_type": "stream",
     "text": [
      "Daisy attended the Public Policy Conference for 8 hours on February 25, 2022. | 8:00:00 => 1.0\n",
      "[query_llm] Retrieve Anthony's activities from 8:00 AM to 10:00 AM on 2022/09/04.\n",
      "Anthony has no recorded activities from 8:00 AM to 10:00 AM on 2022/09/04. | Classic Car Show => 0.0\n",
      "[query_llm] Isabella's activities between 2:00 PM and 3:00 PM on 2022/12/03\n",
      "Isabella's activities between 2:00 PM and 3:00 PM on 2022/12/03 are not listed. No specific events found for this timeframe. | Ballet class => 0.0\n",
      "[query_llm] Daisy's attendance details for Jazz Performance on 2022/02/05\n"
     ]
    },
    {
     "name": "stderr",
     "output_type": "stream",
     "text": [
      "Processing examples: 100%|██████████| 60/60 [01:02<00:00,  1.05s/it]"
     ]
    },
    {
     "name": "stdout",
     "output_type": "stream",
     "text": [
      "[query_llm] Georgina's events on 2022/04/30 including Indie film festival\n",
      "Daisy attended the Jazz Performance on 2022/02/05 for 3 hours, from 8:00 PM to 11:00 PM. | 3:00:00 => 1.0\n",
      "Georgina attended the Indie film festival on April 30th, 2022, from 12:00 PM to 10:00 PM at the Los Angeles Film Festival. | 12:00 PM => 1.0\n"
     ]
    },
    {
     "name": "stderr",
     "output_type": "stream",
     "text": [
      "\n"
     ]
    },
    {
     "data": {
      "text/plain": [
       "0.4166666666666667"
      ]
     },
     "execution_count": 24,
     "metadata": {},
     "output_type": "execute_result"
    }
   ],
   "source": [
    "batch_num = 4\n",
    "iterative_monkey.thread_safe_evaluator_batch(toolqa_test, optimized_actor_agent, batch_num)"
   ]
  }
 ],
 "metadata": {
  "kernelspec": {
   "display_name": "stark11",
   "language": "python",
   "name": "python3"
  },
  "language_info": {
   "codemirror_mode": {
    "name": "ipython",
    "version": 3
   },
   "file_extension": ".py",
   "mimetype": "text/x-python",
   "name": "python",
   "nbconvert_exporter": "python",
   "pygments_lexer": "ipython3",
   "version": "3.11.9"
  }
 },
 "nbformat": 4,
 "nbformat_minor": 2
}
